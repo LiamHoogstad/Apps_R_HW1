{
 "cells": [
  {
   "cell_type": "markdown",
   "id": "482136c5",
   "metadata": {},
   "source": [
    "---\n",
    "title: \"Assignment 1\"\n",
    "author: \"Agustina Albez, Bora Abdik, Liam Hoogstad, Nour El Arrasse and Nurul Putri\"\n",
    "date: \"2025-10-06\"\n",
    "format: pdf\n",
    "---\n",
    "\\newpage\n",
    "\\tableofcontents\n",
    "\\listoffigures\n",
    "\\listoftables\n",
    "\\newpage"
   ]
  },
  {
   "cell_type": "markdown",
   "id": "c49c876b",
   "metadata": {},
   "source": [
    "# Part 1"
   ]
  },
  {
   "cell_type": "markdown",
   "id": "bb1ce475",
   "metadata": {},
   "source": [
    "## Chipotle Analysis\n"
   ]
  },
  {
   "cell_type": "code",
   "execution_count": null,
   "id": "2f1fd4d4",
   "metadata": {
    "vscode": {
     "languageId": "r"
    }
   },
   "outputs": [],
   "source": [
    "# Imports:\n",
    "\n",
    "#| warning: false\n",
    "install.packages(c(\"dplyr\", \"ggplot2\", \"PerformanceAnalytics\"))\n",
    "install.packages(c(\"glue\"))\n",
    "install.packages(c(\"lubridate\"))\n",
    "\n",
    "library(dplyr)\n",
    "library(ggplot2)\n",
    "library(PerformanceAnalytics)\n",
    "library(lubridate)\n",
    "library(glue)\n"
   ]
  },
  {
   "cell_type": "code",
   "execution_count": 7,
   "id": "dbc3a2e6",
   "metadata": {
    "vscode": {
     "languageId": "r"
    }
   },
   "outputs": [
    {
     "name": "stdout",
     "output_type": "stream",
     "text": [
      "Total trading volume: 5392605\n",
      "Mean Daily Return was: 0.07%\n",
      "The highest positive price was 2175.01 on 2023-07-19\n",
      "The highest daily return was 14.7% on 2022-07-27\n"
     ]
    }
   ],
   "source": [
    "# Load data into dataframe\n",
    "# print(\"Hey Guys\")\n",
    "all_data <- read.csv(\"compustat_food_bev.csv\")\n",
    "# print(colnames(all_data)) \n",
    "# Filter rows where tic = \"CMG\"\n",
    "chipotle_data <- filter(all_data, tic == \"CMG\")\n",
    "\n",
    "# Checking for correct sample\n",
    "#head(chipotle_data)\n",
    "\n",
    "# Add Prev Day Returns\n",
    "chipotle_data$prev_close = lag(chipotle_data$prccd)\n",
    "#head(chipotle_data)\n",
    "\n",
    "# Remove NA values\n",
    "#chipotle_data <- na.omit(chipotle_data)\n",
    "#head(chipotle_data)\n",
    "\n",
    "chipotle_data$daily_return <- (chipotle_data$prccd - chipotle_data$prev_close) / chipotle_data$prev_close\n",
    "\n",
    "chipotle_data$volume_change <- chipotle_data$cshtrd - lag(chipotle_data$cshtrd)\n",
    "\n",
    "chipotle_data$momentum10 <- chipotle_data$prccd - lag(chipotle_data$prccd, n = 10)\n",
    "\n",
    "chipotle_data$MFV <- ( ((chipotle_data$prccd - chipotle_data$prcld) - (chipotle_data$prchd - chipotle_data$prccd)) / \n",
    "    (chipotle_data$prchd - chipotle_data$prcld) ) * chipotle_data$cshtrd\n",
    "\n",
    "chipotle_data$datadate <- as.Date(chipotle_data$datadate, format = \"%d/%m/%Y\")\n",
    "\n",
    "chipotle_data$month <- month(chipotle_data$datadate)\n",
    "chipotle_data$year <- year(chipotle_data$datadate)\n",
    "\n",
    "# head(chipotle_data, n = 10)\n",
    "\n",
    "CMG_Jun_2023_TradeVolume <- chipotle_data %>%\n",
    "    filter(month == 6, year == 2023) %>%\n",
    "    pull(cshtrd) %>%\n",
    "    sum(na.rm = TRUE)\n",
    "\n",
    "CMG_MeanReturn <- chipotle_data %>%\n",
    "    pull(daily_return) %>%\n",
    "    mean(na.rm = TRUE)\n",
    "\n",
    "highest_prchd <- chipotle_data %>%\n",
    "  filter(prchd == max(prchd, na.rm = TRUE))\n",
    "\n",
    "highest_daily_return <- chipotle_data %>%\n",
    "  filter(daily_return == max(daily_return, na.rm = TRUE))\n",
    "\n",
    "print(glue(\"Total trading volume: {CMG_Jun_2023_TradeVolume}\"))\n",
    "print(glue(\"Mean Daily Return was: {round(CMG_MeanReturn * 100, 2)}%\"))\n",
    "print(glue(\"The highest positive price was {highest_prchd$prchd} on {highest_prchd$datadate}\"))\n",
    "print(glue(\"The highest daily return was {round(highest_daily_return$daily_return * 100, 2)}% on {highest_daily_return$datadate}\"))\n",
    "\n",
    "# Data for July 2023:\n",
    "# head(filter(chipotle_data, month == 7, year == 2023), n = 30)\n",
    "\n",
    "# Add daily return"
   ]
  },
  {
   "cell_type": "markdown",
   "id": "4f51f228",
   "metadata": {},
   "source": [
    "### Specific Events for Chipotle on July 19th 2023:\n",
    "\n",
    "On July 18 2023, Chipotle announced franchise expansion into the middle east \"to accelerate [their] expansion efforts\" (Chipotle Mexican Grill, 2023). The company would initially open restaurants in Dubai and Kuwait, and then open further restaurants if those proved successful(Chipotle Mexican Grill, 2023).\n"
   ]
  },
  {
   "cell_type": "markdown",
   "id": "41c9f1ed",
   "metadata": {},
   "source": [
    "## Wendy"
   ]
  },
  {
   "cell_type": "markdown",
   "id": "bb8974bd",
   "metadata": {},
   "source": [
    "Import libiraries"
   ]
  },
  {
   "cell_type": "code",
   "execution_count": null,
   "id": "28a1aeaa",
   "metadata": {
    "vscode": {
     "languageId": "r"
    }
   },
   "outputs": [
    {
     "name": "stderr",
     "output_type": "stream",
     "text": [
      "\n",
      "Attaching package: ‘dplyr’\n",
      "\n",
      "\n",
      "The following objects are masked from ‘package:stats’:\n",
      "\n",
      "    filter, lag\n",
      "\n",
      "\n",
      "The following objects are masked from ‘package:base’:\n",
      "\n",
      "    intersect, setdiff, setequal, union\n",
      "\n",
      "\n",
      "\n",
      "Attaching package: ‘lubridate’\n",
      "\n",
      "\n",
      "The following objects are masked from ‘package:base’:\n",
      "\n",
      "    date, intersect, setdiff, union\n",
      "\n",
      "\n"
     ]
    }
   ],
   "source": [
    "library(dplyr)\n",
    "library(lubridate)"
   ]
  },
  {
   "cell_type": "markdown",
   "id": "ff215c9d",
   "metadata": {},
   "source": [
    "Import data"
   ]
  },
  {
   "cell_type": "code",
   "execution_count": null,
   "id": "fa5703f8",
   "metadata": {
    "vscode": {
     "languageId": "r"
    }
   },
   "outputs": [
    {
     "data": {
      "text/html": [
       "<table class=\"dataframe\">\n",
       "<caption>A data.frame: 6 × 12</caption>\n",
       "<thead>\n",
       "\t<tr><th></th><th scope=col>GVKEY</th><th scope=col>iid</th><th scope=col>datadate</th><th scope=col>tic</th><th scope=col>conm</th><th scope=col>cshtrd</th><th scope=col>prccd</th><th scope=col>prchd</th><th scope=col>prcld</th><th scope=col>prcod</th><th scope=col>exchg</th><th scope=col>sic</th></tr>\n",
       "\t<tr><th></th><th scope=col>&lt;int&gt;</th><th scope=col>&lt;int&gt;</th><th scope=col>&lt;chr&gt;</th><th scope=col>&lt;chr&gt;</th><th scope=col>&lt;chr&gt;</th><th scope=col>&lt;int&gt;</th><th scope=col>&lt;dbl&gt;</th><th scope=col>&lt;dbl&gt;</th><th scope=col>&lt;dbl&gt;</th><th scope=col>&lt;dbl&gt;</th><th scope=col>&lt;int&gt;</th><th scope=col>&lt;int&gt;</th></tr>\n",
       "</thead>\n",
       "<tbody>\n",
       "\t<tr><th scope=row>1</th><td>186785</td><td>1</td><td>01/09/2020</td><td>ARCO</td><td>ARCOS DORADOS HOLDINGS INC</td><td> 813895</td><td>4.47</td><td>4.540</td><td>4.394</td><td>4.41</td><td>11</td><td>5812</td></tr>\n",
       "\t<tr><th scope=row>2</th><td>186785</td><td>1</td><td>02/09/2020</td><td>ARCO</td><td>ARCOS DORADOS HOLDINGS INC</td><td> 518021</td><td>4.48</td><td>4.522</td><td>4.400</td><td>4.49</td><td>11</td><td>5812</td></tr>\n",
       "\t<tr><th scope=row>3</th><td>186785</td><td>1</td><td>03/09/2020</td><td>ARCO</td><td>ARCOS DORADOS HOLDINGS INC</td><td> 947825</td><td>4.44</td><td>4.525</td><td>4.360</td><td>4.48</td><td>11</td><td>5812</td></tr>\n",
       "\t<tr><th scope=row>4</th><td>186785</td><td>1</td><td>04/09/2020</td><td>ARCO</td><td>ARCOS DORADOS HOLDINGS INC</td><td> 534286</td><td>4.41</td><td>4.490</td><td>4.280</td><td>4.48</td><td>11</td><td>5812</td></tr>\n",
       "\t<tr><th scope=row>5</th><td>186785</td><td>1</td><td>08/09/2020</td><td>ARCO</td><td>ARCOS DORADOS HOLDINGS INC</td><td> 669380</td><td>4.27</td><td>4.415</td><td>4.260</td><td>4.34</td><td>11</td><td>5812</td></tr>\n",
       "\t<tr><th scope=row>6</th><td>186785</td><td>1</td><td>09/09/2020</td><td>ARCO</td><td>ARCOS DORADOS HOLDINGS INC</td><td>1152416</td><td>4.38</td><td>4.420</td><td>4.270</td><td>4.27</td><td>11</td><td>5812</td></tr>\n",
       "</tbody>\n",
       "</table>\n"
      ],
      "text/latex": [
       "A data.frame: 6 × 12\n",
       "\\begin{tabular}{r|llllllllllll}\n",
       "  & GVKEY & iid & datadate & tic & conm & cshtrd & prccd & prchd & prcld & prcod & exchg & sic\\\\\n",
       "  & <int> & <int> & <chr> & <chr> & <chr> & <int> & <dbl> & <dbl> & <dbl> & <dbl> & <int> & <int>\\\\\n",
       "\\hline\n",
       "\t1 & 186785 & 1 & 01/09/2020 & ARCO & ARCOS DORADOS HOLDINGS INC &  813895 & 4.47 & 4.540 & 4.394 & 4.41 & 11 & 5812\\\\\n",
       "\t2 & 186785 & 1 & 02/09/2020 & ARCO & ARCOS DORADOS HOLDINGS INC &  518021 & 4.48 & 4.522 & 4.400 & 4.49 & 11 & 5812\\\\\n",
       "\t3 & 186785 & 1 & 03/09/2020 & ARCO & ARCOS DORADOS HOLDINGS INC &  947825 & 4.44 & 4.525 & 4.360 & 4.48 & 11 & 5812\\\\\n",
       "\t4 & 186785 & 1 & 04/09/2020 & ARCO & ARCOS DORADOS HOLDINGS INC &  534286 & 4.41 & 4.490 & 4.280 & 4.48 & 11 & 5812\\\\\n",
       "\t5 & 186785 & 1 & 08/09/2020 & ARCO & ARCOS DORADOS HOLDINGS INC &  669380 & 4.27 & 4.415 & 4.260 & 4.34 & 11 & 5812\\\\\n",
       "\t6 & 186785 & 1 & 09/09/2020 & ARCO & ARCOS DORADOS HOLDINGS INC & 1152416 & 4.38 & 4.420 & 4.270 & 4.27 & 11 & 5812\\\\\n",
       "\\end{tabular}\n"
      ],
      "text/markdown": [
       "\n",
       "A data.frame: 6 × 12\n",
       "\n",
       "| <!--/--> | GVKEY &lt;int&gt; | iid &lt;int&gt; | datadate &lt;chr&gt; | tic &lt;chr&gt; | conm &lt;chr&gt; | cshtrd &lt;int&gt; | prccd &lt;dbl&gt; | prchd &lt;dbl&gt; | prcld &lt;dbl&gt; | prcod &lt;dbl&gt; | exchg &lt;int&gt; | sic &lt;int&gt; |\n",
       "|---|---|---|---|---|---|---|---|---|---|---|---|---|\n",
       "| 1 | 186785 | 1 | 01/09/2020 | ARCO | ARCOS DORADOS HOLDINGS INC |  813895 | 4.47 | 4.540 | 4.394 | 4.41 | 11 | 5812 |\n",
       "| 2 | 186785 | 1 | 02/09/2020 | ARCO | ARCOS DORADOS HOLDINGS INC |  518021 | 4.48 | 4.522 | 4.400 | 4.49 | 11 | 5812 |\n",
       "| 3 | 186785 | 1 | 03/09/2020 | ARCO | ARCOS DORADOS HOLDINGS INC |  947825 | 4.44 | 4.525 | 4.360 | 4.48 | 11 | 5812 |\n",
       "| 4 | 186785 | 1 | 04/09/2020 | ARCO | ARCOS DORADOS HOLDINGS INC |  534286 | 4.41 | 4.490 | 4.280 | 4.48 | 11 | 5812 |\n",
       "| 5 | 186785 | 1 | 08/09/2020 | ARCO | ARCOS DORADOS HOLDINGS INC |  669380 | 4.27 | 4.415 | 4.260 | 4.34 | 11 | 5812 |\n",
       "| 6 | 186785 | 1 | 09/09/2020 | ARCO | ARCOS DORADOS HOLDINGS INC | 1152416 | 4.38 | 4.420 | 4.270 | 4.27 | 11 | 5812 |\n",
       "\n"
      ],
      "text/plain": [
       "  GVKEY  iid datadate   tic  conm                       cshtrd  prccd prchd\n",
       "1 186785 1   01/09/2020 ARCO ARCOS DORADOS HOLDINGS INC  813895 4.47  4.540\n",
       "2 186785 1   02/09/2020 ARCO ARCOS DORADOS HOLDINGS INC  518021 4.48  4.522\n",
       "3 186785 1   03/09/2020 ARCO ARCOS DORADOS HOLDINGS INC  947825 4.44  4.525\n",
       "4 186785 1   04/09/2020 ARCO ARCOS DORADOS HOLDINGS INC  534286 4.41  4.490\n",
       "5 186785 1   08/09/2020 ARCO ARCOS DORADOS HOLDINGS INC  669380 4.27  4.415\n",
       "6 186785 1   09/09/2020 ARCO ARCOS DORADOS HOLDINGS INC 1152416 4.38  4.420\n",
       "  prcld prcod exchg sic \n",
       "1 4.394 4.41  11    5812\n",
       "2 4.400 4.49  11    5812\n",
       "3 4.360 4.48  11    5812\n",
       "4 4.280 4.48  11    5812\n",
       "5 4.260 4.34  11    5812\n",
       "6 4.270 4.27  11    5812"
      ]
     },
     "metadata": {},
     "output_type": "display_data"
    }
   ],
   "source": [
    "stock <- read.csv('compustat_food_bev.csv')\n",
    "head(stock)"
   ]
  },
  {
   "cell_type": "code",
   "execution_count": null,
   "id": "03503950",
   "metadata": {
    "vscode": {
     "languageId": "r"
    }
   },
   "outputs": [
    {
     "data": {
      "text/html": [
       "<table class=\"dataframe\">\n",
       "<caption>A data.frame: 6 × 12</caption>\n",
       "<thead>\n",
       "\t<tr><th></th><th scope=col>GVKEY</th><th scope=col>iid</th><th scope=col>datadate</th><th scope=col>tic</th><th scope=col>conm</th><th scope=col>cshtrd</th><th scope=col>prccd</th><th scope=col>prchd</th><th scope=col>prcld</th><th scope=col>prcod</th><th scope=col>exchg</th><th scope=col>sic</th></tr>\n",
       "\t<tr><th></th><th scope=col>&lt;int&gt;</th><th scope=col>&lt;int&gt;</th><th scope=col>&lt;chr&gt;</th><th scope=col>&lt;chr&gt;</th><th scope=col>&lt;chr&gt;</th><th scope=col>&lt;int&gt;</th><th scope=col>&lt;dbl&gt;</th><th scope=col>&lt;dbl&gt;</th><th scope=col>&lt;dbl&gt;</th><th scope=col>&lt;dbl&gt;</th><th scope=col>&lt;int&gt;</th><th scope=col>&lt;int&gt;</th></tr>\n",
       "</thead>\n",
       "<tbody>\n",
       "\t<tr><th scope=row>1</th><td>3708</td><td>3</td><td>01/09/2020</td><td>WEN</td><td>WENDY'S CO</td><td>2929911</td><td>20.950</td><td>21.16</td><td>20.7400</td><td>20.94</td><td>14</td><td>5812</td></tr>\n",
       "\t<tr><th scope=row>2</th><td>3708</td><td>3</td><td>02/09/2020</td><td>WEN</td><td>WENDY'S CO</td><td>3814903</td><td>21.970</td><td>22.08</td><td>21.0100</td><td>21.01</td><td>14</td><td>5812</td></tr>\n",
       "\t<tr><th scope=row>3</th><td>3708</td><td>3</td><td>03/09/2020</td><td>WEN</td><td>WENDY'S CO</td><td>4280982</td><td>21.950</td><td>22.48</td><td>21.6450</td><td>21.95</td><td>14</td><td>5812</td></tr>\n",
       "\t<tr><th scope=row>4</th><td>3708</td><td>3</td><td>04/09/2020</td><td>WEN</td><td>WENDY'S CO</td><td>3351921</td><td>21.580</td><td>22.38</td><td>21.4050</td><td>22.20</td><td>14</td><td>5812</td></tr>\n",
       "\t<tr><th scope=row>5</th><td>3708</td><td>3</td><td>08/09/2020</td><td>WEN</td><td>WENDY'S CO</td><td>3439170</td><td>21.850</td><td>22.05</td><td>21.2300</td><td>21.43</td><td>14</td><td>5812</td></tr>\n",
       "\t<tr><th scope=row>6</th><td>3708</td><td>3</td><td>09/09/2020</td><td>WEN</td><td>WENDY'S CO</td><td>2847727</td><td>22.495</td><td>22.61</td><td>21.8322</td><td>22.00</td><td>14</td><td>5812</td></tr>\n",
       "</tbody>\n",
       "</table>\n"
      ],
      "text/latex": [
       "A data.frame: 6 × 12\n",
       "\\begin{tabular}{r|llllllllllll}\n",
       "  & GVKEY & iid & datadate & tic & conm & cshtrd & prccd & prchd & prcld & prcod & exchg & sic\\\\\n",
       "  & <int> & <int> & <chr> & <chr> & <chr> & <int> & <dbl> & <dbl> & <dbl> & <dbl> & <int> & <int>\\\\\n",
       "\\hline\n",
       "\t1 & 3708 & 3 & 01/09/2020 & WEN & WENDY'S CO & 2929911 & 20.950 & 21.16 & 20.7400 & 20.94 & 14 & 5812\\\\\n",
       "\t2 & 3708 & 3 & 02/09/2020 & WEN & WENDY'S CO & 3814903 & 21.970 & 22.08 & 21.0100 & 21.01 & 14 & 5812\\\\\n",
       "\t3 & 3708 & 3 & 03/09/2020 & WEN & WENDY'S CO & 4280982 & 21.950 & 22.48 & 21.6450 & 21.95 & 14 & 5812\\\\\n",
       "\t4 & 3708 & 3 & 04/09/2020 & WEN & WENDY'S CO & 3351921 & 21.580 & 22.38 & 21.4050 & 22.20 & 14 & 5812\\\\\n",
       "\t5 & 3708 & 3 & 08/09/2020 & WEN & WENDY'S CO & 3439170 & 21.850 & 22.05 & 21.2300 & 21.43 & 14 & 5812\\\\\n",
       "\t6 & 3708 & 3 & 09/09/2020 & WEN & WENDY'S CO & 2847727 & 22.495 & 22.61 & 21.8322 & 22.00 & 14 & 5812\\\\\n",
       "\\end{tabular}\n"
      ],
      "text/markdown": [
       "\n",
       "A data.frame: 6 × 12\n",
       "\n",
       "| <!--/--> | GVKEY &lt;int&gt; | iid &lt;int&gt; | datadate &lt;chr&gt; | tic &lt;chr&gt; | conm &lt;chr&gt; | cshtrd &lt;int&gt; | prccd &lt;dbl&gt; | prchd &lt;dbl&gt; | prcld &lt;dbl&gt; | prcod &lt;dbl&gt; | exchg &lt;int&gt; | sic &lt;int&gt; |\n",
       "|---|---|---|---|---|---|---|---|---|---|---|---|---|\n",
       "| 1 | 3708 | 3 | 01/09/2020 | WEN | WENDY'S CO | 2929911 | 20.950 | 21.16 | 20.7400 | 20.94 | 14 | 5812 |\n",
       "| 2 | 3708 | 3 | 02/09/2020 | WEN | WENDY'S CO | 3814903 | 21.970 | 22.08 | 21.0100 | 21.01 | 14 | 5812 |\n",
       "| 3 | 3708 | 3 | 03/09/2020 | WEN | WENDY'S CO | 4280982 | 21.950 | 22.48 | 21.6450 | 21.95 | 14 | 5812 |\n",
       "| 4 | 3708 | 3 | 04/09/2020 | WEN | WENDY'S CO | 3351921 | 21.580 | 22.38 | 21.4050 | 22.20 | 14 | 5812 |\n",
       "| 5 | 3708 | 3 | 08/09/2020 | WEN | WENDY'S CO | 3439170 | 21.850 | 22.05 | 21.2300 | 21.43 | 14 | 5812 |\n",
       "| 6 | 3708 | 3 | 09/09/2020 | WEN | WENDY'S CO | 2847727 | 22.495 | 22.61 | 21.8322 | 22.00 | 14 | 5812 |\n",
       "\n"
      ],
      "text/plain": [
       "  GVKEY iid datadate   tic conm       cshtrd  prccd  prchd prcld   prcod exchg\n",
       "1 3708  3   01/09/2020 WEN WENDY'S CO 2929911 20.950 21.16 20.7400 20.94 14   \n",
       "2 3708  3   02/09/2020 WEN WENDY'S CO 3814903 21.970 22.08 21.0100 21.01 14   \n",
       "3 3708  3   03/09/2020 WEN WENDY'S CO 4280982 21.950 22.48 21.6450 21.95 14   \n",
       "4 3708  3   04/09/2020 WEN WENDY'S CO 3351921 21.580 22.38 21.4050 22.20 14   \n",
       "5 3708  3   08/09/2020 WEN WENDY'S CO 3439170 21.850 22.05 21.2300 21.43 14   \n",
       "6 3708  3   09/09/2020 WEN WENDY'S CO 2847727 22.495 22.61 21.8322 22.00 14   \n",
       "  sic \n",
       "1 5812\n",
       "2 5812\n",
       "3 5812\n",
       "4 5812\n",
       "5 5812\n",
       "6 5812"
      ]
     },
     "metadata": {},
     "output_type": "display_data"
    }
   ],
   "source": [
    "wendy = filter(stock, tic==\"WEN\")\n",
    "head(wendy)"
   ]
  },
  {
   "cell_type": "markdown",
   "id": "a88c12b0",
   "metadata": {},
   "source": [
    "Daily return"
   ]
  },
  {
   "cell_type": "code",
   "execution_count": null,
   "id": "ac44725b",
   "metadata": {
    "vscode": {
     "languageId": "r"
    }
   },
   "outputs": [
    {
     "data": {
      "text/html": [
       "<table class=\"dataframe\">\n",
       "<caption>A data.frame: 6 × 13</caption>\n",
       "<thead>\n",
       "\t<tr><th></th><th scope=col>GVKEY</th><th scope=col>iid</th><th scope=col>datadate</th><th scope=col>tic</th><th scope=col>conm</th><th scope=col>cshtrd</th><th scope=col>prccd</th><th scope=col>prchd</th><th scope=col>prcld</th><th scope=col>prcod</th><th scope=col>exchg</th><th scope=col>sic</th><th scope=col>daily_return</th></tr>\n",
       "\t<tr><th></th><th scope=col>&lt;int&gt;</th><th scope=col>&lt;int&gt;</th><th scope=col>&lt;chr&gt;</th><th scope=col>&lt;chr&gt;</th><th scope=col>&lt;chr&gt;</th><th scope=col>&lt;int&gt;</th><th scope=col>&lt;dbl&gt;</th><th scope=col>&lt;dbl&gt;</th><th scope=col>&lt;dbl&gt;</th><th scope=col>&lt;dbl&gt;</th><th scope=col>&lt;int&gt;</th><th scope=col>&lt;int&gt;</th><th scope=col>&lt;dbl&gt;</th></tr>\n",
       "</thead>\n",
       "<tbody>\n",
       "\t<tr><th scope=row>1</th><td>3708</td><td>3</td><td>01/09/2020</td><td>WEN</td><td>WENDY'S CO</td><td>2929911</td><td>20.950</td><td>21.16</td><td>20.7400</td><td>20.94</td><td>14</td><td>5812</td><td>           NA</td></tr>\n",
       "\t<tr><th scope=row>2</th><td>3708</td><td>3</td><td>02/09/2020</td><td>WEN</td><td>WENDY'S CO</td><td>3814903</td><td>21.970</td><td>22.08</td><td>21.0100</td><td>21.01</td><td>14</td><td>5812</td><td> 0.0486873508</td></tr>\n",
       "\t<tr><th scope=row>3</th><td>3708</td><td>3</td><td>03/09/2020</td><td>WEN</td><td>WENDY'S CO</td><td>4280982</td><td>21.950</td><td>22.48</td><td>21.6450</td><td>21.95</td><td>14</td><td>5812</td><td>-0.0009103323</td></tr>\n",
       "\t<tr><th scope=row>4</th><td>3708</td><td>3</td><td>04/09/2020</td><td>WEN</td><td>WENDY'S CO</td><td>3351921</td><td>21.580</td><td>22.38</td><td>21.4050</td><td>22.20</td><td>14</td><td>5812</td><td>-0.0168564920</td></tr>\n",
       "\t<tr><th scope=row>5</th><td>3708</td><td>3</td><td>08/09/2020</td><td>WEN</td><td>WENDY'S CO</td><td>3439170</td><td>21.850</td><td>22.05</td><td>21.2300</td><td>21.43</td><td>14</td><td>5812</td><td> 0.0125115848</td></tr>\n",
       "\t<tr><th scope=row>6</th><td>3708</td><td>3</td><td>09/09/2020</td><td>WEN</td><td>WENDY'S CO</td><td>2847727</td><td>22.495</td><td>22.61</td><td>21.8322</td><td>22.00</td><td>14</td><td>5812</td><td> 0.0295194508</td></tr>\n",
       "</tbody>\n",
       "</table>\n"
      ],
      "text/latex": [
       "A data.frame: 6 × 13\n",
       "\\begin{tabular}{r|lllllllllllll}\n",
       "  & GVKEY & iid & datadate & tic & conm & cshtrd & prccd & prchd & prcld & prcod & exchg & sic & daily\\_return\\\\\n",
       "  & <int> & <int> & <chr> & <chr> & <chr> & <int> & <dbl> & <dbl> & <dbl> & <dbl> & <int> & <int> & <dbl>\\\\\n",
       "\\hline\n",
       "\t1 & 3708 & 3 & 01/09/2020 & WEN & WENDY'S CO & 2929911 & 20.950 & 21.16 & 20.7400 & 20.94 & 14 & 5812 &            NA\\\\\n",
       "\t2 & 3708 & 3 & 02/09/2020 & WEN & WENDY'S CO & 3814903 & 21.970 & 22.08 & 21.0100 & 21.01 & 14 & 5812 &  0.0486873508\\\\\n",
       "\t3 & 3708 & 3 & 03/09/2020 & WEN & WENDY'S CO & 4280982 & 21.950 & 22.48 & 21.6450 & 21.95 & 14 & 5812 & -0.0009103323\\\\\n",
       "\t4 & 3708 & 3 & 04/09/2020 & WEN & WENDY'S CO & 3351921 & 21.580 & 22.38 & 21.4050 & 22.20 & 14 & 5812 & -0.0168564920\\\\\n",
       "\t5 & 3708 & 3 & 08/09/2020 & WEN & WENDY'S CO & 3439170 & 21.850 & 22.05 & 21.2300 & 21.43 & 14 & 5812 &  0.0125115848\\\\\n",
       "\t6 & 3708 & 3 & 09/09/2020 & WEN & WENDY'S CO & 2847727 & 22.495 & 22.61 & 21.8322 & 22.00 & 14 & 5812 &  0.0295194508\\\\\n",
       "\\end{tabular}\n"
      ],
      "text/markdown": [
       "\n",
       "A data.frame: 6 × 13\n",
       "\n",
       "| <!--/--> | GVKEY &lt;int&gt; | iid &lt;int&gt; | datadate &lt;chr&gt; | tic &lt;chr&gt; | conm &lt;chr&gt; | cshtrd &lt;int&gt; | prccd &lt;dbl&gt; | prchd &lt;dbl&gt; | prcld &lt;dbl&gt; | prcod &lt;dbl&gt; | exchg &lt;int&gt; | sic &lt;int&gt; | daily_return &lt;dbl&gt; |\n",
       "|---|---|---|---|---|---|---|---|---|---|---|---|---|---|\n",
       "| 1 | 3708 | 3 | 01/09/2020 | WEN | WENDY'S CO | 2929911 | 20.950 | 21.16 | 20.7400 | 20.94 | 14 | 5812 |            NA |\n",
       "| 2 | 3708 | 3 | 02/09/2020 | WEN | WENDY'S CO | 3814903 | 21.970 | 22.08 | 21.0100 | 21.01 | 14 | 5812 |  0.0486873508 |\n",
       "| 3 | 3708 | 3 | 03/09/2020 | WEN | WENDY'S CO | 4280982 | 21.950 | 22.48 | 21.6450 | 21.95 | 14 | 5812 | -0.0009103323 |\n",
       "| 4 | 3708 | 3 | 04/09/2020 | WEN | WENDY'S CO | 3351921 | 21.580 | 22.38 | 21.4050 | 22.20 | 14 | 5812 | -0.0168564920 |\n",
       "| 5 | 3708 | 3 | 08/09/2020 | WEN | WENDY'S CO | 3439170 | 21.850 | 22.05 | 21.2300 | 21.43 | 14 | 5812 |  0.0125115848 |\n",
       "| 6 | 3708 | 3 | 09/09/2020 | WEN | WENDY'S CO | 2847727 | 22.495 | 22.61 | 21.8322 | 22.00 | 14 | 5812 |  0.0295194508 |\n",
       "\n"
      ],
      "text/plain": [
       "  GVKEY iid datadate   tic conm       cshtrd  prccd  prchd prcld   prcod exchg\n",
       "1 3708  3   01/09/2020 WEN WENDY'S CO 2929911 20.950 21.16 20.7400 20.94 14   \n",
       "2 3708  3   02/09/2020 WEN WENDY'S CO 3814903 21.970 22.08 21.0100 21.01 14   \n",
       "3 3708  3   03/09/2020 WEN WENDY'S CO 4280982 21.950 22.48 21.6450 21.95 14   \n",
       "4 3708  3   04/09/2020 WEN WENDY'S CO 3351921 21.580 22.38 21.4050 22.20 14   \n",
       "5 3708  3   08/09/2020 WEN WENDY'S CO 3439170 21.850 22.05 21.2300 21.43 14   \n",
       "6 3708  3   09/09/2020 WEN WENDY'S CO 2847727 22.495 22.61 21.8322 22.00 14   \n",
       "  sic  daily_return \n",
       "1 5812            NA\n",
       "2 5812  0.0486873508\n",
       "3 5812 -0.0009103323\n",
       "4 5812 -0.0168564920\n",
       "5 5812  0.0125115848\n",
       "6 5812  0.0295194508"
      ]
     },
     "metadata": {},
     "output_type": "display_data"
    }
   ],
   "source": [
    "wendy=mutate(wendy, daily_return=(prccd-lag(prccd))/lag(prccd))\n",
    "head(wendy)"
   ]
  },
  {
   "cell_type": "markdown",
   "id": "12a8f7b0",
   "metadata": {},
   "source": [
    "Overnight return"
   ]
  },
  {
   "cell_type": "code",
   "execution_count": null,
   "id": "9d9576b0",
   "metadata": {
    "vscode": {
     "languageId": "r"
    }
   },
   "outputs": [
    {
     "data": {
      "text/html": [
       "<table class=\"dataframe\">\n",
       "<caption>A data.frame: 6 × 14</caption>\n",
       "<thead>\n",
       "\t<tr><th></th><th scope=col>GVKEY</th><th scope=col>iid</th><th scope=col>datadate</th><th scope=col>tic</th><th scope=col>conm</th><th scope=col>cshtrd</th><th scope=col>prccd</th><th scope=col>prchd</th><th scope=col>prcld</th><th scope=col>prcod</th><th scope=col>exchg</th><th scope=col>sic</th><th scope=col>daily_return</th><th scope=col>overnight_return</th></tr>\n",
       "\t<tr><th></th><th scope=col>&lt;int&gt;</th><th scope=col>&lt;int&gt;</th><th scope=col>&lt;chr&gt;</th><th scope=col>&lt;chr&gt;</th><th scope=col>&lt;chr&gt;</th><th scope=col>&lt;int&gt;</th><th scope=col>&lt;dbl&gt;</th><th scope=col>&lt;dbl&gt;</th><th scope=col>&lt;dbl&gt;</th><th scope=col>&lt;dbl&gt;</th><th scope=col>&lt;int&gt;</th><th scope=col>&lt;int&gt;</th><th scope=col>&lt;dbl&gt;</th><th scope=col>&lt;dbl&gt;</th></tr>\n",
       "</thead>\n",
       "<tbody>\n",
       "\t<tr><th scope=row>1</th><td>3708</td><td>3</td><td>01/09/2020</td><td>WEN</td><td>WENDY'S CO</td><td>2929911</td><td>20.950</td><td>21.16</td><td>20.7400</td><td>20.94</td><td>14</td><td>5812</td><td>           NA</td><td>           NA</td></tr>\n",
       "\t<tr><th scope=row>2</th><td>3708</td><td>3</td><td>02/09/2020</td><td>WEN</td><td>WENDY'S CO</td><td>3814903</td><td>21.970</td><td>22.08</td><td>21.0100</td><td>21.01</td><td>14</td><td>5812</td><td> 0.0486873508</td><td> 0.0028639618</td></tr>\n",
       "\t<tr><th scope=row>3</th><td>3708</td><td>3</td><td>03/09/2020</td><td>WEN</td><td>WENDY'S CO</td><td>4280982</td><td>21.950</td><td>22.48</td><td>21.6450</td><td>21.95</td><td>14</td><td>5812</td><td>-0.0009103323</td><td>-0.0009103323</td></tr>\n",
       "\t<tr><th scope=row>4</th><td>3708</td><td>3</td><td>04/09/2020</td><td>WEN</td><td>WENDY'S CO</td><td>3351921</td><td>21.580</td><td>22.38</td><td>21.4050</td><td>22.20</td><td>14</td><td>5812</td><td>-0.0168564920</td><td> 0.0113895216</td></tr>\n",
       "\t<tr><th scope=row>5</th><td>3708</td><td>3</td><td>08/09/2020</td><td>WEN</td><td>WENDY'S CO</td><td>3439170</td><td>21.850</td><td>22.05</td><td>21.2300</td><td>21.43</td><td>14</td><td>5812</td><td> 0.0125115848</td><td>-0.0069508804</td></tr>\n",
       "\t<tr><th scope=row>6</th><td>3708</td><td>3</td><td>09/09/2020</td><td>WEN</td><td>WENDY'S CO</td><td>2847727</td><td>22.495</td><td>22.61</td><td>21.8322</td><td>22.00</td><td>14</td><td>5812</td><td> 0.0295194508</td><td> 0.0068649886</td></tr>\n",
       "</tbody>\n",
       "</table>\n"
      ],
      "text/latex": [
       "A data.frame: 6 × 14\n",
       "\\begin{tabular}{r|llllllllllllll}\n",
       "  & GVKEY & iid & datadate & tic & conm & cshtrd & prccd & prchd & prcld & prcod & exchg & sic & daily\\_return & overnight\\_return\\\\\n",
       "  & <int> & <int> & <chr> & <chr> & <chr> & <int> & <dbl> & <dbl> & <dbl> & <dbl> & <int> & <int> & <dbl> & <dbl>\\\\\n",
       "\\hline\n",
       "\t1 & 3708 & 3 & 01/09/2020 & WEN & WENDY'S CO & 2929911 & 20.950 & 21.16 & 20.7400 & 20.94 & 14 & 5812 &            NA &            NA\\\\\n",
       "\t2 & 3708 & 3 & 02/09/2020 & WEN & WENDY'S CO & 3814903 & 21.970 & 22.08 & 21.0100 & 21.01 & 14 & 5812 &  0.0486873508 &  0.0028639618\\\\\n",
       "\t3 & 3708 & 3 & 03/09/2020 & WEN & WENDY'S CO & 4280982 & 21.950 & 22.48 & 21.6450 & 21.95 & 14 & 5812 & -0.0009103323 & -0.0009103323\\\\\n",
       "\t4 & 3708 & 3 & 04/09/2020 & WEN & WENDY'S CO & 3351921 & 21.580 & 22.38 & 21.4050 & 22.20 & 14 & 5812 & -0.0168564920 &  0.0113895216\\\\\n",
       "\t5 & 3708 & 3 & 08/09/2020 & WEN & WENDY'S CO & 3439170 & 21.850 & 22.05 & 21.2300 & 21.43 & 14 & 5812 &  0.0125115848 & -0.0069508804\\\\\n",
       "\t6 & 3708 & 3 & 09/09/2020 & WEN & WENDY'S CO & 2847727 & 22.495 & 22.61 & 21.8322 & 22.00 & 14 & 5812 &  0.0295194508 &  0.0068649886\\\\\n",
       "\\end{tabular}\n"
      ],
      "text/markdown": [
       "\n",
       "A data.frame: 6 × 14\n",
       "\n",
       "| <!--/--> | GVKEY &lt;int&gt; | iid &lt;int&gt; | datadate &lt;chr&gt; | tic &lt;chr&gt; | conm &lt;chr&gt; | cshtrd &lt;int&gt; | prccd &lt;dbl&gt; | prchd &lt;dbl&gt; | prcld &lt;dbl&gt; | prcod &lt;dbl&gt; | exchg &lt;int&gt; | sic &lt;int&gt; | daily_return &lt;dbl&gt; | overnight_return &lt;dbl&gt; |\n",
       "|---|---|---|---|---|---|---|---|---|---|---|---|---|---|---|\n",
       "| 1 | 3708 | 3 | 01/09/2020 | WEN | WENDY'S CO | 2929911 | 20.950 | 21.16 | 20.7400 | 20.94 | 14 | 5812 |            NA |            NA |\n",
       "| 2 | 3708 | 3 | 02/09/2020 | WEN | WENDY'S CO | 3814903 | 21.970 | 22.08 | 21.0100 | 21.01 | 14 | 5812 |  0.0486873508 |  0.0028639618 |\n",
       "| 3 | 3708 | 3 | 03/09/2020 | WEN | WENDY'S CO | 4280982 | 21.950 | 22.48 | 21.6450 | 21.95 | 14 | 5812 | -0.0009103323 | -0.0009103323 |\n",
       "| 4 | 3708 | 3 | 04/09/2020 | WEN | WENDY'S CO | 3351921 | 21.580 | 22.38 | 21.4050 | 22.20 | 14 | 5812 | -0.0168564920 |  0.0113895216 |\n",
       "| 5 | 3708 | 3 | 08/09/2020 | WEN | WENDY'S CO | 3439170 | 21.850 | 22.05 | 21.2300 | 21.43 | 14 | 5812 |  0.0125115848 | -0.0069508804 |\n",
       "| 6 | 3708 | 3 | 09/09/2020 | WEN | WENDY'S CO | 2847727 | 22.495 | 22.61 | 21.8322 | 22.00 | 14 | 5812 |  0.0295194508 |  0.0068649886 |\n",
       "\n"
      ],
      "text/plain": [
       "  GVKEY iid datadate   tic conm       cshtrd  prccd  prchd prcld   prcod exchg\n",
       "1 3708  3   01/09/2020 WEN WENDY'S CO 2929911 20.950 21.16 20.7400 20.94 14   \n",
       "2 3708  3   02/09/2020 WEN WENDY'S CO 3814903 21.970 22.08 21.0100 21.01 14   \n",
       "3 3708  3   03/09/2020 WEN WENDY'S CO 4280982 21.950 22.48 21.6450 21.95 14   \n",
       "4 3708  3   04/09/2020 WEN WENDY'S CO 3351921 21.580 22.38 21.4050 22.20 14   \n",
       "5 3708  3   08/09/2020 WEN WENDY'S CO 3439170 21.850 22.05 21.2300 21.43 14   \n",
       "6 3708  3   09/09/2020 WEN WENDY'S CO 2847727 22.495 22.61 21.8322 22.00 14   \n",
       "  sic  daily_return  overnight_return\n",
       "1 5812            NA            NA   \n",
       "2 5812  0.0486873508  0.0028639618   \n",
       "3 5812 -0.0009103323 -0.0009103323   \n",
       "4 5812 -0.0168564920  0.0113895216   \n",
       "5 5812  0.0125115848 -0.0069508804   \n",
       "6 5812  0.0295194508  0.0068649886   "
      ]
     },
     "metadata": {},
     "output_type": "display_data"
    }
   ],
   "source": [
    "wendy=mutate(wendy, overnight_return=(prcod-lag(prccd))/lag(prccd))\n",
    "head(wendy)"
   ]
  },
  {
   "cell_type": "markdown",
   "id": "99e17415",
   "metadata": {},
   "source": [
    "Volume change"
   ]
  },
  {
   "cell_type": "code",
   "execution_count": null,
   "id": "08ae89aa",
   "metadata": {
    "vscode": {
     "languageId": "r"
    }
   },
   "outputs": [
    {
     "data": {
      "text/html": [
       "<table class=\"dataframe\">\n",
       "<caption>A data.frame: 6 × 15</caption>\n",
       "<thead>\n",
       "\t<tr><th></th><th scope=col>GVKEY</th><th scope=col>iid</th><th scope=col>datadate</th><th scope=col>tic</th><th scope=col>conm</th><th scope=col>cshtrd</th><th scope=col>prccd</th><th scope=col>prchd</th><th scope=col>prcld</th><th scope=col>prcod</th><th scope=col>exchg</th><th scope=col>sic</th><th scope=col>daily_return</th><th scope=col>overnight_return</th><th scope=col>volume_change</th></tr>\n",
       "\t<tr><th></th><th scope=col>&lt;int&gt;</th><th scope=col>&lt;int&gt;</th><th scope=col>&lt;chr&gt;</th><th scope=col>&lt;chr&gt;</th><th scope=col>&lt;chr&gt;</th><th scope=col>&lt;int&gt;</th><th scope=col>&lt;dbl&gt;</th><th scope=col>&lt;dbl&gt;</th><th scope=col>&lt;dbl&gt;</th><th scope=col>&lt;dbl&gt;</th><th scope=col>&lt;int&gt;</th><th scope=col>&lt;int&gt;</th><th scope=col>&lt;dbl&gt;</th><th scope=col>&lt;dbl&gt;</th><th scope=col>&lt;int&gt;</th></tr>\n",
       "</thead>\n",
       "<tbody>\n",
       "\t<tr><th scope=row>1</th><td>3708</td><td>3</td><td>01/09/2020</td><td>WEN</td><td>WENDY'S CO</td><td>2929911</td><td>20.950</td><td>21.16</td><td>20.7400</td><td>20.94</td><td>14</td><td>5812</td><td>           NA</td><td>           NA</td><td>     NA</td></tr>\n",
       "\t<tr><th scope=row>2</th><td>3708</td><td>3</td><td>02/09/2020</td><td>WEN</td><td>WENDY'S CO</td><td>3814903</td><td>21.970</td><td>22.08</td><td>21.0100</td><td>21.01</td><td>14</td><td>5812</td><td> 0.0486873508</td><td> 0.0028639618</td><td> 884992</td></tr>\n",
       "\t<tr><th scope=row>3</th><td>3708</td><td>3</td><td>03/09/2020</td><td>WEN</td><td>WENDY'S CO</td><td>4280982</td><td>21.950</td><td>22.48</td><td>21.6450</td><td>21.95</td><td>14</td><td>5812</td><td>-0.0009103323</td><td>-0.0009103323</td><td> 466079</td></tr>\n",
       "\t<tr><th scope=row>4</th><td>3708</td><td>3</td><td>04/09/2020</td><td>WEN</td><td>WENDY'S CO</td><td>3351921</td><td>21.580</td><td>22.38</td><td>21.4050</td><td>22.20</td><td>14</td><td>5812</td><td>-0.0168564920</td><td> 0.0113895216</td><td>-929061</td></tr>\n",
       "\t<tr><th scope=row>5</th><td>3708</td><td>3</td><td>08/09/2020</td><td>WEN</td><td>WENDY'S CO</td><td>3439170</td><td>21.850</td><td>22.05</td><td>21.2300</td><td>21.43</td><td>14</td><td>5812</td><td> 0.0125115848</td><td>-0.0069508804</td><td>  87249</td></tr>\n",
       "\t<tr><th scope=row>6</th><td>3708</td><td>3</td><td>09/09/2020</td><td>WEN</td><td>WENDY'S CO</td><td>2847727</td><td>22.495</td><td>22.61</td><td>21.8322</td><td>22.00</td><td>14</td><td>5812</td><td> 0.0295194508</td><td> 0.0068649886</td><td>-591443</td></tr>\n",
       "</tbody>\n",
       "</table>\n"
      ],
      "text/latex": [
       "A data.frame: 6 × 15\n",
       "\\begin{tabular}{r|lllllllllllllll}\n",
       "  & GVKEY & iid & datadate & tic & conm & cshtrd & prccd & prchd & prcld & prcod & exchg & sic & daily\\_return & overnight\\_return & volume\\_change\\\\\n",
       "  & <int> & <int> & <chr> & <chr> & <chr> & <int> & <dbl> & <dbl> & <dbl> & <dbl> & <int> & <int> & <dbl> & <dbl> & <int>\\\\\n",
       "\\hline\n",
       "\t1 & 3708 & 3 & 01/09/2020 & WEN & WENDY'S CO & 2929911 & 20.950 & 21.16 & 20.7400 & 20.94 & 14 & 5812 &            NA &            NA &      NA\\\\\n",
       "\t2 & 3708 & 3 & 02/09/2020 & WEN & WENDY'S CO & 3814903 & 21.970 & 22.08 & 21.0100 & 21.01 & 14 & 5812 &  0.0486873508 &  0.0028639618 &  884992\\\\\n",
       "\t3 & 3708 & 3 & 03/09/2020 & WEN & WENDY'S CO & 4280982 & 21.950 & 22.48 & 21.6450 & 21.95 & 14 & 5812 & -0.0009103323 & -0.0009103323 &  466079\\\\\n",
       "\t4 & 3708 & 3 & 04/09/2020 & WEN & WENDY'S CO & 3351921 & 21.580 & 22.38 & 21.4050 & 22.20 & 14 & 5812 & -0.0168564920 &  0.0113895216 & -929061\\\\\n",
       "\t5 & 3708 & 3 & 08/09/2020 & WEN & WENDY'S CO & 3439170 & 21.850 & 22.05 & 21.2300 & 21.43 & 14 & 5812 &  0.0125115848 & -0.0069508804 &   87249\\\\\n",
       "\t6 & 3708 & 3 & 09/09/2020 & WEN & WENDY'S CO & 2847727 & 22.495 & 22.61 & 21.8322 & 22.00 & 14 & 5812 &  0.0295194508 &  0.0068649886 & -591443\\\\\n",
       "\\end{tabular}\n"
      ],
      "text/markdown": [
       "\n",
       "A data.frame: 6 × 15\n",
       "\n",
       "| <!--/--> | GVKEY &lt;int&gt; | iid &lt;int&gt; | datadate &lt;chr&gt; | tic &lt;chr&gt; | conm &lt;chr&gt; | cshtrd &lt;int&gt; | prccd &lt;dbl&gt; | prchd &lt;dbl&gt; | prcld &lt;dbl&gt; | prcod &lt;dbl&gt; | exchg &lt;int&gt; | sic &lt;int&gt; | daily_return &lt;dbl&gt; | overnight_return &lt;dbl&gt; | volume_change &lt;int&gt; |\n",
       "|---|---|---|---|---|---|---|---|---|---|---|---|---|---|---|---|\n",
       "| 1 | 3708 | 3 | 01/09/2020 | WEN | WENDY'S CO | 2929911 | 20.950 | 21.16 | 20.7400 | 20.94 | 14 | 5812 |            NA |            NA |      NA |\n",
       "| 2 | 3708 | 3 | 02/09/2020 | WEN | WENDY'S CO | 3814903 | 21.970 | 22.08 | 21.0100 | 21.01 | 14 | 5812 |  0.0486873508 |  0.0028639618 |  884992 |\n",
       "| 3 | 3708 | 3 | 03/09/2020 | WEN | WENDY'S CO | 4280982 | 21.950 | 22.48 | 21.6450 | 21.95 | 14 | 5812 | -0.0009103323 | -0.0009103323 |  466079 |\n",
       "| 4 | 3708 | 3 | 04/09/2020 | WEN | WENDY'S CO | 3351921 | 21.580 | 22.38 | 21.4050 | 22.20 | 14 | 5812 | -0.0168564920 |  0.0113895216 | -929061 |\n",
       "| 5 | 3708 | 3 | 08/09/2020 | WEN | WENDY'S CO | 3439170 | 21.850 | 22.05 | 21.2300 | 21.43 | 14 | 5812 |  0.0125115848 | -0.0069508804 |   87249 |\n",
       "| 6 | 3708 | 3 | 09/09/2020 | WEN | WENDY'S CO | 2847727 | 22.495 | 22.61 | 21.8322 | 22.00 | 14 | 5812 |  0.0295194508 |  0.0068649886 | -591443 |\n",
       "\n"
      ],
      "text/plain": [
       "  GVKEY iid datadate   tic conm       cshtrd  prccd  prchd prcld   prcod exchg\n",
       "1 3708  3   01/09/2020 WEN WENDY'S CO 2929911 20.950 21.16 20.7400 20.94 14   \n",
       "2 3708  3   02/09/2020 WEN WENDY'S CO 3814903 21.970 22.08 21.0100 21.01 14   \n",
       "3 3708  3   03/09/2020 WEN WENDY'S CO 4280982 21.950 22.48 21.6450 21.95 14   \n",
       "4 3708  3   04/09/2020 WEN WENDY'S CO 3351921 21.580 22.38 21.4050 22.20 14   \n",
       "5 3708  3   08/09/2020 WEN WENDY'S CO 3439170 21.850 22.05 21.2300 21.43 14   \n",
       "6 3708  3   09/09/2020 WEN WENDY'S CO 2847727 22.495 22.61 21.8322 22.00 14   \n",
       "  sic  daily_return  overnight_return volume_change\n",
       "1 5812            NA            NA         NA      \n",
       "2 5812  0.0486873508  0.0028639618     884992      \n",
       "3 5812 -0.0009103323 -0.0009103323     466079      \n",
       "4 5812 -0.0168564920  0.0113895216    -929061      \n",
       "5 5812  0.0125115848 -0.0069508804      87249      \n",
       "6 5812  0.0295194508  0.0068649886    -591443      "
      ]
     },
     "metadata": {},
     "output_type": "display_data"
    }
   ],
   "source": [
    "wendy=mutate(wendy, volume_change=(cshtrd-lag(cshtrd)))\n",
    "head(wendy)"
   ]
  },
  {
   "cell_type": "markdown",
   "id": "66cbf29d",
   "metadata": {},
   "source": [
    "Money flow volume indicator (MFV)"
   ]
  },
  {
   "cell_type": "code",
   "execution_count": null,
   "id": "e00d8156",
   "metadata": {
    "vscode": {
     "languageId": "r"
    }
   },
   "outputs": [
    {
     "data": {
      "text/html": [
       "<table class=\"dataframe\">\n",
       "<caption>A data.frame: 6 × 16</caption>\n",
       "<thead>\n",
       "\t<tr><th></th><th scope=col>GVKEY</th><th scope=col>iid</th><th scope=col>datadate</th><th scope=col>tic</th><th scope=col>conm</th><th scope=col>cshtrd</th><th scope=col>prccd</th><th scope=col>prchd</th><th scope=col>prcld</th><th scope=col>prcod</th><th scope=col>exchg</th><th scope=col>sic</th><th scope=col>daily_return</th><th scope=col>overnight_return</th><th scope=col>volume_change</th><th scope=col>mvf</th></tr>\n",
       "\t<tr><th></th><th scope=col>&lt;int&gt;</th><th scope=col>&lt;int&gt;</th><th scope=col>&lt;chr&gt;</th><th scope=col>&lt;chr&gt;</th><th scope=col>&lt;chr&gt;</th><th scope=col>&lt;int&gt;</th><th scope=col>&lt;dbl&gt;</th><th scope=col>&lt;dbl&gt;</th><th scope=col>&lt;dbl&gt;</th><th scope=col>&lt;dbl&gt;</th><th scope=col>&lt;int&gt;</th><th scope=col>&lt;int&gt;</th><th scope=col>&lt;dbl&gt;</th><th scope=col>&lt;dbl&gt;</th><th scope=col>&lt;int&gt;</th><th scope=col>&lt;dbl&gt;</th></tr>\n",
       "</thead>\n",
       "<tbody>\n",
       "\t<tr><th scope=row>1</th><td>3708</td><td>3</td><td>01/09/2020</td><td>WEN</td><td>WENDY'S CO</td><td>2929911</td><td>20.950</td><td>21.16</td><td>20.7400</td><td>20.94</td><td>14</td><td>5812</td><td>           NA</td><td>           NA</td><td>     NA</td><td>       0</td></tr>\n",
       "\t<tr><th scope=row>2</th><td>3708</td><td>3</td><td>02/09/2020</td><td>WEN</td><td>WENDY'S CO</td><td>3814903</td><td>21.970</td><td>22.08</td><td>21.0100</td><td>21.01</td><td>14</td><td>5812</td><td> 0.0486873508</td><td> 0.0028639618</td><td> 884992</td><td> 3030530</td></tr>\n",
       "\t<tr><th scope=row>3</th><td>3708</td><td>3</td><td>03/09/2020</td><td>WEN</td><td>WENDY'S CO</td><td>4280982</td><td>21.950</td><td>22.48</td><td>21.6450</td><td>21.95</td><td>14</td><td>5812</td><td>-0.0009103323</td><td>-0.0009103323</td><td> 466079</td><td>-1153558</td></tr>\n",
       "\t<tr><th scope=row>4</th><td>3708</td><td>3</td><td>04/09/2020</td><td>WEN</td><td>WENDY'S CO</td><td>3351921</td><td>21.580</td><td>22.38</td><td>21.4050</td><td>22.20</td><td>14</td><td>5812</td><td>-0.0168564920</td><td> 0.0113895216</td><td>-929061</td><td>-2148667</td></tr>\n",
       "\t<tr><th scope=row>5</th><td>3708</td><td>3</td><td>08/09/2020</td><td>WEN</td><td>WENDY'S CO</td><td>3439170</td><td>21.850</td><td>22.05</td><td>21.2300</td><td>21.43</td><td>14</td><td>5812</td><td> 0.0125115848</td><td>-0.0069508804</td><td>  87249</td><td> 1761526</td></tr>\n",
       "\t<tr><th scope=row>6</th><td>3708</td><td>3</td><td>09/09/2020</td><td>WEN</td><td>WENDY'S CO</td><td>2847727</td><td>22.495</td><td>22.61</td><td>21.8322</td><td>22.00</td><td>14</td><td>5812</td><td> 0.0295194508</td><td> 0.0068649886</td><td>-591443</td><td> 2005638</td></tr>\n",
       "</tbody>\n",
       "</table>\n"
      ],
      "text/latex": [
       "A data.frame: 6 × 16\n",
       "\\begin{tabular}{r|llllllllllllllll}\n",
       "  & GVKEY & iid & datadate & tic & conm & cshtrd & prccd & prchd & prcld & prcod & exchg & sic & daily\\_return & overnight\\_return & volume\\_change & mvf\\\\\n",
       "  & <int> & <int> & <chr> & <chr> & <chr> & <int> & <dbl> & <dbl> & <dbl> & <dbl> & <int> & <int> & <dbl> & <dbl> & <int> & <dbl>\\\\\n",
       "\\hline\n",
       "\t1 & 3708 & 3 & 01/09/2020 & WEN & WENDY'S CO & 2929911 & 20.950 & 21.16 & 20.7400 & 20.94 & 14 & 5812 &            NA &            NA &      NA &        0\\\\\n",
       "\t2 & 3708 & 3 & 02/09/2020 & WEN & WENDY'S CO & 3814903 & 21.970 & 22.08 & 21.0100 & 21.01 & 14 & 5812 &  0.0486873508 &  0.0028639618 &  884992 &  3030530\\\\\n",
       "\t3 & 3708 & 3 & 03/09/2020 & WEN & WENDY'S CO & 4280982 & 21.950 & 22.48 & 21.6450 & 21.95 & 14 & 5812 & -0.0009103323 & -0.0009103323 &  466079 & -1153558\\\\\n",
       "\t4 & 3708 & 3 & 04/09/2020 & WEN & WENDY'S CO & 3351921 & 21.580 & 22.38 & 21.4050 & 22.20 & 14 & 5812 & -0.0168564920 &  0.0113895216 & -929061 & -2148667\\\\\n",
       "\t5 & 3708 & 3 & 08/09/2020 & WEN & WENDY'S CO & 3439170 & 21.850 & 22.05 & 21.2300 & 21.43 & 14 & 5812 &  0.0125115848 & -0.0069508804 &   87249 &  1761526\\\\\n",
       "\t6 & 3708 & 3 & 09/09/2020 & WEN & WENDY'S CO & 2847727 & 22.495 & 22.61 & 21.8322 & 22.00 & 14 & 5812 &  0.0295194508 &  0.0068649886 & -591443 &  2005638\\\\\n",
       "\\end{tabular}\n"
      ],
      "text/markdown": [
       "\n",
       "A data.frame: 6 × 16\n",
       "\n",
       "| <!--/--> | GVKEY &lt;int&gt; | iid &lt;int&gt; | datadate &lt;chr&gt; | tic &lt;chr&gt; | conm &lt;chr&gt; | cshtrd &lt;int&gt; | prccd &lt;dbl&gt; | prchd &lt;dbl&gt; | prcld &lt;dbl&gt; | prcod &lt;dbl&gt; | exchg &lt;int&gt; | sic &lt;int&gt; | daily_return &lt;dbl&gt; | overnight_return &lt;dbl&gt; | volume_change &lt;int&gt; | mvf &lt;dbl&gt; |\n",
       "|---|---|---|---|---|---|---|---|---|---|---|---|---|---|---|---|---|\n",
       "| 1 | 3708 | 3 | 01/09/2020 | WEN | WENDY'S CO | 2929911 | 20.950 | 21.16 | 20.7400 | 20.94 | 14 | 5812 |            NA |            NA |      NA |        0 |\n",
       "| 2 | 3708 | 3 | 02/09/2020 | WEN | WENDY'S CO | 3814903 | 21.970 | 22.08 | 21.0100 | 21.01 | 14 | 5812 |  0.0486873508 |  0.0028639618 |  884992 |  3030530 |\n",
       "| 3 | 3708 | 3 | 03/09/2020 | WEN | WENDY'S CO | 4280982 | 21.950 | 22.48 | 21.6450 | 21.95 | 14 | 5812 | -0.0009103323 | -0.0009103323 |  466079 | -1153558 |\n",
       "| 4 | 3708 | 3 | 04/09/2020 | WEN | WENDY'S CO | 3351921 | 21.580 | 22.38 | 21.4050 | 22.20 | 14 | 5812 | -0.0168564920 |  0.0113895216 | -929061 | -2148667 |\n",
       "| 5 | 3708 | 3 | 08/09/2020 | WEN | WENDY'S CO | 3439170 | 21.850 | 22.05 | 21.2300 | 21.43 | 14 | 5812 |  0.0125115848 | -0.0069508804 |   87249 |  1761526 |\n",
       "| 6 | 3708 | 3 | 09/09/2020 | WEN | WENDY'S CO | 2847727 | 22.495 | 22.61 | 21.8322 | 22.00 | 14 | 5812 |  0.0295194508 |  0.0068649886 | -591443 |  2005638 |\n",
       "\n"
      ],
      "text/plain": [
       "  GVKEY iid datadate   tic conm       cshtrd  prccd  prchd prcld   prcod exchg\n",
       "1 3708  3   01/09/2020 WEN WENDY'S CO 2929911 20.950 21.16 20.7400 20.94 14   \n",
       "2 3708  3   02/09/2020 WEN WENDY'S CO 3814903 21.970 22.08 21.0100 21.01 14   \n",
       "3 3708  3   03/09/2020 WEN WENDY'S CO 4280982 21.950 22.48 21.6450 21.95 14   \n",
       "4 3708  3   04/09/2020 WEN WENDY'S CO 3351921 21.580 22.38 21.4050 22.20 14   \n",
       "5 3708  3   08/09/2020 WEN WENDY'S CO 3439170 21.850 22.05 21.2300 21.43 14   \n",
       "6 3708  3   09/09/2020 WEN WENDY'S CO 2847727 22.495 22.61 21.8322 22.00 14   \n",
       "  sic  daily_return  overnight_return volume_change mvf     \n",
       "1 5812            NA            NA         NA              0\n",
       "2 5812  0.0486873508  0.0028639618     884992        3030530\n",
       "3 5812 -0.0009103323 -0.0009103323     466079       -1153558\n",
       "4 5812 -0.0168564920  0.0113895216    -929061       -2148667\n",
       "5 5812  0.0125115848 -0.0069508804      87249        1761526\n",
       "6 5812  0.0295194508  0.0068649886    -591443        2005638"
      ]
     },
     "metadata": {},
     "output_type": "display_data"
    }
   ],
   "source": [
    "wendy=mutate(wendy, mvf=(((prccd-prcld)-(prchd-prccd))/(prchd-prcld))*cshtrd)\n",
    "head(wendy)"
   ]
  },
  {
   "cell_type": "markdown",
   "id": "0726acdf",
   "metadata": {},
   "source": [
    "New dataset"
   ]
  },
  {
   "cell_type": "code",
   "execution_count": null,
   "id": "11a83d61",
   "metadata": {
    "vscode": {
     "languageId": "r"
    }
   },
   "outputs": [
    {
     "data": {
      "text/html": [
       "<table class=\"dataframe\">\n",
       "<caption>A data.frame: 6 × 16</caption>\n",
       "<thead>\n",
       "\t<tr><th></th><th scope=col>GVKEY</th><th scope=col>iid</th><th scope=col>datadate</th><th scope=col>tic</th><th scope=col>conm</th><th scope=col>cshtrd</th><th scope=col>prccd</th><th scope=col>prchd</th><th scope=col>prcld</th><th scope=col>prcod</th><th scope=col>exchg</th><th scope=col>sic</th><th scope=col>daily_return</th><th scope=col>overnight_return</th><th scope=col>volume_change</th><th scope=col>mvf</th></tr>\n",
       "\t<tr><th></th><th scope=col>&lt;int&gt;</th><th scope=col>&lt;int&gt;</th><th scope=col>&lt;chr&gt;</th><th scope=col>&lt;chr&gt;</th><th scope=col>&lt;chr&gt;</th><th scope=col>&lt;int&gt;</th><th scope=col>&lt;dbl&gt;</th><th scope=col>&lt;dbl&gt;</th><th scope=col>&lt;dbl&gt;</th><th scope=col>&lt;dbl&gt;</th><th scope=col>&lt;int&gt;</th><th scope=col>&lt;int&gt;</th><th scope=col>&lt;dbl&gt;</th><th scope=col>&lt;dbl&gt;</th><th scope=col>&lt;int&gt;</th><th scope=col>&lt;dbl&gt;</th></tr>\n",
       "</thead>\n",
       "<tbody>\n",
       "\t<tr><th scope=row>1</th><td>3708</td><td>3</td><td>01/09/2020</td><td>WEN</td><td>WENDY'S CO</td><td>2929911</td><td>20.950</td><td>21.16</td><td>20.7400</td><td>20.94</td><td>14</td><td>5812</td><td>           NA</td><td>           NA</td><td>     NA</td><td>       0</td></tr>\n",
       "\t<tr><th scope=row>2</th><td>3708</td><td>3</td><td>02/09/2020</td><td>WEN</td><td>WENDY'S CO</td><td>3814903</td><td>21.970</td><td>22.08</td><td>21.0100</td><td>21.01</td><td>14</td><td>5812</td><td> 0.0486873508</td><td> 0.0028639618</td><td> 884992</td><td> 3030530</td></tr>\n",
       "\t<tr><th scope=row>3</th><td>3708</td><td>3</td><td>03/09/2020</td><td>WEN</td><td>WENDY'S CO</td><td>4280982</td><td>21.950</td><td>22.48</td><td>21.6450</td><td>21.95</td><td>14</td><td>5812</td><td>-0.0009103323</td><td>-0.0009103323</td><td> 466079</td><td>-1153558</td></tr>\n",
       "\t<tr><th scope=row>4</th><td>3708</td><td>3</td><td>04/09/2020</td><td>WEN</td><td>WENDY'S CO</td><td>3351921</td><td>21.580</td><td>22.38</td><td>21.4050</td><td>22.20</td><td>14</td><td>5812</td><td>-0.0168564920</td><td> 0.0113895216</td><td>-929061</td><td>-2148667</td></tr>\n",
       "\t<tr><th scope=row>5</th><td>3708</td><td>3</td><td>08/09/2020</td><td>WEN</td><td>WENDY'S CO</td><td>3439170</td><td>21.850</td><td>22.05</td><td>21.2300</td><td>21.43</td><td>14</td><td>5812</td><td> 0.0125115848</td><td>-0.0069508804</td><td>  87249</td><td> 1761526</td></tr>\n",
       "\t<tr><th scope=row>6</th><td>3708</td><td>3</td><td>09/09/2020</td><td>WEN</td><td>WENDY'S CO</td><td>2847727</td><td>22.495</td><td>22.61</td><td>21.8322</td><td>22.00</td><td>14</td><td>5812</td><td> 0.0295194508</td><td> 0.0068649886</td><td>-591443</td><td> 2005638</td></tr>\n",
       "</tbody>\n",
       "</table>\n"
      ],
      "text/latex": [
       "A data.frame: 6 × 16\n",
       "\\begin{tabular}{r|llllllllllllllll}\n",
       "  & GVKEY & iid & datadate & tic & conm & cshtrd & prccd & prchd & prcld & prcod & exchg & sic & daily\\_return & overnight\\_return & volume\\_change & mvf\\\\\n",
       "  & <int> & <int> & <chr> & <chr> & <chr> & <int> & <dbl> & <dbl> & <dbl> & <dbl> & <int> & <int> & <dbl> & <dbl> & <int> & <dbl>\\\\\n",
       "\\hline\n",
       "\t1 & 3708 & 3 & 01/09/2020 & WEN & WENDY'S CO & 2929911 & 20.950 & 21.16 & 20.7400 & 20.94 & 14 & 5812 &            NA &            NA &      NA &        0\\\\\n",
       "\t2 & 3708 & 3 & 02/09/2020 & WEN & WENDY'S CO & 3814903 & 21.970 & 22.08 & 21.0100 & 21.01 & 14 & 5812 &  0.0486873508 &  0.0028639618 &  884992 &  3030530\\\\\n",
       "\t3 & 3708 & 3 & 03/09/2020 & WEN & WENDY'S CO & 4280982 & 21.950 & 22.48 & 21.6450 & 21.95 & 14 & 5812 & -0.0009103323 & -0.0009103323 &  466079 & -1153558\\\\\n",
       "\t4 & 3708 & 3 & 04/09/2020 & WEN & WENDY'S CO & 3351921 & 21.580 & 22.38 & 21.4050 & 22.20 & 14 & 5812 & -0.0168564920 &  0.0113895216 & -929061 & -2148667\\\\\n",
       "\t5 & 3708 & 3 & 08/09/2020 & WEN & WENDY'S CO & 3439170 & 21.850 & 22.05 & 21.2300 & 21.43 & 14 & 5812 &  0.0125115848 & -0.0069508804 &   87249 &  1761526\\\\\n",
       "\t6 & 3708 & 3 & 09/09/2020 & WEN & WENDY'S CO & 2847727 & 22.495 & 22.61 & 21.8322 & 22.00 & 14 & 5812 &  0.0295194508 &  0.0068649886 & -591443 &  2005638\\\\\n",
       "\\end{tabular}\n"
      ],
      "text/markdown": [
       "\n",
       "A data.frame: 6 × 16\n",
       "\n",
       "| <!--/--> | GVKEY &lt;int&gt; | iid &lt;int&gt; | datadate &lt;chr&gt; | tic &lt;chr&gt; | conm &lt;chr&gt; | cshtrd &lt;int&gt; | prccd &lt;dbl&gt; | prchd &lt;dbl&gt; | prcld &lt;dbl&gt; | prcod &lt;dbl&gt; | exchg &lt;int&gt; | sic &lt;int&gt; | daily_return &lt;dbl&gt; | overnight_return &lt;dbl&gt; | volume_change &lt;int&gt; | mvf &lt;dbl&gt; |\n",
       "|---|---|---|---|---|---|---|---|---|---|---|---|---|---|---|---|---|\n",
       "| 1 | 3708 | 3 | 01/09/2020 | WEN | WENDY'S CO | 2929911 | 20.950 | 21.16 | 20.7400 | 20.94 | 14 | 5812 |            NA |            NA |      NA |        0 |\n",
       "| 2 | 3708 | 3 | 02/09/2020 | WEN | WENDY'S CO | 3814903 | 21.970 | 22.08 | 21.0100 | 21.01 | 14 | 5812 |  0.0486873508 |  0.0028639618 |  884992 |  3030530 |\n",
       "| 3 | 3708 | 3 | 03/09/2020 | WEN | WENDY'S CO | 4280982 | 21.950 | 22.48 | 21.6450 | 21.95 | 14 | 5812 | -0.0009103323 | -0.0009103323 |  466079 | -1153558 |\n",
       "| 4 | 3708 | 3 | 04/09/2020 | WEN | WENDY'S CO | 3351921 | 21.580 | 22.38 | 21.4050 | 22.20 | 14 | 5812 | -0.0168564920 |  0.0113895216 | -929061 | -2148667 |\n",
       "| 5 | 3708 | 3 | 08/09/2020 | WEN | WENDY'S CO | 3439170 | 21.850 | 22.05 | 21.2300 | 21.43 | 14 | 5812 |  0.0125115848 | -0.0069508804 |   87249 |  1761526 |\n",
       "| 6 | 3708 | 3 | 09/09/2020 | WEN | WENDY'S CO | 2847727 | 22.495 | 22.61 | 21.8322 | 22.00 | 14 | 5812 |  0.0295194508 |  0.0068649886 | -591443 |  2005638 |\n",
       "\n"
      ],
      "text/plain": [
       "  GVKEY iid datadate   tic conm       cshtrd  prccd  prchd prcld   prcod exchg\n",
       "1 3708  3   01/09/2020 WEN WENDY'S CO 2929911 20.950 21.16 20.7400 20.94 14   \n",
       "2 3708  3   02/09/2020 WEN WENDY'S CO 3814903 21.970 22.08 21.0100 21.01 14   \n",
       "3 3708  3   03/09/2020 WEN WENDY'S CO 4280982 21.950 22.48 21.6450 21.95 14   \n",
       "4 3708  3   04/09/2020 WEN WENDY'S CO 3351921 21.580 22.38 21.4050 22.20 14   \n",
       "5 3708  3   08/09/2020 WEN WENDY'S CO 3439170 21.850 22.05 21.2300 21.43 14   \n",
       "6 3708  3   09/09/2020 WEN WENDY'S CO 2847727 22.495 22.61 21.8322 22.00 14   \n",
       "  sic  daily_return  overnight_return volume_change mvf     \n",
       "1 5812            NA            NA         NA              0\n",
       "2 5812  0.0486873508  0.0028639618     884992        3030530\n",
       "3 5812 -0.0009103323 -0.0009103323     466079       -1153558\n",
       "4 5812 -0.0168564920  0.0113895216    -929061       -2148667\n",
       "5 5812  0.0125115848 -0.0069508804      87249        1761526\n",
       "6 5812  0.0295194508  0.0068649886    -591443        2005638"
      ]
     },
     "metadata": {},
     "output_type": "display_data"
    }
   ],
   "source": [
    "wendy_new=select(wendy, datadate, daily_return, overnight_return, volume_change, mvf)\n",
    "head(wendy)"
   ]
  },
  {
   "cell_type": "markdown",
   "id": "cc36246c",
   "metadata": {},
   "source": [
    "Drop first row because it have nan values"
   ]
  },
  {
   "cell_type": "code",
   "execution_count": null,
   "id": "97b85c4b",
   "metadata": {
    "vscode": {
     "languageId": "r"
    }
   },
   "outputs": [
    {
     "data": {
      "text/html": [
       "<table class=\"dataframe\">\n",
       "<caption>A data.frame: 6 × 16</caption>\n",
       "<thead>\n",
       "\t<tr><th></th><th scope=col>GVKEY</th><th scope=col>iid</th><th scope=col>datadate</th><th scope=col>tic</th><th scope=col>conm</th><th scope=col>cshtrd</th><th scope=col>prccd</th><th scope=col>prchd</th><th scope=col>prcld</th><th scope=col>prcod</th><th scope=col>exchg</th><th scope=col>sic</th><th scope=col>daily_return</th><th scope=col>overnight_return</th><th scope=col>volume_change</th><th scope=col>mvf</th></tr>\n",
       "\t<tr><th></th><th scope=col>&lt;int&gt;</th><th scope=col>&lt;int&gt;</th><th scope=col>&lt;chr&gt;</th><th scope=col>&lt;chr&gt;</th><th scope=col>&lt;chr&gt;</th><th scope=col>&lt;int&gt;</th><th scope=col>&lt;dbl&gt;</th><th scope=col>&lt;dbl&gt;</th><th scope=col>&lt;dbl&gt;</th><th scope=col>&lt;dbl&gt;</th><th scope=col>&lt;int&gt;</th><th scope=col>&lt;int&gt;</th><th scope=col>&lt;dbl&gt;</th><th scope=col>&lt;dbl&gt;</th><th scope=col>&lt;int&gt;</th><th scope=col>&lt;dbl&gt;</th></tr>\n",
       "</thead>\n",
       "<tbody>\n",
       "\t<tr><th scope=row>2</th><td>3708</td><td>3</td><td>02/09/2020</td><td>WEN</td><td>WENDY'S CO</td><td>3814903</td><td>21.970</td><td>22.08</td><td>21.0100</td><td>21.01</td><td>14</td><td>5812</td><td> 0.0486873508</td><td> 0.0028639618</td><td> 884992</td><td> 3030530</td></tr>\n",
       "\t<tr><th scope=row>3</th><td>3708</td><td>3</td><td>03/09/2020</td><td>WEN</td><td>WENDY'S CO</td><td>4280982</td><td>21.950</td><td>22.48</td><td>21.6450</td><td>21.95</td><td>14</td><td>5812</td><td>-0.0009103323</td><td>-0.0009103323</td><td> 466079</td><td>-1153558</td></tr>\n",
       "\t<tr><th scope=row>4</th><td>3708</td><td>3</td><td>04/09/2020</td><td>WEN</td><td>WENDY'S CO</td><td>3351921</td><td>21.580</td><td>22.38</td><td>21.4050</td><td>22.20</td><td>14</td><td>5812</td><td>-0.0168564920</td><td> 0.0113895216</td><td>-929061</td><td>-2148667</td></tr>\n",
       "\t<tr><th scope=row>5</th><td>3708</td><td>3</td><td>08/09/2020</td><td>WEN</td><td>WENDY'S CO</td><td>3439170</td><td>21.850</td><td>22.05</td><td>21.2300</td><td>21.43</td><td>14</td><td>5812</td><td> 0.0125115848</td><td>-0.0069508804</td><td>  87249</td><td> 1761526</td></tr>\n",
       "\t<tr><th scope=row>6</th><td>3708</td><td>3</td><td>09/09/2020</td><td>WEN</td><td>WENDY'S CO</td><td>2847727</td><td>22.495</td><td>22.61</td><td>21.8322</td><td>22.00</td><td>14</td><td>5812</td><td> 0.0295194508</td><td> 0.0068649886</td><td>-591443</td><td> 2005638</td></tr>\n",
       "\t<tr><th scope=row>7</th><td>3708</td><td>3</td><td>10/09/2020</td><td>WEN</td><td>WENDY'S CO</td><td>2787857</td><td>21.850</td><td>23.04</td><td>21.8400</td><td>22.55</td><td>14</td><td>5812</td><td>-0.0286730385</td><td> 0.0024449878</td><td> -59870</td><td>-2741393</td></tr>\n",
       "</tbody>\n",
       "</table>\n"
      ],
      "text/latex": [
       "A data.frame: 6 × 16\n",
       "\\begin{tabular}{r|llllllllllllllll}\n",
       "  & GVKEY & iid & datadate & tic & conm & cshtrd & prccd & prchd & prcld & prcod & exchg & sic & daily\\_return & overnight\\_return & volume\\_change & mvf\\\\\n",
       "  & <int> & <int> & <chr> & <chr> & <chr> & <int> & <dbl> & <dbl> & <dbl> & <dbl> & <int> & <int> & <dbl> & <dbl> & <int> & <dbl>\\\\\n",
       "\\hline\n",
       "\t2 & 3708 & 3 & 02/09/2020 & WEN & WENDY'S CO & 3814903 & 21.970 & 22.08 & 21.0100 & 21.01 & 14 & 5812 &  0.0486873508 &  0.0028639618 &  884992 &  3030530\\\\\n",
       "\t3 & 3708 & 3 & 03/09/2020 & WEN & WENDY'S CO & 4280982 & 21.950 & 22.48 & 21.6450 & 21.95 & 14 & 5812 & -0.0009103323 & -0.0009103323 &  466079 & -1153558\\\\\n",
       "\t4 & 3708 & 3 & 04/09/2020 & WEN & WENDY'S CO & 3351921 & 21.580 & 22.38 & 21.4050 & 22.20 & 14 & 5812 & -0.0168564920 &  0.0113895216 & -929061 & -2148667\\\\\n",
       "\t5 & 3708 & 3 & 08/09/2020 & WEN & WENDY'S CO & 3439170 & 21.850 & 22.05 & 21.2300 & 21.43 & 14 & 5812 &  0.0125115848 & -0.0069508804 &   87249 &  1761526\\\\\n",
       "\t6 & 3708 & 3 & 09/09/2020 & WEN & WENDY'S CO & 2847727 & 22.495 & 22.61 & 21.8322 & 22.00 & 14 & 5812 &  0.0295194508 &  0.0068649886 & -591443 &  2005638\\\\\n",
       "\t7 & 3708 & 3 & 10/09/2020 & WEN & WENDY'S CO & 2787857 & 21.850 & 23.04 & 21.8400 & 22.55 & 14 & 5812 & -0.0286730385 &  0.0024449878 &  -59870 & -2741393\\\\\n",
       "\\end{tabular}\n"
      ],
      "text/markdown": [
       "\n",
       "A data.frame: 6 × 16\n",
       "\n",
       "| <!--/--> | GVKEY &lt;int&gt; | iid &lt;int&gt; | datadate &lt;chr&gt; | tic &lt;chr&gt; | conm &lt;chr&gt; | cshtrd &lt;int&gt; | prccd &lt;dbl&gt; | prchd &lt;dbl&gt; | prcld &lt;dbl&gt; | prcod &lt;dbl&gt; | exchg &lt;int&gt; | sic &lt;int&gt; | daily_return &lt;dbl&gt; | overnight_return &lt;dbl&gt; | volume_change &lt;int&gt; | mvf &lt;dbl&gt; |\n",
       "|---|---|---|---|---|---|---|---|---|---|---|---|---|---|---|---|---|\n",
       "| 2 | 3708 | 3 | 02/09/2020 | WEN | WENDY'S CO | 3814903 | 21.970 | 22.08 | 21.0100 | 21.01 | 14 | 5812 |  0.0486873508 |  0.0028639618 |  884992 |  3030530 |\n",
       "| 3 | 3708 | 3 | 03/09/2020 | WEN | WENDY'S CO | 4280982 | 21.950 | 22.48 | 21.6450 | 21.95 | 14 | 5812 | -0.0009103323 | -0.0009103323 |  466079 | -1153558 |\n",
       "| 4 | 3708 | 3 | 04/09/2020 | WEN | WENDY'S CO | 3351921 | 21.580 | 22.38 | 21.4050 | 22.20 | 14 | 5812 | -0.0168564920 |  0.0113895216 | -929061 | -2148667 |\n",
       "| 5 | 3708 | 3 | 08/09/2020 | WEN | WENDY'S CO | 3439170 | 21.850 | 22.05 | 21.2300 | 21.43 | 14 | 5812 |  0.0125115848 | -0.0069508804 |   87249 |  1761526 |\n",
       "| 6 | 3708 | 3 | 09/09/2020 | WEN | WENDY'S CO | 2847727 | 22.495 | 22.61 | 21.8322 | 22.00 | 14 | 5812 |  0.0295194508 |  0.0068649886 | -591443 |  2005638 |\n",
       "| 7 | 3708 | 3 | 10/09/2020 | WEN | WENDY'S CO | 2787857 | 21.850 | 23.04 | 21.8400 | 22.55 | 14 | 5812 | -0.0286730385 |  0.0024449878 |  -59870 | -2741393 |\n",
       "\n"
      ],
      "text/plain": [
       "  GVKEY iid datadate   tic conm       cshtrd  prccd  prchd prcld   prcod exchg\n",
       "2 3708  3   02/09/2020 WEN WENDY'S CO 3814903 21.970 22.08 21.0100 21.01 14   \n",
       "3 3708  3   03/09/2020 WEN WENDY'S CO 4280982 21.950 22.48 21.6450 21.95 14   \n",
       "4 3708  3   04/09/2020 WEN WENDY'S CO 3351921 21.580 22.38 21.4050 22.20 14   \n",
       "5 3708  3   08/09/2020 WEN WENDY'S CO 3439170 21.850 22.05 21.2300 21.43 14   \n",
       "6 3708  3   09/09/2020 WEN WENDY'S CO 2847727 22.495 22.61 21.8322 22.00 14   \n",
       "7 3708  3   10/09/2020 WEN WENDY'S CO 2787857 21.850 23.04 21.8400 22.55 14   \n",
       "  sic  daily_return  overnight_return volume_change mvf     \n",
       "2 5812  0.0486873508  0.0028639618     884992        3030530\n",
       "3 5812 -0.0009103323 -0.0009103323     466079       -1153558\n",
       "4 5812 -0.0168564920  0.0113895216    -929061       -2148667\n",
       "5 5812  0.0125115848 -0.0069508804      87249        1761526\n",
       "6 5812  0.0295194508  0.0068649886    -591443        2005638\n",
       "7 5812 -0.0286730385  0.0024449878     -59870       -2741393"
      ]
     },
     "metadata": {},
     "output_type": "display_data"
    }
   ],
   "source": [
    "wendy = wendy[2:nrow(wendy),]\n",
    "head(wendy)"
   ]
  },
  {
   "cell_type": "markdown",
   "id": "4239f7c7",
   "metadata": {},
   "source": [
    "Month column"
   ]
  },
  {
   "cell_type": "code",
   "execution_count": null,
   "id": "0d3c9424",
   "metadata": {
    "vscode": {
     "languageId": "r"
    }
   },
   "outputs": [
    {
     "data": {
      "text/html": [
       "<table class=\"dataframe\">\n",
       "<caption>A data.frame: 6 × 17</caption>\n",
       "<thead>\n",
       "\t<tr><th></th><th scope=col>GVKEY</th><th scope=col>iid</th><th scope=col>datadate</th><th scope=col>tic</th><th scope=col>conm</th><th scope=col>cshtrd</th><th scope=col>prccd</th><th scope=col>prchd</th><th scope=col>prcld</th><th scope=col>prcod</th><th scope=col>exchg</th><th scope=col>sic</th><th scope=col>daily_return</th><th scope=col>overnight_return</th><th scope=col>volume_change</th><th scope=col>mvf</th><th scope=col>month</th></tr>\n",
       "\t<tr><th></th><th scope=col>&lt;int&gt;</th><th scope=col>&lt;int&gt;</th><th scope=col>&lt;date&gt;</th><th scope=col>&lt;chr&gt;</th><th scope=col>&lt;chr&gt;</th><th scope=col>&lt;int&gt;</th><th scope=col>&lt;dbl&gt;</th><th scope=col>&lt;dbl&gt;</th><th scope=col>&lt;dbl&gt;</th><th scope=col>&lt;dbl&gt;</th><th scope=col>&lt;int&gt;</th><th scope=col>&lt;int&gt;</th><th scope=col>&lt;dbl&gt;</th><th scope=col>&lt;dbl&gt;</th><th scope=col>&lt;int&gt;</th><th scope=col>&lt;dbl&gt;</th><th scope=col>&lt;dbl&gt;</th></tr>\n",
       "</thead>\n",
       "<tbody>\n",
       "\t<tr><th scope=row>2</th><td>3708</td><td>3</td><td>2020-09-02</td><td>WEN</td><td>WENDY'S CO</td><td>3814903</td><td>21.970</td><td>22.08</td><td>21.0100</td><td>21.01</td><td>14</td><td>5812</td><td> 0.0486873508</td><td> 0.0028639618</td><td> 884992</td><td> 3030530</td><td>9</td></tr>\n",
       "\t<tr><th scope=row>3</th><td>3708</td><td>3</td><td>2020-09-03</td><td>WEN</td><td>WENDY'S CO</td><td>4280982</td><td>21.950</td><td>22.48</td><td>21.6450</td><td>21.95</td><td>14</td><td>5812</td><td>-0.0009103323</td><td>-0.0009103323</td><td> 466079</td><td>-1153558</td><td>9</td></tr>\n",
       "\t<tr><th scope=row>4</th><td>3708</td><td>3</td><td>2020-09-04</td><td>WEN</td><td>WENDY'S CO</td><td>3351921</td><td>21.580</td><td>22.38</td><td>21.4050</td><td>22.20</td><td>14</td><td>5812</td><td>-0.0168564920</td><td> 0.0113895216</td><td>-929061</td><td>-2148667</td><td>9</td></tr>\n",
       "\t<tr><th scope=row>5</th><td>3708</td><td>3</td><td>2020-09-08</td><td>WEN</td><td>WENDY'S CO</td><td>3439170</td><td>21.850</td><td>22.05</td><td>21.2300</td><td>21.43</td><td>14</td><td>5812</td><td> 0.0125115848</td><td>-0.0069508804</td><td>  87249</td><td> 1761526</td><td>9</td></tr>\n",
       "\t<tr><th scope=row>6</th><td>3708</td><td>3</td><td>2020-09-09</td><td>WEN</td><td>WENDY'S CO</td><td>2847727</td><td>22.495</td><td>22.61</td><td>21.8322</td><td>22.00</td><td>14</td><td>5812</td><td> 0.0295194508</td><td> 0.0068649886</td><td>-591443</td><td> 2005638</td><td>9</td></tr>\n",
       "\t<tr><th scope=row>7</th><td>3708</td><td>3</td><td>2020-09-10</td><td>WEN</td><td>WENDY'S CO</td><td>2787857</td><td>21.850</td><td>23.04</td><td>21.8400</td><td>22.55</td><td>14</td><td>5812</td><td>-0.0286730385</td><td> 0.0024449878</td><td> -59870</td><td>-2741393</td><td>9</td></tr>\n",
       "</tbody>\n",
       "</table>\n"
      ],
      "text/latex": [
       "A data.frame: 6 × 17\n",
       "\\begin{tabular}{r|lllllllllllllllll}\n",
       "  & GVKEY & iid & datadate & tic & conm & cshtrd & prccd & prchd & prcld & prcod & exchg & sic & daily\\_return & overnight\\_return & volume\\_change & mvf & month\\\\\n",
       "  & <int> & <int> & <date> & <chr> & <chr> & <int> & <dbl> & <dbl> & <dbl> & <dbl> & <int> & <int> & <dbl> & <dbl> & <int> & <dbl> & <dbl>\\\\\n",
       "\\hline\n",
       "\t2 & 3708 & 3 & 2020-09-02 & WEN & WENDY'S CO & 3814903 & 21.970 & 22.08 & 21.0100 & 21.01 & 14 & 5812 &  0.0486873508 &  0.0028639618 &  884992 &  3030530 & 9\\\\\n",
       "\t3 & 3708 & 3 & 2020-09-03 & WEN & WENDY'S CO & 4280982 & 21.950 & 22.48 & 21.6450 & 21.95 & 14 & 5812 & -0.0009103323 & -0.0009103323 &  466079 & -1153558 & 9\\\\\n",
       "\t4 & 3708 & 3 & 2020-09-04 & WEN & WENDY'S CO & 3351921 & 21.580 & 22.38 & 21.4050 & 22.20 & 14 & 5812 & -0.0168564920 &  0.0113895216 & -929061 & -2148667 & 9\\\\\n",
       "\t5 & 3708 & 3 & 2020-09-08 & WEN & WENDY'S CO & 3439170 & 21.850 & 22.05 & 21.2300 & 21.43 & 14 & 5812 &  0.0125115848 & -0.0069508804 &   87249 &  1761526 & 9\\\\\n",
       "\t6 & 3708 & 3 & 2020-09-09 & WEN & WENDY'S CO & 2847727 & 22.495 & 22.61 & 21.8322 & 22.00 & 14 & 5812 &  0.0295194508 &  0.0068649886 & -591443 &  2005638 & 9\\\\\n",
       "\t7 & 3708 & 3 & 2020-09-10 & WEN & WENDY'S CO & 2787857 & 21.850 & 23.04 & 21.8400 & 22.55 & 14 & 5812 & -0.0286730385 &  0.0024449878 &  -59870 & -2741393 & 9\\\\\n",
       "\\end{tabular}\n"
      ],
      "text/markdown": [
       "\n",
       "A data.frame: 6 × 17\n",
       "\n",
       "| <!--/--> | GVKEY &lt;int&gt; | iid &lt;int&gt; | datadate &lt;date&gt; | tic &lt;chr&gt; | conm &lt;chr&gt; | cshtrd &lt;int&gt; | prccd &lt;dbl&gt; | prchd &lt;dbl&gt; | prcld &lt;dbl&gt; | prcod &lt;dbl&gt; | exchg &lt;int&gt; | sic &lt;int&gt; | daily_return &lt;dbl&gt; | overnight_return &lt;dbl&gt; | volume_change &lt;int&gt; | mvf &lt;dbl&gt; | month &lt;dbl&gt; |\n",
       "|---|---|---|---|---|---|---|---|---|---|---|---|---|---|---|---|---|---|\n",
       "| 2 | 3708 | 3 | 2020-09-02 | WEN | WENDY'S CO | 3814903 | 21.970 | 22.08 | 21.0100 | 21.01 | 14 | 5812 |  0.0486873508 |  0.0028639618 |  884992 |  3030530 | 9 |\n",
       "| 3 | 3708 | 3 | 2020-09-03 | WEN | WENDY'S CO | 4280982 | 21.950 | 22.48 | 21.6450 | 21.95 | 14 | 5812 | -0.0009103323 | -0.0009103323 |  466079 | -1153558 | 9 |\n",
       "| 4 | 3708 | 3 | 2020-09-04 | WEN | WENDY'S CO | 3351921 | 21.580 | 22.38 | 21.4050 | 22.20 | 14 | 5812 | -0.0168564920 |  0.0113895216 | -929061 | -2148667 | 9 |\n",
       "| 5 | 3708 | 3 | 2020-09-08 | WEN | WENDY'S CO | 3439170 | 21.850 | 22.05 | 21.2300 | 21.43 | 14 | 5812 |  0.0125115848 | -0.0069508804 |   87249 |  1761526 | 9 |\n",
       "| 6 | 3708 | 3 | 2020-09-09 | WEN | WENDY'S CO | 2847727 | 22.495 | 22.61 | 21.8322 | 22.00 | 14 | 5812 |  0.0295194508 |  0.0068649886 | -591443 |  2005638 | 9 |\n",
       "| 7 | 3708 | 3 | 2020-09-10 | WEN | WENDY'S CO | 2787857 | 21.850 | 23.04 | 21.8400 | 22.55 | 14 | 5812 | -0.0286730385 |  0.0024449878 |  -59870 | -2741393 | 9 |\n",
       "\n"
      ],
      "text/plain": [
       "  GVKEY iid datadate   tic conm       cshtrd  prccd  prchd prcld   prcod exchg\n",
       "2 3708  3   2020-09-02 WEN WENDY'S CO 3814903 21.970 22.08 21.0100 21.01 14   \n",
       "3 3708  3   2020-09-03 WEN WENDY'S CO 4280982 21.950 22.48 21.6450 21.95 14   \n",
       "4 3708  3   2020-09-04 WEN WENDY'S CO 3351921 21.580 22.38 21.4050 22.20 14   \n",
       "5 3708  3   2020-09-08 WEN WENDY'S CO 3439170 21.850 22.05 21.2300 21.43 14   \n",
       "6 3708  3   2020-09-09 WEN WENDY'S CO 2847727 22.495 22.61 21.8322 22.00 14   \n",
       "7 3708  3   2020-09-10 WEN WENDY'S CO 2787857 21.850 23.04 21.8400 22.55 14   \n",
       "  sic  daily_return  overnight_return volume_change mvf      month\n",
       "2 5812  0.0486873508  0.0028639618     884992        3030530 9    \n",
       "3 5812 -0.0009103323 -0.0009103323     466079       -1153558 9    \n",
       "4 5812 -0.0168564920  0.0113895216    -929061       -2148667 9    \n",
       "5 5812  0.0125115848 -0.0069508804      87249        1761526 9    \n",
       "6 5812  0.0295194508  0.0068649886    -591443        2005638 9    \n",
       "7 5812 -0.0286730385  0.0024449878     -59870       -2741393 9    "
      ]
     },
     "metadata": {},
     "output_type": "display_data"
    }
   ],
   "source": [
    "wendy$datadate = as.Date(wendy$datadate, format=\"%d/%m/%Y\")\n",
    "wendy = mutate(wendy, month=month(wendy$datadate))\n",
    "head(wendy)"
   ]
  },
  {
   "cell_type": "markdown",
   "id": "b38380f3",
   "metadata": {},
   "source": [
    "Year column"
   ]
  },
  {
   "cell_type": "code",
   "execution_count": null,
   "id": "a43f636a",
   "metadata": {
    "vscode": {
     "languageId": "r"
    }
   },
   "outputs": [
    {
     "data": {
      "text/html": [
       "<table class=\"dataframe\">\n",
       "<caption>A data.frame: 6 × 18</caption>\n",
       "<thead>\n",
       "\t<tr><th></th><th scope=col>GVKEY</th><th scope=col>iid</th><th scope=col>datadate</th><th scope=col>tic</th><th scope=col>conm</th><th scope=col>cshtrd</th><th scope=col>prccd</th><th scope=col>prchd</th><th scope=col>prcld</th><th scope=col>prcod</th><th scope=col>exchg</th><th scope=col>sic</th><th scope=col>daily_return</th><th scope=col>overnight_return</th><th scope=col>volume_change</th><th scope=col>mvf</th><th scope=col>month</th><th scope=col>year</th></tr>\n",
       "\t<tr><th></th><th scope=col>&lt;int&gt;</th><th scope=col>&lt;int&gt;</th><th scope=col>&lt;date&gt;</th><th scope=col>&lt;chr&gt;</th><th scope=col>&lt;chr&gt;</th><th scope=col>&lt;int&gt;</th><th scope=col>&lt;dbl&gt;</th><th scope=col>&lt;dbl&gt;</th><th scope=col>&lt;dbl&gt;</th><th scope=col>&lt;dbl&gt;</th><th scope=col>&lt;int&gt;</th><th scope=col>&lt;int&gt;</th><th scope=col>&lt;dbl&gt;</th><th scope=col>&lt;dbl&gt;</th><th scope=col>&lt;int&gt;</th><th scope=col>&lt;dbl&gt;</th><th scope=col>&lt;dbl&gt;</th><th scope=col>&lt;dbl&gt;</th></tr>\n",
       "</thead>\n",
       "<tbody>\n",
       "\t<tr><th scope=row>2</th><td>3708</td><td>3</td><td>2020-09-02</td><td>WEN</td><td>WENDY'S CO</td><td>3814903</td><td>21.970</td><td>22.08</td><td>21.0100</td><td>21.01</td><td>14</td><td>5812</td><td> 0.0486873508</td><td> 0.0028639618</td><td> 884992</td><td> 3030530</td><td>9</td><td>2020</td></tr>\n",
       "\t<tr><th scope=row>3</th><td>3708</td><td>3</td><td>2020-09-03</td><td>WEN</td><td>WENDY'S CO</td><td>4280982</td><td>21.950</td><td>22.48</td><td>21.6450</td><td>21.95</td><td>14</td><td>5812</td><td>-0.0009103323</td><td>-0.0009103323</td><td> 466079</td><td>-1153558</td><td>9</td><td>2020</td></tr>\n",
       "\t<tr><th scope=row>4</th><td>3708</td><td>3</td><td>2020-09-04</td><td>WEN</td><td>WENDY'S CO</td><td>3351921</td><td>21.580</td><td>22.38</td><td>21.4050</td><td>22.20</td><td>14</td><td>5812</td><td>-0.0168564920</td><td> 0.0113895216</td><td>-929061</td><td>-2148667</td><td>9</td><td>2020</td></tr>\n",
       "\t<tr><th scope=row>5</th><td>3708</td><td>3</td><td>2020-09-08</td><td>WEN</td><td>WENDY'S CO</td><td>3439170</td><td>21.850</td><td>22.05</td><td>21.2300</td><td>21.43</td><td>14</td><td>5812</td><td> 0.0125115848</td><td>-0.0069508804</td><td>  87249</td><td> 1761526</td><td>9</td><td>2020</td></tr>\n",
       "\t<tr><th scope=row>6</th><td>3708</td><td>3</td><td>2020-09-09</td><td>WEN</td><td>WENDY'S CO</td><td>2847727</td><td>22.495</td><td>22.61</td><td>21.8322</td><td>22.00</td><td>14</td><td>5812</td><td> 0.0295194508</td><td> 0.0068649886</td><td>-591443</td><td> 2005638</td><td>9</td><td>2020</td></tr>\n",
       "\t<tr><th scope=row>7</th><td>3708</td><td>3</td><td>2020-09-10</td><td>WEN</td><td>WENDY'S CO</td><td>2787857</td><td>21.850</td><td>23.04</td><td>21.8400</td><td>22.55</td><td>14</td><td>5812</td><td>-0.0286730385</td><td> 0.0024449878</td><td> -59870</td><td>-2741393</td><td>9</td><td>2020</td></tr>\n",
       "</tbody>\n",
       "</table>\n"
      ],
      "text/latex": [
       "A data.frame: 6 × 18\n",
       "\\begin{tabular}{r|llllllllllllllllll}\n",
       "  & GVKEY & iid & datadate & tic & conm & cshtrd & prccd & prchd & prcld & prcod & exchg & sic & daily\\_return & overnight\\_return & volume\\_change & mvf & month & year\\\\\n",
       "  & <int> & <int> & <date> & <chr> & <chr> & <int> & <dbl> & <dbl> & <dbl> & <dbl> & <int> & <int> & <dbl> & <dbl> & <int> & <dbl> & <dbl> & <dbl>\\\\\n",
       "\\hline\n",
       "\t2 & 3708 & 3 & 2020-09-02 & WEN & WENDY'S CO & 3814903 & 21.970 & 22.08 & 21.0100 & 21.01 & 14 & 5812 &  0.0486873508 &  0.0028639618 &  884992 &  3030530 & 9 & 2020\\\\\n",
       "\t3 & 3708 & 3 & 2020-09-03 & WEN & WENDY'S CO & 4280982 & 21.950 & 22.48 & 21.6450 & 21.95 & 14 & 5812 & -0.0009103323 & -0.0009103323 &  466079 & -1153558 & 9 & 2020\\\\\n",
       "\t4 & 3708 & 3 & 2020-09-04 & WEN & WENDY'S CO & 3351921 & 21.580 & 22.38 & 21.4050 & 22.20 & 14 & 5812 & -0.0168564920 &  0.0113895216 & -929061 & -2148667 & 9 & 2020\\\\\n",
       "\t5 & 3708 & 3 & 2020-09-08 & WEN & WENDY'S CO & 3439170 & 21.850 & 22.05 & 21.2300 & 21.43 & 14 & 5812 &  0.0125115848 & -0.0069508804 &   87249 &  1761526 & 9 & 2020\\\\\n",
       "\t6 & 3708 & 3 & 2020-09-09 & WEN & WENDY'S CO & 2847727 & 22.495 & 22.61 & 21.8322 & 22.00 & 14 & 5812 &  0.0295194508 &  0.0068649886 & -591443 &  2005638 & 9 & 2020\\\\\n",
       "\t7 & 3708 & 3 & 2020-09-10 & WEN & WENDY'S CO & 2787857 & 21.850 & 23.04 & 21.8400 & 22.55 & 14 & 5812 & -0.0286730385 &  0.0024449878 &  -59870 & -2741393 & 9 & 2020\\\\\n",
       "\\end{tabular}\n"
      ],
      "text/markdown": [
       "\n",
       "A data.frame: 6 × 18\n",
       "\n",
       "| <!--/--> | GVKEY &lt;int&gt; | iid &lt;int&gt; | datadate &lt;date&gt; | tic &lt;chr&gt; | conm &lt;chr&gt; | cshtrd &lt;int&gt; | prccd &lt;dbl&gt; | prchd &lt;dbl&gt; | prcld &lt;dbl&gt; | prcod &lt;dbl&gt; | exchg &lt;int&gt; | sic &lt;int&gt; | daily_return &lt;dbl&gt; | overnight_return &lt;dbl&gt; | volume_change &lt;int&gt; | mvf &lt;dbl&gt; | month &lt;dbl&gt; | year &lt;dbl&gt; |\n",
       "|---|---|---|---|---|---|---|---|---|---|---|---|---|---|---|---|---|---|---|\n",
       "| 2 | 3708 | 3 | 2020-09-02 | WEN | WENDY'S CO | 3814903 | 21.970 | 22.08 | 21.0100 | 21.01 | 14 | 5812 |  0.0486873508 |  0.0028639618 |  884992 |  3030530 | 9 | 2020 |\n",
       "| 3 | 3708 | 3 | 2020-09-03 | WEN | WENDY'S CO | 4280982 | 21.950 | 22.48 | 21.6450 | 21.95 | 14 | 5812 | -0.0009103323 | -0.0009103323 |  466079 | -1153558 | 9 | 2020 |\n",
       "| 4 | 3708 | 3 | 2020-09-04 | WEN | WENDY'S CO | 3351921 | 21.580 | 22.38 | 21.4050 | 22.20 | 14 | 5812 | -0.0168564920 |  0.0113895216 | -929061 | -2148667 | 9 | 2020 |\n",
       "| 5 | 3708 | 3 | 2020-09-08 | WEN | WENDY'S CO | 3439170 | 21.850 | 22.05 | 21.2300 | 21.43 | 14 | 5812 |  0.0125115848 | -0.0069508804 |   87249 |  1761526 | 9 | 2020 |\n",
       "| 6 | 3708 | 3 | 2020-09-09 | WEN | WENDY'S CO | 2847727 | 22.495 | 22.61 | 21.8322 | 22.00 | 14 | 5812 |  0.0295194508 |  0.0068649886 | -591443 |  2005638 | 9 | 2020 |\n",
       "| 7 | 3708 | 3 | 2020-09-10 | WEN | WENDY'S CO | 2787857 | 21.850 | 23.04 | 21.8400 | 22.55 | 14 | 5812 | -0.0286730385 |  0.0024449878 |  -59870 | -2741393 | 9 | 2020 |\n",
       "\n"
      ],
      "text/plain": [
       "  GVKEY iid datadate   tic conm       cshtrd  prccd  prchd prcld   prcod exchg\n",
       "2 3708  3   2020-09-02 WEN WENDY'S CO 3814903 21.970 22.08 21.0100 21.01 14   \n",
       "3 3708  3   2020-09-03 WEN WENDY'S CO 4280982 21.950 22.48 21.6450 21.95 14   \n",
       "4 3708  3   2020-09-04 WEN WENDY'S CO 3351921 21.580 22.38 21.4050 22.20 14   \n",
       "5 3708  3   2020-09-08 WEN WENDY'S CO 3439170 21.850 22.05 21.2300 21.43 14   \n",
       "6 3708  3   2020-09-09 WEN WENDY'S CO 2847727 22.495 22.61 21.8322 22.00 14   \n",
       "7 3708  3   2020-09-10 WEN WENDY'S CO 2787857 21.850 23.04 21.8400 22.55 14   \n",
       "  sic  daily_return  overnight_return volume_change mvf      month year\n",
       "2 5812  0.0486873508  0.0028639618     884992        3030530 9     2020\n",
       "3 5812 -0.0009103323 -0.0009103323     466079       -1153558 9     2020\n",
       "4 5812 -0.0168564920  0.0113895216    -929061       -2148667 9     2020\n",
       "5 5812  0.0125115848 -0.0069508804      87249        1761526 9     2020\n",
       "6 5812  0.0295194508  0.0068649886    -591443        2005638 9     2020\n",
       "7 5812 -0.0286730385  0.0024449878     -59870       -2741393 9     2020"
      ]
     },
     "metadata": {},
     "output_type": "display_data"
    }
   ],
   "source": [
    "wendy = mutate(wendy, year=year(wendy$datadate))\n",
    "head(wendy)"
   ]
  },
  {
   "cell_type": "markdown",
   "id": "b41c312f",
   "metadata": {},
   "source": [
    "Total trading volume in june 2023"
   ]
  },
  {
   "cell_type": "code",
   "execution_count": null,
   "id": "2263a394",
   "metadata": {
    "vscode": {
     "languageId": "r"
    }
   },
   "outputs": [
    {
     "data": {
      "text/html": [
       "54557454"
      ],
      "text/latex": [
       "54557454"
      ],
      "text/markdown": [
       "54557454"
      ],
      "text/plain": [
       "[1] 54557454"
      ]
     },
     "metadata": {},
     "output_type": "display_data"
    },
    {
     "data": {
      "text/html": [
       "'The total trading volume in june 2023 was 54557454'"
      ],
      "text/latex": [
       "'The total trading volume in june 2023 was 54557454'"
      ],
      "text/markdown": [
       "'The total trading volume in june 2023 was 54557454'"
      ],
      "text/plain": [
       "[1] \"The total trading volume in june 2023 was 54557454\""
      ]
     },
     "metadata": {},
     "output_type": "display_data"
    }
   ],
   "source": [
    "wendy_jun_2023=filter(wendy, month==6 & year==2023)\n",
    "sum(wendy_jun_2023$cshtrd)\n",
    "paste0(\"The total trading volume in june 2023 was \", sum(wendy_jun_2023$cshtrd))"
   ]
  },
  {
   "cell_type": "markdown",
   "id": "b48bfa85",
   "metadata": {},
   "source": [
    "Mean daily return"
   ]
  },
  {
   "cell_type": "code",
   "execution_count": null,
   "id": "5e069c24",
   "metadata": {
    "vscode": {
     "languageId": "r"
    }
   },
   "outputs": [
    {
     "data": {
      "text/html": [
       "0.000116474712706267"
      ],
      "text/latex": [
       "0.000116474712706267"
      ],
      "text/markdown": [
       "0.000116474712706267"
      ],
      "text/plain": [
       "[1] 0.0001164747"
      ]
     },
     "metadata": {},
     "output_type": "display_data"
    },
    {
     "data": {
      "text/html": [
       "'The mean daily return, over the entire period was 0.000116474712706267'"
      ],
      "text/latex": [
       "'The mean daily return, over the entire period was 0.000116474712706267'"
      ],
      "text/markdown": [
       "'The mean daily return, over the entire period was 0.000116474712706267'"
      ],
      "text/plain": [
       "[1] \"The mean daily return, over the entire period was 0.000116474712706267\""
      ]
     },
     "metadata": {},
     "output_type": "display_data"
    }
   ],
   "source": [
    "mean(wendy$daily_return)\n",
    "paste0(\"The mean daily return, over the entire period was \", mean(wendy$daily_return))"
   ]
  },
  {
   "cell_type": "markdown",
   "id": "0e101363",
   "metadata": {},
   "source": [
    "The date that saw the largest positive high price."
   ]
  },
  {
   "cell_type": "code",
   "execution_count": null,
   "id": "b956b909",
   "metadata": {
    "vscode": {
     "languageId": "r"
    }
   },
   "outputs": [
    {
     "data": {
      "text/html": [
       "29.46"
      ],
      "text/latex": [
       "29.46"
      ],
      "text/markdown": [
       "29.46"
      ],
      "text/plain": [
       "[1] 29.46"
      ]
     },
     "metadata": {},
     "output_type": "display_data"
    },
    {
     "data": {
      "text/html": [
       "<table class=\"dataframe\">\n",
       "<caption>A data.frame: 1 × 18</caption>\n",
       "<thead>\n",
       "\t<tr><th scope=col>GVKEY</th><th scope=col>iid</th><th scope=col>datadate</th><th scope=col>tic</th><th scope=col>conm</th><th scope=col>cshtrd</th><th scope=col>prccd</th><th scope=col>prchd</th><th scope=col>prcld</th><th scope=col>prcod</th><th scope=col>exchg</th><th scope=col>sic</th><th scope=col>daily_return</th><th scope=col>overnight_return</th><th scope=col>volume_change</th><th scope=col>mvf</th><th scope=col>month</th><th scope=col>year</th></tr>\n",
       "\t<tr><th scope=col>&lt;int&gt;</th><th scope=col>&lt;int&gt;</th><th scope=col>&lt;date&gt;</th><th scope=col>&lt;chr&gt;</th><th scope=col>&lt;chr&gt;</th><th scope=col>&lt;int&gt;</th><th scope=col>&lt;dbl&gt;</th><th scope=col>&lt;dbl&gt;</th><th scope=col>&lt;dbl&gt;</th><th scope=col>&lt;dbl&gt;</th><th scope=col>&lt;int&gt;</th><th scope=col>&lt;int&gt;</th><th scope=col>&lt;dbl&gt;</th><th scope=col>&lt;dbl&gt;</th><th scope=col>&lt;int&gt;</th><th scope=col>&lt;dbl&gt;</th><th scope=col>&lt;dbl&gt;</th><th scope=col>&lt;dbl&gt;</th></tr>\n",
       "</thead>\n",
       "<tbody>\n",
       "\t<tr><td>3708</td><td>3</td><td>2021-06-08</td><td>WEN</td><td>WENDY'S CO</td><td>86616410</td><td>28.87</td><td>29.46</td><td>25.39</td><td>27.345</td><td>14</td><td>5812</td><td>0.2585004</td><td>0.1920227</td><td>83374146</td><td>61504036</td><td>6</td><td>2021</td></tr>\n",
       "</tbody>\n",
       "</table>\n"
      ],
      "text/latex": [
       "A data.frame: 1 × 18\n",
       "\\begin{tabular}{llllllllllllllllll}\n",
       " GVKEY & iid & datadate & tic & conm & cshtrd & prccd & prchd & prcld & prcod & exchg & sic & daily\\_return & overnight\\_return & volume\\_change & mvf & month & year\\\\\n",
       " <int> & <int> & <date> & <chr> & <chr> & <int> & <dbl> & <dbl> & <dbl> & <dbl> & <int> & <int> & <dbl> & <dbl> & <int> & <dbl> & <dbl> & <dbl>\\\\\n",
       "\\hline\n",
       "\t 3708 & 3 & 2021-06-08 & WEN & WENDY'S CO & 86616410 & 28.87 & 29.46 & 25.39 & 27.345 & 14 & 5812 & 0.2585004 & 0.1920227 & 83374146 & 61504036 & 6 & 2021\\\\\n",
       "\\end{tabular}\n"
      ],
      "text/markdown": [
       "\n",
       "A data.frame: 1 × 18\n",
       "\n",
       "| GVKEY &lt;int&gt; | iid &lt;int&gt; | datadate &lt;date&gt; | tic &lt;chr&gt; | conm &lt;chr&gt; | cshtrd &lt;int&gt; | prccd &lt;dbl&gt; | prchd &lt;dbl&gt; | prcld &lt;dbl&gt; | prcod &lt;dbl&gt; | exchg &lt;int&gt; | sic &lt;int&gt; | daily_return &lt;dbl&gt; | overnight_return &lt;dbl&gt; | volume_change &lt;int&gt; | mvf &lt;dbl&gt; | month &lt;dbl&gt; | year &lt;dbl&gt; |\n",
       "|---|---|---|---|---|---|---|---|---|---|---|---|---|---|---|---|---|---|\n",
       "| 3708 | 3 | 2021-06-08 | WEN | WENDY'S CO | 86616410 | 28.87 | 29.46 | 25.39 | 27.345 | 14 | 5812 | 0.2585004 | 0.1920227 | 83374146 | 61504036 | 6 | 2021 |\n",
       "\n"
      ],
      "text/plain": [
       "  GVKEY iid datadate   tic conm       cshtrd   prccd prchd prcld prcod  exchg\n",
       "1 3708  3   2021-06-08 WEN WENDY'S CO 86616410 28.87 29.46 25.39 27.345 14   \n",
       "  sic  daily_return overnight_return volume_change mvf      month year\n",
       "1 5812 0.2585004    0.1920227        83374146      61504036 6     2021"
      ]
     },
     "metadata": {},
     "output_type": "display_data"
    },
    {
     "data": {
      "text/html": [
       "'The date that saw the largest positive high price was 2021-06-08'"
      ],
      "text/latex": [
       "'The date that saw the largest positive high price was 2021-06-08'"
      ],
      "text/markdown": [
       "'The date that saw the largest positive high price was 2021-06-08'"
      ],
      "text/plain": [
       "[1] \"The date that saw the largest positive high price was 2021-06-08\""
      ]
     },
     "metadata": {},
     "output_type": "display_data"
    }
   ],
   "source": [
    "max(wendy$prchd)\n",
    "filter(wendy, prchd==max(wendy$prchd))\n",
    "paste0(\"The date that saw the largest positive high price was \", filter(wendy, daily_return==max(wendy$daily_return))$datadate)"
   ]
  },
  {
   "cell_type": "markdown",
   "id": "4b2ff1c7",
   "metadata": {},
   "source": [
    "The date that saw the largest positive daily return."
   ]
  },
  {
   "cell_type": "code",
   "execution_count": null,
   "id": "41f72f85",
   "metadata": {
    "vscode": {
     "languageId": "r"
    }
   },
   "outputs": [
    {
     "data": {
      "text/html": [
       "0.258500435919791"
      ],
      "text/latex": [
       "0.258500435919791"
      ],
      "text/markdown": [
       "0.258500435919791"
      ],
      "text/plain": [
       "[1] 0.2585004"
      ]
     },
     "metadata": {},
     "output_type": "display_data"
    },
    {
     "data": {
      "text/html": [
       "<table class=\"dataframe\">\n",
       "<caption>A data.frame: 1 × 18</caption>\n",
       "<thead>\n",
       "\t<tr><th scope=col>GVKEY</th><th scope=col>iid</th><th scope=col>datadate</th><th scope=col>tic</th><th scope=col>conm</th><th scope=col>cshtrd</th><th scope=col>prccd</th><th scope=col>prchd</th><th scope=col>prcld</th><th scope=col>prcod</th><th scope=col>exchg</th><th scope=col>sic</th><th scope=col>daily_return</th><th scope=col>overnight_return</th><th scope=col>volume_change</th><th scope=col>mvf</th><th scope=col>month</th><th scope=col>year</th></tr>\n",
       "\t<tr><th scope=col>&lt;int&gt;</th><th scope=col>&lt;int&gt;</th><th scope=col>&lt;date&gt;</th><th scope=col>&lt;chr&gt;</th><th scope=col>&lt;chr&gt;</th><th scope=col>&lt;int&gt;</th><th scope=col>&lt;dbl&gt;</th><th scope=col>&lt;dbl&gt;</th><th scope=col>&lt;dbl&gt;</th><th scope=col>&lt;dbl&gt;</th><th scope=col>&lt;int&gt;</th><th scope=col>&lt;int&gt;</th><th scope=col>&lt;dbl&gt;</th><th scope=col>&lt;dbl&gt;</th><th scope=col>&lt;int&gt;</th><th scope=col>&lt;dbl&gt;</th><th scope=col>&lt;dbl&gt;</th><th scope=col>&lt;dbl&gt;</th></tr>\n",
       "</thead>\n",
       "<tbody>\n",
       "\t<tr><td>3708</td><td>3</td><td>2021-06-08</td><td>WEN</td><td>WENDY'S CO</td><td>86616410</td><td>28.87</td><td>29.46</td><td>25.39</td><td>27.345</td><td>14</td><td>5812</td><td>0.2585004</td><td>0.1920227</td><td>83374146</td><td>61504036</td><td>6</td><td>2021</td></tr>\n",
       "</tbody>\n",
       "</table>\n"
      ],
      "text/latex": [
       "A data.frame: 1 × 18\n",
       "\\begin{tabular}{llllllllllllllllll}\n",
       " GVKEY & iid & datadate & tic & conm & cshtrd & prccd & prchd & prcld & prcod & exchg & sic & daily\\_return & overnight\\_return & volume\\_change & mvf & month & year\\\\\n",
       " <int> & <int> & <date> & <chr> & <chr> & <int> & <dbl> & <dbl> & <dbl> & <dbl> & <int> & <int> & <dbl> & <dbl> & <int> & <dbl> & <dbl> & <dbl>\\\\\n",
       "\\hline\n",
       "\t 3708 & 3 & 2021-06-08 & WEN & WENDY'S CO & 86616410 & 28.87 & 29.46 & 25.39 & 27.345 & 14 & 5812 & 0.2585004 & 0.1920227 & 83374146 & 61504036 & 6 & 2021\\\\\n",
       "\\end{tabular}\n"
      ],
      "text/markdown": [
       "\n",
       "A data.frame: 1 × 18\n",
       "\n",
       "| GVKEY &lt;int&gt; | iid &lt;int&gt; | datadate &lt;date&gt; | tic &lt;chr&gt; | conm &lt;chr&gt; | cshtrd &lt;int&gt; | prccd &lt;dbl&gt; | prchd &lt;dbl&gt; | prcld &lt;dbl&gt; | prcod &lt;dbl&gt; | exchg &lt;int&gt; | sic &lt;int&gt; | daily_return &lt;dbl&gt; | overnight_return &lt;dbl&gt; | volume_change &lt;int&gt; | mvf &lt;dbl&gt; | month &lt;dbl&gt; | year &lt;dbl&gt; |\n",
       "|---|---|---|---|---|---|---|---|---|---|---|---|---|---|---|---|---|---|\n",
       "| 3708 | 3 | 2021-06-08 | WEN | WENDY'S CO | 86616410 | 28.87 | 29.46 | 25.39 | 27.345 | 14 | 5812 | 0.2585004 | 0.1920227 | 83374146 | 61504036 | 6 | 2021 |\n",
       "\n"
      ],
      "text/plain": [
       "  GVKEY iid datadate   tic conm       cshtrd   prccd prchd prcld prcod  exchg\n",
       "1 3708  3   2021-06-08 WEN WENDY'S CO 86616410 28.87 29.46 25.39 27.345 14   \n",
       "  sic  daily_return overnight_return volume_change mvf      month year\n",
       "1 5812 0.2585004    0.1920227        83374146      61504036 6     2021"
      ]
     },
     "metadata": {},
     "output_type": "display_data"
    },
    {
     "name": "stdout",
     "output_type": "stream",
     "text": [
      "[1] \"The date that saw the largest positive daily return was 2021-06-08\"\n"
     ]
    }
   ],
   "source": [
    "max(wendy$daily_return)\n",
    "filter(wendy, daily_return==max(wendy$daily_return))\n",
    "print(paste0(\"The date that saw the largest positive daily return was \", filter(wendy, daily_return==max(wendy$daily_return))$datadate))"
   ]
  },
  {
   "cell_type": "markdown",
   "id": "6c68ec2b",
   "metadata": {},
   "source": [
    "\"Shares of The Wendy's Company (NASDAQ: WEN) were rocketing 18% higher today after the WallStreetBets subreddit crowd apparently turned its attention to the fast-food chain and mentioned it as a possible short squeeze candidate\" (Duprey, 2021).\n",
    "\n",
    "Duprey, R. (2021) Wendy's is Suddenly a Meme Stock. Available at: https://www.nasdaq.com/articles/wendys-is-suddenly-a-meme-stock-2021-06-08 (Accessed: 25 September 2025).\n"
   ]
  },
  {
   "cell_type": "markdown",
   "id": "f465904b",
   "metadata": {},
   "source": [
    "## Dominos Pizza"
   ]
  },
  {
   "cell_type": "code",
   "execution_count": null,
   "id": "2d11e7bf",
   "metadata": {
    "vscode": {
     "languageId": "r"
    }
   },
   "outputs": [
    {
     "name": "stderr",
     "output_type": "stream",
     "text": [
      "\n",
      "Attaching package: ‘dplyr’\n",
      "\n",
      "\n",
      "The following objects are masked from ‘package:stats’:\n",
      "\n",
      "    filter, lag\n",
      "\n",
      "\n",
      "The following objects are masked from ‘package:base’:\n",
      "\n",
      "    intersect, setdiff, setequal, union\n",
      "\n",
      "\n",
      "Loading required package: xts\n",
      "\n",
      "Loading required package: zoo\n",
      "\n",
      "\n",
      "Attaching package: ‘zoo’\n",
      "\n",
      "\n",
      "The following objects are masked from ‘package:base’:\n",
      "\n",
      "    as.Date, as.Date.numeric\n",
      "\n",
      "\n",
      "\n",
      "######################### Warning from 'xts' package ##########################\n",
      "#                                                                             #\n",
      "# The dplyr lag() function breaks how base R's lag() function is supposed to  #\n",
      "# work, which breaks lag(my_xts). Calls to lag(my_xts) that you type or       #\n",
      "# source() into this session won't work correctly.                            #\n",
      "#                                                                             #\n",
      "# Use stats::lag() to make sure you're not using dplyr::lag(), or you can add #\n",
      "# conflictRules('dplyr', exclude = 'lag') to your .Rprofile to stop           #\n",
      "# dplyr from breaking base R's lag() function.                                #\n",
      "#                                                                             #\n",
      "# Code in packages is not affected. It's protected by R's namespace mechanism #\n",
      "# Set `options(xts.warn_dplyr_breaks_lag = FALSE)` to suppress this warning.  #\n",
      "#                                                                             #\n",
      "###############################################################################\n",
      "\n",
      "\n",
      "Attaching package: ‘xts’\n",
      "\n",
      "\n",
      "The following objects are masked from ‘package:dplyr’:\n",
      "\n",
      "    first, last\n",
      "\n",
      "\n",
      "\n",
      "Attaching package: ‘PerformanceAnalytics’\n",
      "\n",
      "\n",
      "The following object is masked from ‘package:graphics’:\n",
      "\n",
      "    legend\n",
      "\n",
      "\n",
      "\n",
      "Attaching package: ‘lubridate’\n",
      "\n",
      "\n",
      "The following objects are masked from ‘package:base’:\n",
      "\n",
      "    date, intersect, setdiff, union\n",
      "\n",
      "\n"
     ]
    }
   ],
   "source": [
    "library(dplyr)\n",
    "library(ggplot2)\n",
    "library(PerformanceAnalytics)\n",
    "library(lubridate)\n"
   ]
  },
  {
   "cell_type": "code",
   "execution_count": null,
   "id": "a9a3c40b",
   "metadata": {
    "vscode": {
     "languageId": "r"
    }
   },
   "outputs": [
    {
     "data": {
      "text/html": [
       "<table class=\"dataframe\">\n",
       "<caption>A data.frame: 6 × 12</caption>\n",
       "<thead>\n",
       "\t<tr><th></th><th scope=col>GVKEY</th><th scope=col>iid</th><th scope=col>datadate</th><th scope=col>tic</th><th scope=col>conm</th><th scope=col>cshtrd</th><th scope=col>prccd</th><th scope=col>prchd</th><th scope=col>prcld</th><th scope=col>prcod</th><th scope=col>exchg</th><th scope=col>sic</th></tr>\n",
       "\t<tr><th></th><th scope=col>&lt;int&gt;</th><th scope=col>&lt;int&gt;</th><th scope=col>&lt;date&gt;</th><th scope=col>&lt;chr&gt;</th><th scope=col>&lt;chr&gt;</th><th scope=col>&lt;int&gt;</th><th scope=col>&lt;dbl&gt;</th><th scope=col>&lt;dbl&gt;</th><th scope=col>&lt;dbl&gt;</th><th scope=col>&lt;dbl&gt;</th><th scope=col>&lt;int&gt;</th><th scope=col>&lt;int&gt;</th></tr>\n",
       "</thead>\n",
       "<tbody>\n",
       "\t<tr><th scope=row>1</th><td>160211</td><td>2</td><td>2020-09-01</td><td>DPZ</td><td>DOMINO'S PIZZA INC</td><td>502471</td><td>410.15</td><td>411.720</td><td>405.6500</td><td>408.44</td><td>11</td><td>5812</td></tr>\n",
       "\t<tr><th scope=row>2</th><td>160211</td><td>2</td><td>2020-09-02</td><td>DPZ</td><td>DOMINO'S PIZZA INC</td><td>585397</td><td>403.60</td><td>413.180</td><td>402.6200</td><td>409.86</td><td>11</td><td>5812</td></tr>\n",
       "\t<tr><th scope=row>3</th><td>160211</td><td>2</td><td>2020-09-03</td><td>DPZ</td><td>DOMINO'S PIZZA INC</td><td>799206</td><td>397.50</td><td>403.310</td><td>389.6400</td><td>403.00</td><td>11</td><td>5812</td></tr>\n",
       "\t<tr><th scope=row>4</th><td>160211</td><td>2</td><td>2020-09-04</td><td>DPZ</td><td>DOMINO'S PIZZA INC</td><td>857808</td><td>381.81</td><td>401.200</td><td>376.3301</td><td>397.61</td><td>11</td><td>5812</td></tr>\n",
       "\t<tr><th scope=row>5</th><td>160211</td><td>2</td><td>2020-09-08</td><td>DPZ</td><td>DOMINO'S PIZZA INC</td><td>682847</td><td>376.32</td><td>386.645</td><td>376.1100</td><td>381.57</td><td>11</td><td>5812</td></tr>\n",
       "\t<tr><th scope=row>6</th><td>160211</td><td>2</td><td>2020-09-09</td><td>DPZ</td><td>DOMINO'S PIZZA INC</td><td>594344</td><td>382.07</td><td>387.690</td><td>380.4800</td><td>382.50</td><td>11</td><td>5812</td></tr>\n",
       "</tbody>\n",
       "</table>\n"
      ],
      "text/latex": [
       "A data.frame: 6 × 12\n",
       "\\begin{tabular}{r|llllllllllll}\n",
       "  & GVKEY & iid & datadate & tic & conm & cshtrd & prccd & prchd & prcld & prcod & exchg & sic\\\\\n",
       "  & <int> & <int> & <date> & <chr> & <chr> & <int> & <dbl> & <dbl> & <dbl> & <dbl> & <int> & <int>\\\\\n",
       "\\hline\n",
       "\t1 & 160211 & 2 & 2020-09-01 & DPZ & DOMINO'S PIZZA INC & 502471 & 410.15 & 411.720 & 405.6500 & 408.44 & 11 & 5812\\\\\n",
       "\t2 & 160211 & 2 & 2020-09-02 & DPZ & DOMINO'S PIZZA INC & 585397 & 403.60 & 413.180 & 402.6200 & 409.86 & 11 & 5812\\\\\n",
       "\t3 & 160211 & 2 & 2020-09-03 & DPZ & DOMINO'S PIZZA INC & 799206 & 397.50 & 403.310 & 389.6400 & 403.00 & 11 & 5812\\\\\n",
       "\t4 & 160211 & 2 & 2020-09-04 & DPZ & DOMINO'S PIZZA INC & 857808 & 381.81 & 401.200 & 376.3301 & 397.61 & 11 & 5812\\\\\n",
       "\t5 & 160211 & 2 & 2020-09-08 & DPZ & DOMINO'S PIZZA INC & 682847 & 376.32 & 386.645 & 376.1100 & 381.57 & 11 & 5812\\\\\n",
       "\t6 & 160211 & 2 & 2020-09-09 & DPZ & DOMINO'S PIZZA INC & 594344 & 382.07 & 387.690 & 380.4800 & 382.50 & 11 & 5812\\\\\n",
       "\\end{tabular}\n"
      ],
      "text/markdown": [
       "\n",
       "A data.frame: 6 × 12\n",
       "\n",
       "| <!--/--> | GVKEY &lt;int&gt; | iid &lt;int&gt; | datadate &lt;date&gt; | tic &lt;chr&gt; | conm &lt;chr&gt; | cshtrd &lt;int&gt; | prccd &lt;dbl&gt; | prchd &lt;dbl&gt; | prcld &lt;dbl&gt; | prcod &lt;dbl&gt; | exchg &lt;int&gt; | sic &lt;int&gt; |\n",
       "|---|---|---|---|---|---|---|---|---|---|---|---|---|\n",
       "| 1 | 160211 | 2 | 2020-09-01 | DPZ | DOMINO'S PIZZA INC | 502471 | 410.15 | 411.720 | 405.6500 | 408.44 | 11 | 5812 |\n",
       "| 2 | 160211 | 2 | 2020-09-02 | DPZ | DOMINO'S PIZZA INC | 585397 | 403.60 | 413.180 | 402.6200 | 409.86 | 11 | 5812 |\n",
       "| 3 | 160211 | 2 | 2020-09-03 | DPZ | DOMINO'S PIZZA INC | 799206 | 397.50 | 403.310 | 389.6400 | 403.00 | 11 | 5812 |\n",
       "| 4 | 160211 | 2 | 2020-09-04 | DPZ | DOMINO'S PIZZA INC | 857808 | 381.81 | 401.200 | 376.3301 | 397.61 | 11 | 5812 |\n",
       "| 5 | 160211 | 2 | 2020-09-08 | DPZ | DOMINO'S PIZZA INC | 682847 | 376.32 | 386.645 | 376.1100 | 381.57 | 11 | 5812 |\n",
       "| 6 | 160211 | 2 | 2020-09-09 | DPZ | DOMINO'S PIZZA INC | 594344 | 382.07 | 387.690 | 380.4800 | 382.50 | 11 | 5812 |\n",
       "\n"
      ],
      "text/plain": [
       "  GVKEY  iid datadate   tic conm               cshtrd prccd  prchd   prcld   \n",
       "1 160211 2   2020-09-01 DPZ DOMINO'S PIZZA INC 502471 410.15 411.720 405.6500\n",
       "2 160211 2   2020-09-02 DPZ DOMINO'S PIZZA INC 585397 403.60 413.180 402.6200\n",
       "3 160211 2   2020-09-03 DPZ DOMINO'S PIZZA INC 799206 397.50 403.310 389.6400\n",
       "4 160211 2   2020-09-04 DPZ DOMINO'S PIZZA INC 857808 381.81 401.200 376.3301\n",
       "5 160211 2   2020-09-08 DPZ DOMINO'S PIZZA INC 682847 376.32 386.645 376.1100\n",
       "6 160211 2   2020-09-09 DPZ DOMINO'S PIZZA INC 594344 382.07 387.690 380.4800\n",
       "  prcod  exchg sic \n",
       "1 408.44 11    5812\n",
       "2 409.86 11    5812\n",
       "3 403.00 11    5812\n",
       "4 397.61 11    5812\n",
       "5 381.57 11    5812\n",
       "6 382.50 11    5812"
      ]
     },
     "metadata": {},
     "output_type": "display_data"
    }
   ],
   "source": [
    "data = read.csv('compustat_food_bev.csv')\n",
    "\n",
    "\n",
    "dpz_data = filter(data, tic == \"DPZ\")\n",
    "\n",
    "dpz_data$datadate = as.Date(dpz_data$datadate, format = '%d/%m/%Y')\n",
    "head(dpz_data)"
   ]
  },
  {
   "cell_type": "code",
   "execution_count": null,
   "id": "1c6b1285",
   "metadata": {
    "vscode": {
     "languageId": "r"
    }
   },
   "outputs": [
    {
     "data": {
      "text/html": [
       "<table class=\"dataframe\">\n",
       "<caption>A data.frame: 6 × 5</caption>\n",
       "<thead>\n",
       "\t<tr><th></th><th scope=col>datadate</th><th scope=col>daily_return</th><th scope=col>change_volume</th><th scope=col>change_open_close</th><th scope=col>MFV</th></tr>\n",
       "\t<tr><th></th><th scope=col>&lt;date&gt;</th><th scope=col>&lt;dbl&gt;</th><th scope=col>&lt;int&gt;</th><th scope=col>&lt;dbl&gt;</th><th scope=col>&lt;dbl&gt;</th></tr>\n",
       "</thead>\n",
       "<tbody>\n",
       "\t<tr><th scope=row>1</th><td>2020-09-01</td><td>         NA</td><td>     NA</td><td>  1.71</td><td> 242543.7</td></tr>\n",
       "\t<tr><th scope=row>2</th><td>2020-09-02</td><td>-0.01596977</td><td>  82926</td><td> -6.26</td><td>-476743.8</td></tr>\n",
       "\t<tr><th scope=row>3</th><td>2020-09-03</td><td>-0.01511397</td><td> 213809</td><td> -5.50</td><td> 119851.7</td></tr>\n",
       "\t<tr><th scope=row>4</th><td>2020-09-04</td><td>-0.03947170</td><td>  58602</td><td>-15.80</td><td>-479784.6</td></tr>\n",
       "\t<tr><th scope=row>5</th><td>2020-09-08</td><td>-0.01437888</td><td>-174961</td><td> -5.25</td><td>-655623.9</td></tr>\n",
       "\t<tr><th scope=row>6</th><td>2020-09-09</td><td> 0.01527955</td><td> -88503</td><td> -0.43</td><td>-332206.1</td></tr>\n",
       "</tbody>\n",
       "</table>\n"
      ],
      "text/latex": [
       "A data.frame: 6 × 5\n",
       "\\begin{tabular}{r|lllll}\n",
       "  & datadate & daily\\_return & change\\_volume & change\\_open\\_close & MFV\\\\\n",
       "  & <date> & <dbl> & <int> & <dbl> & <dbl>\\\\\n",
       "\\hline\n",
       "\t1 & 2020-09-01 &          NA &      NA &   1.71 &  242543.7\\\\\n",
       "\t2 & 2020-09-02 & -0.01596977 &   82926 &  -6.26 & -476743.8\\\\\n",
       "\t3 & 2020-09-03 & -0.01511397 &  213809 &  -5.50 &  119851.7\\\\\n",
       "\t4 & 2020-09-04 & -0.03947170 &   58602 & -15.80 & -479784.6\\\\\n",
       "\t5 & 2020-09-08 & -0.01437888 & -174961 &  -5.25 & -655623.9\\\\\n",
       "\t6 & 2020-09-09 &  0.01527955 &  -88503 &  -0.43 & -332206.1\\\\\n",
       "\\end{tabular}\n"
      ],
      "text/markdown": [
       "\n",
       "A data.frame: 6 × 5\n",
       "\n",
       "| <!--/--> | datadate &lt;date&gt; | daily_return &lt;dbl&gt; | change_volume &lt;int&gt; | change_open_close &lt;dbl&gt; | MFV &lt;dbl&gt; |\n",
       "|---|---|---|---|---|---|\n",
       "| 1 | 2020-09-01 |          NA |      NA |   1.71 |  242543.7 |\n",
       "| 2 | 2020-09-02 | -0.01596977 |   82926 |  -6.26 | -476743.8 |\n",
       "| 3 | 2020-09-03 | -0.01511397 |  213809 |  -5.50 |  119851.7 |\n",
       "| 4 | 2020-09-04 | -0.03947170 |   58602 | -15.80 | -479784.6 |\n",
       "| 5 | 2020-09-08 | -0.01437888 | -174961 |  -5.25 | -655623.9 |\n",
       "| 6 | 2020-09-09 |  0.01527955 |  -88503 |  -0.43 | -332206.1 |\n",
       "\n"
      ],
      "text/plain": [
       "  datadate   daily_return change_volume change_open_close MFV      \n",
       "1 2020-09-01          NA       NA         1.71             242543.7\n",
       "2 2020-09-02 -0.01596977    82926        -6.26            -476743.8\n",
       "3 2020-09-03 -0.01511397   213809        -5.50             119851.7\n",
       "4 2020-09-04 -0.03947170    58602       -15.80            -479784.6\n",
       "5 2020-09-08 -0.01437888  -174961        -5.25            -655623.9\n",
       "6 2020-09-09  0.01527955   -88503        -0.43            -332206.1"
      ]
     },
     "metadata": {},
     "output_type": "display_data"
    }
   ],
   "source": [
    "dpz_data$daily_return = (dpz_data$prccd / lag(dpz_data$prccd)) -1 \n",
    "\n",
    "dpz_data$change_volume = dpz_data$cshtrd - lag(dpz_data$cshtrd)\n",
    "\n",
    "dpz_data$change_open_close = dpz_data$prccd - dpz_data$prcod\n",
    "\n",
    "dpz_data$MFV = (((dpz_data$prccd - dpz_data$prcld) - (dpz_data$prchd - dpz_data$prccd)) / (dpz_data$prchd - dpz_data$prcld)) * dpz_data$cshtrd\n",
    "\n",
    "dpz_data_display = select(dpz_data, datadate, daily_return, change_volume, change_open_close, MFV)\n",
    "\n",
    "head(dpz_data_display)"
   ]
  },
  {
   "cell_type": "code",
   "execution_count": null,
   "id": "4ffc9ad6",
   "metadata": {
    "vscode": {
     "languageId": "r"
    }
   },
   "outputs": [
    {
     "data": {
      "text/html": [
       "<table class=\"dataframe\">\n",
       "<caption>A data.frame: 6 × 18</caption>\n",
       "<thead>\n",
       "\t<tr><th></th><th scope=col>GVKEY</th><th scope=col>iid</th><th scope=col>datadate</th><th scope=col>tic</th><th scope=col>conm</th><th scope=col>cshtrd</th><th scope=col>prccd</th><th scope=col>prchd</th><th scope=col>prcld</th><th scope=col>prcod</th><th scope=col>exchg</th><th scope=col>sic</th><th scope=col>daily_return</th><th scope=col>change_volume</th><th scope=col>change_open_close</th><th scope=col>MFV</th><th scope=col>month</th><th scope=col>year</th></tr>\n",
       "\t<tr><th></th><th scope=col>&lt;int&gt;</th><th scope=col>&lt;int&gt;</th><th scope=col>&lt;date&gt;</th><th scope=col>&lt;chr&gt;</th><th scope=col>&lt;chr&gt;</th><th scope=col>&lt;int&gt;</th><th scope=col>&lt;dbl&gt;</th><th scope=col>&lt;dbl&gt;</th><th scope=col>&lt;dbl&gt;</th><th scope=col>&lt;dbl&gt;</th><th scope=col>&lt;int&gt;</th><th scope=col>&lt;int&gt;</th><th scope=col>&lt;dbl&gt;</th><th scope=col>&lt;int&gt;</th><th scope=col>&lt;dbl&gt;</th><th scope=col>&lt;dbl&gt;</th><th scope=col>&lt;dbl&gt;</th><th scope=col>&lt;dbl&gt;</th></tr>\n",
       "</thead>\n",
       "<tbody>\n",
       "\t<tr><th scope=row>1</th><td>160211</td><td>2</td><td>2020-09-01</td><td>DPZ</td><td>DOMINO'S PIZZA INC</td><td>502471</td><td>410.15</td><td>411.720</td><td>405.6500</td><td>408.44</td><td>11</td><td>5812</td><td>         NA</td><td>     NA</td><td>  1.71</td><td> 242543.7</td><td>9</td><td>2020</td></tr>\n",
       "\t<tr><th scope=row>2</th><td>160211</td><td>2</td><td>2020-09-02</td><td>DPZ</td><td>DOMINO'S PIZZA INC</td><td>585397</td><td>403.60</td><td>413.180</td><td>402.6200</td><td>409.86</td><td>11</td><td>5812</td><td>-0.01596977</td><td>  82926</td><td> -6.26</td><td>-476743.8</td><td>9</td><td>2020</td></tr>\n",
       "\t<tr><th scope=row>3</th><td>160211</td><td>2</td><td>2020-09-03</td><td>DPZ</td><td>DOMINO'S PIZZA INC</td><td>799206</td><td>397.50</td><td>403.310</td><td>389.6400</td><td>403.00</td><td>11</td><td>5812</td><td>-0.01511397</td><td> 213809</td><td> -5.50</td><td> 119851.7</td><td>9</td><td>2020</td></tr>\n",
       "\t<tr><th scope=row>4</th><td>160211</td><td>2</td><td>2020-09-04</td><td>DPZ</td><td>DOMINO'S PIZZA INC</td><td>857808</td><td>381.81</td><td>401.200</td><td>376.3301</td><td>397.61</td><td>11</td><td>5812</td><td>-0.03947170</td><td>  58602</td><td>-15.80</td><td>-479784.6</td><td>9</td><td>2020</td></tr>\n",
       "\t<tr><th scope=row>5</th><td>160211</td><td>2</td><td>2020-09-08</td><td>DPZ</td><td>DOMINO'S PIZZA INC</td><td>682847</td><td>376.32</td><td>386.645</td><td>376.1100</td><td>381.57</td><td>11</td><td>5812</td><td>-0.01437888</td><td>-174961</td><td> -5.25</td><td>-655623.9</td><td>9</td><td>2020</td></tr>\n",
       "\t<tr><th scope=row>6</th><td>160211</td><td>2</td><td>2020-09-09</td><td>DPZ</td><td>DOMINO'S PIZZA INC</td><td>594344</td><td>382.07</td><td>387.690</td><td>380.4800</td><td>382.50</td><td>11</td><td>5812</td><td> 0.01527955</td><td> -88503</td><td> -0.43</td><td>-332206.1</td><td>9</td><td>2020</td></tr>\n",
       "</tbody>\n",
       "</table>\n"
      ],
      "text/latex": [
       "A data.frame: 6 × 18\n",
       "\\begin{tabular}{r|llllllllllllllllll}\n",
       "  & GVKEY & iid & datadate & tic & conm & cshtrd & prccd & prchd & prcld & prcod & exchg & sic & daily\\_return & change\\_volume & change\\_open\\_close & MFV & month & year\\\\\n",
       "  & <int> & <int> & <date> & <chr> & <chr> & <int> & <dbl> & <dbl> & <dbl> & <dbl> & <int> & <int> & <dbl> & <int> & <dbl> & <dbl> & <dbl> & <dbl>\\\\\n",
       "\\hline\n",
       "\t1 & 160211 & 2 & 2020-09-01 & DPZ & DOMINO'S PIZZA INC & 502471 & 410.15 & 411.720 & 405.6500 & 408.44 & 11 & 5812 &          NA &      NA &   1.71 &  242543.7 & 9 & 2020\\\\\n",
       "\t2 & 160211 & 2 & 2020-09-02 & DPZ & DOMINO'S PIZZA INC & 585397 & 403.60 & 413.180 & 402.6200 & 409.86 & 11 & 5812 & -0.01596977 &   82926 &  -6.26 & -476743.8 & 9 & 2020\\\\\n",
       "\t3 & 160211 & 2 & 2020-09-03 & DPZ & DOMINO'S PIZZA INC & 799206 & 397.50 & 403.310 & 389.6400 & 403.00 & 11 & 5812 & -0.01511397 &  213809 &  -5.50 &  119851.7 & 9 & 2020\\\\\n",
       "\t4 & 160211 & 2 & 2020-09-04 & DPZ & DOMINO'S PIZZA INC & 857808 & 381.81 & 401.200 & 376.3301 & 397.61 & 11 & 5812 & -0.03947170 &   58602 & -15.80 & -479784.6 & 9 & 2020\\\\\n",
       "\t5 & 160211 & 2 & 2020-09-08 & DPZ & DOMINO'S PIZZA INC & 682847 & 376.32 & 386.645 & 376.1100 & 381.57 & 11 & 5812 & -0.01437888 & -174961 &  -5.25 & -655623.9 & 9 & 2020\\\\\n",
       "\t6 & 160211 & 2 & 2020-09-09 & DPZ & DOMINO'S PIZZA INC & 594344 & 382.07 & 387.690 & 380.4800 & 382.50 & 11 & 5812 &  0.01527955 &  -88503 &  -0.43 & -332206.1 & 9 & 2020\\\\\n",
       "\\end{tabular}\n"
      ],
      "text/markdown": [
       "\n",
       "A data.frame: 6 × 18\n",
       "\n",
       "| <!--/--> | GVKEY &lt;int&gt; | iid &lt;int&gt; | datadate &lt;date&gt; | tic &lt;chr&gt; | conm &lt;chr&gt; | cshtrd &lt;int&gt; | prccd &lt;dbl&gt; | prchd &lt;dbl&gt; | prcld &lt;dbl&gt; | prcod &lt;dbl&gt; | exchg &lt;int&gt; | sic &lt;int&gt; | daily_return &lt;dbl&gt; | change_volume &lt;int&gt; | change_open_close &lt;dbl&gt; | MFV &lt;dbl&gt; | month &lt;dbl&gt; | year &lt;dbl&gt; |\n",
       "|---|---|---|---|---|---|---|---|---|---|---|---|---|---|---|---|---|---|---|\n",
       "| 1 | 160211 | 2 | 2020-09-01 | DPZ | DOMINO'S PIZZA INC | 502471 | 410.15 | 411.720 | 405.6500 | 408.44 | 11 | 5812 |          NA |      NA |   1.71 |  242543.7 | 9 | 2020 |\n",
       "| 2 | 160211 | 2 | 2020-09-02 | DPZ | DOMINO'S PIZZA INC | 585397 | 403.60 | 413.180 | 402.6200 | 409.86 | 11 | 5812 | -0.01596977 |   82926 |  -6.26 | -476743.8 | 9 | 2020 |\n",
       "| 3 | 160211 | 2 | 2020-09-03 | DPZ | DOMINO'S PIZZA INC | 799206 | 397.50 | 403.310 | 389.6400 | 403.00 | 11 | 5812 | -0.01511397 |  213809 |  -5.50 |  119851.7 | 9 | 2020 |\n",
       "| 4 | 160211 | 2 | 2020-09-04 | DPZ | DOMINO'S PIZZA INC | 857808 | 381.81 | 401.200 | 376.3301 | 397.61 | 11 | 5812 | -0.03947170 |   58602 | -15.80 | -479784.6 | 9 | 2020 |\n",
       "| 5 | 160211 | 2 | 2020-09-08 | DPZ | DOMINO'S PIZZA INC | 682847 | 376.32 | 386.645 | 376.1100 | 381.57 | 11 | 5812 | -0.01437888 | -174961 |  -5.25 | -655623.9 | 9 | 2020 |\n",
       "| 6 | 160211 | 2 | 2020-09-09 | DPZ | DOMINO'S PIZZA INC | 594344 | 382.07 | 387.690 | 380.4800 | 382.50 | 11 | 5812 |  0.01527955 |  -88503 |  -0.43 | -332206.1 | 9 | 2020 |\n",
       "\n"
      ],
      "text/plain": [
       "  GVKEY  iid datadate   tic conm               cshtrd prccd  prchd   prcld   \n",
       "1 160211 2   2020-09-01 DPZ DOMINO'S PIZZA INC 502471 410.15 411.720 405.6500\n",
       "2 160211 2   2020-09-02 DPZ DOMINO'S PIZZA INC 585397 403.60 413.180 402.6200\n",
       "3 160211 2   2020-09-03 DPZ DOMINO'S PIZZA INC 799206 397.50 403.310 389.6400\n",
       "4 160211 2   2020-09-04 DPZ DOMINO'S PIZZA INC 857808 381.81 401.200 376.3301\n",
       "5 160211 2   2020-09-08 DPZ DOMINO'S PIZZA INC 682847 376.32 386.645 376.1100\n",
       "6 160211 2   2020-09-09 DPZ DOMINO'S PIZZA INC 594344 382.07 387.690 380.4800\n",
       "  prcod  exchg sic  daily_return change_volume change_open_close MFV      \n",
       "1 408.44 11    5812          NA       NA         1.71             242543.7\n",
       "2 409.86 11    5812 -0.01596977    82926        -6.26            -476743.8\n",
       "3 403.00 11    5812 -0.01511397   213809        -5.50             119851.7\n",
       "4 397.61 11    5812 -0.03947170    58602       -15.80            -479784.6\n",
       "5 381.57 11    5812 -0.01437888  -174961        -5.25            -655623.9\n",
       "6 382.50 11    5812  0.01527955   -88503        -0.43            -332206.1\n",
       "  month year\n",
       "1 9     2020\n",
       "2 9     2020\n",
       "3 9     2020\n",
       "4 9     2020\n",
       "5 9     2020\n",
       "6 9     2020"
      ]
     },
     "metadata": {},
     "output_type": "display_data"
    }
   ],
   "source": [
    "dpz_data = mutate(dpz_data, month = month(datadate), year  = year(datadate))\n",
    "head(dpz_data)\n",
    "\n"
   ]
  },
  {
   "cell_type": "code",
   "execution_count": null,
   "id": "949cd1a7",
   "metadata": {
    "vscode": {
     "languageId": "r"
    }
   },
   "outputs": [
    {
     "name": "stdout",
     "output_type": "stream",
     "text": [
      "[1] 2832257\n",
      "[1] \"The total trading value in June 2023 was 2832257\"\n"
     ]
    }
   ],
   "source": [
    "dpz_june_2023 = filter(dpz_data, month == 9, year == 2023)\n",
    "trade_vol = sum(dpz_june_2023$cshtrd, na.rm = TRUE)\n",
    "\n",
    "print(trade_vol)\n",
    "\n",
    "print(paste('The total trading value in June 2023 was' , trade_vol ))\n"
   ]
  },
  {
   "cell_type": "code",
   "execution_count": null,
   "id": "83bb445d",
   "metadata": {
    "vscode": {
     "languageId": "r"
    }
   },
   "outputs": [
    {
     "name": "stdout",
     "output_type": "stream",
     "text": [
      "[1] 0.0001312795\n",
      "[1] \"The average daily return of Domino's pizza was 0.00013127951649099\"\n"
     ]
    }
   ],
   "source": [
    "\n",
    "  \n",
    "mean_daily_return = mean(dpz_data$daily_return, na.rm = TRUE)\n",
    "\n",
    "print(mean_daily_return)\n",
    "\n",
    "print(paste(\"The average daily return of Domino's Pizza was\" , mean_daily_return ))\n"
   ]
  },
  {
   "cell_type": "code",
   "execution_count": null,
   "id": "604a12ae",
   "metadata": {
    "vscode": {
     "languageId": "r"
    }
   },
   "outputs": [
    {
     "name": "stdout",
     "output_type": "stream",
     "text": [
      "[1] 567.57\n",
      "[1] \"The highest price of Domino's Pizza was 567.57\"\n"
     ]
    }
   ],
   "source": [
    "max_high = max(dpz_data$prchd, na.rm = TRUE)\n",
    "\n",
    "print(max_closing)\n",
    "\n",
    "print(paste(\"The highest price of Domino's Pizza was\" , max_high ))\n"
   ]
  },
  {
   "cell_type": "code",
   "execution_count": null,
   "id": "eb99ea2e",
   "metadata": {
    "vscode": {
     "languageId": "r"
    }
   },
   "outputs": [
    {
     "name": "stdout",
     "output_type": "stream",
     "text": [
      "[1] 0.1455237\n",
      "[1] \"2021-07-22\"\n",
      "[1] \"The maximum daily return of Domino's Pizza was 0.145523736632864 on 2021-07-22\"\n"
     ]
    }
   ],
   "source": [
    "\n",
    "\n",
    "max_d_return = max(dpz_data$daily_return, na.rm = TRUE)\n",
    "max_date = dpz_data$datadate[which.max(dpz_data$daily_return)]\n",
    "\n",
    "print(max_d_return)\n",
    "print(max_date)\n",
    "\n",
    "print(paste(\"The maximum daily return of Domino's Pizza was\" , max_d_return, 'on', max_date ))\n",
    "\n",
    "\n"
   ]
  },
  {
   "cell_type": "markdown",
   "id": "70eef792",
   "metadata": {},
   "source": [
    "On july 22, 2021, Domino's Pizza released their Q2 2021 earnings where they report revenue and profits more than expectations. Also on the same day they announced a $1 billion share repurchase program. These might be the reason why investors reacted positively which records the highest daily return for the given period. "
   ]
  },
  {
   "cell_type": "markdown",
   "id": "4f2e2ede",
   "metadata": {},
   "source": [
    "## Starbucks"
   ]
  },
  {
   "cell_type": "code",
   "execution_count": 1,
   "id": "e183a379",
   "metadata": {
    "vscode": {
     "languageId": "r"
    }
   },
   "outputs": [
    {
     "name": "stderr",
     "output_type": "stream",
     "text": [
      "\n",
      "Attaching package: ‘dplyr’\n",
      "\n",
      "\n",
      "The following objects are masked from ‘package:stats’:\n",
      "\n",
      "    filter, lag\n",
      "\n",
      "\n",
      "The following objects are masked from ‘package:base’:\n",
      "\n",
      "    intersect, setdiff, setequal, union\n",
      "\n",
      "\n",
      "\n",
      "Attaching package: ‘lubridate’\n",
      "\n",
      "\n",
      "The following objects are masked from ‘package:base’:\n",
      "\n",
      "    date, intersect, setdiff, union\n",
      "\n",
      "\n"
     ]
    },
    {
     "data": {
      "text/html": [
       "<table class=\"dataframe\">\n",
       "<caption>A data.frame: 20 × 18</caption>\n",
       "<thead>\n",
       "\t<tr><th></th><th scope=col>GVKEY</th><th scope=col>iid</th><th scope=col>datadate</th><th scope=col>tic</th><th scope=col>conm</th><th scope=col>cshtrd</th><th scope=col>prccd</th><th scope=col>prchd</th><th scope=col>prcld</th><th scope=col>prcod</th><th scope=col>exchg</th><th scope=col>sic</th><th scope=col>daily_return</th><th scope=col>momentum_indicator</th><th scope=col>range_daily</th><th scope=col>MFV</th><th scope=col>month</th><th scope=col>year</th></tr>\n",
       "\t<tr><th></th><th scope=col>&lt;int&gt;</th><th scope=col>&lt;int&gt;</th><th scope=col>&lt;date&gt;</th><th scope=col>&lt;chr&gt;</th><th scope=col>&lt;chr&gt;</th><th scope=col>&lt;int&gt;</th><th scope=col>&lt;dbl&gt;</th><th scope=col>&lt;dbl&gt;</th><th scope=col>&lt;dbl&gt;</th><th scope=col>&lt;dbl&gt;</th><th scope=col>&lt;int&gt;</th><th scope=col>&lt;int&gt;</th><th scope=col>&lt;dbl&gt;</th><th scope=col>&lt;dbl&gt;</th><th scope=col>&lt;dbl&gt;</th><th scope=col>&lt;dbl&gt;</th><th scope=col>&lt;dbl&gt;</th><th scope=col>&lt;dbl&gt;</th></tr>\n",
       "</thead>\n",
       "<tbody>\n",
       "\t<tr><th scope=row>1</th><td>25434</td><td>1</td><td>2020-09-01</td><td>SBUX</td><td>STARBUCKS CORP</td><td> 8164620</td><td>86.05</td><td>86.0900</td><td>84.2300</td><td>84.700</td><td>14</td><td>5812</td><td>           NA</td><td>   NA</td><td>1.8600</td><td> 7813453.548</td><td>9</td><td>2020</td></tr>\n",
       "\t<tr><th scope=row>2</th><td>25434</td><td>1</td><td>2020-09-02</td><td>SBUX</td><td>STARBUCKS CORP</td><td>11315380</td><td>88.35</td><td>88.7500</td><td>86.2900</td><td>86.505</td><td>14</td><td>5812</td><td> 0.0267286461</td><td>   NA</td><td>2.4600</td><td> 7635581.626</td><td>9</td><td>2020</td></tr>\n",
       "\t<tr><th scope=row>3</th><td>25434</td><td>1</td><td>2020-09-03</td><td>SBUX</td><td>STARBUCKS CORP</td><td>11014390</td><td>86.48</td><td>88.9800</td><td>85.6900</td><td>88.602</td><td>14</td><td>5812</td><td>-0.0211658178</td><td>   NA</td><td>3.2900</td><td>-5724804.529</td><td>9</td><td>2020</td></tr>\n",
       "\t<tr><th scope=row>4</th><td>25434</td><td>1</td><td>2020-09-04</td><td>SBUX</td><td>STARBUCKS CORP</td><td>10291270</td><td>86.27</td><td>87.7800</td><td>85.3100</td><td>87.095</td><td>14</td><td>5812</td><td>-0.0024283071</td><td>   NA</td><td>2.4700</td><td>-2291578.340</td><td>9</td><td>2020</td></tr>\n",
       "\t<tr><th scope=row>5</th><td>25434</td><td>1</td><td>2020-09-08</td><td>SBUX</td><td>STARBUCKS CORP</td><td>11075800</td><td>85.41</td><td>87.5834</td><td>84.7700</td><td>85.270</td><td>14</td><td>5812</td><td>-0.0099687029</td><td>   NA</td><td>2.8134</td><td>-6036692.870</td><td>9</td><td>2020</td></tr>\n",
       "\t<tr><th scope=row>6</th><td>25434</td><td>1</td><td>2020-09-09</td><td>SBUX</td><td>STARBUCKS CORP</td><td> 6925503</td><td>85.86</td><td>86.8270</td><td>84.4600</td><td>85.934</td><td>14</td><td>5812</td><td> 0.0052687039</td><td>   NA</td><td>2.3670</td><td> 1266895.986</td><td>9</td><td>2020</td></tr>\n",
       "\t<tr><th scope=row>7</th><td>25434</td><td>1</td><td>2020-09-10</td><td>SBUX</td><td>STARBUCKS CORP</td><td> 7547570</td><td>84.88</td><td>87.0700</td><td>84.5275</td><td>85.800</td><td>14</td><td>5812</td><td>-0.0114139297</td><td>   NA</td><td>2.5425</td><td>-5454733.481</td><td>9</td><td>2020</td></tr>\n",
       "\t<tr><th scope=row>8</th><td>25434</td><td>1</td><td>2020-09-11</td><td>SBUX</td><td>STARBUCKS CORP</td><td> 7101233</td><td>85.27</td><td>85.8500</td><td>84.1500</td><td>84.950</td><td>14</td><td>5812</td><td> 0.0045947220</td><td>   NA</td><td>1.7000</td><td> 2255685.776</td><td>9</td><td>2020</td></tr>\n",
       "\t<tr><th scope=row>9</th><td>25434</td><td>1</td><td>2020-09-14</td><td>SBUX</td><td>STARBUCKS CORP</td><td> 5533402</td><td>86.63</td><td>87.0550</td><td>85.6400</td><td>85.752</td><td>14</td><td>5812</td><td> 0.0159493374</td><td>   NA</td><td>1.4150</td><td> 2209450.269</td><td>9</td><td>2020</td></tr>\n",
       "\t<tr><th scope=row>10</th><td>25434</td><td>1</td><td>2020-09-15</td><td>SBUX</td><td>STARBUCKS CORP</td><td> 8358869</td><td>87.71</td><td>88.2500</td><td>87.1706</td><td>87.180</td><td>14</td><td>5812</td><td> 0.0124668129</td><td>   NA</td><td>1.0794</td><td>   -4646.397</td><td>9</td><td>2020</td></tr>\n",
       "\t<tr><th scope=row>11</th><td>25434</td><td>1</td><td>2020-09-16</td><td>SBUX</td><td>STARBUCKS CORP</td><td> 7146304</td><td>88.38</td><td>89.4300</td><td>87.7500</td><td>88.000</td><td>14</td><td>5812</td><td> 0.0076388097</td><td> 2.33</td><td>1.6800</td><td>-1786576.000</td><td>9</td><td>2020</td></tr>\n",
       "\t<tr><th scope=row>12</th><td>25434</td><td>1</td><td>2020-09-17</td><td>SBUX</td><td>STARBUCKS CORP</td><td> 7382170</td><td>86.75</td><td>87.3200</td><td>85.3550</td><td>87.050</td><td>14</td><td>5812</td><td>-0.0184430867</td><td>-1.60</td><td>1.9650</td><td> 3099384.351</td><td>9</td><td>2020</td></tr>\n",
       "\t<tr><th scope=row>13</th><td>25434</td><td>1</td><td>2020-09-18</td><td>SBUX</td><td>STARBUCKS CORP</td><td>10111450</td><td>84.95</td><td>87.2400</td><td>84.6000</td><td>86.810</td><td>14</td><td>5812</td><td>-0.0207492795</td><td>-1.53</td><td>2.6400</td><td>-7430383.712</td><td>9</td><td>2020</td></tr>\n",
       "\t<tr><th scope=row>14</th><td>25434</td><td>1</td><td>2020-09-21</td><td>SBUX</td><td>STARBUCKS CORP</td><td> 7174114</td><td>83.89</td><td>83.9500</td><td>81.7500</td><td>82.860</td><td>14</td><td>5812</td><td>-0.0124779282</td><td>-2.38</td><td>2.2000</td><td> 6782798.691</td><td>9</td><td>2020</td></tr>\n",
       "\t<tr><th scope=row>15</th><td>25434</td><td>1</td><td>2020-09-22</td><td>SBUX</td><td>STARBUCKS CORP</td><td> 4459037</td><td>83.95</td><td>84.3900</td><td>83.1750</td><td>84.050</td><td>14</td><td>5812</td><td> 0.0007152223</td><td>-1.46</td><td>1.2150</td><td> 1229446.416</td><td>9</td><td>2020</td></tr>\n",
       "\t<tr><th scope=row>16</th><td>25434</td><td>1</td><td>2020-09-23</td><td>SBUX</td><td>STARBUCKS CORP</td><td> 6408656</td><td>82.99</td><td>84.9000</td><td>82.8200</td><td>84.380</td><td>14</td><td>5812</td><td>-0.0114353782</td><td>-2.87</td><td>2.0800</td><td>-5361087.231</td><td>9</td><td>2020</td></tr>\n",
       "\t<tr><th scope=row>17</th><td>25434</td><td>1</td><td>2020-09-24</td><td>SBUX</td><td>STARBUCKS CORP</td><td> 4861093</td><td>83.04</td><td>84.1400</td><td>81.9200</td><td>82.630</td><td>14</td><td>5812</td><td> 0.0006024822</td><td>-1.84</td><td>2.2200</td><td>   43793.631</td><td>9</td><td>2020</td></tr>\n",
       "\t<tr><th scope=row>18</th><td>25434</td><td>1</td><td>2020-09-25</td><td>SBUX</td><td>STARBUCKS CORP</td><td> 5978494</td><td>84.30</td><td>84.6900</td><td>82.2200</td><td>82.530</td><td>14</td><td>5812</td><td> 0.0151734104</td><td>-0.97</td><td>2.4700</td><td> 4090548.526</td><td>9</td><td>2020</td></tr>\n",
       "\t<tr><th scope=row>19</th><td>25434</td><td>1</td><td>2020-09-28</td><td>SBUX</td><td>STARBUCKS CORP</td><td> 5970629</td><td>86.07</td><td>86.2400</td><td>84.9900</td><td>85.520</td><td>14</td><td>5812</td><td> 0.0209964413</td><td>-0.56</td><td>1.2500</td><td> 4346617.912</td><td>9</td><td>2020</td></tr>\n",
       "\t<tr><th scope=row>20</th><td>25434</td><td>1</td><td>2020-09-29</td><td>SBUX</td><td>STARBUCKS CORP</td><td> 4059065</td><td>84.80</td><td>86.2500</td><td>84.6250</td><td>86.250</td><td>14</td><td>5812</td><td>-0.0147554316</td><td>-2.91</td><td>1.6250</td><td>-3184804.846</td><td>9</td><td>2020</td></tr>\n",
       "</tbody>\n",
       "</table>\n"
      ],
      "text/latex": [
       "A data.frame: 20 × 18\n",
       "\\begin{tabular}{r|llllllllllllllllll}\n",
       "  & GVKEY & iid & datadate & tic & conm & cshtrd & prccd & prchd & prcld & prcod & exchg & sic & daily\\_return & momentum\\_indicator & range\\_daily & MFV & month & year\\\\\n",
       "  & <int> & <int> & <date> & <chr> & <chr> & <int> & <dbl> & <dbl> & <dbl> & <dbl> & <int> & <int> & <dbl> & <dbl> & <dbl> & <dbl> & <dbl> & <dbl>\\\\\n",
       "\\hline\n",
       "\t1 & 25434 & 1 & 2020-09-01 & SBUX & STARBUCKS CORP &  8164620 & 86.05 & 86.0900 & 84.2300 & 84.700 & 14 & 5812 &            NA &    NA & 1.8600 &  7813453.548 & 9 & 2020\\\\\n",
       "\t2 & 25434 & 1 & 2020-09-02 & SBUX & STARBUCKS CORP & 11315380 & 88.35 & 88.7500 & 86.2900 & 86.505 & 14 & 5812 &  0.0267286461 &    NA & 2.4600 &  7635581.626 & 9 & 2020\\\\\n",
       "\t3 & 25434 & 1 & 2020-09-03 & SBUX & STARBUCKS CORP & 11014390 & 86.48 & 88.9800 & 85.6900 & 88.602 & 14 & 5812 & -0.0211658178 &    NA & 3.2900 & -5724804.529 & 9 & 2020\\\\\n",
       "\t4 & 25434 & 1 & 2020-09-04 & SBUX & STARBUCKS CORP & 10291270 & 86.27 & 87.7800 & 85.3100 & 87.095 & 14 & 5812 & -0.0024283071 &    NA & 2.4700 & -2291578.340 & 9 & 2020\\\\\n",
       "\t5 & 25434 & 1 & 2020-09-08 & SBUX & STARBUCKS CORP & 11075800 & 85.41 & 87.5834 & 84.7700 & 85.270 & 14 & 5812 & -0.0099687029 &    NA & 2.8134 & -6036692.870 & 9 & 2020\\\\\n",
       "\t6 & 25434 & 1 & 2020-09-09 & SBUX & STARBUCKS CORP &  6925503 & 85.86 & 86.8270 & 84.4600 & 85.934 & 14 & 5812 &  0.0052687039 &    NA & 2.3670 &  1266895.986 & 9 & 2020\\\\\n",
       "\t7 & 25434 & 1 & 2020-09-10 & SBUX & STARBUCKS CORP &  7547570 & 84.88 & 87.0700 & 84.5275 & 85.800 & 14 & 5812 & -0.0114139297 &    NA & 2.5425 & -5454733.481 & 9 & 2020\\\\\n",
       "\t8 & 25434 & 1 & 2020-09-11 & SBUX & STARBUCKS CORP &  7101233 & 85.27 & 85.8500 & 84.1500 & 84.950 & 14 & 5812 &  0.0045947220 &    NA & 1.7000 &  2255685.776 & 9 & 2020\\\\\n",
       "\t9 & 25434 & 1 & 2020-09-14 & SBUX & STARBUCKS CORP &  5533402 & 86.63 & 87.0550 & 85.6400 & 85.752 & 14 & 5812 &  0.0159493374 &    NA & 1.4150 &  2209450.269 & 9 & 2020\\\\\n",
       "\t10 & 25434 & 1 & 2020-09-15 & SBUX & STARBUCKS CORP &  8358869 & 87.71 & 88.2500 & 87.1706 & 87.180 & 14 & 5812 &  0.0124668129 &    NA & 1.0794 &    -4646.397 & 9 & 2020\\\\\n",
       "\t11 & 25434 & 1 & 2020-09-16 & SBUX & STARBUCKS CORP &  7146304 & 88.38 & 89.4300 & 87.7500 & 88.000 & 14 & 5812 &  0.0076388097 &  2.33 & 1.6800 & -1786576.000 & 9 & 2020\\\\\n",
       "\t12 & 25434 & 1 & 2020-09-17 & SBUX & STARBUCKS CORP &  7382170 & 86.75 & 87.3200 & 85.3550 & 87.050 & 14 & 5812 & -0.0184430867 & -1.60 & 1.9650 &  3099384.351 & 9 & 2020\\\\\n",
       "\t13 & 25434 & 1 & 2020-09-18 & SBUX & STARBUCKS CORP & 10111450 & 84.95 & 87.2400 & 84.6000 & 86.810 & 14 & 5812 & -0.0207492795 & -1.53 & 2.6400 & -7430383.712 & 9 & 2020\\\\\n",
       "\t14 & 25434 & 1 & 2020-09-21 & SBUX & STARBUCKS CORP &  7174114 & 83.89 & 83.9500 & 81.7500 & 82.860 & 14 & 5812 & -0.0124779282 & -2.38 & 2.2000 &  6782798.691 & 9 & 2020\\\\\n",
       "\t15 & 25434 & 1 & 2020-09-22 & SBUX & STARBUCKS CORP &  4459037 & 83.95 & 84.3900 & 83.1750 & 84.050 & 14 & 5812 &  0.0007152223 & -1.46 & 1.2150 &  1229446.416 & 9 & 2020\\\\\n",
       "\t16 & 25434 & 1 & 2020-09-23 & SBUX & STARBUCKS CORP &  6408656 & 82.99 & 84.9000 & 82.8200 & 84.380 & 14 & 5812 & -0.0114353782 & -2.87 & 2.0800 & -5361087.231 & 9 & 2020\\\\\n",
       "\t17 & 25434 & 1 & 2020-09-24 & SBUX & STARBUCKS CORP &  4861093 & 83.04 & 84.1400 & 81.9200 & 82.630 & 14 & 5812 &  0.0006024822 & -1.84 & 2.2200 &    43793.631 & 9 & 2020\\\\\n",
       "\t18 & 25434 & 1 & 2020-09-25 & SBUX & STARBUCKS CORP &  5978494 & 84.30 & 84.6900 & 82.2200 & 82.530 & 14 & 5812 &  0.0151734104 & -0.97 & 2.4700 &  4090548.526 & 9 & 2020\\\\\n",
       "\t19 & 25434 & 1 & 2020-09-28 & SBUX & STARBUCKS CORP &  5970629 & 86.07 & 86.2400 & 84.9900 & 85.520 & 14 & 5812 &  0.0209964413 & -0.56 & 1.2500 &  4346617.912 & 9 & 2020\\\\\n",
       "\t20 & 25434 & 1 & 2020-09-29 & SBUX & STARBUCKS CORP &  4059065 & 84.80 & 86.2500 & 84.6250 & 86.250 & 14 & 5812 & -0.0147554316 & -2.91 & 1.6250 & -3184804.846 & 9 & 2020\\\\\n",
       "\\end{tabular}\n"
      ],
      "text/markdown": [
       "\n",
       "A data.frame: 20 × 18\n",
       "\n",
       "| <!--/--> | GVKEY &lt;int&gt; | iid &lt;int&gt; | datadate &lt;date&gt; | tic &lt;chr&gt; | conm &lt;chr&gt; | cshtrd &lt;int&gt; | prccd &lt;dbl&gt; | prchd &lt;dbl&gt; | prcld &lt;dbl&gt; | prcod &lt;dbl&gt; | exchg &lt;int&gt; | sic &lt;int&gt; | daily_return &lt;dbl&gt; | momentum_indicator &lt;dbl&gt; | range_daily &lt;dbl&gt; | MFV &lt;dbl&gt; | month &lt;dbl&gt; | year &lt;dbl&gt; |\n",
       "|---|---|---|---|---|---|---|---|---|---|---|---|---|---|---|---|---|---|---|\n",
       "| 1 | 25434 | 1 | 2020-09-01 | SBUX | STARBUCKS CORP |  8164620 | 86.05 | 86.0900 | 84.2300 | 84.700 | 14 | 5812 |            NA |    NA | 1.8600 |  7813453.548 | 9 | 2020 |\n",
       "| 2 | 25434 | 1 | 2020-09-02 | SBUX | STARBUCKS CORP | 11315380 | 88.35 | 88.7500 | 86.2900 | 86.505 | 14 | 5812 |  0.0267286461 |    NA | 2.4600 |  7635581.626 | 9 | 2020 |\n",
       "| 3 | 25434 | 1 | 2020-09-03 | SBUX | STARBUCKS CORP | 11014390 | 86.48 | 88.9800 | 85.6900 | 88.602 | 14 | 5812 | -0.0211658178 |    NA | 3.2900 | -5724804.529 | 9 | 2020 |\n",
       "| 4 | 25434 | 1 | 2020-09-04 | SBUX | STARBUCKS CORP | 10291270 | 86.27 | 87.7800 | 85.3100 | 87.095 | 14 | 5812 | -0.0024283071 |    NA | 2.4700 | -2291578.340 | 9 | 2020 |\n",
       "| 5 | 25434 | 1 | 2020-09-08 | SBUX | STARBUCKS CORP | 11075800 | 85.41 | 87.5834 | 84.7700 | 85.270 | 14 | 5812 | -0.0099687029 |    NA | 2.8134 | -6036692.870 | 9 | 2020 |\n",
       "| 6 | 25434 | 1 | 2020-09-09 | SBUX | STARBUCKS CORP |  6925503 | 85.86 | 86.8270 | 84.4600 | 85.934 | 14 | 5812 |  0.0052687039 |    NA | 2.3670 |  1266895.986 | 9 | 2020 |\n",
       "| 7 | 25434 | 1 | 2020-09-10 | SBUX | STARBUCKS CORP |  7547570 | 84.88 | 87.0700 | 84.5275 | 85.800 | 14 | 5812 | -0.0114139297 |    NA | 2.5425 | -5454733.481 | 9 | 2020 |\n",
       "| 8 | 25434 | 1 | 2020-09-11 | SBUX | STARBUCKS CORP |  7101233 | 85.27 | 85.8500 | 84.1500 | 84.950 | 14 | 5812 |  0.0045947220 |    NA | 1.7000 |  2255685.776 | 9 | 2020 |\n",
       "| 9 | 25434 | 1 | 2020-09-14 | SBUX | STARBUCKS CORP |  5533402 | 86.63 | 87.0550 | 85.6400 | 85.752 | 14 | 5812 |  0.0159493374 |    NA | 1.4150 |  2209450.269 | 9 | 2020 |\n",
       "| 10 | 25434 | 1 | 2020-09-15 | SBUX | STARBUCKS CORP |  8358869 | 87.71 | 88.2500 | 87.1706 | 87.180 | 14 | 5812 |  0.0124668129 |    NA | 1.0794 |    -4646.397 | 9 | 2020 |\n",
       "| 11 | 25434 | 1 | 2020-09-16 | SBUX | STARBUCKS CORP |  7146304 | 88.38 | 89.4300 | 87.7500 | 88.000 | 14 | 5812 |  0.0076388097 |  2.33 | 1.6800 | -1786576.000 | 9 | 2020 |\n",
       "| 12 | 25434 | 1 | 2020-09-17 | SBUX | STARBUCKS CORP |  7382170 | 86.75 | 87.3200 | 85.3550 | 87.050 | 14 | 5812 | -0.0184430867 | -1.60 | 1.9650 |  3099384.351 | 9 | 2020 |\n",
       "| 13 | 25434 | 1 | 2020-09-18 | SBUX | STARBUCKS CORP | 10111450 | 84.95 | 87.2400 | 84.6000 | 86.810 | 14 | 5812 | -0.0207492795 | -1.53 | 2.6400 | -7430383.712 | 9 | 2020 |\n",
       "| 14 | 25434 | 1 | 2020-09-21 | SBUX | STARBUCKS CORP |  7174114 | 83.89 | 83.9500 | 81.7500 | 82.860 | 14 | 5812 | -0.0124779282 | -2.38 | 2.2000 |  6782798.691 | 9 | 2020 |\n",
       "| 15 | 25434 | 1 | 2020-09-22 | SBUX | STARBUCKS CORP |  4459037 | 83.95 | 84.3900 | 83.1750 | 84.050 | 14 | 5812 |  0.0007152223 | -1.46 | 1.2150 |  1229446.416 | 9 | 2020 |\n",
       "| 16 | 25434 | 1 | 2020-09-23 | SBUX | STARBUCKS CORP |  6408656 | 82.99 | 84.9000 | 82.8200 | 84.380 | 14 | 5812 | -0.0114353782 | -2.87 | 2.0800 | -5361087.231 | 9 | 2020 |\n",
       "| 17 | 25434 | 1 | 2020-09-24 | SBUX | STARBUCKS CORP |  4861093 | 83.04 | 84.1400 | 81.9200 | 82.630 | 14 | 5812 |  0.0006024822 | -1.84 | 2.2200 |    43793.631 | 9 | 2020 |\n",
       "| 18 | 25434 | 1 | 2020-09-25 | SBUX | STARBUCKS CORP |  5978494 | 84.30 | 84.6900 | 82.2200 | 82.530 | 14 | 5812 |  0.0151734104 | -0.97 | 2.4700 |  4090548.526 | 9 | 2020 |\n",
       "| 19 | 25434 | 1 | 2020-09-28 | SBUX | STARBUCKS CORP |  5970629 | 86.07 | 86.2400 | 84.9900 | 85.520 | 14 | 5812 |  0.0209964413 | -0.56 | 1.2500 |  4346617.912 | 9 | 2020 |\n",
       "| 20 | 25434 | 1 | 2020-09-29 | SBUX | STARBUCKS CORP |  4059065 | 84.80 | 86.2500 | 84.6250 | 86.250 | 14 | 5812 | -0.0147554316 | -2.91 | 1.6250 | -3184804.846 | 9 | 2020 |\n",
       "\n"
      ],
      "text/plain": [
       "   GVKEY iid datadate   tic  conm           cshtrd   prccd prchd   prcld  \n",
       "1  25434 1   2020-09-01 SBUX STARBUCKS CORP  8164620 86.05 86.0900 84.2300\n",
       "2  25434 1   2020-09-02 SBUX STARBUCKS CORP 11315380 88.35 88.7500 86.2900\n",
       "3  25434 1   2020-09-03 SBUX STARBUCKS CORP 11014390 86.48 88.9800 85.6900\n",
       "4  25434 1   2020-09-04 SBUX STARBUCKS CORP 10291270 86.27 87.7800 85.3100\n",
       "5  25434 1   2020-09-08 SBUX STARBUCKS CORP 11075800 85.41 87.5834 84.7700\n",
       "6  25434 1   2020-09-09 SBUX STARBUCKS CORP  6925503 85.86 86.8270 84.4600\n",
       "7  25434 1   2020-09-10 SBUX STARBUCKS CORP  7547570 84.88 87.0700 84.5275\n",
       "8  25434 1   2020-09-11 SBUX STARBUCKS CORP  7101233 85.27 85.8500 84.1500\n",
       "9  25434 1   2020-09-14 SBUX STARBUCKS CORP  5533402 86.63 87.0550 85.6400\n",
       "10 25434 1   2020-09-15 SBUX STARBUCKS CORP  8358869 87.71 88.2500 87.1706\n",
       "11 25434 1   2020-09-16 SBUX STARBUCKS CORP  7146304 88.38 89.4300 87.7500\n",
       "12 25434 1   2020-09-17 SBUX STARBUCKS CORP  7382170 86.75 87.3200 85.3550\n",
       "13 25434 1   2020-09-18 SBUX STARBUCKS CORP 10111450 84.95 87.2400 84.6000\n",
       "14 25434 1   2020-09-21 SBUX STARBUCKS CORP  7174114 83.89 83.9500 81.7500\n",
       "15 25434 1   2020-09-22 SBUX STARBUCKS CORP  4459037 83.95 84.3900 83.1750\n",
       "16 25434 1   2020-09-23 SBUX STARBUCKS CORP  6408656 82.99 84.9000 82.8200\n",
       "17 25434 1   2020-09-24 SBUX STARBUCKS CORP  4861093 83.04 84.1400 81.9200\n",
       "18 25434 1   2020-09-25 SBUX STARBUCKS CORP  5978494 84.30 84.6900 82.2200\n",
       "19 25434 1   2020-09-28 SBUX STARBUCKS CORP  5970629 86.07 86.2400 84.9900\n",
       "20 25434 1   2020-09-29 SBUX STARBUCKS CORP  4059065 84.80 86.2500 84.6250\n",
       "   prcod  exchg sic  daily_return  momentum_indicator range_daily MFV         \n",
       "1  84.700 14    5812            NA    NA              1.8600       7813453.548\n",
       "2  86.505 14    5812  0.0267286461    NA              2.4600       7635581.626\n",
       "3  88.602 14    5812 -0.0211658178    NA              3.2900      -5724804.529\n",
       "4  87.095 14    5812 -0.0024283071    NA              2.4700      -2291578.340\n",
       "5  85.270 14    5812 -0.0099687029    NA              2.8134      -6036692.870\n",
       "6  85.934 14    5812  0.0052687039    NA              2.3670       1266895.986\n",
       "7  85.800 14    5812 -0.0114139297    NA              2.5425      -5454733.481\n",
       "8  84.950 14    5812  0.0045947220    NA              1.7000       2255685.776\n",
       "9  85.752 14    5812  0.0159493374    NA              1.4150       2209450.269\n",
       "10 87.180 14    5812  0.0124668129    NA              1.0794         -4646.397\n",
       "11 88.000 14    5812  0.0076388097  2.33              1.6800      -1786576.000\n",
       "12 87.050 14    5812 -0.0184430867 -1.60              1.9650       3099384.351\n",
       "13 86.810 14    5812 -0.0207492795 -1.53              2.6400      -7430383.712\n",
       "14 82.860 14    5812 -0.0124779282 -2.38              2.2000       6782798.691\n",
       "15 84.050 14    5812  0.0007152223 -1.46              1.2150       1229446.416\n",
       "16 84.380 14    5812 -0.0114353782 -2.87              2.0800      -5361087.231\n",
       "17 82.630 14    5812  0.0006024822 -1.84              2.2200         43793.631\n",
       "18 82.530 14    5812  0.0151734104 -0.97              2.4700       4090548.526\n",
       "19 85.520 14    5812  0.0209964413 -0.56              1.2500       4346617.912\n",
       "20 86.250 14    5812 -0.0147554316 -2.91              1.6250      -3184804.846\n",
       "   month year\n",
       "1  9     2020\n",
       "2  9     2020\n",
       "3  9     2020\n",
       "4  9     2020\n",
       "5  9     2020\n",
       "6  9     2020\n",
       "7  9     2020\n",
       "8  9     2020\n",
       "9  9     2020\n",
       "10 9     2020\n",
       "11 9     2020\n",
       "12 9     2020\n",
       "13 9     2020\n",
       "14 9     2020\n",
       "15 9     2020\n",
       "16 9     2020\n",
       "17 9     2020\n",
       "18 9     2020\n",
       "19 9     2020\n",
       "20 9     2020"
      ]
     },
     "metadata": {},
     "output_type": "display_data"
    },
    {
     "data": {
      "text/html": [
       "151045270"
      ],
      "text/latex": [
       "151045270"
      ],
      "text/markdown": [
       "151045270"
      ],
      "text/plain": [
       "[1] 151045270"
      ]
     },
     "metadata": {},
     "output_type": "display_data"
    },
    {
     "data": {
      "text/html": [
       "0.000291046723931376"
      ],
      "text/latex": [
       "0.000291046723931376"
      ],
      "text/markdown": [
       "0.000291046723931376"
      ],
      "text/plain": [
       "[1] 0.0002910467"
      ]
     },
     "metadata": {},
     "output_type": "display_data"
    },
    {
     "name": "stdout",
     "output_type": "stream",
     "text": [
      "    datadate  prchd\n",
      "1 2021-07-23 126.32\n",
      "    datadate daily_return\n",
      "1 2022-05-04   0.09834522\n"
     ]
    }
   ],
   "source": [
    "library(dplyr)\n",
    "library(lubridate)\n",
    "\n",
    "compustat_food_bev_data <- read.csv(\"compustat_food_bev.csv\")\n",
    "starbucks_data <- filter(compustat_food_bev_data, tic == \"SBUX\")\n",
    "starbucks_data$datadate <- as.Date(starbucks_data$datadate, format = \"%d/%m/%Y\")\n",
    "\n",
    "starbucks_data <- starbucks_data[order(starbucks_data$datadate), ]\n",
    "starbucks_data <- mutate(starbucks_data, daily_return =(prccd-lag(prccd))/lag(prccd))\n",
    "starbucks_data <- mutate(starbucks_data, momentum_indicator = (prccd-lag(prccd,10)))\n",
    "\n",
    "starbucks_data <- mutate(starbucks_data, range_daily = (prchd-prcld))\n",
    "starbucks_data <- mutate(starbucks_data, MFV = (((prccd-prcld)-(prchd-prccd))/range_daily)*cshtrd)\n",
    "starbucks_data <- mutate(starbucks_data, month = month(datadate))\n",
    "starbucks_data <- mutate(starbucks_data, year = year(datadate))\n",
    "head(starbucks_data, 20)\n",
    "\n",
    "june_2023_data <- filter(starbucks_data, month == 6, year(datadate) == 2023)\n",
    "sum(june_2023_data$cshtrd)\n",
    "mean(na.omit(starbucks_data$daily_return))\n",
    "\n",
    "max_high_price <- starbucks_data %>%\n",
    "  filter(prchd == max(prchd, na.rm = TRUE)) %>%\n",
    "  select(datadate, prchd)\n",
    "print(max_high_price)\n",
    "\n",
    "max_daily_return <- starbucks_data %>%\n",
    "  filter(daily_return == max(daily_return, na.rm = TRUE)) %>%\n",
    "  select(datadate, daily_return)\n",
    "print(max_daily_return)"
   ]
  },
  {
   "cell_type": "markdown",
   "id": "d002ef18",
   "metadata": {},
   "source": [
    "# Part 2"
   ]
  },
  {
   "cell_type": "markdown",
   "id": "e5663a58",
   "metadata": {},
   "source": [
    "## Part 2.2: Visualise on one line plot the close prices of each ticker, over the period."
   ]
  },
  {
   "cell_type": "code",
   "execution_count": 17,
   "id": "5a1d5547",
   "metadata": {
    "vscode": {
     "languageId": "r"
    }
   },
   "outputs": [
    {
     "ename": "ERROR",
     "evalue": "Error in element_text(size = 16, margin = margin(t = 15), margin = margin(r = 15)): formal argument \"margin\" matched by multiple actual arguments\n",
     "output_type": "error",
     "traceback": [
      "Error in element_text(size = 16, margin = margin(t = 15), margin = margin(r = 15)): formal argument \"margin\" matched by multiple actual arguments\nTraceback:\n",
      "1. find_args(..., complete = NULL, validate = NULL)",
      "2. mget(args, envir = env)",
      "3. .handleSimpleError(function (cnd) \n . {\n .     watcher$capture_plot_and_output()\n .     cnd <- sanitize_call(cnd)\n .     watcher$push(cnd)\n .     switch(on_error, continue = invokeRestart(\"eval_continue\"), \n .         stop = invokeRestart(\"eval_stop\"), error = NULL)\n . }, \"formal argument \\\"margin\\\" matched by multiple actual arguments\", \n .     base::quote(element_text(size = 16, margin = margin(t = 15), \n .         margin = margin(r = 15))))"
     ]
    }
   ],
   "source": [
    "# \n",
    "\n",
    "options(repr.plot.width = 12, repr.plot.height = 6)\n",
    "\n",
    "all_data <- read.csv(\"compustat_food_bev.csv\")\n",
    "\n",
    "all_data <- all_data %>%\n",
    "  mutate(datadate = as.Date(datadate, format = \"%d/%m/%Y\"))\n",
    "\n",
    "# team12Tickers <- c(\"CMG\", \"SBUX\", \"WEN\", \"PBPB\", \"DPZ\")\n",
    "\n",
    "team12Data <- all_data %>%\n",
    "    filter(tic == \"CMG\" | tic == \"SBUX\" | tic == \"WEN\" | tic == \"PBPB\" | tic == \"DPZ\")\n",
    "\n",
    "team12Normalised <- team12Data %>%\n",
    "  group_by(tic) %>%\n",
    "  mutate(relativePrice = prccd / first(prccd) * 100)\n",
    "\n",
    "ggplot(team12Normalised, aes(x = datadate, y = relativePrice, colour = tic)) +\n",
    "  geom_line() +\n",
    "  labs(\n",
    "    title = \"Normalised Close Price Over Time\",\n",
    "    x = \"Date\",\n",
    "    y = \"Close Price\",\n",
    "    color = \"Ticker\"\n",
    "  ) +\n",
    "  theme_minimal() +\n",
    "  theme(\n",
    "    plot.title = element_text(size = 17, face = \"bold\", margin = margin(b = 15)),\n",
    "    axis.title = element_text(size = 16,margin = margin(t = 15),margin = margin(r = 15)),\n",
    "    axis.text = element_text(size = 14),\n",
    "    legend.title = element_text(size = 14, margin = margin(l = 15)),\n",
    "    legend.text = element_text(size = 12)\n",
    "  )\n",
    "\n",
    "\n"
   ]
  },
  {
   "cell_type": "markdown",
   "id": "ec1692a7",
   "metadata": {},
   "source": [
    "# References\n",
    "\n",
    "Chipotle Mexican Grill (2023), CHIPOTLE ACCELERATES INTERNATIONAL EXPANSION THROUGH FIRST-EVER DEVELOPMENT AGREEMENT WITH ALSHAYA GROUP IN MIDDLE EAST. Available at: https://newsroom.chipotle.com/2023-07-18-CHIPOTLE-ACCELERATES-INTERNATIONAL-EXPANSION-THROUGH-FIRST-EVER-DEVELOPMENT-AGREEMENT-WITH-ALSHAYA-GROUP-IN-MIDDLE-EAST?utm_source=chatgpt.com (Accessed: 1st October 2025)"
   ]
  }
 ],
 "metadata": {
  "kernelspec": {
   "display_name": "R",
   "language": "R",
   "name": "ir"
  },
  "language_info": {
   "codemirror_mode": "r",
   "file_extension": ".r",
   "mimetype": "text/x-r-source",
   "name": "R",
   "pygments_lexer": "r",
   "version": "4.5.1"
  }
 },
 "nbformat": 4,
 "nbformat_minor": 5
}
