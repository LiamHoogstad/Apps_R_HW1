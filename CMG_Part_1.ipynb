{
 "cells": [
  {
   "cell_type": "markdown",
   "id": "482136c5",
   "metadata": {},
   "source": [
    "---\n",
    "title: \"Assignment 1\"\n",
    "author: \"Agustina Albez, Bora Abdik, Liam Hoogstad, Nour El Arrasse and Nurul Putri\"\n",
    "date: \"2025-10-06\"\n",
    "format: pdf\n",
    "---\n",
    "\\newpage\n",
    "\\tableofcontents\n",
    "\\listoffigures\n",
    "\\listoftables\n",
    "\\newpage"
   ]
  },
  {
   "cell_type": "markdown",
   "id": "c49c876b",
   "metadata": {},
   "source": [
    "# Part 1"
   ]
  },
  {
   "cell_type": "markdown",
   "id": "bb1ce475",
   "metadata": {},
   "source": [
    "## Chipotle Analysis\n"
   ]
  },
  {
   "cell_type": "code",
   "execution_count": null,
   "id": "2f1fd4d4",
   "metadata": {
    "vscode": {
     "languageId": "r"
    }
   },
   "outputs": [],
   "source": [
    "# Imports:\n",
    "\n",
    "#| warning: false\n",
    "#install.packages(c(\"dplyr\", \"ggplot2\", \"PerformanceAnalytics\"))\n",
    "#install.packages(c(\"glue\"))\n",
    "install.packages(c(\"lubridate\"))\n",
    "\n",
    "library(dplyr)\n",
    "library(ggplot2)\n",
    "library(PerformanceAnalytics)\n",
    "library(lubridate)\n",
    "library(glue)\n",
    "\n",
    "print(\"I am Agustina\")\n",
    "\n",
    "#Heyyyyyyy\n",
    "\n",
    "# A New Comment!\n",
    "# qwefoqwoeiufbqweiupfbqwef qw\n",
    "# Nourrrrrrrrr\n",
    "# Liam makes a change\n",
    "# Nour makes another change\n",
    "# Please work\n",
    "# comment"
   ]
  },
  {
   "cell_type": "code",
   "execution_count": null,
   "id": "dbc3a2e6",
   "metadata": {
    "vscode": {
     "languageId": "r"
    }
   },
   "outputs": [
    {
     "name": "stdout",
     "output_type": "stream",
     "text": [
      "[1] \"Hey Guys\"\n"
     ]
    },
    {
     "data": {
      "text/html": [
       "<table class=\"dataframe\">\n",
       "<caption>A data.frame: 10 × 19</caption>\n",
       "<thead>\n",
       "\t<tr><th></th><th scope=col>GVKEY</th><th scope=col>iid</th><th scope=col>datadate</th><th scope=col>tic</th><th scope=col>conm</th><th scope=col>cshtrd</th><th scope=col>prccd</th><th scope=col>prchd</th><th scope=col>prcld</th><th scope=col>prcod</th><th scope=col>exchg</th><th scope=col>sic</th><th scope=col>prev_close</th><th scope=col>daily_return</th><th scope=col>volume_change</th><th scope=col>momentum10</th><th scope=col>MFV</th><th scope=col>month</th><th scope=col>year</th></tr>\n",
       "\t<tr><th></th><th scope=col>&lt;int&gt;</th><th scope=col>&lt;int&gt;</th><th scope=col>&lt;date&gt;</th><th scope=col>&lt;chr&gt;</th><th scope=col>&lt;chr&gt;</th><th scope=col>&lt;int&gt;</th><th scope=col>&lt;dbl&gt;</th><th scope=col>&lt;dbl&gt;</th><th scope=col>&lt;dbl&gt;</th><th scope=col>&lt;dbl&gt;</th><th scope=col>&lt;int&gt;</th><th scope=col>&lt;int&gt;</th><th scope=col>&lt;dbl&gt;</th><th scope=col>&lt;dbl&gt;</th><th scope=col>&lt;int&gt;</th><th scope=col>&lt;dbl&gt;</th><th scope=col>&lt;dbl&gt;</th><th scope=col>&lt;dbl&gt;</th><th scope=col>&lt;dbl&gt;</th></tr>\n",
       "</thead>\n",
       "<tbody>\n",
       "\t<tr><th scope=row>1</th><td>165914</td><td>1</td><td>2020-09-01</td><td>CMG</td><td>CHIPOTLE MEXICAN GRILL INC</td><td>334534</td><td>1372.22</td><td>1373.500</td><td>1319.980</td><td>1325.00</td><td>11</td><td>5812</td><td>     NA</td><td>          NA</td><td>     NA</td><td>NA</td><td> 318532.37</td><td>9</td><td>2020</td></tr>\n",
       "\t<tr><th scope=row>2</th><td>165914</td><td>1</td><td>2020-09-02</td><td>CMG</td><td>CHIPOTLE MEXICAN GRILL INC</td><td>331489</td><td>1379.03</td><td>1384.461</td><td>1355.600</td><td>1375.00</td><td>11</td><td>5812</td><td>1372.22</td><td> 0.004962761</td><td>  -3045</td><td>NA</td><td> 206727.52</td><td>9</td><td>2020</td></tr>\n",
       "\t<tr><th scope=row>3</th><td>165914</td><td>1</td><td>2020-09-03</td><td>CMG</td><td>CHIPOTLE MEXICAN GRILL INC</td><td>463298</td><td>1328.73</td><td>1374.220</td><td>1310.240</td><td>1355.48</td><td>11</td><td>5812</td><td>1379.03</td><td>-0.036474914</td><td> 131809</td><td>NA</td><td>-195514.94</td><td>9</td><td>2020</td></tr>\n",
       "\t<tr><th scope=row>4</th><td>165914</td><td>1</td><td>2020-09-04</td><td>CMG</td><td>CHIPOTLE MEXICAN GRILL INC</td><td>400679</td><td>1313.73</td><td>1342.470</td><td>1258.527</td><td>1332.89</td><td>11</td><td>5812</td><td>1328.73</td><td>-0.011288975</td><td> -62619</td><td>NA</td><td> 126312.60</td><td>9</td><td>2020</td></tr>\n",
       "\t<tr><th scope=row>5</th><td>165914</td><td>1</td><td>2020-09-08</td><td>CMG</td><td>CHIPOTLE MEXICAN GRILL INC</td><td>318424</td><td>1299.75</td><td>1335.070</td><td>1275.010</td><td>1288.28</td><td>11</td><td>5812</td><td>1313.73</td><td>-0.010641456</td><td> -82255</td><td>NA</td><td> -56092.67</td><td>9</td><td>2020</td></tr>\n",
       "\t<tr><th scope=row>6</th><td>165914</td><td>1</td><td>2020-09-09</td><td>CMG</td><td>CHIPOTLE MEXICAN GRILL INC</td><td>305122</td><td>1321.03</td><td>1337.840</td><td>1306.105</td><td>1322.00</td><td>11</td><td>5812</td><td>1299.75</td><td> 0.016372379</td><td> -13302</td><td>NA</td><td> -18123.68</td><td>9</td><td>2020</td></tr>\n",
       "\t<tr><th scope=row>7</th><td>165914</td><td>1</td><td>2020-09-10</td><td>CMG</td><td>CHIPOTLE MEXICAN GRILL INC</td><td>329691</td><td>1308.49</td><td>1359.725</td><td>1305.000</td><td>1327.39</td><td>11</td><td>5812</td><td>1321.03</td><td>-0.009492593</td><td>  24569</td><td>NA</td><td>-287639.58</td><td>9</td><td>2020</td></tr>\n",
       "\t<tr><th scope=row>8</th><td>165914</td><td>1</td><td>2020-09-11</td><td>CMG</td><td>CHIPOTLE MEXICAN GRILL INC</td><td>310841</td><td>1297.47</td><td>1326.000</td><td>1272.110</td><td>1325.27</td><td>11</td><td>5812</td><td>1308.49</td><td>-0.008421921</td><td> -18850</td><td>NA</td><td> -18284.76</td><td>9</td><td>2020</td></tr>\n",
       "\t<tr><th scope=row>9</th><td>165914</td><td>1</td><td>2020-09-14</td><td>CMG</td><td>CHIPOTLE MEXICAN GRILL INC</td><td>436845</td><td>1267.19</td><td>1318.000</td><td>1254.530</td><td>1311.62</td><td>11</td><td>5812</td><td>1297.47</td><td>-0.023337726</td><td> 126004</td><td>NA</td><td>-262570.62</td><td>9</td><td>2020</td></tr>\n",
       "\t<tr><th scope=row>10</th><td>165914</td><td>1</td><td>2020-09-15</td><td>CMG</td><td>CHIPOTLE MEXICAN GRILL INC</td><td>328908</td><td>1277.36</td><td>1291.390</td><td>1269.100</td><td>1283.60</td><td>11</td><td>5812</td><td>1267.19</td><td> 0.008025632</td><td>-107937</td><td>NA</td><td> -85141.28</td><td>9</td><td>2020</td></tr>\n",
       "</tbody>\n",
       "</table>\n"
      ],
      "text/latex": [
       "A data.frame: 10 × 19\n",
       "\\begin{tabular}{r|lllllllllllllllllll}\n",
       "  & GVKEY & iid & datadate & tic & conm & cshtrd & prccd & prchd & prcld & prcod & exchg & sic & prev\\_close & daily\\_return & volume\\_change & momentum10 & MFV & month & year\\\\\n",
       "  & <int> & <int> & <date> & <chr> & <chr> & <int> & <dbl> & <dbl> & <dbl> & <dbl> & <int> & <int> & <dbl> & <dbl> & <int> & <dbl> & <dbl> & <dbl> & <dbl>\\\\\n",
       "\\hline\n",
       "\t1 & 165914 & 1 & 2020-09-01 & CMG & CHIPOTLE MEXICAN GRILL INC & 334534 & 1372.22 & 1373.500 & 1319.980 & 1325.00 & 11 & 5812 &      NA &           NA &      NA & NA &  318532.37 & 9 & 2020\\\\\n",
       "\t2 & 165914 & 1 & 2020-09-02 & CMG & CHIPOTLE MEXICAN GRILL INC & 331489 & 1379.03 & 1384.461 & 1355.600 & 1375.00 & 11 & 5812 & 1372.22 &  0.004962761 &   -3045 & NA &  206727.52 & 9 & 2020\\\\\n",
       "\t3 & 165914 & 1 & 2020-09-03 & CMG & CHIPOTLE MEXICAN GRILL INC & 463298 & 1328.73 & 1374.220 & 1310.240 & 1355.48 & 11 & 5812 & 1379.03 & -0.036474914 &  131809 & NA & -195514.94 & 9 & 2020\\\\\n",
       "\t4 & 165914 & 1 & 2020-09-04 & CMG & CHIPOTLE MEXICAN GRILL INC & 400679 & 1313.73 & 1342.470 & 1258.527 & 1332.89 & 11 & 5812 & 1328.73 & -0.011288975 &  -62619 & NA &  126312.60 & 9 & 2020\\\\\n",
       "\t5 & 165914 & 1 & 2020-09-08 & CMG & CHIPOTLE MEXICAN GRILL INC & 318424 & 1299.75 & 1335.070 & 1275.010 & 1288.28 & 11 & 5812 & 1313.73 & -0.010641456 &  -82255 & NA &  -56092.67 & 9 & 2020\\\\\n",
       "\t6 & 165914 & 1 & 2020-09-09 & CMG & CHIPOTLE MEXICAN GRILL INC & 305122 & 1321.03 & 1337.840 & 1306.105 & 1322.00 & 11 & 5812 & 1299.75 &  0.016372379 &  -13302 & NA &  -18123.68 & 9 & 2020\\\\\n",
       "\t7 & 165914 & 1 & 2020-09-10 & CMG & CHIPOTLE MEXICAN GRILL INC & 329691 & 1308.49 & 1359.725 & 1305.000 & 1327.39 & 11 & 5812 & 1321.03 & -0.009492593 &   24569 & NA & -287639.58 & 9 & 2020\\\\\n",
       "\t8 & 165914 & 1 & 2020-09-11 & CMG & CHIPOTLE MEXICAN GRILL INC & 310841 & 1297.47 & 1326.000 & 1272.110 & 1325.27 & 11 & 5812 & 1308.49 & -0.008421921 &  -18850 & NA &  -18284.76 & 9 & 2020\\\\\n",
       "\t9 & 165914 & 1 & 2020-09-14 & CMG & CHIPOTLE MEXICAN GRILL INC & 436845 & 1267.19 & 1318.000 & 1254.530 & 1311.62 & 11 & 5812 & 1297.47 & -0.023337726 &  126004 & NA & -262570.62 & 9 & 2020\\\\\n",
       "\t10 & 165914 & 1 & 2020-09-15 & CMG & CHIPOTLE MEXICAN GRILL INC & 328908 & 1277.36 & 1291.390 & 1269.100 & 1283.60 & 11 & 5812 & 1267.19 &  0.008025632 & -107937 & NA &  -85141.28 & 9 & 2020\\\\\n",
       "\\end{tabular}\n"
      ],
      "text/markdown": [
       "\n",
       "A data.frame: 10 × 19\n",
       "\n",
       "| <!--/--> | GVKEY &lt;int&gt; | iid &lt;int&gt; | datadate &lt;date&gt; | tic &lt;chr&gt; | conm &lt;chr&gt; | cshtrd &lt;int&gt; | prccd &lt;dbl&gt; | prchd &lt;dbl&gt; | prcld &lt;dbl&gt; | prcod &lt;dbl&gt; | exchg &lt;int&gt; | sic &lt;int&gt; | prev_close &lt;dbl&gt; | daily_return &lt;dbl&gt; | volume_change &lt;int&gt; | momentum10 &lt;dbl&gt; | MFV &lt;dbl&gt; | month &lt;dbl&gt; | year &lt;dbl&gt; |\n",
       "|---|---|---|---|---|---|---|---|---|---|---|---|---|---|---|---|---|---|---|---|\n",
       "| 1 | 165914 | 1 | 2020-09-01 | CMG | CHIPOTLE MEXICAN GRILL INC | 334534 | 1372.22 | 1373.500 | 1319.980 | 1325.00 | 11 | 5812 |      NA |           NA |      NA | NA |  318532.37 | 9 | 2020 |\n",
       "| 2 | 165914 | 1 | 2020-09-02 | CMG | CHIPOTLE MEXICAN GRILL INC | 331489 | 1379.03 | 1384.461 | 1355.600 | 1375.00 | 11 | 5812 | 1372.22 |  0.004962761 |   -3045 | NA |  206727.52 | 9 | 2020 |\n",
       "| 3 | 165914 | 1 | 2020-09-03 | CMG | CHIPOTLE MEXICAN GRILL INC | 463298 | 1328.73 | 1374.220 | 1310.240 | 1355.48 | 11 | 5812 | 1379.03 | -0.036474914 |  131809 | NA | -195514.94 | 9 | 2020 |\n",
       "| 4 | 165914 | 1 | 2020-09-04 | CMG | CHIPOTLE MEXICAN GRILL INC | 400679 | 1313.73 | 1342.470 | 1258.527 | 1332.89 | 11 | 5812 | 1328.73 | -0.011288975 |  -62619 | NA |  126312.60 | 9 | 2020 |\n",
       "| 5 | 165914 | 1 | 2020-09-08 | CMG | CHIPOTLE MEXICAN GRILL INC | 318424 | 1299.75 | 1335.070 | 1275.010 | 1288.28 | 11 | 5812 | 1313.73 | -0.010641456 |  -82255 | NA |  -56092.67 | 9 | 2020 |\n",
       "| 6 | 165914 | 1 | 2020-09-09 | CMG | CHIPOTLE MEXICAN GRILL INC | 305122 | 1321.03 | 1337.840 | 1306.105 | 1322.00 | 11 | 5812 | 1299.75 |  0.016372379 |  -13302 | NA |  -18123.68 | 9 | 2020 |\n",
       "| 7 | 165914 | 1 | 2020-09-10 | CMG | CHIPOTLE MEXICAN GRILL INC | 329691 | 1308.49 | 1359.725 | 1305.000 | 1327.39 | 11 | 5812 | 1321.03 | -0.009492593 |   24569 | NA | -287639.58 | 9 | 2020 |\n",
       "| 8 | 165914 | 1 | 2020-09-11 | CMG | CHIPOTLE MEXICAN GRILL INC | 310841 | 1297.47 | 1326.000 | 1272.110 | 1325.27 | 11 | 5812 | 1308.49 | -0.008421921 |  -18850 | NA |  -18284.76 | 9 | 2020 |\n",
       "| 9 | 165914 | 1 | 2020-09-14 | CMG | CHIPOTLE MEXICAN GRILL INC | 436845 | 1267.19 | 1318.000 | 1254.530 | 1311.62 | 11 | 5812 | 1297.47 | -0.023337726 |  126004 | NA | -262570.62 | 9 | 2020 |\n",
       "| 10 | 165914 | 1 | 2020-09-15 | CMG | CHIPOTLE MEXICAN GRILL INC | 328908 | 1277.36 | 1291.390 | 1269.100 | 1283.60 | 11 | 5812 | 1267.19 |  0.008025632 | -107937 | NA |  -85141.28 | 9 | 2020 |\n",
       "\n"
      ],
      "text/plain": [
       "   GVKEY  iid datadate   tic conm                       cshtrd prccd   prchd   \n",
       "1  165914 1   2020-09-01 CMG CHIPOTLE MEXICAN GRILL INC 334534 1372.22 1373.500\n",
       "2  165914 1   2020-09-02 CMG CHIPOTLE MEXICAN GRILL INC 331489 1379.03 1384.461\n",
       "3  165914 1   2020-09-03 CMG CHIPOTLE MEXICAN GRILL INC 463298 1328.73 1374.220\n",
       "4  165914 1   2020-09-04 CMG CHIPOTLE MEXICAN GRILL INC 400679 1313.73 1342.470\n",
       "5  165914 1   2020-09-08 CMG CHIPOTLE MEXICAN GRILL INC 318424 1299.75 1335.070\n",
       "6  165914 1   2020-09-09 CMG CHIPOTLE MEXICAN GRILL INC 305122 1321.03 1337.840\n",
       "7  165914 1   2020-09-10 CMG CHIPOTLE MEXICAN GRILL INC 329691 1308.49 1359.725\n",
       "8  165914 1   2020-09-11 CMG CHIPOTLE MEXICAN GRILL INC 310841 1297.47 1326.000\n",
       "9  165914 1   2020-09-14 CMG CHIPOTLE MEXICAN GRILL INC 436845 1267.19 1318.000\n",
       "10 165914 1   2020-09-15 CMG CHIPOTLE MEXICAN GRILL INC 328908 1277.36 1291.390\n",
       "   prcld    prcod   exchg sic  prev_close daily_return volume_change momentum10\n",
       "1  1319.980 1325.00 11    5812      NA              NA      NA       NA        \n",
       "2  1355.600 1375.00 11    5812 1372.22     0.004962761   -3045       NA        \n",
       "3  1310.240 1355.48 11    5812 1379.03    -0.036474914  131809       NA        \n",
       "4  1258.527 1332.89 11    5812 1328.73    -0.011288975  -62619       NA        \n",
       "5  1275.010 1288.28 11    5812 1313.73    -0.010641456  -82255       NA        \n",
       "6  1306.105 1322.00 11    5812 1299.75     0.016372379  -13302       NA        \n",
       "7  1305.000 1327.39 11    5812 1321.03    -0.009492593   24569       NA        \n",
       "8  1272.110 1325.27 11    5812 1308.49    -0.008421921  -18850       NA        \n",
       "9  1254.530 1311.62 11    5812 1297.47    -0.023337726  126004       NA        \n",
       "10 1269.100 1283.60 11    5812 1267.19     0.008025632 -107937       NA        \n",
       "   MFV        month year\n",
       "1   318532.37 9     2020\n",
       "2   206727.52 9     2020\n",
       "3  -195514.94 9     2020\n",
       "4   126312.60 9     2020\n",
       "5   -56092.67 9     2020\n",
       "6   -18123.68 9     2020\n",
       "7  -287639.58 9     2020\n",
       "8   -18284.76 9     2020\n",
       "9  -262570.62 9     2020\n",
       "10  -85141.28 9     2020"
      ]
     },
     "metadata": {},
     "output_type": "display_data"
    },
    {
     "name": "stdout",
     "output_type": "stream",
     "text": [
      "Total trading volume: -307203\n",
      "Mean Daily Return was: 0.07%\n",
      "The highest positive price was 2175.01 on 2023-07-19\n",
      "The highest daily return was 14.7% on 2022-07-27\n"
     ]
    },
    {
     "data": {
      "text/html": [
       "<table class=\"dataframe\">\n",
       "<caption>A data.frame: 20 × 19</caption>\n",
       "<thead>\n",
       "\t<tr><th></th><th scope=col>GVKEY</th><th scope=col>iid</th><th scope=col>datadate</th><th scope=col>tic</th><th scope=col>conm</th><th scope=col>cshtrd</th><th scope=col>prccd</th><th scope=col>prchd</th><th scope=col>prcld</th><th scope=col>prcod</th><th scope=col>exchg</th><th scope=col>sic</th><th scope=col>prev_close</th><th scope=col>daily_return</th><th scope=col>volume_change</th><th scope=col>momentum10</th><th scope=col>MFV</th><th scope=col>month</th><th scope=col>year</th></tr>\n",
       "\t<tr><th></th><th scope=col>&lt;int&gt;</th><th scope=col>&lt;int&gt;</th><th scope=col>&lt;date&gt;</th><th scope=col>&lt;chr&gt;</th><th scope=col>&lt;chr&gt;</th><th scope=col>&lt;int&gt;</th><th scope=col>&lt;dbl&gt;</th><th scope=col>&lt;dbl&gt;</th><th scope=col>&lt;dbl&gt;</th><th scope=col>&lt;dbl&gt;</th><th scope=col>&lt;int&gt;</th><th scope=col>&lt;int&gt;</th><th scope=col>&lt;dbl&gt;</th><th scope=col>&lt;dbl&gt;</th><th scope=col>&lt;int&gt;</th><th scope=col>&lt;dbl&gt;</th><th scope=col>&lt;dbl&gt;</th><th scope=col>&lt;dbl&gt;</th><th scope=col>&lt;dbl&gt;</th></tr>\n",
       "</thead>\n",
       "<tbody>\n",
       "\t<tr><th scope=row>1</th><td>165914</td><td>1</td><td>2023-07-03</td><td>CMG</td><td>CHIPOTLE MEXICAN GRILL INC</td><td> 155596</td><td>2123.54</td><td>2147.520</td><td>2119.045</td><td>2138.00</td><td>11</td><td>5812</td><td>2139.00</td><td>-0.007227676</td><td>-117406</td><td>  90.62</td><td> -106471.9248</td><td>7</td><td>2023</td></tr>\n",
       "\t<tr><th scope=row>2</th><td>165914</td><td>1</td><td>2023-07-05</td><td>CMG</td><td>CHIPOTLE MEXICAN GRILL INC</td><td> 150741</td><td>2120.71</td><td>2125.000</td><td>2110.030</td><td>2117.14</td><td>11</td><td>5812</td><td>2123.54</td><td>-0.001332680</td><td>  -4855</td><td>  70.91</td><td>   64344.3547</td><td>7</td><td>2023</td></tr>\n",
       "\t<tr><th scope=row>3</th><td>165914</td><td>1</td><td>2023-07-06</td><td>CMG</td><td>CHIPOTLE MEXICAN GRILL INC</td><td> 168693</td><td>2093.37</td><td>2114.295</td><td>2092.430</td><td>2108.49</td><td>11</td><td>5812</td><td>2120.71</td><td>-0.012891909</td><td>  17952</td><td>  18.89</td><td> -154189.8876</td><td>7</td><td>2023</td></tr>\n",
       "\t<tr><th scope=row>4</th><td>165914</td><td>1</td><td>2023-07-07</td><td>CMG</td><td>CHIPOTLE MEXICAN GRILL INC</td><td> 228989</td><td>2077.46</td><td>2091.620</td><td>2071.120</td><td>2080.92</td><td>11</td><td>5812</td><td>2093.37</td><td>-0.007600185</td><td>  60296</td><td>  26.94</td><td>  -87350.9259</td><td>7</td><td>2023</td></tr>\n",
       "\t<tr><th scope=row>5</th><td>165914</td><td>1</td><td>2023-07-10</td><td>CMG</td><td>CHIPOTLE MEXICAN GRILL INC</td><td> 168982</td><td>2093.09</td><td>2098.795</td><td>2074.870</td><td>2074.87</td><td>11</td><td>5812</td><td>2077.46</td><td> 0.007523611</td><td> -60007</td><td>  49.41</td><td>   88393.3011</td><td>7</td><td>2023</td></tr>\n",
       "\t<tr><th scope=row>6</th><td>165914</td><td>1</td><td>2023-07-11</td><td>CMG</td><td>CHIPOTLE MEXICAN GRILL INC</td><td> 255754</td><td>2053.28</td><td>2106.390</td><td>2051.565</td><td>2094.83</td><td>11</td><td>5812</td><td>2093.09</td><td>-0.019019727</td><td>  86772</td><td>  20.97</td><td> -239753.3394</td><td>7</td><td>2023</td></tr>\n",
       "\t<tr><th scope=row>7</th><td>165914</td><td>1</td><td>2023-07-12</td><td>CMG</td><td>CHIPOTLE MEXICAN GRILL INC</td><td> 164186</td><td>2076.00</td><td>2082.740</td><td>2058.250</td><td>2069.49</td><td>11</td><td>5812</td><td>2053.28</td><td> 0.011065222</td><td> -91568</td><td>   9.27</td><td>   73813.3058</td><td>7</td><td>2023</td></tr>\n",
       "\t<tr><th scope=row>8</th><td>165914</td><td>1</td><td>2023-07-13</td><td>CMG</td><td>CHIPOTLE MEXICAN GRILL INC</td><td> 224951</td><td>2048.86</td><td>2088.800</td><td>2046.930</td><td>2085.20</td><td>11</td><td>5812</td><td>2076.00</td><td>-0.013073218</td><td>  60765</td><td> -52.63</td><td> -204212.7421</td><td>7</td><td>2023</td></tr>\n",
       "\t<tr><th scope=row>9</th><td>165914</td><td>1</td><td>2023-07-14</td><td>CMG</td><td>CHIPOTLE MEXICAN GRILL INC</td><td> 258794</td><td>2055.98</td><td>2078.235</td><td>2033.765</td><td>2058.17</td><td>11</td><td>5812</td><td>2048.86</td><td> 0.003475103</td><td>  33843</td><td> -54.62</td><td>    -232.7808</td><td>7</td><td>2023</td></tr>\n",
       "\t<tr><th scope=row>10</th><td>165914</td><td>1</td><td>2023-07-17</td><td>CMG</td><td>CHIPOTLE MEXICAN GRILL INC</td><td> 342021</td><td>2127.51</td><td>2130.000</td><td>2062.950</td><td>2064.55</td><td>11</td><td>5812</td><td>2055.98</td><td> 0.034791194</td><td>  83227</td><td> -11.49</td><td>  316618.0980</td><td>7</td><td>2023</td></tr>\n",
       "\t<tr><th scope=row>11</th><td>165914</td><td>1</td><td>2023-07-18</td><td>CMG</td><td>CHIPOTLE MEXICAN GRILL INC</td><td> 293195</td><td>2153.20</td><td>2173.634</td><td>2119.990</td><td>2152.70</td><td>11</td><td>5812</td><td>2127.51</td><td> 0.012075149</td><td> -48826</td><td>  29.66</td><td>   69830.1437</td><td>7</td><td>2023</td></tr>\n",
       "\t<tr><th scope=row>12</th><td>165914</td><td>1</td><td>2023-07-19</td><td>CMG</td><td>CHIPOTLE MEXICAN GRILL INC</td><td> 235106</td><td>2139.13</td><td>2175.010</td><td>2138.050</td><td>2165.01</td><td>11</td><td>5812</td><td>2153.20</td><td>-0.006534460</td><td> -58089</td><td>  18.42</td><td> -221366.0390</td><td>7</td><td>2023</td></tr>\n",
       "\t<tr><th scope=row>13</th><td>165914</td><td>1</td><td>2023-07-20</td><td>CMG</td><td>CHIPOTLE MEXICAN GRILL INC</td><td> 292507</td><td>2094.71</td><td>2135.000</td><td>2084.430</td><td>2128.00</td><td>11</td><td>5812</td><td>2139.13</td><td>-0.020765451</td><td>  57401</td><td>   1.34</td><td> -173583.8456</td><td>7</td><td>2023</td></tr>\n",
       "\t<tr><th scope=row>14</th><td>165914</td><td>1</td><td>2023-07-21</td><td>CMG</td><td>CHIPOTLE MEXICAN GRILL INC</td><td> 284724</td><td>2098.87</td><td>2130.140</td><td>2086.440</td><td>2114.29</td><td>11</td><td>5812</td><td>2094.71</td><td> 0.001985955</td><td>  -7783</td><td>  21.41</td><td> -122750.5757</td><td>7</td><td>2023</td></tr>\n",
       "\t<tr><th scope=row>15</th><td>165914</td><td>1</td><td>2023-07-24</td><td>CMG</td><td>CHIPOTLE MEXICAN GRILL INC</td><td> 313295</td><td>2082.99</td><td>2107.860</td><td>2043.780</td><td>2104.32</td><td>11</td><td>5812</td><td>2098.87</td><td>-0.007565976</td><td>  28571</td><td> -10.10</td><td>   70110.0234</td><td>7</td><td>2023</td></tr>\n",
       "\t<tr><th scope=row>16</th><td>165914</td><td>1</td><td>2023-07-25</td><td>CMG</td><td>CHIPOTLE MEXICAN GRILL INC</td><td> 214951</td><td>2092.34</td><td>2104.930</td><td>2086.050</td><td>2088.35</td><td>11</td><td>5812</td><td>2082.99</td><td> 0.004488740</td><td> -98344</td><td>  39.06</td><td>  -71726.2341</td><td>7</td><td>2023</td></tr>\n",
       "\t<tr><th scope=row>17</th><td>165914</td><td>1</td><td>2023-07-26</td><td>CMG</td><td>CHIPOTLE MEXICAN GRILL INC</td><td> 464997</td><td>2087.86</td><td>2100.040</td><td>2065.010</td><td>2091.85</td><td>11</td><td>5812</td><td>2092.34</td><td>-0.002141143</td><td> 250046</td><td>  11.86</td><td>  141636.2544</td><td>7</td><td>2023</td></tr>\n",
       "\t<tr><th scope=row>18</th><td>165914</td><td>1</td><td>2023-07-27</td><td>CMG</td><td>CHIPOTLE MEXICAN GRILL INC</td><td>1365721</td><td>1882.98</td><td>1949.990</td><td>1872.640</td><td>1925.02</td><td>11</td><td>5812</td><td>2087.86</td><td>-0.098129185</td><td> 900724</td><td>-165.88</td><td>-1000587.0597</td><td>7</td><td>2023</td></tr>\n",
       "\t<tr><th scope=row>19</th><td>165914</td><td>1</td><td>2023-07-28</td><td>CMG</td><td>CHIPOTLE MEXICAN GRILL INC</td><td> 687344</td><td>1912.52</td><td>1918.640</td><td>1877.645</td><td>1898.21</td><td>11</td><td>5812</td><td>1882.98</td><td> 0.015687899</td><td>-678377</td><td>-143.46</td><td>  482121.6422</td><td>7</td><td>2023</td></tr>\n",
       "\t<tr><th scope=row>20</th><td>165914</td><td>1</td><td>2023-07-31</td><td>CMG</td><td>CHIPOTLE MEXICAN GRILL INC</td><td> 489097</td><td>1962.28</td><td>1975.170</td><td>1916.810</td><td>1925.56</td><td>11</td><td>5812</td><td>1912.52</td><td> 0.026018029</td><td>-198247</td><td>-165.23</td><td>  273042.8420</td><td>7</td><td>2023</td></tr>\n",
       "</tbody>\n",
       "</table>\n"
      ],
      "text/latex": [
       "A data.frame: 20 × 19\n",
       "\\begin{tabular}{r|lllllllllllllllllll}\n",
       "  & GVKEY & iid & datadate & tic & conm & cshtrd & prccd & prchd & prcld & prcod & exchg & sic & prev\\_close & daily\\_return & volume\\_change & momentum10 & MFV & month & year\\\\\n",
       "  & <int> & <int> & <date> & <chr> & <chr> & <int> & <dbl> & <dbl> & <dbl> & <dbl> & <int> & <int> & <dbl> & <dbl> & <int> & <dbl> & <dbl> & <dbl> & <dbl>\\\\\n",
       "\\hline\n",
       "\t1 & 165914 & 1 & 2023-07-03 & CMG & CHIPOTLE MEXICAN GRILL INC &  155596 & 2123.54 & 2147.520 & 2119.045 & 2138.00 & 11 & 5812 & 2139.00 & -0.007227676 & -117406 &   90.62 &  -106471.9248 & 7 & 2023\\\\\n",
       "\t2 & 165914 & 1 & 2023-07-05 & CMG & CHIPOTLE MEXICAN GRILL INC &  150741 & 2120.71 & 2125.000 & 2110.030 & 2117.14 & 11 & 5812 & 2123.54 & -0.001332680 &   -4855 &   70.91 &    64344.3547 & 7 & 2023\\\\\n",
       "\t3 & 165914 & 1 & 2023-07-06 & CMG & CHIPOTLE MEXICAN GRILL INC &  168693 & 2093.37 & 2114.295 & 2092.430 & 2108.49 & 11 & 5812 & 2120.71 & -0.012891909 &   17952 &   18.89 &  -154189.8876 & 7 & 2023\\\\\n",
       "\t4 & 165914 & 1 & 2023-07-07 & CMG & CHIPOTLE MEXICAN GRILL INC &  228989 & 2077.46 & 2091.620 & 2071.120 & 2080.92 & 11 & 5812 & 2093.37 & -0.007600185 &   60296 &   26.94 &   -87350.9259 & 7 & 2023\\\\\n",
       "\t5 & 165914 & 1 & 2023-07-10 & CMG & CHIPOTLE MEXICAN GRILL INC &  168982 & 2093.09 & 2098.795 & 2074.870 & 2074.87 & 11 & 5812 & 2077.46 &  0.007523611 &  -60007 &   49.41 &    88393.3011 & 7 & 2023\\\\\n",
       "\t6 & 165914 & 1 & 2023-07-11 & CMG & CHIPOTLE MEXICAN GRILL INC &  255754 & 2053.28 & 2106.390 & 2051.565 & 2094.83 & 11 & 5812 & 2093.09 & -0.019019727 &   86772 &   20.97 &  -239753.3394 & 7 & 2023\\\\\n",
       "\t7 & 165914 & 1 & 2023-07-12 & CMG & CHIPOTLE MEXICAN GRILL INC &  164186 & 2076.00 & 2082.740 & 2058.250 & 2069.49 & 11 & 5812 & 2053.28 &  0.011065222 &  -91568 &    9.27 &    73813.3058 & 7 & 2023\\\\\n",
       "\t8 & 165914 & 1 & 2023-07-13 & CMG & CHIPOTLE MEXICAN GRILL INC &  224951 & 2048.86 & 2088.800 & 2046.930 & 2085.20 & 11 & 5812 & 2076.00 & -0.013073218 &   60765 &  -52.63 &  -204212.7421 & 7 & 2023\\\\\n",
       "\t9 & 165914 & 1 & 2023-07-14 & CMG & CHIPOTLE MEXICAN GRILL INC &  258794 & 2055.98 & 2078.235 & 2033.765 & 2058.17 & 11 & 5812 & 2048.86 &  0.003475103 &   33843 &  -54.62 &     -232.7808 & 7 & 2023\\\\\n",
       "\t10 & 165914 & 1 & 2023-07-17 & CMG & CHIPOTLE MEXICAN GRILL INC &  342021 & 2127.51 & 2130.000 & 2062.950 & 2064.55 & 11 & 5812 & 2055.98 &  0.034791194 &   83227 &  -11.49 &   316618.0980 & 7 & 2023\\\\\n",
       "\t11 & 165914 & 1 & 2023-07-18 & CMG & CHIPOTLE MEXICAN GRILL INC &  293195 & 2153.20 & 2173.634 & 2119.990 & 2152.70 & 11 & 5812 & 2127.51 &  0.012075149 &  -48826 &   29.66 &    69830.1437 & 7 & 2023\\\\\n",
       "\t12 & 165914 & 1 & 2023-07-19 & CMG & CHIPOTLE MEXICAN GRILL INC &  235106 & 2139.13 & 2175.010 & 2138.050 & 2165.01 & 11 & 5812 & 2153.20 & -0.006534460 &  -58089 &   18.42 &  -221366.0390 & 7 & 2023\\\\\n",
       "\t13 & 165914 & 1 & 2023-07-20 & CMG & CHIPOTLE MEXICAN GRILL INC &  292507 & 2094.71 & 2135.000 & 2084.430 & 2128.00 & 11 & 5812 & 2139.13 & -0.020765451 &   57401 &    1.34 &  -173583.8456 & 7 & 2023\\\\\n",
       "\t14 & 165914 & 1 & 2023-07-21 & CMG & CHIPOTLE MEXICAN GRILL INC &  284724 & 2098.87 & 2130.140 & 2086.440 & 2114.29 & 11 & 5812 & 2094.71 &  0.001985955 &   -7783 &   21.41 &  -122750.5757 & 7 & 2023\\\\\n",
       "\t15 & 165914 & 1 & 2023-07-24 & CMG & CHIPOTLE MEXICAN GRILL INC &  313295 & 2082.99 & 2107.860 & 2043.780 & 2104.32 & 11 & 5812 & 2098.87 & -0.007565976 &   28571 &  -10.10 &    70110.0234 & 7 & 2023\\\\\n",
       "\t16 & 165914 & 1 & 2023-07-25 & CMG & CHIPOTLE MEXICAN GRILL INC &  214951 & 2092.34 & 2104.930 & 2086.050 & 2088.35 & 11 & 5812 & 2082.99 &  0.004488740 &  -98344 &   39.06 &   -71726.2341 & 7 & 2023\\\\\n",
       "\t17 & 165914 & 1 & 2023-07-26 & CMG & CHIPOTLE MEXICAN GRILL INC &  464997 & 2087.86 & 2100.040 & 2065.010 & 2091.85 & 11 & 5812 & 2092.34 & -0.002141143 &  250046 &   11.86 &   141636.2544 & 7 & 2023\\\\\n",
       "\t18 & 165914 & 1 & 2023-07-27 & CMG & CHIPOTLE MEXICAN GRILL INC & 1365721 & 1882.98 & 1949.990 & 1872.640 & 1925.02 & 11 & 5812 & 2087.86 & -0.098129185 &  900724 & -165.88 & -1000587.0597 & 7 & 2023\\\\\n",
       "\t19 & 165914 & 1 & 2023-07-28 & CMG & CHIPOTLE MEXICAN GRILL INC &  687344 & 1912.52 & 1918.640 & 1877.645 & 1898.21 & 11 & 5812 & 1882.98 &  0.015687899 & -678377 & -143.46 &   482121.6422 & 7 & 2023\\\\\n",
       "\t20 & 165914 & 1 & 2023-07-31 & CMG & CHIPOTLE MEXICAN GRILL INC &  489097 & 1962.28 & 1975.170 & 1916.810 & 1925.56 & 11 & 5812 & 1912.52 &  0.026018029 & -198247 & -165.23 &   273042.8420 & 7 & 2023\\\\\n",
       "\\end{tabular}\n"
      ],
      "text/markdown": [
       "\n",
       "A data.frame: 20 × 19\n",
       "\n",
       "| <!--/--> | GVKEY &lt;int&gt; | iid &lt;int&gt; | datadate &lt;date&gt; | tic &lt;chr&gt; | conm &lt;chr&gt; | cshtrd &lt;int&gt; | prccd &lt;dbl&gt; | prchd &lt;dbl&gt; | prcld &lt;dbl&gt; | prcod &lt;dbl&gt; | exchg &lt;int&gt; | sic &lt;int&gt; | prev_close &lt;dbl&gt; | daily_return &lt;dbl&gt; | volume_change &lt;int&gt; | momentum10 &lt;dbl&gt; | MFV &lt;dbl&gt; | month &lt;dbl&gt; | year &lt;dbl&gt; |\n",
       "|---|---|---|---|---|---|---|---|---|---|---|---|---|---|---|---|---|---|---|---|\n",
       "| 1 | 165914 | 1 | 2023-07-03 | CMG | CHIPOTLE MEXICAN GRILL INC |  155596 | 2123.54 | 2147.520 | 2119.045 | 2138.00 | 11 | 5812 | 2139.00 | -0.007227676 | -117406 |   90.62 |  -106471.9248 | 7 | 2023 |\n",
       "| 2 | 165914 | 1 | 2023-07-05 | CMG | CHIPOTLE MEXICAN GRILL INC |  150741 | 2120.71 | 2125.000 | 2110.030 | 2117.14 | 11 | 5812 | 2123.54 | -0.001332680 |   -4855 |   70.91 |    64344.3547 | 7 | 2023 |\n",
       "| 3 | 165914 | 1 | 2023-07-06 | CMG | CHIPOTLE MEXICAN GRILL INC |  168693 | 2093.37 | 2114.295 | 2092.430 | 2108.49 | 11 | 5812 | 2120.71 | -0.012891909 |   17952 |   18.89 |  -154189.8876 | 7 | 2023 |\n",
       "| 4 | 165914 | 1 | 2023-07-07 | CMG | CHIPOTLE MEXICAN GRILL INC |  228989 | 2077.46 | 2091.620 | 2071.120 | 2080.92 | 11 | 5812 | 2093.37 | -0.007600185 |   60296 |   26.94 |   -87350.9259 | 7 | 2023 |\n",
       "| 5 | 165914 | 1 | 2023-07-10 | CMG | CHIPOTLE MEXICAN GRILL INC |  168982 | 2093.09 | 2098.795 | 2074.870 | 2074.87 | 11 | 5812 | 2077.46 |  0.007523611 |  -60007 |   49.41 |    88393.3011 | 7 | 2023 |\n",
       "| 6 | 165914 | 1 | 2023-07-11 | CMG | CHIPOTLE MEXICAN GRILL INC |  255754 | 2053.28 | 2106.390 | 2051.565 | 2094.83 | 11 | 5812 | 2093.09 | -0.019019727 |   86772 |   20.97 |  -239753.3394 | 7 | 2023 |\n",
       "| 7 | 165914 | 1 | 2023-07-12 | CMG | CHIPOTLE MEXICAN GRILL INC |  164186 | 2076.00 | 2082.740 | 2058.250 | 2069.49 | 11 | 5812 | 2053.28 |  0.011065222 |  -91568 |    9.27 |    73813.3058 | 7 | 2023 |\n",
       "| 8 | 165914 | 1 | 2023-07-13 | CMG | CHIPOTLE MEXICAN GRILL INC |  224951 | 2048.86 | 2088.800 | 2046.930 | 2085.20 | 11 | 5812 | 2076.00 | -0.013073218 |   60765 |  -52.63 |  -204212.7421 | 7 | 2023 |\n",
       "| 9 | 165914 | 1 | 2023-07-14 | CMG | CHIPOTLE MEXICAN GRILL INC |  258794 | 2055.98 | 2078.235 | 2033.765 | 2058.17 | 11 | 5812 | 2048.86 |  0.003475103 |   33843 |  -54.62 |     -232.7808 | 7 | 2023 |\n",
       "| 10 | 165914 | 1 | 2023-07-17 | CMG | CHIPOTLE MEXICAN GRILL INC |  342021 | 2127.51 | 2130.000 | 2062.950 | 2064.55 | 11 | 5812 | 2055.98 |  0.034791194 |   83227 |  -11.49 |   316618.0980 | 7 | 2023 |\n",
       "| 11 | 165914 | 1 | 2023-07-18 | CMG | CHIPOTLE MEXICAN GRILL INC |  293195 | 2153.20 | 2173.634 | 2119.990 | 2152.70 | 11 | 5812 | 2127.51 |  0.012075149 |  -48826 |   29.66 |    69830.1437 | 7 | 2023 |\n",
       "| 12 | 165914 | 1 | 2023-07-19 | CMG | CHIPOTLE MEXICAN GRILL INC |  235106 | 2139.13 | 2175.010 | 2138.050 | 2165.01 | 11 | 5812 | 2153.20 | -0.006534460 |  -58089 |   18.42 |  -221366.0390 | 7 | 2023 |\n",
       "| 13 | 165914 | 1 | 2023-07-20 | CMG | CHIPOTLE MEXICAN GRILL INC |  292507 | 2094.71 | 2135.000 | 2084.430 | 2128.00 | 11 | 5812 | 2139.13 | -0.020765451 |   57401 |    1.34 |  -173583.8456 | 7 | 2023 |\n",
       "| 14 | 165914 | 1 | 2023-07-21 | CMG | CHIPOTLE MEXICAN GRILL INC |  284724 | 2098.87 | 2130.140 | 2086.440 | 2114.29 | 11 | 5812 | 2094.71 |  0.001985955 |   -7783 |   21.41 |  -122750.5757 | 7 | 2023 |\n",
       "| 15 | 165914 | 1 | 2023-07-24 | CMG | CHIPOTLE MEXICAN GRILL INC |  313295 | 2082.99 | 2107.860 | 2043.780 | 2104.32 | 11 | 5812 | 2098.87 | -0.007565976 |   28571 |  -10.10 |    70110.0234 | 7 | 2023 |\n",
       "| 16 | 165914 | 1 | 2023-07-25 | CMG | CHIPOTLE MEXICAN GRILL INC |  214951 | 2092.34 | 2104.930 | 2086.050 | 2088.35 | 11 | 5812 | 2082.99 |  0.004488740 |  -98344 |   39.06 |   -71726.2341 | 7 | 2023 |\n",
       "| 17 | 165914 | 1 | 2023-07-26 | CMG | CHIPOTLE MEXICAN GRILL INC |  464997 | 2087.86 | 2100.040 | 2065.010 | 2091.85 | 11 | 5812 | 2092.34 | -0.002141143 |  250046 |   11.86 |   141636.2544 | 7 | 2023 |\n",
       "| 18 | 165914 | 1 | 2023-07-27 | CMG | CHIPOTLE MEXICAN GRILL INC | 1365721 | 1882.98 | 1949.990 | 1872.640 | 1925.02 | 11 | 5812 | 2087.86 | -0.098129185 |  900724 | -165.88 | -1000587.0597 | 7 | 2023 |\n",
       "| 19 | 165914 | 1 | 2023-07-28 | CMG | CHIPOTLE MEXICAN GRILL INC |  687344 | 1912.52 | 1918.640 | 1877.645 | 1898.21 | 11 | 5812 | 1882.98 |  0.015687899 | -678377 | -143.46 |   482121.6422 | 7 | 2023 |\n",
       "| 20 | 165914 | 1 | 2023-07-31 | CMG | CHIPOTLE MEXICAN GRILL INC |  489097 | 1962.28 | 1975.170 | 1916.810 | 1925.56 | 11 | 5812 | 1912.52 |  0.026018029 | -198247 | -165.23 |   273042.8420 | 7 | 2023 |\n",
       "\n"
      ],
      "text/plain": [
       "   GVKEY  iid datadate   tic conm                       cshtrd  prccd  \n",
       "1  165914 1   2023-07-03 CMG CHIPOTLE MEXICAN GRILL INC  155596 2123.54\n",
       "2  165914 1   2023-07-05 CMG CHIPOTLE MEXICAN GRILL INC  150741 2120.71\n",
       "3  165914 1   2023-07-06 CMG CHIPOTLE MEXICAN GRILL INC  168693 2093.37\n",
       "4  165914 1   2023-07-07 CMG CHIPOTLE MEXICAN GRILL INC  228989 2077.46\n",
       "5  165914 1   2023-07-10 CMG CHIPOTLE MEXICAN GRILL INC  168982 2093.09\n",
       "6  165914 1   2023-07-11 CMG CHIPOTLE MEXICAN GRILL INC  255754 2053.28\n",
       "7  165914 1   2023-07-12 CMG CHIPOTLE MEXICAN GRILL INC  164186 2076.00\n",
       "8  165914 1   2023-07-13 CMG CHIPOTLE MEXICAN GRILL INC  224951 2048.86\n",
       "9  165914 1   2023-07-14 CMG CHIPOTLE MEXICAN GRILL INC  258794 2055.98\n",
       "10 165914 1   2023-07-17 CMG CHIPOTLE MEXICAN GRILL INC  342021 2127.51\n",
       "11 165914 1   2023-07-18 CMG CHIPOTLE MEXICAN GRILL INC  293195 2153.20\n",
       "12 165914 1   2023-07-19 CMG CHIPOTLE MEXICAN GRILL INC  235106 2139.13\n",
       "13 165914 1   2023-07-20 CMG CHIPOTLE MEXICAN GRILL INC  292507 2094.71\n",
       "14 165914 1   2023-07-21 CMG CHIPOTLE MEXICAN GRILL INC  284724 2098.87\n",
       "15 165914 1   2023-07-24 CMG CHIPOTLE MEXICAN GRILL INC  313295 2082.99\n",
       "16 165914 1   2023-07-25 CMG CHIPOTLE MEXICAN GRILL INC  214951 2092.34\n",
       "17 165914 1   2023-07-26 CMG CHIPOTLE MEXICAN GRILL INC  464997 2087.86\n",
       "18 165914 1   2023-07-27 CMG CHIPOTLE MEXICAN GRILL INC 1365721 1882.98\n",
       "19 165914 1   2023-07-28 CMG CHIPOTLE MEXICAN GRILL INC  687344 1912.52\n",
       "20 165914 1   2023-07-31 CMG CHIPOTLE MEXICAN GRILL INC  489097 1962.28\n",
       "   prchd    prcld    prcod   exchg sic  prev_close daily_return volume_change\n",
       "1  2147.520 2119.045 2138.00 11    5812 2139.00    -0.007227676 -117406      \n",
       "2  2125.000 2110.030 2117.14 11    5812 2123.54    -0.001332680   -4855      \n",
       "3  2114.295 2092.430 2108.49 11    5812 2120.71    -0.012891909   17952      \n",
       "4  2091.620 2071.120 2080.92 11    5812 2093.37    -0.007600185   60296      \n",
       "5  2098.795 2074.870 2074.87 11    5812 2077.46     0.007523611  -60007      \n",
       "6  2106.390 2051.565 2094.83 11    5812 2093.09    -0.019019727   86772      \n",
       "7  2082.740 2058.250 2069.49 11    5812 2053.28     0.011065222  -91568      \n",
       "8  2088.800 2046.930 2085.20 11    5812 2076.00    -0.013073218   60765      \n",
       "9  2078.235 2033.765 2058.17 11    5812 2048.86     0.003475103   33843      \n",
       "10 2130.000 2062.950 2064.55 11    5812 2055.98     0.034791194   83227      \n",
       "11 2173.634 2119.990 2152.70 11    5812 2127.51     0.012075149  -48826      \n",
       "12 2175.010 2138.050 2165.01 11    5812 2153.20    -0.006534460  -58089      \n",
       "13 2135.000 2084.430 2128.00 11    5812 2139.13    -0.020765451   57401      \n",
       "14 2130.140 2086.440 2114.29 11    5812 2094.71     0.001985955   -7783      \n",
       "15 2107.860 2043.780 2104.32 11    5812 2098.87    -0.007565976   28571      \n",
       "16 2104.930 2086.050 2088.35 11    5812 2082.99     0.004488740  -98344      \n",
       "17 2100.040 2065.010 2091.85 11    5812 2092.34    -0.002141143  250046      \n",
       "18 1949.990 1872.640 1925.02 11    5812 2087.86    -0.098129185  900724      \n",
       "19 1918.640 1877.645 1898.21 11    5812 1882.98     0.015687899 -678377      \n",
       "20 1975.170 1916.810 1925.56 11    5812 1912.52     0.026018029 -198247      \n",
       "   momentum10 MFV           month year\n",
       "1    90.62     -106471.9248 7     2023\n",
       "2    70.91       64344.3547 7     2023\n",
       "3    18.89     -154189.8876 7     2023\n",
       "4    26.94      -87350.9259 7     2023\n",
       "5    49.41       88393.3011 7     2023\n",
       "6    20.97     -239753.3394 7     2023\n",
       "7     9.27       73813.3058 7     2023\n",
       "8   -52.63     -204212.7421 7     2023\n",
       "9   -54.62        -232.7808 7     2023\n",
       "10  -11.49      316618.0980 7     2023\n",
       "11   29.66       69830.1437 7     2023\n",
       "12   18.42     -221366.0390 7     2023\n",
       "13    1.34     -173583.8456 7     2023\n",
       "14   21.41     -122750.5757 7     2023\n",
       "15  -10.10       70110.0234 7     2023\n",
       "16   39.06      -71726.2341 7     2023\n",
       "17   11.86      141636.2544 7     2023\n",
       "18 -165.88    -1000587.0597 7     2023\n",
       "19 -143.46      482121.6422 7     2023\n",
       "20 -165.23      273042.8420 7     2023"
      ]
     },
     "metadata": {},
     "output_type": "display_data"
    }
   ],
   "source": [
    "# Load data into dataframe\n",
    "print(\"Hey Guys\")\n",
    "all_data <- read.csv(\"compustat_food_bev.csv\")\n",
    "\n",
    "# Filter rows where tic = \"CMG\"\n",
    "chipotle_data <- filter(all_data, tic == \"CMG\")\n",
    "\n",
    "# Checking for correct sample\n",
    "#head(chipotle_data)\n",
    "\n",
    "# Add Prev Day Returns\n",
    "chipotle_data$prev_close = lag(chipotle_data$prccd)\n",
    "#head(chipotle_data)\n",
    "\n",
    "# Remove NA values\n",
    "#chipotle_data <- na.omit(chipotle_data)\n",
    "#head(chipotle_data)\n",
    "\n",
    "chipotle_data$daily_return <- (chipotle_data$prccd - chipotle_data$prev_close) / chipotle_data$prev_close\n",
    "\n",
    "chipotle_data$volume_change <- chipotle_data$cshtrd - lag(chipotle_data$cshtrd)\n",
    "\n",
    "chipotle_data$momentum10 <- chipotle_data$prccd - lag(chipotle_data$prccd, n = 10)\n",
    "\n",
    "chipotle_data$MFV <- ( ((chipotle_data$prccd - chipotle_data$prcld) - (chipotle_data$prchd - chipotle_data$prccd)) / \n",
    "    (chipotle_data$prchd - chipotle_data$prcld) ) * chipotle_data$cshtrd\n",
    "\n",
    "chipotle_data$datadate <- as.Date(chipotle_data$datadate, format = \"%d/%m/%Y\")\n",
    "\n",
    "chipotle_data$month <- month(chipotle_data$datadate)\n",
    "chipotle_data$year <- year(chipotle_data$datadate)\n",
    "\n",
    "\n",
    "head(chipotle_data, n = 10)\n",
    "\n",
    "CMG_Jun_2023_TradeVolume <- chipotle_data %>%\n",
    "    filter(month == 6, year == 2023) %>%\n",
    "    pull(volume_change) %>%\n",
    "    sum(na.rm = TRUE)\n",
    "\n",
    "CMG_MeanReturn <- chipotle_data %>%\n",
    "    pull(daily_return) %>%\n",
    "    mean(na.rm = TRUE)\n",
    "\n",
    "highest_prchd <- chipotle_data %>%\n",
    "  filter(prchd == max(prchd, na.rm = TRUE))\n",
    "\n",
    "highest_daily_return <- chipotle_data %>%\n",
    "  filter(daily_return == max(daily_return, na.rm = TRUE))\n",
    "\n",
    "print(glue(\"Total trading volume: {CMG_Jun_2023_TradeVolume}\"))\n",
    "print(glue(\"Mean Daily Return was: {round(CMG_MeanReturn * 100, 2)}%\"))\n",
    "print(glue(\"The highest positive price was {highest_prchd$prchd} on {highest_prchd$datadate}\"))\n",
    "print(glue(\"The highest daily return was {round(highest_daily_return$daily_return * 100, 2)}% on {highest_daily_return$datadate}\"))\n",
    "\n",
    "# Data for July 2023:\n",
    "#head(filter(chipotle_data, month == 7, year == 2023), n = 30)\n",
    "\n",
    "    \n",
    "\n",
    "\n",
    "# Add daily return"
   ]
  },
  {
   "cell_type": "markdown",
   "id": "41c9f1ed",
   "metadata": {},
   "source": [
    "## Wendy"
   ]
  },
  {
   "cell_type": "markdown",
   "id": "bb8974bd",
   "metadata": {},
   "source": [
    "Import libiraries"
   ]
  },
  {
   "cell_type": "code",
   "execution_count": null,
   "id": "28a1aeaa",
   "metadata": {
    "vscode": {
     "languageId": "r"
    }
   },
   "outputs": [
    {
     "name": "stderr",
     "output_type": "stream",
     "text": [
      "\n",
      "Attaching package: ‘dplyr’\n",
      "\n",
      "\n",
      "The following objects are masked from ‘package:stats’:\n",
      "\n",
      "    filter, lag\n",
      "\n",
      "\n",
      "The following objects are masked from ‘package:base’:\n",
      "\n",
      "    intersect, setdiff, setequal, union\n",
      "\n",
      "\n",
      "\n",
      "Attaching package: ‘lubridate’\n",
      "\n",
      "\n",
      "The following objects are masked from ‘package:base’:\n",
      "\n",
      "    date, intersect, setdiff, union\n",
      "\n",
      "\n"
     ]
    }
   ],
   "source": [
    "library(dplyr)\n",
    "library(lubridate)"
   ]
  },
  {
   "cell_type": "markdown",
   "id": "ff215c9d",
   "metadata": {},
   "source": [
    "Import data"
   ]
  },
  {
   "cell_type": "code",
   "execution_count": null,
   "id": "fa5703f8",
   "metadata": {
    "vscode": {
     "languageId": "r"
    }
   },
   "outputs": [
    {
     "data": {
      "text/html": [
       "<table class=\"dataframe\">\n",
       "<caption>A data.frame: 6 × 12</caption>\n",
       "<thead>\n",
       "\t<tr><th></th><th scope=col>GVKEY</th><th scope=col>iid</th><th scope=col>datadate</th><th scope=col>tic</th><th scope=col>conm</th><th scope=col>cshtrd</th><th scope=col>prccd</th><th scope=col>prchd</th><th scope=col>prcld</th><th scope=col>prcod</th><th scope=col>exchg</th><th scope=col>sic</th></tr>\n",
       "\t<tr><th></th><th scope=col>&lt;int&gt;</th><th scope=col>&lt;int&gt;</th><th scope=col>&lt;chr&gt;</th><th scope=col>&lt;chr&gt;</th><th scope=col>&lt;chr&gt;</th><th scope=col>&lt;int&gt;</th><th scope=col>&lt;dbl&gt;</th><th scope=col>&lt;dbl&gt;</th><th scope=col>&lt;dbl&gt;</th><th scope=col>&lt;dbl&gt;</th><th scope=col>&lt;int&gt;</th><th scope=col>&lt;int&gt;</th></tr>\n",
       "</thead>\n",
       "<tbody>\n",
       "\t<tr><th scope=row>1</th><td>186785</td><td>1</td><td>01/09/2020</td><td>ARCO</td><td>ARCOS DORADOS HOLDINGS INC</td><td> 813895</td><td>4.47</td><td>4.540</td><td>4.394</td><td>4.41</td><td>11</td><td>5812</td></tr>\n",
       "\t<tr><th scope=row>2</th><td>186785</td><td>1</td><td>02/09/2020</td><td>ARCO</td><td>ARCOS DORADOS HOLDINGS INC</td><td> 518021</td><td>4.48</td><td>4.522</td><td>4.400</td><td>4.49</td><td>11</td><td>5812</td></tr>\n",
       "\t<tr><th scope=row>3</th><td>186785</td><td>1</td><td>03/09/2020</td><td>ARCO</td><td>ARCOS DORADOS HOLDINGS INC</td><td> 947825</td><td>4.44</td><td>4.525</td><td>4.360</td><td>4.48</td><td>11</td><td>5812</td></tr>\n",
       "\t<tr><th scope=row>4</th><td>186785</td><td>1</td><td>04/09/2020</td><td>ARCO</td><td>ARCOS DORADOS HOLDINGS INC</td><td> 534286</td><td>4.41</td><td>4.490</td><td>4.280</td><td>4.48</td><td>11</td><td>5812</td></tr>\n",
       "\t<tr><th scope=row>5</th><td>186785</td><td>1</td><td>08/09/2020</td><td>ARCO</td><td>ARCOS DORADOS HOLDINGS INC</td><td> 669380</td><td>4.27</td><td>4.415</td><td>4.260</td><td>4.34</td><td>11</td><td>5812</td></tr>\n",
       "\t<tr><th scope=row>6</th><td>186785</td><td>1</td><td>09/09/2020</td><td>ARCO</td><td>ARCOS DORADOS HOLDINGS INC</td><td>1152416</td><td>4.38</td><td>4.420</td><td>4.270</td><td>4.27</td><td>11</td><td>5812</td></tr>\n",
       "</tbody>\n",
       "</table>\n"
      ],
      "text/latex": [
       "A data.frame: 6 × 12\n",
       "\\begin{tabular}{r|llllllllllll}\n",
       "  & GVKEY & iid & datadate & tic & conm & cshtrd & prccd & prchd & prcld & prcod & exchg & sic\\\\\n",
       "  & <int> & <int> & <chr> & <chr> & <chr> & <int> & <dbl> & <dbl> & <dbl> & <dbl> & <int> & <int>\\\\\n",
       "\\hline\n",
       "\t1 & 186785 & 1 & 01/09/2020 & ARCO & ARCOS DORADOS HOLDINGS INC &  813895 & 4.47 & 4.540 & 4.394 & 4.41 & 11 & 5812\\\\\n",
       "\t2 & 186785 & 1 & 02/09/2020 & ARCO & ARCOS DORADOS HOLDINGS INC &  518021 & 4.48 & 4.522 & 4.400 & 4.49 & 11 & 5812\\\\\n",
       "\t3 & 186785 & 1 & 03/09/2020 & ARCO & ARCOS DORADOS HOLDINGS INC &  947825 & 4.44 & 4.525 & 4.360 & 4.48 & 11 & 5812\\\\\n",
       "\t4 & 186785 & 1 & 04/09/2020 & ARCO & ARCOS DORADOS HOLDINGS INC &  534286 & 4.41 & 4.490 & 4.280 & 4.48 & 11 & 5812\\\\\n",
       "\t5 & 186785 & 1 & 08/09/2020 & ARCO & ARCOS DORADOS HOLDINGS INC &  669380 & 4.27 & 4.415 & 4.260 & 4.34 & 11 & 5812\\\\\n",
       "\t6 & 186785 & 1 & 09/09/2020 & ARCO & ARCOS DORADOS HOLDINGS INC & 1152416 & 4.38 & 4.420 & 4.270 & 4.27 & 11 & 5812\\\\\n",
       "\\end{tabular}\n"
      ],
      "text/markdown": [
       "\n",
       "A data.frame: 6 × 12\n",
       "\n",
       "| <!--/--> | GVKEY &lt;int&gt; | iid &lt;int&gt; | datadate &lt;chr&gt; | tic &lt;chr&gt; | conm &lt;chr&gt; | cshtrd &lt;int&gt; | prccd &lt;dbl&gt; | prchd &lt;dbl&gt; | prcld &lt;dbl&gt; | prcod &lt;dbl&gt; | exchg &lt;int&gt; | sic &lt;int&gt; |\n",
       "|---|---|---|---|---|---|---|---|---|---|---|---|---|\n",
       "| 1 | 186785 | 1 | 01/09/2020 | ARCO | ARCOS DORADOS HOLDINGS INC |  813895 | 4.47 | 4.540 | 4.394 | 4.41 | 11 | 5812 |\n",
       "| 2 | 186785 | 1 | 02/09/2020 | ARCO | ARCOS DORADOS HOLDINGS INC |  518021 | 4.48 | 4.522 | 4.400 | 4.49 | 11 | 5812 |\n",
       "| 3 | 186785 | 1 | 03/09/2020 | ARCO | ARCOS DORADOS HOLDINGS INC |  947825 | 4.44 | 4.525 | 4.360 | 4.48 | 11 | 5812 |\n",
       "| 4 | 186785 | 1 | 04/09/2020 | ARCO | ARCOS DORADOS HOLDINGS INC |  534286 | 4.41 | 4.490 | 4.280 | 4.48 | 11 | 5812 |\n",
       "| 5 | 186785 | 1 | 08/09/2020 | ARCO | ARCOS DORADOS HOLDINGS INC |  669380 | 4.27 | 4.415 | 4.260 | 4.34 | 11 | 5812 |\n",
       "| 6 | 186785 | 1 | 09/09/2020 | ARCO | ARCOS DORADOS HOLDINGS INC | 1152416 | 4.38 | 4.420 | 4.270 | 4.27 | 11 | 5812 |\n",
       "\n"
      ],
      "text/plain": [
       "  GVKEY  iid datadate   tic  conm                       cshtrd  prccd prchd\n",
       "1 186785 1   01/09/2020 ARCO ARCOS DORADOS HOLDINGS INC  813895 4.47  4.540\n",
       "2 186785 1   02/09/2020 ARCO ARCOS DORADOS HOLDINGS INC  518021 4.48  4.522\n",
       "3 186785 1   03/09/2020 ARCO ARCOS DORADOS HOLDINGS INC  947825 4.44  4.525\n",
       "4 186785 1   04/09/2020 ARCO ARCOS DORADOS HOLDINGS INC  534286 4.41  4.490\n",
       "5 186785 1   08/09/2020 ARCO ARCOS DORADOS HOLDINGS INC  669380 4.27  4.415\n",
       "6 186785 1   09/09/2020 ARCO ARCOS DORADOS HOLDINGS INC 1152416 4.38  4.420\n",
       "  prcld prcod exchg sic \n",
       "1 4.394 4.41  11    5812\n",
       "2 4.400 4.49  11    5812\n",
       "3 4.360 4.48  11    5812\n",
       "4 4.280 4.48  11    5812\n",
       "5 4.260 4.34  11    5812\n",
       "6 4.270 4.27  11    5812"
      ]
     },
     "metadata": {},
     "output_type": "display_data"
    }
   ],
   "source": [
    "stock <- read.csv('compustat_food_bev.csv')\n",
    "head(stock)"
   ]
  },
  {
   "cell_type": "code",
   "execution_count": null,
   "id": "03503950",
   "metadata": {
    "vscode": {
     "languageId": "r"
    }
   },
   "outputs": [
    {
     "data": {
      "text/html": [
       "<table class=\"dataframe\">\n",
       "<caption>A data.frame: 6 × 12</caption>\n",
       "<thead>\n",
       "\t<tr><th></th><th scope=col>GVKEY</th><th scope=col>iid</th><th scope=col>datadate</th><th scope=col>tic</th><th scope=col>conm</th><th scope=col>cshtrd</th><th scope=col>prccd</th><th scope=col>prchd</th><th scope=col>prcld</th><th scope=col>prcod</th><th scope=col>exchg</th><th scope=col>sic</th></tr>\n",
       "\t<tr><th></th><th scope=col>&lt;int&gt;</th><th scope=col>&lt;int&gt;</th><th scope=col>&lt;chr&gt;</th><th scope=col>&lt;chr&gt;</th><th scope=col>&lt;chr&gt;</th><th scope=col>&lt;int&gt;</th><th scope=col>&lt;dbl&gt;</th><th scope=col>&lt;dbl&gt;</th><th scope=col>&lt;dbl&gt;</th><th scope=col>&lt;dbl&gt;</th><th scope=col>&lt;int&gt;</th><th scope=col>&lt;int&gt;</th></tr>\n",
       "</thead>\n",
       "<tbody>\n",
       "\t<tr><th scope=row>1</th><td>3708</td><td>3</td><td>01/09/2020</td><td>WEN</td><td>WENDY'S CO</td><td>2929911</td><td>20.950</td><td>21.16</td><td>20.7400</td><td>20.94</td><td>14</td><td>5812</td></tr>\n",
       "\t<tr><th scope=row>2</th><td>3708</td><td>3</td><td>02/09/2020</td><td>WEN</td><td>WENDY'S CO</td><td>3814903</td><td>21.970</td><td>22.08</td><td>21.0100</td><td>21.01</td><td>14</td><td>5812</td></tr>\n",
       "\t<tr><th scope=row>3</th><td>3708</td><td>3</td><td>03/09/2020</td><td>WEN</td><td>WENDY'S CO</td><td>4280982</td><td>21.950</td><td>22.48</td><td>21.6450</td><td>21.95</td><td>14</td><td>5812</td></tr>\n",
       "\t<tr><th scope=row>4</th><td>3708</td><td>3</td><td>04/09/2020</td><td>WEN</td><td>WENDY'S CO</td><td>3351921</td><td>21.580</td><td>22.38</td><td>21.4050</td><td>22.20</td><td>14</td><td>5812</td></tr>\n",
       "\t<tr><th scope=row>5</th><td>3708</td><td>3</td><td>08/09/2020</td><td>WEN</td><td>WENDY'S CO</td><td>3439170</td><td>21.850</td><td>22.05</td><td>21.2300</td><td>21.43</td><td>14</td><td>5812</td></tr>\n",
       "\t<tr><th scope=row>6</th><td>3708</td><td>3</td><td>09/09/2020</td><td>WEN</td><td>WENDY'S CO</td><td>2847727</td><td>22.495</td><td>22.61</td><td>21.8322</td><td>22.00</td><td>14</td><td>5812</td></tr>\n",
       "</tbody>\n",
       "</table>\n"
      ],
      "text/latex": [
       "A data.frame: 6 × 12\n",
       "\\begin{tabular}{r|llllllllllll}\n",
       "  & GVKEY & iid & datadate & tic & conm & cshtrd & prccd & prchd & prcld & prcod & exchg & sic\\\\\n",
       "  & <int> & <int> & <chr> & <chr> & <chr> & <int> & <dbl> & <dbl> & <dbl> & <dbl> & <int> & <int>\\\\\n",
       "\\hline\n",
       "\t1 & 3708 & 3 & 01/09/2020 & WEN & WENDY'S CO & 2929911 & 20.950 & 21.16 & 20.7400 & 20.94 & 14 & 5812\\\\\n",
       "\t2 & 3708 & 3 & 02/09/2020 & WEN & WENDY'S CO & 3814903 & 21.970 & 22.08 & 21.0100 & 21.01 & 14 & 5812\\\\\n",
       "\t3 & 3708 & 3 & 03/09/2020 & WEN & WENDY'S CO & 4280982 & 21.950 & 22.48 & 21.6450 & 21.95 & 14 & 5812\\\\\n",
       "\t4 & 3708 & 3 & 04/09/2020 & WEN & WENDY'S CO & 3351921 & 21.580 & 22.38 & 21.4050 & 22.20 & 14 & 5812\\\\\n",
       "\t5 & 3708 & 3 & 08/09/2020 & WEN & WENDY'S CO & 3439170 & 21.850 & 22.05 & 21.2300 & 21.43 & 14 & 5812\\\\\n",
       "\t6 & 3708 & 3 & 09/09/2020 & WEN & WENDY'S CO & 2847727 & 22.495 & 22.61 & 21.8322 & 22.00 & 14 & 5812\\\\\n",
       "\\end{tabular}\n"
      ],
      "text/markdown": [
       "\n",
       "A data.frame: 6 × 12\n",
       "\n",
       "| <!--/--> | GVKEY &lt;int&gt; | iid &lt;int&gt; | datadate &lt;chr&gt; | tic &lt;chr&gt; | conm &lt;chr&gt; | cshtrd &lt;int&gt; | prccd &lt;dbl&gt; | prchd &lt;dbl&gt; | prcld &lt;dbl&gt; | prcod &lt;dbl&gt; | exchg &lt;int&gt; | sic &lt;int&gt; |\n",
       "|---|---|---|---|---|---|---|---|---|---|---|---|---|\n",
       "| 1 | 3708 | 3 | 01/09/2020 | WEN | WENDY'S CO | 2929911 | 20.950 | 21.16 | 20.7400 | 20.94 | 14 | 5812 |\n",
       "| 2 | 3708 | 3 | 02/09/2020 | WEN | WENDY'S CO | 3814903 | 21.970 | 22.08 | 21.0100 | 21.01 | 14 | 5812 |\n",
       "| 3 | 3708 | 3 | 03/09/2020 | WEN | WENDY'S CO | 4280982 | 21.950 | 22.48 | 21.6450 | 21.95 | 14 | 5812 |\n",
       "| 4 | 3708 | 3 | 04/09/2020 | WEN | WENDY'S CO | 3351921 | 21.580 | 22.38 | 21.4050 | 22.20 | 14 | 5812 |\n",
       "| 5 | 3708 | 3 | 08/09/2020 | WEN | WENDY'S CO | 3439170 | 21.850 | 22.05 | 21.2300 | 21.43 | 14 | 5812 |\n",
       "| 6 | 3708 | 3 | 09/09/2020 | WEN | WENDY'S CO | 2847727 | 22.495 | 22.61 | 21.8322 | 22.00 | 14 | 5812 |\n",
       "\n"
      ],
      "text/plain": [
       "  GVKEY iid datadate   tic conm       cshtrd  prccd  prchd prcld   prcod exchg\n",
       "1 3708  3   01/09/2020 WEN WENDY'S CO 2929911 20.950 21.16 20.7400 20.94 14   \n",
       "2 3708  3   02/09/2020 WEN WENDY'S CO 3814903 21.970 22.08 21.0100 21.01 14   \n",
       "3 3708  3   03/09/2020 WEN WENDY'S CO 4280982 21.950 22.48 21.6450 21.95 14   \n",
       "4 3708  3   04/09/2020 WEN WENDY'S CO 3351921 21.580 22.38 21.4050 22.20 14   \n",
       "5 3708  3   08/09/2020 WEN WENDY'S CO 3439170 21.850 22.05 21.2300 21.43 14   \n",
       "6 3708  3   09/09/2020 WEN WENDY'S CO 2847727 22.495 22.61 21.8322 22.00 14   \n",
       "  sic \n",
       "1 5812\n",
       "2 5812\n",
       "3 5812\n",
       "4 5812\n",
       "5 5812\n",
       "6 5812"
      ]
     },
     "metadata": {},
     "output_type": "display_data"
    }
   ],
   "source": [
    "wendy = filter(stock, tic==\"WEN\")\n",
    "head(wendy)"
   ]
  },
  {
   "cell_type": "markdown",
   "id": "a88c12b0",
   "metadata": {},
   "source": [
    "Daily return"
   ]
  },
  {
   "cell_type": "code",
   "execution_count": null,
   "id": "ac44725b",
   "metadata": {
    "vscode": {
     "languageId": "r"
    }
   },
   "outputs": [
    {
     "data": {
      "text/html": [
       "<table class=\"dataframe\">\n",
       "<caption>A data.frame: 6 × 13</caption>\n",
       "<thead>\n",
       "\t<tr><th></th><th scope=col>GVKEY</th><th scope=col>iid</th><th scope=col>datadate</th><th scope=col>tic</th><th scope=col>conm</th><th scope=col>cshtrd</th><th scope=col>prccd</th><th scope=col>prchd</th><th scope=col>prcld</th><th scope=col>prcod</th><th scope=col>exchg</th><th scope=col>sic</th><th scope=col>daily_return</th></tr>\n",
       "\t<tr><th></th><th scope=col>&lt;int&gt;</th><th scope=col>&lt;int&gt;</th><th scope=col>&lt;chr&gt;</th><th scope=col>&lt;chr&gt;</th><th scope=col>&lt;chr&gt;</th><th scope=col>&lt;int&gt;</th><th scope=col>&lt;dbl&gt;</th><th scope=col>&lt;dbl&gt;</th><th scope=col>&lt;dbl&gt;</th><th scope=col>&lt;dbl&gt;</th><th scope=col>&lt;int&gt;</th><th scope=col>&lt;int&gt;</th><th scope=col>&lt;dbl&gt;</th></tr>\n",
       "</thead>\n",
       "<tbody>\n",
       "\t<tr><th scope=row>1</th><td>3708</td><td>3</td><td>01/09/2020</td><td>WEN</td><td>WENDY'S CO</td><td>2929911</td><td>20.950</td><td>21.16</td><td>20.7400</td><td>20.94</td><td>14</td><td>5812</td><td>           NA</td></tr>\n",
       "\t<tr><th scope=row>2</th><td>3708</td><td>3</td><td>02/09/2020</td><td>WEN</td><td>WENDY'S CO</td><td>3814903</td><td>21.970</td><td>22.08</td><td>21.0100</td><td>21.01</td><td>14</td><td>5812</td><td> 0.0486873508</td></tr>\n",
       "\t<tr><th scope=row>3</th><td>3708</td><td>3</td><td>03/09/2020</td><td>WEN</td><td>WENDY'S CO</td><td>4280982</td><td>21.950</td><td>22.48</td><td>21.6450</td><td>21.95</td><td>14</td><td>5812</td><td>-0.0009103323</td></tr>\n",
       "\t<tr><th scope=row>4</th><td>3708</td><td>3</td><td>04/09/2020</td><td>WEN</td><td>WENDY'S CO</td><td>3351921</td><td>21.580</td><td>22.38</td><td>21.4050</td><td>22.20</td><td>14</td><td>5812</td><td>-0.0168564920</td></tr>\n",
       "\t<tr><th scope=row>5</th><td>3708</td><td>3</td><td>08/09/2020</td><td>WEN</td><td>WENDY'S CO</td><td>3439170</td><td>21.850</td><td>22.05</td><td>21.2300</td><td>21.43</td><td>14</td><td>5812</td><td> 0.0125115848</td></tr>\n",
       "\t<tr><th scope=row>6</th><td>3708</td><td>3</td><td>09/09/2020</td><td>WEN</td><td>WENDY'S CO</td><td>2847727</td><td>22.495</td><td>22.61</td><td>21.8322</td><td>22.00</td><td>14</td><td>5812</td><td> 0.0295194508</td></tr>\n",
       "</tbody>\n",
       "</table>\n"
      ],
      "text/latex": [
       "A data.frame: 6 × 13\n",
       "\\begin{tabular}{r|lllllllllllll}\n",
       "  & GVKEY & iid & datadate & tic & conm & cshtrd & prccd & prchd & prcld & prcod & exchg & sic & daily\\_return\\\\\n",
       "  & <int> & <int> & <chr> & <chr> & <chr> & <int> & <dbl> & <dbl> & <dbl> & <dbl> & <int> & <int> & <dbl>\\\\\n",
       "\\hline\n",
       "\t1 & 3708 & 3 & 01/09/2020 & WEN & WENDY'S CO & 2929911 & 20.950 & 21.16 & 20.7400 & 20.94 & 14 & 5812 &            NA\\\\\n",
       "\t2 & 3708 & 3 & 02/09/2020 & WEN & WENDY'S CO & 3814903 & 21.970 & 22.08 & 21.0100 & 21.01 & 14 & 5812 &  0.0486873508\\\\\n",
       "\t3 & 3708 & 3 & 03/09/2020 & WEN & WENDY'S CO & 4280982 & 21.950 & 22.48 & 21.6450 & 21.95 & 14 & 5812 & -0.0009103323\\\\\n",
       "\t4 & 3708 & 3 & 04/09/2020 & WEN & WENDY'S CO & 3351921 & 21.580 & 22.38 & 21.4050 & 22.20 & 14 & 5812 & -0.0168564920\\\\\n",
       "\t5 & 3708 & 3 & 08/09/2020 & WEN & WENDY'S CO & 3439170 & 21.850 & 22.05 & 21.2300 & 21.43 & 14 & 5812 &  0.0125115848\\\\\n",
       "\t6 & 3708 & 3 & 09/09/2020 & WEN & WENDY'S CO & 2847727 & 22.495 & 22.61 & 21.8322 & 22.00 & 14 & 5812 &  0.0295194508\\\\\n",
       "\\end{tabular}\n"
      ],
      "text/markdown": [
       "\n",
       "A data.frame: 6 × 13\n",
       "\n",
       "| <!--/--> | GVKEY &lt;int&gt; | iid &lt;int&gt; | datadate &lt;chr&gt; | tic &lt;chr&gt; | conm &lt;chr&gt; | cshtrd &lt;int&gt; | prccd &lt;dbl&gt; | prchd &lt;dbl&gt; | prcld &lt;dbl&gt; | prcod &lt;dbl&gt; | exchg &lt;int&gt; | sic &lt;int&gt; | daily_return &lt;dbl&gt; |\n",
       "|---|---|---|---|---|---|---|---|---|---|---|---|---|---|\n",
       "| 1 | 3708 | 3 | 01/09/2020 | WEN | WENDY'S CO | 2929911 | 20.950 | 21.16 | 20.7400 | 20.94 | 14 | 5812 |            NA |\n",
       "| 2 | 3708 | 3 | 02/09/2020 | WEN | WENDY'S CO | 3814903 | 21.970 | 22.08 | 21.0100 | 21.01 | 14 | 5812 |  0.0486873508 |\n",
       "| 3 | 3708 | 3 | 03/09/2020 | WEN | WENDY'S CO | 4280982 | 21.950 | 22.48 | 21.6450 | 21.95 | 14 | 5812 | -0.0009103323 |\n",
       "| 4 | 3708 | 3 | 04/09/2020 | WEN | WENDY'S CO | 3351921 | 21.580 | 22.38 | 21.4050 | 22.20 | 14 | 5812 | -0.0168564920 |\n",
       "| 5 | 3708 | 3 | 08/09/2020 | WEN | WENDY'S CO | 3439170 | 21.850 | 22.05 | 21.2300 | 21.43 | 14 | 5812 |  0.0125115848 |\n",
       "| 6 | 3708 | 3 | 09/09/2020 | WEN | WENDY'S CO | 2847727 | 22.495 | 22.61 | 21.8322 | 22.00 | 14 | 5812 |  0.0295194508 |\n",
       "\n"
      ],
      "text/plain": [
       "  GVKEY iid datadate   tic conm       cshtrd  prccd  prchd prcld   prcod exchg\n",
       "1 3708  3   01/09/2020 WEN WENDY'S CO 2929911 20.950 21.16 20.7400 20.94 14   \n",
       "2 3708  3   02/09/2020 WEN WENDY'S CO 3814903 21.970 22.08 21.0100 21.01 14   \n",
       "3 3708  3   03/09/2020 WEN WENDY'S CO 4280982 21.950 22.48 21.6450 21.95 14   \n",
       "4 3708  3   04/09/2020 WEN WENDY'S CO 3351921 21.580 22.38 21.4050 22.20 14   \n",
       "5 3708  3   08/09/2020 WEN WENDY'S CO 3439170 21.850 22.05 21.2300 21.43 14   \n",
       "6 3708  3   09/09/2020 WEN WENDY'S CO 2847727 22.495 22.61 21.8322 22.00 14   \n",
       "  sic  daily_return \n",
       "1 5812            NA\n",
       "2 5812  0.0486873508\n",
       "3 5812 -0.0009103323\n",
       "4 5812 -0.0168564920\n",
       "5 5812  0.0125115848\n",
       "6 5812  0.0295194508"
      ]
     },
     "metadata": {},
     "output_type": "display_data"
    }
   ],
   "source": [
    "wendy=mutate(wendy, daily_return=(prccd-lag(prccd))/lag(prccd))\n",
    "head(wendy)"
   ]
  },
  {
   "cell_type": "markdown",
   "id": "12a8f7b0",
   "metadata": {},
   "source": [
    "Overnight return"
   ]
  },
  {
   "cell_type": "code",
   "execution_count": null,
   "id": "9d9576b0",
   "metadata": {
    "vscode": {
     "languageId": "r"
    }
   },
   "outputs": [
    {
     "data": {
      "text/html": [
       "<table class=\"dataframe\">\n",
       "<caption>A data.frame: 6 × 14</caption>\n",
       "<thead>\n",
       "\t<tr><th></th><th scope=col>GVKEY</th><th scope=col>iid</th><th scope=col>datadate</th><th scope=col>tic</th><th scope=col>conm</th><th scope=col>cshtrd</th><th scope=col>prccd</th><th scope=col>prchd</th><th scope=col>prcld</th><th scope=col>prcod</th><th scope=col>exchg</th><th scope=col>sic</th><th scope=col>daily_return</th><th scope=col>overnight_return</th></tr>\n",
       "\t<tr><th></th><th scope=col>&lt;int&gt;</th><th scope=col>&lt;int&gt;</th><th scope=col>&lt;chr&gt;</th><th scope=col>&lt;chr&gt;</th><th scope=col>&lt;chr&gt;</th><th scope=col>&lt;int&gt;</th><th scope=col>&lt;dbl&gt;</th><th scope=col>&lt;dbl&gt;</th><th scope=col>&lt;dbl&gt;</th><th scope=col>&lt;dbl&gt;</th><th scope=col>&lt;int&gt;</th><th scope=col>&lt;int&gt;</th><th scope=col>&lt;dbl&gt;</th><th scope=col>&lt;dbl&gt;</th></tr>\n",
       "</thead>\n",
       "<tbody>\n",
       "\t<tr><th scope=row>1</th><td>3708</td><td>3</td><td>01/09/2020</td><td>WEN</td><td>WENDY'S CO</td><td>2929911</td><td>20.950</td><td>21.16</td><td>20.7400</td><td>20.94</td><td>14</td><td>5812</td><td>           NA</td><td>           NA</td></tr>\n",
       "\t<tr><th scope=row>2</th><td>3708</td><td>3</td><td>02/09/2020</td><td>WEN</td><td>WENDY'S CO</td><td>3814903</td><td>21.970</td><td>22.08</td><td>21.0100</td><td>21.01</td><td>14</td><td>5812</td><td> 0.0486873508</td><td> 0.0028639618</td></tr>\n",
       "\t<tr><th scope=row>3</th><td>3708</td><td>3</td><td>03/09/2020</td><td>WEN</td><td>WENDY'S CO</td><td>4280982</td><td>21.950</td><td>22.48</td><td>21.6450</td><td>21.95</td><td>14</td><td>5812</td><td>-0.0009103323</td><td>-0.0009103323</td></tr>\n",
       "\t<tr><th scope=row>4</th><td>3708</td><td>3</td><td>04/09/2020</td><td>WEN</td><td>WENDY'S CO</td><td>3351921</td><td>21.580</td><td>22.38</td><td>21.4050</td><td>22.20</td><td>14</td><td>5812</td><td>-0.0168564920</td><td> 0.0113895216</td></tr>\n",
       "\t<tr><th scope=row>5</th><td>3708</td><td>3</td><td>08/09/2020</td><td>WEN</td><td>WENDY'S CO</td><td>3439170</td><td>21.850</td><td>22.05</td><td>21.2300</td><td>21.43</td><td>14</td><td>5812</td><td> 0.0125115848</td><td>-0.0069508804</td></tr>\n",
       "\t<tr><th scope=row>6</th><td>3708</td><td>3</td><td>09/09/2020</td><td>WEN</td><td>WENDY'S CO</td><td>2847727</td><td>22.495</td><td>22.61</td><td>21.8322</td><td>22.00</td><td>14</td><td>5812</td><td> 0.0295194508</td><td> 0.0068649886</td></tr>\n",
       "</tbody>\n",
       "</table>\n"
      ],
      "text/latex": [
       "A data.frame: 6 × 14\n",
       "\\begin{tabular}{r|llllllllllllll}\n",
       "  & GVKEY & iid & datadate & tic & conm & cshtrd & prccd & prchd & prcld & prcod & exchg & sic & daily\\_return & overnight\\_return\\\\\n",
       "  & <int> & <int> & <chr> & <chr> & <chr> & <int> & <dbl> & <dbl> & <dbl> & <dbl> & <int> & <int> & <dbl> & <dbl>\\\\\n",
       "\\hline\n",
       "\t1 & 3708 & 3 & 01/09/2020 & WEN & WENDY'S CO & 2929911 & 20.950 & 21.16 & 20.7400 & 20.94 & 14 & 5812 &            NA &            NA\\\\\n",
       "\t2 & 3708 & 3 & 02/09/2020 & WEN & WENDY'S CO & 3814903 & 21.970 & 22.08 & 21.0100 & 21.01 & 14 & 5812 &  0.0486873508 &  0.0028639618\\\\\n",
       "\t3 & 3708 & 3 & 03/09/2020 & WEN & WENDY'S CO & 4280982 & 21.950 & 22.48 & 21.6450 & 21.95 & 14 & 5812 & -0.0009103323 & -0.0009103323\\\\\n",
       "\t4 & 3708 & 3 & 04/09/2020 & WEN & WENDY'S CO & 3351921 & 21.580 & 22.38 & 21.4050 & 22.20 & 14 & 5812 & -0.0168564920 &  0.0113895216\\\\\n",
       "\t5 & 3708 & 3 & 08/09/2020 & WEN & WENDY'S CO & 3439170 & 21.850 & 22.05 & 21.2300 & 21.43 & 14 & 5812 &  0.0125115848 & -0.0069508804\\\\\n",
       "\t6 & 3708 & 3 & 09/09/2020 & WEN & WENDY'S CO & 2847727 & 22.495 & 22.61 & 21.8322 & 22.00 & 14 & 5812 &  0.0295194508 &  0.0068649886\\\\\n",
       "\\end{tabular}\n"
      ],
      "text/markdown": [
       "\n",
       "A data.frame: 6 × 14\n",
       "\n",
       "| <!--/--> | GVKEY &lt;int&gt; | iid &lt;int&gt; | datadate &lt;chr&gt; | tic &lt;chr&gt; | conm &lt;chr&gt; | cshtrd &lt;int&gt; | prccd &lt;dbl&gt; | prchd &lt;dbl&gt; | prcld &lt;dbl&gt; | prcod &lt;dbl&gt; | exchg &lt;int&gt; | sic &lt;int&gt; | daily_return &lt;dbl&gt; | overnight_return &lt;dbl&gt; |\n",
       "|---|---|---|---|---|---|---|---|---|---|---|---|---|---|---|\n",
       "| 1 | 3708 | 3 | 01/09/2020 | WEN | WENDY'S CO | 2929911 | 20.950 | 21.16 | 20.7400 | 20.94 | 14 | 5812 |            NA |            NA |\n",
       "| 2 | 3708 | 3 | 02/09/2020 | WEN | WENDY'S CO | 3814903 | 21.970 | 22.08 | 21.0100 | 21.01 | 14 | 5812 |  0.0486873508 |  0.0028639618 |\n",
       "| 3 | 3708 | 3 | 03/09/2020 | WEN | WENDY'S CO | 4280982 | 21.950 | 22.48 | 21.6450 | 21.95 | 14 | 5812 | -0.0009103323 | -0.0009103323 |\n",
       "| 4 | 3708 | 3 | 04/09/2020 | WEN | WENDY'S CO | 3351921 | 21.580 | 22.38 | 21.4050 | 22.20 | 14 | 5812 | -0.0168564920 |  0.0113895216 |\n",
       "| 5 | 3708 | 3 | 08/09/2020 | WEN | WENDY'S CO | 3439170 | 21.850 | 22.05 | 21.2300 | 21.43 | 14 | 5812 |  0.0125115848 | -0.0069508804 |\n",
       "| 6 | 3708 | 3 | 09/09/2020 | WEN | WENDY'S CO | 2847727 | 22.495 | 22.61 | 21.8322 | 22.00 | 14 | 5812 |  0.0295194508 |  0.0068649886 |\n",
       "\n"
      ],
      "text/plain": [
       "  GVKEY iid datadate   tic conm       cshtrd  prccd  prchd prcld   prcod exchg\n",
       "1 3708  3   01/09/2020 WEN WENDY'S CO 2929911 20.950 21.16 20.7400 20.94 14   \n",
       "2 3708  3   02/09/2020 WEN WENDY'S CO 3814903 21.970 22.08 21.0100 21.01 14   \n",
       "3 3708  3   03/09/2020 WEN WENDY'S CO 4280982 21.950 22.48 21.6450 21.95 14   \n",
       "4 3708  3   04/09/2020 WEN WENDY'S CO 3351921 21.580 22.38 21.4050 22.20 14   \n",
       "5 3708  3   08/09/2020 WEN WENDY'S CO 3439170 21.850 22.05 21.2300 21.43 14   \n",
       "6 3708  3   09/09/2020 WEN WENDY'S CO 2847727 22.495 22.61 21.8322 22.00 14   \n",
       "  sic  daily_return  overnight_return\n",
       "1 5812            NA            NA   \n",
       "2 5812  0.0486873508  0.0028639618   \n",
       "3 5812 -0.0009103323 -0.0009103323   \n",
       "4 5812 -0.0168564920  0.0113895216   \n",
       "5 5812  0.0125115848 -0.0069508804   \n",
       "6 5812  0.0295194508  0.0068649886   "
      ]
     },
     "metadata": {},
     "output_type": "display_data"
    }
   ],
   "source": [
    "wendy=mutate(wendy, overnight_return=(prcod-lag(prccd))/lag(prccd))\n",
    "head(wendy)"
   ]
  },
  {
   "cell_type": "markdown",
   "id": "99e17415",
   "metadata": {},
   "source": [
    "Volume change"
   ]
  },
  {
   "cell_type": "code",
   "execution_count": null,
   "id": "08ae89aa",
   "metadata": {
    "vscode": {
     "languageId": "r"
    }
   },
   "outputs": [
    {
     "data": {
      "text/html": [
       "<table class=\"dataframe\">\n",
       "<caption>A data.frame: 6 × 15</caption>\n",
       "<thead>\n",
       "\t<tr><th></th><th scope=col>GVKEY</th><th scope=col>iid</th><th scope=col>datadate</th><th scope=col>tic</th><th scope=col>conm</th><th scope=col>cshtrd</th><th scope=col>prccd</th><th scope=col>prchd</th><th scope=col>prcld</th><th scope=col>prcod</th><th scope=col>exchg</th><th scope=col>sic</th><th scope=col>daily_return</th><th scope=col>overnight_return</th><th scope=col>volume_change</th></tr>\n",
       "\t<tr><th></th><th scope=col>&lt;int&gt;</th><th scope=col>&lt;int&gt;</th><th scope=col>&lt;chr&gt;</th><th scope=col>&lt;chr&gt;</th><th scope=col>&lt;chr&gt;</th><th scope=col>&lt;int&gt;</th><th scope=col>&lt;dbl&gt;</th><th scope=col>&lt;dbl&gt;</th><th scope=col>&lt;dbl&gt;</th><th scope=col>&lt;dbl&gt;</th><th scope=col>&lt;int&gt;</th><th scope=col>&lt;int&gt;</th><th scope=col>&lt;dbl&gt;</th><th scope=col>&lt;dbl&gt;</th><th scope=col>&lt;int&gt;</th></tr>\n",
       "</thead>\n",
       "<tbody>\n",
       "\t<tr><th scope=row>1</th><td>3708</td><td>3</td><td>01/09/2020</td><td>WEN</td><td>WENDY'S CO</td><td>2929911</td><td>20.950</td><td>21.16</td><td>20.7400</td><td>20.94</td><td>14</td><td>5812</td><td>           NA</td><td>           NA</td><td>     NA</td></tr>\n",
       "\t<tr><th scope=row>2</th><td>3708</td><td>3</td><td>02/09/2020</td><td>WEN</td><td>WENDY'S CO</td><td>3814903</td><td>21.970</td><td>22.08</td><td>21.0100</td><td>21.01</td><td>14</td><td>5812</td><td> 0.0486873508</td><td> 0.0028639618</td><td> 884992</td></tr>\n",
       "\t<tr><th scope=row>3</th><td>3708</td><td>3</td><td>03/09/2020</td><td>WEN</td><td>WENDY'S CO</td><td>4280982</td><td>21.950</td><td>22.48</td><td>21.6450</td><td>21.95</td><td>14</td><td>5812</td><td>-0.0009103323</td><td>-0.0009103323</td><td> 466079</td></tr>\n",
       "\t<tr><th scope=row>4</th><td>3708</td><td>3</td><td>04/09/2020</td><td>WEN</td><td>WENDY'S CO</td><td>3351921</td><td>21.580</td><td>22.38</td><td>21.4050</td><td>22.20</td><td>14</td><td>5812</td><td>-0.0168564920</td><td> 0.0113895216</td><td>-929061</td></tr>\n",
       "\t<tr><th scope=row>5</th><td>3708</td><td>3</td><td>08/09/2020</td><td>WEN</td><td>WENDY'S CO</td><td>3439170</td><td>21.850</td><td>22.05</td><td>21.2300</td><td>21.43</td><td>14</td><td>5812</td><td> 0.0125115848</td><td>-0.0069508804</td><td>  87249</td></tr>\n",
       "\t<tr><th scope=row>6</th><td>3708</td><td>3</td><td>09/09/2020</td><td>WEN</td><td>WENDY'S CO</td><td>2847727</td><td>22.495</td><td>22.61</td><td>21.8322</td><td>22.00</td><td>14</td><td>5812</td><td> 0.0295194508</td><td> 0.0068649886</td><td>-591443</td></tr>\n",
       "</tbody>\n",
       "</table>\n"
      ],
      "text/latex": [
       "A data.frame: 6 × 15\n",
       "\\begin{tabular}{r|lllllllllllllll}\n",
       "  & GVKEY & iid & datadate & tic & conm & cshtrd & prccd & prchd & prcld & prcod & exchg & sic & daily\\_return & overnight\\_return & volume\\_change\\\\\n",
       "  & <int> & <int> & <chr> & <chr> & <chr> & <int> & <dbl> & <dbl> & <dbl> & <dbl> & <int> & <int> & <dbl> & <dbl> & <int>\\\\\n",
       "\\hline\n",
       "\t1 & 3708 & 3 & 01/09/2020 & WEN & WENDY'S CO & 2929911 & 20.950 & 21.16 & 20.7400 & 20.94 & 14 & 5812 &            NA &            NA &      NA\\\\\n",
       "\t2 & 3708 & 3 & 02/09/2020 & WEN & WENDY'S CO & 3814903 & 21.970 & 22.08 & 21.0100 & 21.01 & 14 & 5812 &  0.0486873508 &  0.0028639618 &  884992\\\\\n",
       "\t3 & 3708 & 3 & 03/09/2020 & WEN & WENDY'S CO & 4280982 & 21.950 & 22.48 & 21.6450 & 21.95 & 14 & 5812 & -0.0009103323 & -0.0009103323 &  466079\\\\\n",
       "\t4 & 3708 & 3 & 04/09/2020 & WEN & WENDY'S CO & 3351921 & 21.580 & 22.38 & 21.4050 & 22.20 & 14 & 5812 & -0.0168564920 &  0.0113895216 & -929061\\\\\n",
       "\t5 & 3708 & 3 & 08/09/2020 & WEN & WENDY'S CO & 3439170 & 21.850 & 22.05 & 21.2300 & 21.43 & 14 & 5812 &  0.0125115848 & -0.0069508804 &   87249\\\\\n",
       "\t6 & 3708 & 3 & 09/09/2020 & WEN & WENDY'S CO & 2847727 & 22.495 & 22.61 & 21.8322 & 22.00 & 14 & 5812 &  0.0295194508 &  0.0068649886 & -591443\\\\\n",
       "\\end{tabular}\n"
      ],
      "text/markdown": [
       "\n",
       "A data.frame: 6 × 15\n",
       "\n",
       "| <!--/--> | GVKEY &lt;int&gt; | iid &lt;int&gt; | datadate &lt;chr&gt; | tic &lt;chr&gt; | conm &lt;chr&gt; | cshtrd &lt;int&gt; | prccd &lt;dbl&gt; | prchd &lt;dbl&gt; | prcld &lt;dbl&gt; | prcod &lt;dbl&gt; | exchg &lt;int&gt; | sic &lt;int&gt; | daily_return &lt;dbl&gt; | overnight_return &lt;dbl&gt; | volume_change &lt;int&gt; |\n",
       "|---|---|---|---|---|---|---|---|---|---|---|---|---|---|---|---|\n",
       "| 1 | 3708 | 3 | 01/09/2020 | WEN | WENDY'S CO | 2929911 | 20.950 | 21.16 | 20.7400 | 20.94 | 14 | 5812 |            NA |            NA |      NA |\n",
       "| 2 | 3708 | 3 | 02/09/2020 | WEN | WENDY'S CO | 3814903 | 21.970 | 22.08 | 21.0100 | 21.01 | 14 | 5812 |  0.0486873508 |  0.0028639618 |  884992 |\n",
       "| 3 | 3708 | 3 | 03/09/2020 | WEN | WENDY'S CO | 4280982 | 21.950 | 22.48 | 21.6450 | 21.95 | 14 | 5812 | -0.0009103323 | -0.0009103323 |  466079 |\n",
       "| 4 | 3708 | 3 | 04/09/2020 | WEN | WENDY'S CO | 3351921 | 21.580 | 22.38 | 21.4050 | 22.20 | 14 | 5812 | -0.0168564920 |  0.0113895216 | -929061 |\n",
       "| 5 | 3708 | 3 | 08/09/2020 | WEN | WENDY'S CO | 3439170 | 21.850 | 22.05 | 21.2300 | 21.43 | 14 | 5812 |  0.0125115848 | -0.0069508804 |   87249 |\n",
       "| 6 | 3708 | 3 | 09/09/2020 | WEN | WENDY'S CO | 2847727 | 22.495 | 22.61 | 21.8322 | 22.00 | 14 | 5812 |  0.0295194508 |  0.0068649886 | -591443 |\n",
       "\n"
      ],
      "text/plain": [
       "  GVKEY iid datadate   tic conm       cshtrd  prccd  prchd prcld   prcod exchg\n",
       "1 3708  3   01/09/2020 WEN WENDY'S CO 2929911 20.950 21.16 20.7400 20.94 14   \n",
       "2 3708  3   02/09/2020 WEN WENDY'S CO 3814903 21.970 22.08 21.0100 21.01 14   \n",
       "3 3708  3   03/09/2020 WEN WENDY'S CO 4280982 21.950 22.48 21.6450 21.95 14   \n",
       "4 3708  3   04/09/2020 WEN WENDY'S CO 3351921 21.580 22.38 21.4050 22.20 14   \n",
       "5 3708  3   08/09/2020 WEN WENDY'S CO 3439170 21.850 22.05 21.2300 21.43 14   \n",
       "6 3708  3   09/09/2020 WEN WENDY'S CO 2847727 22.495 22.61 21.8322 22.00 14   \n",
       "  sic  daily_return  overnight_return volume_change\n",
       "1 5812            NA            NA         NA      \n",
       "2 5812  0.0486873508  0.0028639618     884992      \n",
       "3 5812 -0.0009103323 -0.0009103323     466079      \n",
       "4 5812 -0.0168564920  0.0113895216    -929061      \n",
       "5 5812  0.0125115848 -0.0069508804      87249      \n",
       "6 5812  0.0295194508  0.0068649886    -591443      "
      ]
     },
     "metadata": {},
     "output_type": "display_data"
    }
   ],
   "source": [
    "wendy=mutate(wendy, volume_change=(cshtrd-lag(cshtrd)))\n",
    "head(wendy)"
   ]
  },
  {
   "cell_type": "markdown",
   "id": "66cbf29d",
   "metadata": {},
   "source": [
    "Money flow volume indicator (MFV)"
   ]
  },
  {
   "cell_type": "code",
   "execution_count": null,
   "id": "e00d8156",
   "metadata": {
    "vscode": {
     "languageId": "r"
    }
   },
   "outputs": [
    {
     "data": {
      "text/html": [
       "<table class=\"dataframe\">\n",
       "<caption>A data.frame: 6 × 16</caption>\n",
       "<thead>\n",
       "\t<tr><th></th><th scope=col>GVKEY</th><th scope=col>iid</th><th scope=col>datadate</th><th scope=col>tic</th><th scope=col>conm</th><th scope=col>cshtrd</th><th scope=col>prccd</th><th scope=col>prchd</th><th scope=col>prcld</th><th scope=col>prcod</th><th scope=col>exchg</th><th scope=col>sic</th><th scope=col>daily_return</th><th scope=col>overnight_return</th><th scope=col>volume_change</th><th scope=col>mvf</th></tr>\n",
       "\t<tr><th></th><th scope=col>&lt;int&gt;</th><th scope=col>&lt;int&gt;</th><th scope=col>&lt;chr&gt;</th><th scope=col>&lt;chr&gt;</th><th scope=col>&lt;chr&gt;</th><th scope=col>&lt;int&gt;</th><th scope=col>&lt;dbl&gt;</th><th scope=col>&lt;dbl&gt;</th><th scope=col>&lt;dbl&gt;</th><th scope=col>&lt;dbl&gt;</th><th scope=col>&lt;int&gt;</th><th scope=col>&lt;int&gt;</th><th scope=col>&lt;dbl&gt;</th><th scope=col>&lt;dbl&gt;</th><th scope=col>&lt;int&gt;</th><th scope=col>&lt;dbl&gt;</th></tr>\n",
       "</thead>\n",
       "<tbody>\n",
       "\t<tr><th scope=row>1</th><td>3708</td><td>3</td><td>01/09/2020</td><td>WEN</td><td>WENDY'S CO</td><td>2929911</td><td>20.950</td><td>21.16</td><td>20.7400</td><td>20.94</td><td>14</td><td>5812</td><td>           NA</td><td>           NA</td><td>     NA</td><td>       0</td></tr>\n",
       "\t<tr><th scope=row>2</th><td>3708</td><td>3</td><td>02/09/2020</td><td>WEN</td><td>WENDY'S CO</td><td>3814903</td><td>21.970</td><td>22.08</td><td>21.0100</td><td>21.01</td><td>14</td><td>5812</td><td> 0.0486873508</td><td> 0.0028639618</td><td> 884992</td><td> 3030530</td></tr>\n",
       "\t<tr><th scope=row>3</th><td>3708</td><td>3</td><td>03/09/2020</td><td>WEN</td><td>WENDY'S CO</td><td>4280982</td><td>21.950</td><td>22.48</td><td>21.6450</td><td>21.95</td><td>14</td><td>5812</td><td>-0.0009103323</td><td>-0.0009103323</td><td> 466079</td><td>-1153558</td></tr>\n",
       "\t<tr><th scope=row>4</th><td>3708</td><td>3</td><td>04/09/2020</td><td>WEN</td><td>WENDY'S CO</td><td>3351921</td><td>21.580</td><td>22.38</td><td>21.4050</td><td>22.20</td><td>14</td><td>5812</td><td>-0.0168564920</td><td> 0.0113895216</td><td>-929061</td><td>-2148667</td></tr>\n",
       "\t<tr><th scope=row>5</th><td>3708</td><td>3</td><td>08/09/2020</td><td>WEN</td><td>WENDY'S CO</td><td>3439170</td><td>21.850</td><td>22.05</td><td>21.2300</td><td>21.43</td><td>14</td><td>5812</td><td> 0.0125115848</td><td>-0.0069508804</td><td>  87249</td><td> 1761526</td></tr>\n",
       "\t<tr><th scope=row>6</th><td>3708</td><td>3</td><td>09/09/2020</td><td>WEN</td><td>WENDY'S CO</td><td>2847727</td><td>22.495</td><td>22.61</td><td>21.8322</td><td>22.00</td><td>14</td><td>5812</td><td> 0.0295194508</td><td> 0.0068649886</td><td>-591443</td><td> 2005638</td></tr>\n",
       "</tbody>\n",
       "</table>\n"
      ],
      "text/latex": [
       "A data.frame: 6 × 16\n",
       "\\begin{tabular}{r|llllllllllllllll}\n",
       "  & GVKEY & iid & datadate & tic & conm & cshtrd & prccd & prchd & prcld & prcod & exchg & sic & daily\\_return & overnight\\_return & volume\\_change & mvf\\\\\n",
       "  & <int> & <int> & <chr> & <chr> & <chr> & <int> & <dbl> & <dbl> & <dbl> & <dbl> & <int> & <int> & <dbl> & <dbl> & <int> & <dbl>\\\\\n",
       "\\hline\n",
       "\t1 & 3708 & 3 & 01/09/2020 & WEN & WENDY'S CO & 2929911 & 20.950 & 21.16 & 20.7400 & 20.94 & 14 & 5812 &            NA &            NA &      NA &        0\\\\\n",
       "\t2 & 3708 & 3 & 02/09/2020 & WEN & WENDY'S CO & 3814903 & 21.970 & 22.08 & 21.0100 & 21.01 & 14 & 5812 &  0.0486873508 &  0.0028639618 &  884992 &  3030530\\\\\n",
       "\t3 & 3708 & 3 & 03/09/2020 & WEN & WENDY'S CO & 4280982 & 21.950 & 22.48 & 21.6450 & 21.95 & 14 & 5812 & -0.0009103323 & -0.0009103323 &  466079 & -1153558\\\\\n",
       "\t4 & 3708 & 3 & 04/09/2020 & WEN & WENDY'S CO & 3351921 & 21.580 & 22.38 & 21.4050 & 22.20 & 14 & 5812 & -0.0168564920 &  0.0113895216 & -929061 & -2148667\\\\\n",
       "\t5 & 3708 & 3 & 08/09/2020 & WEN & WENDY'S CO & 3439170 & 21.850 & 22.05 & 21.2300 & 21.43 & 14 & 5812 &  0.0125115848 & -0.0069508804 &   87249 &  1761526\\\\\n",
       "\t6 & 3708 & 3 & 09/09/2020 & WEN & WENDY'S CO & 2847727 & 22.495 & 22.61 & 21.8322 & 22.00 & 14 & 5812 &  0.0295194508 &  0.0068649886 & -591443 &  2005638\\\\\n",
       "\\end{tabular}\n"
      ],
      "text/markdown": [
       "\n",
       "A data.frame: 6 × 16\n",
       "\n",
       "| <!--/--> | GVKEY &lt;int&gt; | iid &lt;int&gt; | datadate &lt;chr&gt; | tic &lt;chr&gt; | conm &lt;chr&gt; | cshtrd &lt;int&gt; | prccd &lt;dbl&gt; | prchd &lt;dbl&gt; | prcld &lt;dbl&gt; | prcod &lt;dbl&gt; | exchg &lt;int&gt; | sic &lt;int&gt; | daily_return &lt;dbl&gt; | overnight_return &lt;dbl&gt; | volume_change &lt;int&gt; | mvf &lt;dbl&gt; |\n",
       "|---|---|---|---|---|---|---|---|---|---|---|---|---|---|---|---|---|\n",
       "| 1 | 3708 | 3 | 01/09/2020 | WEN | WENDY'S CO | 2929911 | 20.950 | 21.16 | 20.7400 | 20.94 | 14 | 5812 |            NA |            NA |      NA |        0 |\n",
       "| 2 | 3708 | 3 | 02/09/2020 | WEN | WENDY'S CO | 3814903 | 21.970 | 22.08 | 21.0100 | 21.01 | 14 | 5812 |  0.0486873508 |  0.0028639618 |  884992 |  3030530 |\n",
       "| 3 | 3708 | 3 | 03/09/2020 | WEN | WENDY'S CO | 4280982 | 21.950 | 22.48 | 21.6450 | 21.95 | 14 | 5812 | -0.0009103323 | -0.0009103323 |  466079 | -1153558 |\n",
       "| 4 | 3708 | 3 | 04/09/2020 | WEN | WENDY'S CO | 3351921 | 21.580 | 22.38 | 21.4050 | 22.20 | 14 | 5812 | -0.0168564920 |  0.0113895216 | -929061 | -2148667 |\n",
       "| 5 | 3708 | 3 | 08/09/2020 | WEN | WENDY'S CO | 3439170 | 21.850 | 22.05 | 21.2300 | 21.43 | 14 | 5812 |  0.0125115848 | -0.0069508804 |   87249 |  1761526 |\n",
       "| 6 | 3708 | 3 | 09/09/2020 | WEN | WENDY'S CO | 2847727 | 22.495 | 22.61 | 21.8322 | 22.00 | 14 | 5812 |  0.0295194508 |  0.0068649886 | -591443 |  2005638 |\n",
       "\n"
      ],
      "text/plain": [
       "  GVKEY iid datadate   tic conm       cshtrd  prccd  prchd prcld   prcod exchg\n",
       "1 3708  3   01/09/2020 WEN WENDY'S CO 2929911 20.950 21.16 20.7400 20.94 14   \n",
       "2 3708  3   02/09/2020 WEN WENDY'S CO 3814903 21.970 22.08 21.0100 21.01 14   \n",
       "3 3708  3   03/09/2020 WEN WENDY'S CO 4280982 21.950 22.48 21.6450 21.95 14   \n",
       "4 3708  3   04/09/2020 WEN WENDY'S CO 3351921 21.580 22.38 21.4050 22.20 14   \n",
       "5 3708  3   08/09/2020 WEN WENDY'S CO 3439170 21.850 22.05 21.2300 21.43 14   \n",
       "6 3708  3   09/09/2020 WEN WENDY'S CO 2847727 22.495 22.61 21.8322 22.00 14   \n",
       "  sic  daily_return  overnight_return volume_change mvf     \n",
       "1 5812            NA            NA         NA              0\n",
       "2 5812  0.0486873508  0.0028639618     884992        3030530\n",
       "3 5812 -0.0009103323 -0.0009103323     466079       -1153558\n",
       "4 5812 -0.0168564920  0.0113895216    -929061       -2148667\n",
       "5 5812  0.0125115848 -0.0069508804      87249        1761526\n",
       "6 5812  0.0295194508  0.0068649886    -591443        2005638"
      ]
     },
     "metadata": {},
     "output_type": "display_data"
    }
   ],
   "source": [
    "wendy=mutate(wendy, mvf=(((prccd-prcld)-(prchd-prccd))/(prchd-prcld))*cshtrd)\n",
    "head(wendy)"
   ]
  },
  {
   "cell_type": "markdown",
   "id": "0726acdf",
   "metadata": {},
   "source": [
    "New dataset"
   ]
  },
  {
   "cell_type": "code",
   "execution_count": null,
   "id": "11a83d61",
   "metadata": {
    "vscode": {
     "languageId": "r"
    }
   },
   "outputs": [
    {
     "data": {
      "text/html": [
       "<table class=\"dataframe\">\n",
       "<caption>A data.frame: 6 × 16</caption>\n",
       "<thead>\n",
       "\t<tr><th></th><th scope=col>GVKEY</th><th scope=col>iid</th><th scope=col>datadate</th><th scope=col>tic</th><th scope=col>conm</th><th scope=col>cshtrd</th><th scope=col>prccd</th><th scope=col>prchd</th><th scope=col>prcld</th><th scope=col>prcod</th><th scope=col>exchg</th><th scope=col>sic</th><th scope=col>daily_return</th><th scope=col>overnight_return</th><th scope=col>volume_change</th><th scope=col>mvf</th></tr>\n",
       "\t<tr><th></th><th scope=col>&lt;int&gt;</th><th scope=col>&lt;int&gt;</th><th scope=col>&lt;chr&gt;</th><th scope=col>&lt;chr&gt;</th><th scope=col>&lt;chr&gt;</th><th scope=col>&lt;int&gt;</th><th scope=col>&lt;dbl&gt;</th><th scope=col>&lt;dbl&gt;</th><th scope=col>&lt;dbl&gt;</th><th scope=col>&lt;dbl&gt;</th><th scope=col>&lt;int&gt;</th><th scope=col>&lt;int&gt;</th><th scope=col>&lt;dbl&gt;</th><th scope=col>&lt;dbl&gt;</th><th scope=col>&lt;int&gt;</th><th scope=col>&lt;dbl&gt;</th></tr>\n",
       "</thead>\n",
       "<tbody>\n",
       "\t<tr><th scope=row>1</th><td>3708</td><td>3</td><td>01/09/2020</td><td>WEN</td><td>WENDY'S CO</td><td>2929911</td><td>20.950</td><td>21.16</td><td>20.7400</td><td>20.94</td><td>14</td><td>5812</td><td>           NA</td><td>           NA</td><td>     NA</td><td>       0</td></tr>\n",
       "\t<tr><th scope=row>2</th><td>3708</td><td>3</td><td>02/09/2020</td><td>WEN</td><td>WENDY'S CO</td><td>3814903</td><td>21.970</td><td>22.08</td><td>21.0100</td><td>21.01</td><td>14</td><td>5812</td><td> 0.0486873508</td><td> 0.0028639618</td><td> 884992</td><td> 3030530</td></tr>\n",
       "\t<tr><th scope=row>3</th><td>3708</td><td>3</td><td>03/09/2020</td><td>WEN</td><td>WENDY'S CO</td><td>4280982</td><td>21.950</td><td>22.48</td><td>21.6450</td><td>21.95</td><td>14</td><td>5812</td><td>-0.0009103323</td><td>-0.0009103323</td><td> 466079</td><td>-1153558</td></tr>\n",
       "\t<tr><th scope=row>4</th><td>3708</td><td>3</td><td>04/09/2020</td><td>WEN</td><td>WENDY'S CO</td><td>3351921</td><td>21.580</td><td>22.38</td><td>21.4050</td><td>22.20</td><td>14</td><td>5812</td><td>-0.0168564920</td><td> 0.0113895216</td><td>-929061</td><td>-2148667</td></tr>\n",
       "\t<tr><th scope=row>5</th><td>3708</td><td>3</td><td>08/09/2020</td><td>WEN</td><td>WENDY'S CO</td><td>3439170</td><td>21.850</td><td>22.05</td><td>21.2300</td><td>21.43</td><td>14</td><td>5812</td><td> 0.0125115848</td><td>-0.0069508804</td><td>  87249</td><td> 1761526</td></tr>\n",
       "\t<tr><th scope=row>6</th><td>3708</td><td>3</td><td>09/09/2020</td><td>WEN</td><td>WENDY'S CO</td><td>2847727</td><td>22.495</td><td>22.61</td><td>21.8322</td><td>22.00</td><td>14</td><td>5812</td><td> 0.0295194508</td><td> 0.0068649886</td><td>-591443</td><td> 2005638</td></tr>\n",
       "</tbody>\n",
       "</table>\n"
      ],
      "text/latex": [
       "A data.frame: 6 × 16\n",
       "\\begin{tabular}{r|llllllllllllllll}\n",
       "  & GVKEY & iid & datadate & tic & conm & cshtrd & prccd & prchd & prcld & prcod & exchg & sic & daily\\_return & overnight\\_return & volume\\_change & mvf\\\\\n",
       "  & <int> & <int> & <chr> & <chr> & <chr> & <int> & <dbl> & <dbl> & <dbl> & <dbl> & <int> & <int> & <dbl> & <dbl> & <int> & <dbl>\\\\\n",
       "\\hline\n",
       "\t1 & 3708 & 3 & 01/09/2020 & WEN & WENDY'S CO & 2929911 & 20.950 & 21.16 & 20.7400 & 20.94 & 14 & 5812 &            NA &            NA &      NA &        0\\\\\n",
       "\t2 & 3708 & 3 & 02/09/2020 & WEN & WENDY'S CO & 3814903 & 21.970 & 22.08 & 21.0100 & 21.01 & 14 & 5812 &  0.0486873508 &  0.0028639618 &  884992 &  3030530\\\\\n",
       "\t3 & 3708 & 3 & 03/09/2020 & WEN & WENDY'S CO & 4280982 & 21.950 & 22.48 & 21.6450 & 21.95 & 14 & 5812 & -0.0009103323 & -0.0009103323 &  466079 & -1153558\\\\\n",
       "\t4 & 3708 & 3 & 04/09/2020 & WEN & WENDY'S CO & 3351921 & 21.580 & 22.38 & 21.4050 & 22.20 & 14 & 5812 & -0.0168564920 &  0.0113895216 & -929061 & -2148667\\\\\n",
       "\t5 & 3708 & 3 & 08/09/2020 & WEN & WENDY'S CO & 3439170 & 21.850 & 22.05 & 21.2300 & 21.43 & 14 & 5812 &  0.0125115848 & -0.0069508804 &   87249 &  1761526\\\\\n",
       "\t6 & 3708 & 3 & 09/09/2020 & WEN & WENDY'S CO & 2847727 & 22.495 & 22.61 & 21.8322 & 22.00 & 14 & 5812 &  0.0295194508 &  0.0068649886 & -591443 &  2005638\\\\\n",
       "\\end{tabular}\n"
      ],
      "text/markdown": [
       "\n",
       "A data.frame: 6 × 16\n",
       "\n",
       "| <!--/--> | GVKEY &lt;int&gt; | iid &lt;int&gt; | datadate &lt;chr&gt; | tic &lt;chr&gt; | conm &lt;chr&gt; | cshtrd &lt;int&gt; | prccd &lt;dbl&gt; | prchd &lt;dbl&gt; | prcld &lt;dbl&gt; | prcod &lt;dbl&gt; | exchg &lt;int&gt; | sic &lt;int&gt; | daily_return &lt;dbl&gt; | overnight_return &lt;dbl&gt; | volume_change &lt;int&gt; | mvf &lt;dbl&gt; |\n",
       "|---|---|---|---|---|---|---|---|---|---|---|---|---|---|---|---|---|\n",
       "| 1 | 3708 | 3 | 01/09/2020 | WEN | WENDY'S CO | 2929911 | 20.950 | 21.16 | 20.7400 | 20.94 | 14 | 5812 |            NA |            NA |      NA |        0 |\n",
       "| 2 | 3708 | 3 | 02/09/2020 | WEN | WENDY'S CO | 3814903 | 21.970 | 22.08 | 21.0100 | 21.01 | 14 | 5812 |  0.0486873508 |  0.0028639618 |  884992 |  3030530 |\n",
       "| 3 | 3708 | 3 | 03/09/2020 | WEN | WENDY'S CO | 4280982 | 21.950 | 22.48 | 21.6450 | 21.95 | 14 | 5812 | -0.0009103323 | -0.0009103323 |  466079 | -1153558 |\n",
       "| 4 | 3708 | 3 | 04/09/2020 | WEN | WENDY'S CO | 3351921 | 21.580 | 22.38 | 21.4050 | 22.20 | 14 | 5812 | -0.0168564920 |  0.0113895216 | -929061 | -2148667 |\n",
       "| 5 | 3708 | 3 | 08/09/2020 | WEN | WENDY'S CO | 3439170 | 21.850 | 22.05 | 21.2300 | 21.43 | 14 | 5812 |  0.0125115848 | -0.0069508804 |   87249 |  1761526 |\n",
       "| 6 | 3708 | 3 | 09/09/2020 | WEN | WENDY'S CO | 2847727 | 22.495 | 22.61 | 21.8322 | 22.00 | 14 | 5812 |  0.0295194508 |  0.0068649886 | -591443 |  2005638 |\n",
       "\n"
      ],
      "text/plain": [
       "  GVKEY iid datadate   tic conm       cshtrd  prccd  prchd prcld   prcod exchg\n",
       "1 3708  3   01/09/2020 WEN WENDY'S CO 2929911 20.950 21.16 20.7400 20.94 14   \n",
       "2 3708  3   02/09/2020 WEN WENDY'S CO 3814903 21.970 22.08 21.0100 21.01 14   \n",
       "3 3708  3   03/09/2020 WEN WENDY'S CO 4280982 21.950 22.48 21.6450 21.95 14   \n",
       "4 3708  3   04/09/2020 WEN WENDY'S CO 3351921 21.580 22.38 21.4050 22.20 14   \n",
       "5 3708  3   08/09/2020 WEN WENDY'S CO 3439170 21.850 22.05 21.2300 21.43 14   \n",
       "6 3708  3   09/09/2020 WEN WENDY'S CO 2847727 22.495 22.61 21.8322 22.00 14   \n",
       "  sic  daily_return  overnight_return volume_change mvf     \n",
       "1 5812            NA            NA         NA              0\n",
       "2 5812  0.0486873508  0.0028639618     884992        3030530\n",
       "3 5812 -0.0009103323 -0.0009103323     466079       -1153558\n",
       "4 5812 -0.0168564920  0.0113895216    -929061       -2148667\n",
       "5 5812  0.0125115848 -0.0069508804      87249        1761526\n",
       "6 5812  0.0295194508  0.0068649886    -591443        2005638"
      ]
     },
     "metadata": {},
     "output_type": "display_data"
    }
   ],
   "source": [
    "wendy_new=select(wendy, datadate, daily_return, overnight_return, volume_change, mvf)\n",
    "head(wendy)"
   ]
  },
  {
   "cell_type": "markdown",
   "id": "cc36246c",
   "metadata": {},
   "source": [
    "Drop first row because it have nan values"
   ]
  },
  {
   "cell_type": "code",
   "execution_count": null,
   "id": "97b85c4b",
   "metadata": {
    "vscode": {
     "languageId": "r"
    }
   },
   "outputs": [
    {
     "data": {
      "text/html": [
       "<table class=\"dataframe\">\n",
       "<caption>A data.frame: 6 × 16</caption>\n",
       "<thead>\n",
       "\t<tr><th></th><th scope=col>GVKEY</th><th scope=col>iid</th><th scope=col>datadate</th><th scope=col>tic</th><th scope=col>conm</th><th scope=col>cshtrd</th><th scope=col>prccd</th><th scope=col>prchd</th><th scope=col>prcld</th><th scope=col>prcod</th><th scope=col>exchg</th><th scope=col>sic</th><th scope=col>daily_return</th><th scope=col>overnight_return</th><th scope=col>volume_change</th><th scope=col>mvf</th></tr>\n",
       "\t<tr><th></th><th scope=col>&lt;int&gt;</th><th scope=col>&lt;int&gt;</th><th scope=col>&lt;chr&gt;</th><th scope=col>&lt;chr&gt;</th><th scope=col>&lt;chr&gt;</th><th scope=col>&lt;int&gt;</th><th scope=col>&lt;dbl&gt;</th><th scope=col>&lt;dbl&gt;</th><th scope=col>&lt;dbl&gt;</th><th scope=col>&lt;dbl&gt;</th><th scope=col>&lt;int&gt;</th><th scope=col>&lt;int&gt;</th><th scope=col>&lt;dbl&gt;</th><th scope=col>&lt;dbl&gt;</th><th scope=col>&lt;int&gt;</th><th scope=col>&lt;dbl&gt;</th></tr>\n",
       "</thead>\n",
       "<tbody>\n",
       "\t<tr><th scope=row>2</th><td>3708</td><td>3</td><td>02/09/2020</td><td>WEN</td><td>WENDY'S CO</td><td>3814903</td><td>21.970</td><td>22.08</td><td>21.0100</td><td>21.01</td><td>14</td><td>5812</td><td> 0.0486873508</td><td> 0.0028639618</td><td> 884992</td><td> 3030530</td></tr>\n",
       "\t<tr><th scope=row>3</th><td>3708</td><td>3</td><td>03/09/2020</td><td>WEN</td><td>WENDY'S CO</td><td>4280982</td><td>21.950</td><td>22.48</td><td>21.6450</td><td>21.95</td><td>14</td><td>5812</td><td>-0.0009103323</td><td>-0.0009103323</td><td> 466079</td><td>-1153558</td></tr>\n",
       "\t<tr><th scope=row>4</th><td>3708</td><td>3</td><td>04/09/2020</td><td>WEN</td><td>WENDY'S CO</td><td>3351921</td><td>21.580</td><td>22.38</td><td>21.4050</td><td>22.20</td><td>14</td><td>5812</td><td>-0.0168564920</td><td> 0.0113895216</td><td>-929061</td><td>-2148667</td></tr>\n",
       "\t<tr><th scope=row>5</th><td>3708</td><td>3</td><td>08/09/2020</td><td>WEN</td><td>WENDY'S CO</td><td>3439170</td><td>21.850</td><td>22.05</td><td>21.2300</td><td>21.43</td><td>14</td><td>5812</td><td> 0.0125115848</td><td>-0.0069508804</td><td>  87249</td><td> 1761526</td></tr>\n",
       "\t<tr><th scope=row>6</th><td>3708</td><td>3</td><td>09/09/2020</td><td>WEN</td><td>WENDY'S CO</td><td>2847727</td><td>22.495</td><td>22.61</td><td>21.8322</td><td>22.00</td><td>14</td><td>5812</td><td> 0.0295194508</td><td> 0.0068649886</td><td>-591443</td><td> 2005638</td></tr>\n",
       "\t<tr><th scope=row>7</th><td>3708</td><td>3</td><td>10/09/2020</td><td>WEN</td><td>WENDY'S CO</td><td>2787857</td><td>21.850</td><td>23.04</td><td>21.8400</td><td>22.55</td><td>14</td><td>5812</td><td>-0.0286730385</td><td> 0.0024449878</td><td> -59870</td><td>-2741393</td></tr>\n",
       "</tbody>\n",
       "</table>\n"
      ],
      "text/latex": [
       "A data.frame: 6 × 16\n",
       "\\begin{tabular}{r|llllllllllllllll}\n",
       "  & GVKEY & iid & datadate & tic & conm & cshtrd & prccd & prchd & prcld & prcod & exchg & sic & daily\\_return & overnight\\_return & volume\\_change & mvf\\\\\n",
       "  & <int> & <int> & <chr> & <chr> & <chr> & <int> & <dbl> & <dbl> & <dbl> & <dbl> & <int> & <int> & <dbl> & <dbl> & <int> & <dbl>\\\\\n",
       "\\hline\n",
       "\t2 & 3708 & 3 & 02/09/2020 & WEN & WENDY'S CO & 3814903 & 21.970 & 22.08 & 21.0100 & 21.01 & 14 & 5812 &  0.0486873508 &  0.0028639618 &  884992 &  3030530\\\\\n",
       "\t3 & 3708 & 3 & 03/09/2020 & WEN & WENDY'S CO & 4280982 & 21.950 & 22.48 & 21.6450 & 21.95 & 14 & 5812 & -0.0009103323 & -0.0009103323 &  466079 & -1153558\\\\\n",
       "\t4 & 3708 & 3 & 04/09/2020 & WEN & WENDY'S CO & 3351921 & 21.580 & 22.38 & 21.4050 & 22.20 & 14 & 5812 & -0.0168564920 &  0.0113895216 & -929061 & -2148667\\\\\n",
       "\t5 & 3708 & 3 & 08/09/2020 & WEN & WENDY'S CO & 3439170 & 21.850 & 22.05 & 21.2300 & 21.43 & 14 & 5812 &  0.0125115848 & -0.0069508804 &   87249 &  1761526\\\\\n",
       "\t6 & 3708 & 3 & 09/09/2020 & WEN & WENDY'S CO & 2847727 & 22.495 & 22.61 & 21.8322 & 22.00 & 14 & 5812 &  0.0295194508 &  0.0068649886 & -591443 &  2005638\\\\\n",
       "\t7 & 3708 & 3 & 10/09/2020 & WEN & WENDY'S CO & 2787857 & 21.850 & 23.04 & 21.8400 & 22.55 & 14 & 5812 & -0.0286730385 &  0.0024449878 &  -59870 & -2741393\\\\\n",
       "\\end{tabular}\n"
      ],
      "text/markdown": [
       "\n",
       "A data.frame: 6 × 16\n",
       "\n",
       "| <!--/--> | GVKEY &lt;int&gt; | iid &lt;int&gt; | datadate &lt;chr&gt; | tic &lt;chr&gt; | conm &lt;chr&gt; | cshtrd &lt;int&gt; | prccd &lt;dbl&gt; | prchd &lt;dbl&gt; | prcld &lt;dbl&gt; | prcod &lt;dbl&gt; | exchg &lt;int&gt; | sic &lt;int&gt; | daily_return &lt;dbl&gt; | overnight_return &lt;dbl&gt; | volume_change &lt;int&gt; | mvf &lt;dbl&gt; |\n",
       "|---|---|---|---|---|---|---|---|---|---|---|---|---|---|---|---|---|\n",
       "| 2 | 3708 | 3 | 02/09/2020 | WEN | WENDY'S CO | 3814903 | 21.970 | 22.08 | 21.0100 | 21.01 | 14 | 5812 |  0.0486873508 |  0.0028639618 |  884992 |  3030530 |\n",
       "| 3 | 3708 | 3 | 03/09/2020 | WEN | WENDY'S CO | 4280982 | 21.950 | 22.48 | 21.6450 | 21.95 | 14 | 5812 | -0.0009103323 | -0.0009103323 |  466079 | -1153558 |\n",
       "| 4 | 3708 | 3 | 04/09/2020 | WEN | WENDY'S CO | 3351921 | 21.580 | 22.38 | 21.4050 | 22.20 | 14 | 5812 | -0.0168564920 |  0.0113895216 | -929061 | -2148667 |\n",
       "| 5 | 3708 | 3 | 08/09/2020 | WEN | WENDY'S CO | 3439170 | 21.850 | 22.05 | 21.2300 | 21.43 | 14 | 5812 |  0.0125115848 | -0.0069508804 |   87249 |  1761526 |\n",
       "| 6 | 3708 | 3 | 09/09/2020 | WEN | WENDY'S CO | 2847727 | 22.495 | 22.61 | 21.8322 | 22.00 | 14 | 5812 |  0.0295194508 |  0.0068649886 | -591443 |  2005638 |\n",
       "| 7 | 3708 | 3 | 10/09/2020 | WEN | WENDY'S CO | 2787857 | 21.850 | 23.04 | 21.8400 | 22.55 | 14 | 5812 | -0.0286730385 |  0.0024449878 |  -59870 | -2741393 |\n",
       "\n"
      ],
      "text/plain": [
       "  GVKEY iid datadate   tic conm       cshtrd  prccd  prchd prcld   prcod exchg\n",
       "2 3708  3   02/09/2020 WEN WENDY'S CO 3814903 21.970 22.08 21.0100 21.01 14   \n",
       "3 3708  3   03/09/2020 WEN WENDY'S CO 4280982 21.950 22.48 21.6450 21.95 14   \n",
       "4 3708  3   04/09/2020 WEN WENDY'S CO 3351921 21.580 22.38 21.4050 22.20 14   \n",
       "5 3708  3   08/09/2020 WEN WENDY'S CO 3439170 21.850 22.05 21.2300 21.43 14   \n",
       "6 3708  3   09/09/2020 WEN WENDY'S CO 2847727 22.495 22.61 21.8322 22.00 14   \n",
       "7 3708  3   10/09/2020 WEN WENDY'S CO 2787857 21.850 23.04 21.8400 22.55 14   \n",
       "  sic  daily_return  overnight_return volume_change mvf     \n",
       "2 5812  0.0486873508  0.0028639618     884992        3030530\n",
       "3 5812 -0.0009103323 -0.0009103323     466079       -1153558\n",
       "4 5812 -0.0168564920  0.0113895216    -929061       -2148667\n",
       "5 5812  0.0125115848 -0.0069508804      87249        1761526\n",
       "6 5812  0.0295194508  0.0068649886    -591443        2005638\n",
       "7 5812 -0.0286730385  0.0024449878     -59870       -2741393"
      ]
     },
     "metadata": {},
     "output_type": "display_data"
    }
   ],
   "source": [
    "wendy = wendy[2:nrow(wendy),]\n",
    "head(wendy)"
   ]
  },
  {
   "cell_type": "markdown",
   "id": "4239f7c7",
   "metadata": {},
   "source": [
    "Month column"
   ]
  },
  {
   "cell_type": "code",
   "execution_count": null,
   "id": "0d3c9424",
   "metadata": {
    "vscode": {
     "languageId": "r"
    }
   },
   "outputs": [
    {
     "data": {
      "text/html": [
       "<table class=\"dataframe\">\n",
       "<caption>A data.frame: 6 × 17</caption>\n",
       "<thead>\n",
       "\t<tr><th></th><th scope=col>GVKEY</th><th scope=col>iid</th><th scope=col>datadate</th><th scope=col>tic</th><th scope=col>conm</th><th scope=col>cshtrd</th><th scope=col>prccd</th><th scope=col>prchd</th><th scope=col>prcld</th><th scope=col>prcod</th><th scope=col>exchg</th><th scope=col>sic</th><th scope=col>daily_return</th><th scope=col>overnight_return</th><th scope=col>volume_change</th><th scope=col>mvf</th><th scope=col>month</th></tr>\n",
       "\t<tr><th></th><th scope=col>&lt;int&gt;</th><th scope=col>&lt;int&gt;</th><th scope=col>&lt;date&gt;</th><th scope=col>&lt;chr&gt;</th><th scope=col>&lt;chr&gt;</th><th scope=col>&lt;int&gt;</th><th scope=col>&lt;dbl&gt;</th><th scope=col>&lt;dbl&gt;</th><th scope=col>&lt;dbl&gt;</th><th scope=col>&lt;dbl&gt;</th><th scope=col>&lt;int&gt;</th><th scope=col>&lt;int&gt;</th><th scope=col>&lt;dbl&gt;</th><th scope=col>&lt;dbl&gt;</th><th scope=col>&lt;int&gt;</th><th scope=col>&lt;dbl&gt;</th><th scope=col>&lt;dbl&gt;</th></tr>\n",
       "</thead>\n",
       "<tbody>\n",
       "\t<tr><th scope=row>2</th><td>3708</td><td>3</td><td>2020-09-02</td><td>WEN</td><td>WENDY'S CO</td><td>3814903</td><td>21.970</td><td>22.08</td><td>21.0100</td><td>21.01</td><td>14</td><td>5812</td><td> 0.0486873508</td><td> 0.0028639618</td><td> 884992</td><td> 3030530</td><td>9</td></tr>\n",
       "\t<tr><th scope=row>3</th><td>3708</td><td>3</td><td>2020-09-03</td><td>WEN</td><td>WENDY'S CO</td><td>4280982</td><td>21.950</td><td>22.48</td><td>21.6450</td><td>21.95</td><td>14</td><td>5812</td><td>-0.0009103323</td><td>-0.0009103323</td><td> 466079</td><td>-1153558</td><td>9</td></tr>\n",
       "\t<tr><th scope=row>4</th><td>3708</td><td>3</td><td>2020-09-04</td><td>WEN</td><td>WENDY'S CO</td><td>3351921</td><td>21.580</td><td>22.38</td><td>21.4050</td><td>22.20</td><td>14</td><td>5812</td><td>-0.0168564920</td><td> 0.0113895216</td><td>-929061</td><td>-2148667</td><td>9</td></tr>\n",
       "\t<tr><th scope=row>5</th><td>3708</td><td>3</td><td>2020-09-08</td><td>WEN</td><td>WENDY'S CO</td><td>3439170</td><td>21.850</td><td>22.05</td><td>21.2300</td><td>21.43</td><td>14</td><td>5812</td><td> 0.0125115848</td><td>-0.0069508804</td><td>  87249</td><td> 1761526</td><td>9</td></tr>\n",
       "\t<tr><th scope=row>6</th><td>3708</td><td>3</td><td>2020-09-09</td><td>WEN</td><td>WENDY'S CO</td><td>2847727</td><td>22.495</td><td>22.61</td><td>21.8322</td><td>22.00</td><td>14</td><td>5812</td><td> 0.0295194508</td><td> 0.0068649886</td><td>-591443</td><td> 2005638</td><td>9</td></tr>\n",
       "\t<tr><th scope=row>7</th><td>3708</td><td>3</td><td>2020-09-10</td><td>WEN</td><td>WENDY'S CO</td><td>2787857</td><td>21.850</td><td>23.04</td><td>21.8400</td><td>22.55</td><td>14</td><td>5812</td><td>-0.0286730385</td><td> 0.0024449878</td><td> -59870</td><td>-2741393</td><td>9</td></tr>\n",
       "</tbody>\n",
       "</table>\n"
      ],
      "text/latex": [
       "A data.frame: 6 × 17\n",
       "\\begin{tabular}{r|lllllllllllllllll}\n",
       "  & GVKEY & iid & datadate & tic & conm & cshtrd & prccd & prchd & prcld & prcod & exchg & sic & daily\\_return & overnight\\_return & volume\\_change & mvf & month\\\\\n",
       "  & <int> & <int> & <date> & <chr> & <chr> & <int> & <dbl> & <dbl> & <dbl> & <dbl> & <int> & <int> & <dbl> & <dbl> & <int> & <dbl> & <dbl>\\\\\n",
       "\\hline\n",
       "\t2 & 3708 & 3 & 2020-09-02 & WEN & WENDY'S CO & 3814903 & 21.970 & 22.08 & 21.0100 & 21.01 & 14 & 5812 &  0.0486873508 &  0.0028639618 &  884992 &  3030530 & 9\\\\\n",
       "\t3 & 3708 & 3 & 2020-09-03 & WEN & WENDY'S CO & 4280982 & 21.950 & 22.48 & 21.6450 & 21.95 & 14 & 5812 & -0.0009103323 & -0.0009103323 &  466079 & -1153558 & 9\\\\\n",
       "\t4 & 3708 & 3 & 2020-09-04 & WEN & WENDY'S CO & 3351921 & 21.580 & 22.38 & 21.4050 & 22.20 & 14 & 5812 & -0.0168564920 &  0.0113895216 & -929061 & -2148667 & 9\\\\\n",
       "\t5 & 3708 & 3 & 2020-09-08 & WEN & WENDY'S CO & 3439170 & 21.850 & 22.05 & 21.2300 & 21.43 & 14 & 5812 &  0.0125115848 & -0.0069508804 &   87249 &  1761526 & 9\\\\\n",
       "\t6 & 3708 & 3 & 2020-09-09 & WEN & WENDY'S CO & 2847727 & 22.495 & 22.61 & 21.8322 & 22.00 & 14 & 5812 &  0.0295194508 &  0.0068649886 & -591443 &  2005638 & 9\\\\\n",
       "\t7 & 3708 & 3 & 2020-09-10 & WEN & WENDY'S CO & 2787857 & 21.850 & 23.04 & 21.8400 & 22.55 & 14 & 5812 & -0.0286730385 &  0.0024449878 &  -59870 & -2741393 & 9\\\\\n",
       "\\end{tabular}\n"
      ],
      "text/markdown": [
       "\n",
       "A data.frame: 6 × 17\n",
       "\n",
       "| <!--/--> | GVKEY &lt;int&gt; | iid &lt;int&gt; | datadate &lt;date&gt; | tic &lt;chr&gt; | conm &lt;chr&gt; | cshtrd &lt;int&gt; | prccd &lt;dbl&gt; | prchd &lt;dbl&gt; | prcld &lt;dbl&gt; | prcod &lt;dbl&gt; | exchg &lt;int&gt; | sic &lt;int&gt; | daily_return &lt;dbl&gt; | overnight_return &lt;dbl&gt; | volume_change &lt;int&gt; | mvf &lt;dbl&gt; | month &lt;dbl&gt; |\n",
       "|---|---|---|---|---|---|---|---|---|---|---|---|---|---|---|---|---|---|\n",
       "| 2 | 3708 | 3 | 2020-09-02 | WEN | WENDY'S CO | 3814903 | 21.970 | 22.08 | 21.0100 | 21.01 | 14 | 5812 |  0.0486873508 |  0.0028639618 |  884992 |  3030530 | 9 |\n",
       "| 3 | 3708 | 3 | 2020-09-03 | WEN | WENDY'S CO | 4280982 | 21.950 | 22.48 | 21.6450 | 21.95 | 14 | 5812 | -0.0009103323 | -0.0009103323 |  466079 | -1153558 | 9 |\n",
       "| 4 | 3708 | 3 | 2020-09-04 | WEN | WENDY'S CO | 3351921 | 21.580 | 22.38 | 21.4050 | 22.20 | 14 | 5812 | -0.0168564920 |  0.0113895216 | -929061 | -2148667 | 9 |\n",
       "| 5 | 3708 | 3 | 2020-09-08 | WEN | WENDY'S CO | 3439170 | 21.850 | 22.05 | 21.2300 | 21.43 | 14 | 5812 |  0.0125115848 | -0.0069508804 |   87249 |  1761526 | 9 |\n",
       "| 6 | 3708 | 3 | 2020-09-09 | WEN | WENDY'S CO | 2847727 | 22.495 | 22.61 | 21.8322 | 22.00 | 14 | 5812 |  0.0295194508 |  0.0068649886 | -591443 |  2005638 | 9 |\n",
       "| 7 | 3708 | 3 | 2020-09-10 | WEN | WENDY'S CO | 2787857 | 21.850 | 23.04 | 21.8400 | 22.55 | 14 | 5812 | -0.0286730385 |  0.0024449878 |  -59870 | -2741393 | 9 |\n",
       "\n"
      ],
      "text/plain": [
       "  GVKEY iid datadate   tic conm       cshtrd  prccd  prchd prcld   prcod exchg\n",
       "2 3708  3   2020-09-02 WEN WENDY'S CO 3814903 21.970 22.08 21.0100 21.01 14   \n",
       "3 3708  3   2020-09-03 WEN WENDY'S CO 4280982 21.950 22.48 21.6450 21.95 14   \n",
       "4 3708  3   2020-09-04 WEN WENDY'S CO 3351921 21.580 22.38 21.4050 22.20 14   \n",
       "5 3708  3   2020-09-08 WEN WENDY'S CO 3439170 21.850 22.05 21.2300 21.43 14   \n",
       "6 3708  3   2020-09-09 WEN WENDY'S CO 2847727 22.495 22.61 21.8322 22.00 14   \n",
       "7 3708  3   2020-09-10 WEN WENDY'S CO 2787857 21.850 23.04 21.8400 22.55 14   \n",
       "  sic  daily_return  overnight_return volume_change mvf      month\n",
       "2 5812  0.0486873508  0.0028639618     884992        3030530 9    \n",
       "3 5812 -0.0009103323 -0.0009103323     466079       -1153558 9    \n",
       "4 5812 -0.0168564920  0.0113895216    -929061       -2148667 9    \n",
       "5 5812  0.0125115848 -0.0069508804      87249        1761526 9    \n",
       "6 5812  0.0295194508  0.0068649886    -591443        2005638 9    \n",
       "7 5812 -0.0286730385  0.0024449878     -59870       -2741393 9    "
      ]
     },
     "metadata": {},
     "output_type": "display_data"
    }
   ],
   "source": [
    "wendy$datadate = as.Date(wendy$datadate, format=\"%d/%m/%Y\")\n",
    "wendy = mutate(wendy, month=month(wendy$datadate))\n",
    "head(wendy)"
   ]
  },
  {
   "cell_type": "markdown",
   "id": "b38380f3",
   "metadata": {},
   "source": [
    "Year column"
   ]
  },
  {
   "cell_type": "code",
   "execution_count": null,
   "id": "a43f636a",
   "metadata": {
    "vscode": {
     "languageId": "r"
    }
   },
   "outputs": [
    {
     "data": {
      "text/html": [
       "<table class=\"dataframe\">\n",
       "<caption>A data.frame: 6 × 18</caption>\n",
       "<thead>\n",
       "\t<tr><th></th><th scope=col>GVKEY</th><th scope=col>iid</th><th scope=col>datadate</th><th scope=col>tic</th><th scope=col>conm</th><th scope=col>cshtrd</th><th scope=col>prccd</th><th scope=col>prchd</th><th scope=col>prcld</th><th scope=col>prcod</th><th scope=col>exchg</th><th scope=col>sic</th><th scope=col>daily_return</th><th scope=col>overnight_return</th><th scope=col>volume_change</th><th scope=col>mvf</th><th scope=col>month</th><th scope=col>year</th></tr>\n",
       "\t<tr><th></th><th scope=col>&lt;int&gt;</th><th scope=col>&lt;int&gt;</th><th scope=col>&lt;date&gt;</th><th scope=col>&lt;chr&gt;</th><th scope=col>&lt;chr&gt;</th><th scope=col>&lt;int&gt;</th><th scope=col>&lt;dbl&gt;</th><th scope=col>&lt;dbl&gt;</th><th scope=col>&lt;dbl&gt;</th><th scope=col>&lt;dbl&gt;</th><th scope=col>&lt;int&gt;</th><th scope=col>&lt;int&gt;</th><th scope=col>&lt;dbl&gt;</th><th scope=col>&lt;dbl&gt;</th><th scope=col>&lt;int&gt;</th><th scope=col>&lt;dbl&gt;</th><th scope=col>&lt;dbl&gt;</th><th scope=col>&lt;dbl&gt;</th></tr>\n",
       "</thead>\n",
       "<tbody>\n",
       "\t<tr><th scope=row>2</th><td>3708</td><td>3</td><td>2020-09-02</td><td>WEN</td><td>WENDY'S CO</td><td>3814903</td><td>21.970</td><td>22.08</td><td>21.0100</td><td>21.01</td><td>14</td><td>5812</td><td> 0.0486873508</td><td> 0.0028639618</td><td> 884992</td><td> 3030530</td><td>9</td><td>2020</td></tr>\n",
       "\t<tr><th scope=row>3</th><td>3708</td><td>3</td><td>2020-09-03</td><td>WEN</td><td>WENDY'S CO</td><td>4280982</td><td>21.950</td><td>22.48</td><td>21.6450</td><td>21.95</td><td>14</td><td>5812</td><td>-0.0009103323</td><td>-0.0009103323</td><td> 466079</td><td>-1153558</td><td>9</td><td>2020</td></tr>\n",
       "\t<tr><th scope=row>4</th><td>3708</td><td>3</td><td>2020-09-04</td><td>WEN</td><td>WENDY'S CO</td><td>3351921</td><td>21.580</td><td>22.38</td><td>21.4050</td><td>22.20</td><td>14</td><td>5812</td><td>-0.0168564920</td><td> 0.0113895216</td><td>-929061</td><td>-2148667</td><td>9</td><td>2020</td></tr>\n",
       "\t<tr><th scope=row>5</th><td>3708</td><td>3</td><td>2020-09-08</td><td>WEN</td><td>WENDY'S CO</td><td>3439170</td><td>21.850</td><td>22.05</td><td>21.2300</td><td>21.43</td><td>14</td><td>5812</td><td> 0.0125115848</td><td>-0.0069508804</td><td>  87249</td><td> 1761526</td><td>9</td><td>2020</td></tr>\n",
       "\t<tr><th scope=row>6</th><td>3708</td><td>3</td><td>2020-09-09</td><td>WEN</td><td>WENDY'S CO</td><td>2847727</td><td>22.495</td><td>22.61</td><td>21.8322</td><td>22.00</td><td>14</td><td>5812</td><td> 0.0295194508</td><td> 0.0068649886</td><td>-591443</td><td> 2005638</td><td>9</td><td>2020</td></tr>\n",
       "\t<tr><th scope=row>7</th><td>3708</td><td>3</td><td>2020-09-10</td><td>WEN</td><td>WENDY'S CO</td><td>2787857</td><td>21.850</td><td>23.04</td><td>21.8400</td><td>22.55</td><td>14</td><td>5812</td><td>-0.0286730385</td><td> 0.0024449878</td><td> -59870</td><td>-2741393</td><td>9</td><td>2020</td></tr>\n",
       "</tbody>\n",
       "</table>\n"
      ],
      "text/latex": [
       "A data.frame: 6 × 18\n",
       "\\begin{tabular}{r|llllllllllllllllll}\n",
       "  & GVKEY & iid & datadate & tic & conm & cshtrd & prccd & prchd & prcld & prcod & exchg & sic & daily\\_return & overnight\\_return & volume\\_change & mvf & month & year\\\\\n",
       "  & <int> & <int> & <date> & <chr> & <chr> & <int> & <dbl> & <dbl> & <dbl> & <dbl> & <int> & <int> & <dbl> & <dbl> & <int> & <dbl> & <dbl> & <dbl>\\\\\n",
       "\\hline\n",
       "\t2 & 3708 & 3 & 2020-09-02 & WEN & WENDY'S CO & 3814903 & 21.970 & 22.08 & 21.0100 & 21.01 & 14 & 5812 &  0.0486873508 &  0.0028639618 &  884992 &  3030530 & 9 & 2020\\\\\n",
       "\t3 & 3708 & 3 & 2020-09-03 & WEN & WENDY'S CO & 4280982 & 21.950 & 22.48 & 21.6450 & 21.95 & 14 & 5812 & -0.0009103323 & -0.0009103323 &  466079 & -1153558 & 9 & 2020\\\\\n",
       "\t4 & 3708 & 3 & 2020-09-04 & WEN & WENDY'S CO & 3351921 & 21.580 & 22.38 & 21.4050 & 22.20 & 14 & 5812 & -0.0168564920 &  0.0113895216 & -929061 & -2148667 & 9 & 2020\\\\\n",
       "\t5 & 3708 & 3 & 2020-09-08 & WEN & WENDY'S CO & 3439170 & 21.850 & 22.05 & 21.2300 & 21.43 & 14 & 5812 &  0.0125115848 & -0.0069508804 &   87249 &  1761526 & 9 & 2020\\\\\n",
       "\t6 & 3708 & 3 & 2020-09-09 & WEN & WENDY'S CO & 2847727 & 22.495 & 22.61 & 21.8322 & 22.00 & 14 & 5812 &  0.0295194508 &  0.0068649886 & -591443 &  2005638 & 9 & 2020\\\\\n",
       "\t7 & 3708 & 3 & 2020-09-10 & WEN & WENDY'S CO & 2787857 & 21.850 & 23.04 & 21.8400 & 22.55 & 14 & 5812 & -0.0286730385 &  0.0024449878 &  -59870 & -2741393 & 9 & 2020\\\\\n",
       "\\end{tabular}\n"
      ],
      "text/markdown": [
       "\n",
       "A data.frame: 6 × 18\n",
       "\n",
       "| <!--/--> | GVKEY &lt;int&gt; | iid &lt;int&gt; | datadate &lt;date&gt; | tic &lt;chr&gt; | conm &lt;chr&gt; | cshtrd &lt;int&gt; | prccd &lt;dbl&gt; | prchd &lt;dbl&gt; | prcld &lt;dbl&gt; | prcod &lt;dbl&gt; | exchg &lt;int&gt; | sic &lt;int&gt; | daily_return &lt;dbl&gt; | overnight_return &lt;dbl&gt; | volume_change &lt;int&gt; | mvf &lt;dbl&gt; | month &lt;dbl&gt; | year &lt;dbl&gt; |\n",
       "|---|---|---|---|---|---|---|---|---|---|---|---|---|---|---|---|---|---|---|\n",
       "| 2 | 3708 | 3 | 2020-09-02 | WEN | WENDY'S CO | 3814903 | 21.970 | 22.08 | 21.0100 | 21.01 | 14 | 5812 |  0.0486873508 |  0.0028639618 |  884992 |  3030530 | 9 | 2020 |\n",
       "| 3 | 3708 | 3 | 2020-09-03 | WEN | WENDY'S CO | 4280982 | 21.950 | 22.48 | 21.6450 | 21.95 | 14 | 5812 | -0.0009103323 | -0.0009103323 |  466079 | -1153558 | 9 | 2020 |\n",
       "| 4 | 3708 | 3 | 2020-09-04 | WEN | WENDY'S CO | 3351921 | 21.580 | 22.38 | 21.4050 | 22.20 | 14 | 5812 | -0.0168564920 |  0.0113895216 | -929061 | -2148667 | 9 | 2020 |\n",
       "| 5 | 3708 | 3 | 2020-09-08 | WEN | WENDY'S CO | 3439170 | 21.850 | 22.05 | 21.2300 | 21.43 | 14 | 5812 |  0.0125115848 | -0.0069508804 |   87249 |  1761526 | 9 | 2020 |\n",
       "| 6 | 3708 | 3 | 2020-09-09 | WEN | WENDY'S CO | 2847727 | 22.495 | 22.61 | 21.8322 | 22.00 | 14 | 5812 |  0.0295194508 |  0.0068649886 | -591443 |  2005638 | 9 | 2020 |\n",
       "| 7 | 3708 | 3 | 2020-09-10 | WEN | WENDY'S CO | 2787857 | 21.850 | 23.04 | 21.8400 | 22.55 | 14 | 5812 | -0.0286730385 |  0.0024449878 |  -59870 | -2741393 | 9 | 2020 |\n",
       "\n"
      ],
      "text/plain": [
       "  GVKEY iid datadate   tic conm       cshtrd  prccd  prchd prcld   prcod exchg\n",
       "2 3708  3   2020-09-02 WEN WENDY'S CO 3814903 21.970 22.08 21.0100 21.01 14   \n",
       "3 3708  3   2020-09-03 WEN WENDY'S CO 4280982 21.950 22.48 21.6450 21.95 14   \n",
       "4 3708  3   2020-09-04 WEN WENDY'S CO 3351921 21.580 22.38 21.4050 22.20 14   \n",
       "5 3708  3   2020-09-08 WEN WENDY'S CO 3439170 21.850 22.05 21.2300 21.43 14   \n",
       "6 3708  3   2020-09-09 WEN WENDY'S CO 2847727 22.495 22.61 21.8322 22.00 14   \n",
       "7 3708  3   2020-09-10 WEN WENDY'S CO 2787857 21.850 23.04 21.8400 22.55 14   \n",
       "  sic  daily_return  overnight_return volume_change mvf      month year\n",
       "2 5812  0.0486873508  0.0028639618     884992        3030530 9     2020\n",
       "3 5812 -0.0009103323 -0.0009103323     466079       -1153558 9     2020\n",
       "4 5812 -0.0168564920  0.0113895216    -929061       -2148667 9     2020\n",
       "5 5812  0.0125115848 -0.0069508804      87249        1761526 9     2020\n",
       "6 5812  0.0295194508  0.0068649886    -591443        2005638 9     2020\n",
       "7 5812 -0.0286730385  0.0024449878     -59870       -2741393 9     2020"
      ]
     },
     "metadata": {},
     "output_type": "display_data"
    }
   ],
   "source": [
    "wendy = mutate(wendy, year=year(wendy$datadate))\n",
    "head(wendy)"
   ]
  },
  {
   "cell_type": "markdown",
   "id": "b41c312f",
   "metadata": {},
   "source": [
    "Total trading volume in june 2023"
   ]
  },
  {
   "cell_type": "code",
   "execution_count": null,
   "id": "2263a394",
   "metadata": {
    "vscode": {
     "languageId": "r"
    }
   },
   "outputs": [
    {
     "data": {
      "text/html": [
       "54557454"
      ],
      "text/latex": [
       "54557454"
      ],
      "text/markdown": [
       "54557454"
      ],
      "text/plain": [
       "[1] 54557454"
      ]
     },
     "metadata": {},
     "output_type": "display_data"
    },
    {
     "data": {
      "text/html": [
       "'The total trading volume in june 2023 was 54557454'"
      ],
      "text/latex": [
       "'The total trading volume in june 2023 was 54557454'"
      ],
      "text/markdown": [
       "'The total trading volume in june 2023 was 54557454'"
      ],
      "text/plain": [
       "[1] \"The total trading volume in june 2023 was 54557454\""
      ]
     },
     "metadata": {},
     "output_type": "display_data"
    }
   ],
   "source": [
    "wendy_jun_2023=filter(wendy, month==6 & year==2023)\n",
    "sum(wendy_jun_2023$cshtrd)\n",
    "paste0(\"The total trading volume in june 2023 was \", sum(wendy_jun_2023$cshtrd))"
   ]
  },
  {
   "cell_type": "markdown",
   "id": "b48bfa85",
   "metadata": {},
   "source": [
    "Mean daily return"
   ]
  },
  {
   "cell_type": "code",
   "execution_count": null,
   "id": "5e069c24",
   "metadata": {
    "vscode": {
     "languageId": "r"
    }
   },
   "outputs": [
    {
     "data": {
      "text/html": [
       "0.000116474712706267"
      ],
      "text/latex": [
       "0.000116474712706267"
      ],
      "text/markdown": [
       "0.000116474712706267"
      ],
      "text/plain": [
       "[1] 0.0001164747"
      ]
     },
     "metadata": {},
     "output_type": "display_data"
    },
    {
     "data": {
      "text/html": [
       "'The mean daily return, over the entire period was 0.000116474712706267'"
      ],
      "text/latex": [
       "'The mean daily return, over the entire period was 0.000116474712706267'"
      ],
      "text/markdown": [
       "'The mean daily return, over the entire period was 0.000116474712706267'"
      ],
      "text/plain": [
       "[1] \"The mean daily return, over the entire period was 0.000116474712706267\""
      ]
     },
     "metadata": {},
     "output_type": "display_data"
    }
   ],
   "source": [
    "mean(wendy$daily_return)\n",
    "paste0(\"The mean daily return, over the entire period was \", mean(wendy$daily_return))"
   ]
  },
  {
   "cell_type": "markdown",
   "id": "0e101363",
   "metadata": {},
   "source": [
    "The date that saw the largest positive high price."
   ]
  },
  {
   "cell_type": "code",
   "execution_count": null,
   "id": "b956b909",
   "metadata": {
    "vscode": {
     "languageId": "r"
    }
   },
   "outputs": [
    {
     "data": {
      "text/html": [
       "29.46"
      ],
      "text/latex": [
       "29.46"
      ],
      "text/markdown": [
       "29.46"
      ],
      "text/plain": [
       "[1] 29.46"
      ]
     },
     "metadata": {},
     "output_type": "display_data"
    },
    {
     "data": {
      "text/html": [
       "<table class=\"dataframe\">\n",
       "<caption>A data.frame: 1 × 18</caption>\n",
       "<thead>\n",
       "\t<tr><th scope=col>GVKEY</th><th scope=col>iid</th><th scope=col>datadate</th><th scope=col>tic</th><th scope=col>conm</th><th scope=col>cshtrd</th><th scope=col>prccd</th><th scope=col>prchd</th><th scope=col>prcld</th><th scope=col>prcod</th><th scope=col>exchg</th><th scope=col>sic</th><th scope=col>daily_return</th><th scope=col>overnight_return</th><th scope=col>volume_change</th><th scope=col>mvf</th><th scope=col>month</th><th scope=col>year</th></tr>\n",
       "\t<tr><th scope=col>&lt;int&gt;</th><th scope=col>&lt;int&gt;</th><th scope=col>&lt;date&gt;</th><th scope=col>&lt;chr&gt;</th><th scope=col>&lt;chr&gt;</th><th scope=col>&lt;int&gt;</th><th scope=col>&lt;dbl&gt;</th><th scope=col>&lt;dbl&gt;</th><th scope=col>&lt;dbl&gt;</th><th scope=col>&lt;dbl&gt;</th><th scope=col>&lt;int&gt;</th><th scope=col>&lt;int&gt;</th><th scope=col>&lt;dbl&gt;</th><th scope=col>&lt;dbl&gt;</th><th scope=col>&lt;int&gt;</th><th scope=col>&lt;dbl&gt;</th><th scope=col>&lt;dbl&gt;</th><th scope=col>&lt;dbl&gt;</th></tr>\n",
       "</thead>\n",
       "<tbody>\n",
       "\t<tr><td>3708</td><td>3</td><td>2021-06-08</td><td>WEN</td><td>WENDY'S CO</td><td>86616410</td><td>28.87</td><td>29.46</td><td>25.39</td><td>27.345</td><td>14</td><td>5812</td><td>0.2585004</td><td>0.1920227</td><td>83374146</td><td>61504036</td><td>6</td><td>2021</td></tr>\n",
       "</tbody>\n",
       "</table>\n"
      ],
      "text/latex": [
       "A data.frame: 1 × 18\n",
       "\\begin{tabular}{llllllllllllllllll}\n",
       " GVKEY & iid & datadate & tic & conm & cshtrd & prccd & prchd & prcld & prcod & exchg & sic & daily\\_return & overnight\\_return & volume\\_change & mvf & month & year\\\\\n",
       " <int> & <int> & <date> & <chr> & <chr> & <int> & <dbl> & <dbl> & <dbl> & <dbl> & <int> & <int> & <dbl> & <dbl> & <int> & <dbl> & <dbl> & <dbl>\\\\\n",
       "\\hline\n",
       "\t 3708 & 3 & 2021-06-08 & WEN & WENDY'S CO & 86616410 & 28.87 & 29.46 & 25.39 & 27.345 & 14 & 5812 & 0.2585004 & 0.1920227 & 83374146 & 61504036 & 6 & 2021\\\\\n",
       "\\end{tabular}\n"
      ],
      "text/markdown": [
       "\n",
       "A data.frame: 1 × 18\n",
       "\n",
       "| GVKEY &lt;int&gt; | iid &lt;int&gt; | datadate &lt;date&gt; | tic &lt;chr&gt; | conm &lt;chr&gt; | cshtrd &lt;int&gt; | prccd &lt;dbl&gt; | prchd &lt;dbl&gt; | prcld &lt;dbl&gt; | prcod &lt;dbl&gt; | exchg &lt;int&gt; | sic &lt;int&gt; | daily_return &lt;dbl&gt; | overnight_return &lt;dbl&gt; | volume_change &lt;int&gt; | mvf &lt;dbl&gt; | month &lt;dbl&gt; | year &lt;dbl&gt; |\n",
       "|---|---|---|---|---|---|---|---|---|---|---|---|---|---|---|---|---|---|\n",
       "| 3708 | 3 | 2021-06-08 | WEN | WENDY'S CO | 86616410 | 28.87 | 29.46 | 25.39 | 27.345 | 14 | 5812 | 0.2585004 | 0.1920227 | 83374146 | 61504036 | 6 | 2021 |\n",
       "\n"
      ],
      "text/plain": [
       "  GVKEY iid datadate   tic conm       cshtrd   prccd prchd prcld prcod  exchg\n",
       "1 3708  3   2021-06-08 WEN WENDY'S CO 86616410 28.87 29.46 25.39 27.345 14   \n",
       "  sic  daily_return overnight_return volume_change mvf      month year\n",
       "1 5812 0.2585004    0.1920227        83374146      61504036 6     2021"
      ]
     },
     "metadata": {},
     "output_type": "display_data"
    },
    {
     "data": {
      "text/html": [
       "'The date that saw the largest positive high price was 2021-06-08'"
      ],
      "text/latex": [
       "'The date that saw the largest positive high price was 2021-06-08'"
      ],
      "text/markdown": [
       "'The date that saw the largest positive high price was 2021-06-08'"
      ],
      "text/plain": [
       "[1] \"The date that saw the largest positive high price was 2021-06-08\""
      ]
     },
     "metadata": {},
     "output_type": "display_data"
    }
   ],
   "source": [
    "max(wendy$prchd)\n",
    "filter(wendy, prchd==max(wendy$prchd))\n",
    "paste0(\"The date that saw the largest positive high price was \", filter(wendy, daily_return==max(wendy$daily_return))$datadate)"
   ]
  },
  {
   "cell_type": "markdown",
   "id": "4b2ff1c7",
   "metadata": {},
   "source": [
    "The date that saw the largest positive daily return."
   ]
  },
  {
   "cell_type": "code",
   "execution_count": null,
   "id": "41f72f85",
   "metadata": {
    "vscode": {
     "languageId": "r"
    }
   },
   "outputs": [
    {
     "data": {
      "text/html": [
       "0.258500435919791"
      ],
      "text/latex": [
       "0.258500435919791"
      ],
      "text/markdown": [
       "0.258500435919791"
      ],
      "text/plain": [
       "[1] 0.2585004"
      ]
     },
     "metadata": {},
     "output_type": "display_data"
    },
    {
     "data": {
      "text/html": [
       "<table class=\"dataframe\">\n",
       "<caption>A data.frame: 1 × 18</caption>\n",
       "<thead>\n",
       "\t<tr><th scope=col>GVKEY</th><th scope=col>iid</th><th scope=col>datadate</th><th scope=col>tic</th><th scope=col>conm</th><th scope=col>cshtrd</th><th scope=col>prccd</th><th scope=col>prchd</th><th scope=col>prcld</th><th scope=col>prcod</th><th scope=col>exchg</th><th scope=col>sic</th><th scope=col>daily_return</th><th scope=col>overnight_return</th><th scope=col>volume_change</th><th scope=col>mvf</th><th scope=col>month</th><th scope=col>year</th></tr>\n",
       "\t<tr><th scope=col>&lt;int&gt;</th><th scope=col>&lt;int&gt;</th><th scope=col>&lt;date&gt;</th><th scope=col>&lt;chr&gt;</th><th scope=col>&lt;chr&gt;</th><th scope=col>&lt;int&gt;</th><th scope=col>&lt;dbl&gt;</th><th scope=col>&lt;dbl&gt;</th><th scope=col>&lt;dbl&gt;</th><th scope=col>&lt;dbl&gt;</th><th scope=col>&lt;int&gt;</th><th scope=col>&lt;int&gt;</th><th scope=col>&lt;dbl&gt;</th><th scope=col>&lt;dbl&gt;</th><th scope=col>&lt;int&gt;</th><th scope=col>&lt;dbl&gt;</th><th scope=col>&lt;dbl&gt;</th><th scope=col>&lt;dbl&gt;</th></tr>\n",
       "</thead>\n",
       "<tbody>\n",
       "\t<tr><td>3708</td><td>3</td><td>2021-06-08</td><td>WEN</td><td>WENDY'S CO</td><td>86616410</td><td>28.87</td><td>29.46</td><td>25.39</td><td>27.345</td><td>14</td><td>5812</td><td>0.2585004</td><td>0.1920227</td><td>83374146</td><td>61504036</td><td>6</td><td>2021</td></tr>\n",
       "</tbody>\n",
       "</table>\n"
      ],
      "text/latex": [
       "A data.frame: 1 × 18\n",
       "\\begin{tabular}{llllllllllllllllll}\n",
       " GVKEY & iid & datadate & tic & conm & cshtrd & prccd & prchd & prcld & prcod & exchg & sic & daily\\_return & overnight\\_return & volume\\_change & mvf & month & year\\\\\n",
       " <int> & <int> & <date> & <chr> & <chr> & <int> & <dbl> & <dbl> & <dbl> & <dbl> & <int> & <int> & <dbl> & <dbl> & <int> & <dbl> & <dbl> & <dbl>\\\\\n",
       "\\hline\n",
       "\t 3708 & 3 & 2021-06-08 & WEN & WENDY'S CO & 86616410 & 28.87 & 29.46 & 25.39 & 27.345 & 14 & 5812 & 0.2585004 & 0.1920227 & 83374146 & 61504036 & 6 & 2021\\\\\n",
       "\\end{tabular}\n"
      ],
      "text/markdown": [
       "\n",
       "A data.frame: 1 × 18\n",
       "\n",
       "| GVKEY &lt;int&gt; | iid &lt;int&gt; | datadate &lt;date&gt; | tic &lt;chr&gt; | conm &lt;chr&gt; | cshtrd &lt;int&gt; | prccd &lt;dbl&gt; | prchd &lt;dbl&gt; | prcld &lt;dbl&gt; | prcod &lt;dbl&gt; | exchg &lt;int&gt; | sic &lt;int&gt; | daily_return &lt;dbl&gt; | overnight_return &lt;dbl&gt; | volume_change &lt;int&gt; | mvf &lt;dbl&gt; | month &lt;dbl&gt; | year &lt;dbl&gt; |\n",
       "|---|---|---|---|---|---|---|---|---|---|---|---|---|---|---|---|---|---|\n",
       "| 3708 | 3 | 2021-06-08 | WEN | WENDY'S CO | 86616410 | 28.87 | 29.46 | 25.39 | 27.345 | 14 | 5812 | 0.2585004 | 0.1920227 | 83374146 | 61504036 | 6 | 2021 |\n",
       "\n"
      ],
      "text/plain": [
       "  GVKEY iid datadate   tic conm       cshtrd   prccd prchd prcld prcod  exchg\n",
       "1 3708  3   2021-06-08 WEN WENDY'S CO 86616410 28.87 29.46 25.39 27.345 14   \n",
       "  sic  daily_return overnight_return volume_change mvf      month year\n",
       "1 5812 0.2585004    0.1920227        83374146      61504036 6     2021"
      ]
     },
     "metadata": {},
     "output_type": "display_data"
    },
    {
     "name": "stdout",
     "output_type": "stream",
     "text": [
      "[1] \"The date that saw the largest positive daily return was 2021-06-08\"\n"
     ]
    }
   ],
   "source": [
    "max(wendy$daily_return)\n",
    "filter(wendy, daily_return==max(wendy$daily_return))\n",
    "print(paste0(\"The date that saw the largest positive daily return was \", filter(wendy, daily_return==max(wendy$daily_return))$datadate))"
   ]
  },
  {
   "cell_type": "markdown",
   "id": "6c68ec2b",
   "metadata": {},
   "source": [
    "\"Shares of The Wendy's Company (NASDAQ: WEN) were rocketing 18% higher today after the WallStreetBets subreddit crowd apparently turned its attention to the fast-food chain and mentioned it as a possible short squeeze candidate\" (Duprey, 2021).\n",
    "\n",
    "Duprey, R. (2021) Wendy's is Suddenly a Meme Stock. Available at: https://www.nasdaq.com/articles/wendys-is-suddenly-a-meme-stock-2021-06-08 (Accessed: 25 September 2025).\n"
   ]
  },
  {
   "cell_type": "markdown",
   "id": "f465904b",
   "metadata": {},
   "source": [
    "## Dominos Pizza"
   ]
  },
  {
   "cell_type": "code",
   "execution_count": null,
   "id": "2d11e7bf",
   "metadata": {
    "vscode": {
     "languageId": "r"
    }
   },
   "outputs": [
    {
     "name": "stderr",
     "output_type": "stream",
     "text": [
      "\n",
      "Attaching package: ‘dplyr’\n",
      "\n",
      "\n",
      "The following objects are masked from ‘package:stats’:\n",
      "\n",
      "    filter, lag\n",
      "\n",
      "\n",
      "The following objects are masked from ‘package:base’:\n",
      "\n",
      "    intersect, setdiff, setequal, union\n",
      "\n",
      "\n",
      "Loading required package: xts\n",
      "\n",
      "Loading required package: zoo\n",
      "\n",
      "\n",
      "Attaching package: ‘zoo’\n",
      "\n",
      "\n",
      "The following objects are masked from ‘package:base’:\n",
      "\n",
      "    as.Date, as.Date.numeric\n",
      "\n",
      "\n",
      "\n",
      "######################### Warning from 'xts' package ##########################\n",
      "#                                                                             #\n",
      "# The dplyr lag() function breaks how base R's lag() function is supposed to  #\n",
      "# work, which breaks lag(my_xts). Calls to lag(my_xts) that you type or       #\n",
      "# source() into this session won't work correctly.                            #\n",
      "#                                                                             #\n",
      "# Use stats::lag() to make sure you're not using dplyr::lag(), or you can add #\n",
      "# conflictRules('dplyr', exclude = 'lag') to your .Rprofile to stop           #\n",
      "# dplyr from breaking base R's lag() function.                                #\n",
      "#                                                                             #\n",
      "# Code in packages is not affected. It's protected by R's namespace mechanism #\n",
      "# Set `options(xts.warn_dplyr_breaks_lag = FALSE)` to suppress this warning.  #\n",
      "#                                                                             #\n",
      "###############################################################################\n",
      "\n",
      "\n",
      "Attaching package: ‘xts’\n",
      "\n",
      "\n",
      "The following objects are masked from ‘package:dplyr’:\n",
      "\n",
      "    first, last\n",
      "\n",
      "\n",
      "\n",
      "Attaching package: ‘PerformanceAnalytics’\n",
      "\n",
      "\n",
      "The following object is masked from ‘package:graphics’:\n",
      "\n",
      "    legend\n",
      "\n",
      "\n",
      "\n",
      "Attaching package: ‘lubridate’\n",
      "\n",
      "\n",
      "The following objects are masked from ‘package:base’:\n",
      "\n",
      "    date, intersect, setdiff, union\n",
      "\n",
      "\n"
     ]
    }
   ],
   "source": [
    "library(dplyr)\n",
    "library(ggplot2)\n",
    "library(PerformanceAnalytics)\n",
    "library(lubridate)\n"
   ]
  },
  {
   "cell_type": "code",
   "execution_count": null,
   "id": "a9a3c40b",
   "metadata": {
    "vscode": {
     "languageId": "r"
    }
   },
   "outputs": [
    {
     "data": {
      "text/html": [
       "<table class=\"dataframe\">\n",
       "<caption>A data.frame: 6 × 12</caption>\n",
       "<thead>\n",
       "\t<tr><th></th><th scope=col>GVKEY</th><th scope=col>iid</th><th scope=col>datadate</th><th scope=col>tic</th><th scope=col>conm</th><th scope=col>cshtrd</th><th scope=col>prccd</th><th scope=col>prchd</th><th scope=col>prcld</th><th scope=col>prcod</th><th scope=col>exchg</th><th scope=col>sic</th></tr>\n",
       "\t<tr><th></th><th scope=col>&lt;int&gt;</th><th scope=col>&lt;int&gt;</th><th scope=col>&lt;date&gt;</th><th scope=col>&lt;chr&gt;</th><th scope=col>&lt;chr&gt;</th><th scope=col>&lt;int&gt;</th><th scope=col>&lt;dbl&gt;</th><th scope=col>&lt;dbl&gt;</th><th scope=col>&lt;dbl&gt;</th><th scope=col>&lt;dbl&gt;</th><th scope=col>&lt;int&gt;</th><th scope=col>&lt;int&gt;</th></tr>\n",
       "</thead>\n",
       "<tbody>\n",
       "\t<tr><th scope=row>1</th><td>160211</td><td>2</td><td>2020-09-01</td><td>DPZ</td><td>DOMINO'S PIZZA INC</td><td>502471</td><td>410.15</td><td>411.720</td><td>405.6500</td><td>408.44</td><td>11</td><td>5812</td></tr>\n",
       "\t<tr><th scope=row>2</th><td>160211</td><td>2</td><td>2020-09-02</td><td>DPZ</td><td>DOMINO'S PIZZA INC</td><td>585397</td><td>403.60</td><td>413.180</td><td>402.6200</td><td>409.86</td><td>11</td><td>5812</td></tr>\n",
       "\t<tr><th scope=row>3</th><td>160211</td><td>2</td><td>2020-09-03</td><td>DPZ</td><td>DOMINO'S PIZZA INC</td><td>799206</td><td>397.50</td><td>403.310</td><td>389.6400</td><td>403.00</td><td>11</td><td>5812</td></tr>\n",
       "\t<tr><th scope=row>4</th><td>160211</td><td>2</td><td>2020-09-04</td><td>DPZ</td><td>DOMINO'S PIZZA INC</td><td>857808</td><td>381.81</td><td>401.200</td><td>376.3301</td><td>397.61</td><td>11</td><td>5812</td></tr>\n",
       "\t<tr><th scope=row>5</th><td>160211</td><td>2</td><td>2020-09-08</td><td>DPZ</td><td>DOMINO'S PIZZA INC</td><td>682847</td><td>376.32</td><td>386.645</td><td>376.1100</td><td>381.57</td><td>11</td><td>5812</td></tr>\n",
       "\t<tr><th scope=row>6</th><td>160211</td><td>2</td><td>2020-09-09</td><td>DPZ</td><td>DOMINO'S PIZZA INC</td><td>594344</td><td>382.07</td><td>387.690</td><td>380.4800</td><td>382.50</td><td>11</td><td>5812</td></tr>\n",
       "</tbody>\n",
       "</table>\n"
      ],
      "text/latex": [
       "A data.frame: 6 × 12\n",
       "\\begin{tabular}{r|llllllllllll}\n",
       "  & GVKEY & iid & datadate & tic & conm & cshtrd & prccd & prchd & prcld & prcod & exchg & sic\\\\\n",
       "  & <int> & <int> & <date> & <chr> & <chr> & <int> & <dbl> & <dbl> & <dbl> & <dbl> & <int> & <int>\\\\\n",
       "\\hline\n",
       "\t1 & 160211 & 2 & 2020-09-01 & DPZ & DOMINO'S PIZZA INC & 502471 & 410.15 & 411.720 & 405.6500 & 408.44 & 11 & 5812\\\\\n",
       "\t2 & 160211 & 2 & 2020-09-02 & DPZ & DOMINO'S PIZZA INC & 585397 & 403.60 & 413.180 & 402.6200 & 409.86 & 11 & 5812\\\\\n",
       "\t3 & 160211 & 2 & 2020-09-03 & DPZ & DOMINO'S PIZZA INC & 799206 & 397.50 & 403.310 & 389.6400 & 403.00 & 11 & 5812\\\\\n",
       "\t4 & 160211 & 2 & 2020-09-04 & DPZ & DOMINO'S PIZZA INC & 857808 & 381.81 & 401.200 & 376.3301 & 397.61 & 11 & 5812\\\\\n",
       "\t5 & 160211 & 2 & 2020-09-08 & DPZ & DOMINO'S PIZZA INC & 682847 & 376.32 & 386.645 & 376.1100 & 381.57 & 11 & 5812\\\\\n",
       "\t6 & 160211 & 2 & 2020-09-09 & DPZ & DOMINO'S PIZZA INC & 594344 & 382.07 & 387.690 & 380.4800 & 382.50 & 11 & 5812\\\\\n",
       "\\end{tabular}\n"
      ],
      "text/markdown": [
       "\n",
       "A data.frame: 6 × 12\n",
       "\n",
       "| <!--/--> | GVKEY &lt;int&gt; | iid &lt;int&gt; | datadate &lt;date&gt; | tic &lt;chr&gt; | conm &lt;chr&gt; | cshtrd &lt;int&gt; | prccd &lt;dbl&gt; | prchd &lt;dbl&gt; | prcld &lt;dbl&gt; | prcod &lt;dbl&gt; | exchg &lt;int&gt; | sic &lt;int&gt; |\n",
       "|---|---|---|---|---|---|---|---|---|---|---|---|---|\n",
       "| 1 | 160211 | 2 | 2020-09-01 | DPZ | DOMINO'S PIZZA INC | 502471 | 410.15 | 411.720 | 405.6500 | 408.44 | 11 | 5812 |\n",
       "| 2 | 160211 | 2 | 2020-09-02 | DPZ | DOMINO'S PIZZA INC | 585397 | 403.60 | 413.180 | 402.6200 | 409.86 | 11 | 5812 |\n",
       "| 3 | 160211 | 2 | 2020-09-03 | DPZ | DOMINO'S PIZZA INC | 799206 | 397.50 | 403.310 | 389.6400 | 403.00 | 11 | 5812 |\n",
       "| 4 | 160211 | 2 | 2020-09-04 | DPZ | DOMINO'S PIZZA INC | 857808 | 381.81 | 401.200 | 376.3301 | 397.61 | 11 | 5812 |\n",
       "| 5 | 160211 | 2 | 2020-09-08 | DPZ | DOMINO'S PIZZA INC | 682847 | 376.32 | 386.645 | 376.1100 | 381.57 | 11 | 5812 |\n",
       "| 6 | 160211 | 2 | 2020-09-09 | DPZ | DOMINO'S PIZZA INC | 594344 | 382.07 | 387.690 | 380.4800 | 382.50 | 11 | 5812 |\n",
       "\n"
      ],
      "text/plain": [
       "  GVKEY  iid datadate   tic conm               cshtrd prccd  prchd   prcld   \n",
       "1 160211 2   2020-09-01 DPZ DOMINO'S PIZZA INC 502471 410.15 411.720 405.6500\n",
       "2 160211 2   2020-09-02 DPZ DOMINO'S PIZZA INC 585397 403.60 413.180 402.6200\n",
       "3 160211 2   2020-09-03 DPZ DOMINO'S PIZZA INC 799206 397.50 403.310 389.6400\n",
       "4 160211 2   2020-09-04 DPZ DOMINO'S PIZZA INC 857808 381.81 401.200 376.3301\n",
       "5 160211 2   2020-09-08 DPZ DOMINO'S PIZZA INC 682847 376.32 386.645 376.1100\n",
       "6 160211 2   2020-09-09 DPZ DOMINO'S PIZZA INC 594344 382.07 387.690 380.4800\n",
       "  prcod  exchg sic \n",
       "1 408.44 11    5812\n",
       "2 409.86 11    5812\n",
       "3 403.00 11    5812\n",
       "4 397.61 11    5812\n",
       "5 381.57 11    5812\n",
       "6 382.50 11    5812"
      ]
     },
     "metadata": {},
     "output_type": "display_data"
    }
   ],
   "source": [
    "data = read.csv('compustat_food_bev.csv')\n",
    "\n",
    "\n",
    "dpz_data = filter(data, tic == \"DPZ\")\n",
    "\n",
    "dpz_data$datadate = as.Date(dpz_data$datadate, format = '%d/%m/%Y')\n",
    "head(dpz_data)"
   ]
  },
  {
   "cell_type": "code",
   "execution_count": null,
   "id": "1c6b1285",
   "metadata": {
    "vscode": {
     "languageId": "r"
    }
   },
   "outputs": [
    {
     "data": {
      "text/html": [
       "<table class=\"dataframe\">\n",
       "<caption>A data.frame: 6 × 5</caption>\n",
       "<thead>\n",
       "\t<tr><th></th><th scope=col>datadate</th><th scope=col>daily_return</th><th scope=col>change_volume</th><th scope=col>change_open_close</th><th scope=col>MFV</th></tr>\n",
       "\t<tr><th></th><th scope=col>&lt;date&gt;</th><th scope=col>&lt;dbl&gt;</th><th scope=col>&lt;int&gt;</th><th scope=col>&lt;dbl&gt;</th><th scope=col>&lt;dbl&gt;</th></tr>\n",
       "</thead>\n",
       "<tbody>\n",
       "\t<tr><th scope=row>1</th><td>2020-09-01</td><td>         NA</td><td>     NA</td><td>  1.71</td><td> 242543.7</td></tr>\n",
       "\t<tr><th scope=row>2</th><td>2020-09-02</td><td>-0.01596977</td><td>  82926</td><td> -6.26</td><td>-476743.8</td></tr>\n",
       "\t<tr><th scope=row>3</th><td>2020-09-03</td><td>-0.01511397</td><td> 213809</td><td> -5.50</td><td> 119851.7</td></tr>\n",
       "\t<tr><th scope=row>4</th><td>2020-09-04</td><td>-0.03947170</td><td>  58602</td><td>-15.80</td><td>-479784.6</td></tr>\n",
       "\t<tr><th scope=row>5</th><td>2020-09-08</td><td>-0.01437888</td><td>-174961</td><td> -5.25</td><td>-655623.9</td></tr>\n",
       "\t<tr><th scope=row>6</th><td>2020-09-09</td><td> 0.01527955</td><td> -88503</td><td> -0.43</td><td>-332206.1</td></tr>\n",
       "</tbody>\n",
       "</table>\n"
      ],
      "text/latex": [
       "A data.frame: 6 × 5\n",
       "\\begin{tabular}{r|lllll}\n",
       "  & datadate & daily\\_return & change\\_volume & change\\_open\\_close & MFV\\\\\n",
       "  & <date> & <dbl> & <int> & <dbl> & <dbl>\\\\\n",
       "\\hline\n",
       "\t1 & 2020-09-01 &          NA &      NA &   1.71 &  242543.7\\\\\n",
       "\t2 & 2020-09-02 & -0.01596977 &   82926 &  -6.26 & -476743.8\\\\\n",
       "\t3 & 2020-09-03 & -0.01511397 &  213809 &  -5.50 &  119851.7\\\\\n",
       "\t4 & 2020-09-04 & -0.03947170 &   58602 & -15.80 & -479784.6\\\\\n",
       "\t5 & 2020-09-08 & -0.01437888 & -174961 &  -5.25 & -655623.9\\\\\n",
       "\t6 & 2020-09-09 &  0.01527955 &  -88503 &  -0.43 & -332206.1\\\\\n",
       "\\end{tabular}\n"
      ],
      "text/markdown": [
       "\n",
       "A data.frame: 6 × 5\n",
       "\n",
       "| <!--/--> | datadate &lt;date&gt; | daily_return &lt;dbl&gt; | change_volume &lt;int&gt; | change_open_close &lt;dbl&gt; | MFV &lt;dbl&gt; |\n",
       "|---|---|---|---|---|---|\n",
       "| 1 | 2020-09-01 |          NA |      NA |   1.71 |  242543.7 |\n",
       "| 2 | 2020-09-02 | -0.01596977 |   82926 |  -6.26 | -476743.8 |\n",
       "| 3 | 2020-09-03 | -0.01511397 |  213809 |  -5.50 |  119851.7 |\n",
       "| 4 | 2020-09-04 | -0.03947170 |   58602 | -15.80 | -479784.6 |\n",
       "| 5 | 2020-09-08 | -0.01437888 | -174961 |  -5.25 | -655623.9 |\n",
       "| 6 | 2020-09-09 |  0.01527955 |  -88503 |  -0.43 | -332206.1 |\n",
       "\n"
      ],
      "text/plain": [
       "  datadate   daily_return change_volume change_open_close MFV      \n",
       "1 2020-09-01          NA       NA         1.71             242543.7\n",
       "2 2020-09-02 -0.01596977    82926        -6.26            -476743.8\n",
       "3 2020-09-03 -0.01511397   213809        -5.50             119851.7\n",
       "4 2020-09-04 -0.03947170    58602       -15.80            -479784.6\n",
       "5 2020-09-08 -0.01437888  -174961        -5.25            -655623.9\n",
       "6 2020-09-09  0.01527955   -88503        -0.43            -332206.1"
      ]
     },
     "metadata": {},
     "output_type": "display_data"
    }
   ],
   "source": [
    "dpz_data$daily_return = (dpz_data$prccd / lag(dpz_data$prccd)) -1 \n",
    "\n",
    "dpz_data$change_volume = dpz_data$cshtrd - lag(dpz_data$cshtrd)\n",
    "\n",
    "dpz_data$change_open_close = dpz_data$prccd - dpz_data$prcod\n",
    "\n",
    "dpz_data$MFV = (((dpz_data$prccd - dpz_data$prcld) - (dpz_data$prchd - dpz_data$prccd)) / (dpz_data$prchd - dpz_data$prcld)) * dpz_data$cshtrd\n",
    "\n",
    "dpz_data_display = select(dpz_data, datadate, daily_return, change_volume, change_open_close, MFV)\n",
    "\n",
    "head(dpz_data_display)"
   ]
  },
  {
   "cell_type": "code",
   "execution_count": null,
   "id": "4ffc9ad6",
   "metadata": {
    "vscode": {
     "languageId": "r"
    }
   },
   "outputs": [
    {
     "data": {
      "text/html": [
       "<table class=\"dataframe\">\n",
       "<caption>A data.frame: 6 × 18</caption>\n",
       "<thead>\n",
       "\t<tr><th></th><th scope=col>GVKEY</th><th scope=col>iid</th><th scope=col>datadate</th><th scope=col>tic</th><th scope=col>conm</th><th scope=col>cshtrd</th><th scope=col>prccd</th><th scope=col>prchd</th><th scope=col>prcld</th><th scope=col>prcod</th><th scope=col>exchg</th><th scope=col>sic</th><th scope=col>daily_return</th><th scope=col>change_volume</th><th scope=col>change_open_close</th><th scope=col>MFV</th><th scope=col>month</th><th scope=col>year</th></tr>\n",
       "\t<tr><th></th><th scope=col>&lt;int&gt;</th><th scope=col>&lt;int&gt;</th><th scope=col>&lt;date&gt;</th><th scope=col>&lt;chr&gt;</th><th scope=col>&lt;chr&gt;</th><th scope=col>&lt;int&gt;</th><th scope=col>&lt;dbl&gt;</th><th scope=col>&lt;dbl&gt;</th><th scope=col>&lt;dbl&gt;</th><th scope=col>&lt;dbl&gt;</th><th scope=col>&lt;int&gt;</th><th scope=col>&lt;int&gt;</th><th scope=col>&lt;dbl&gt;</th><th scope=col>&lt;int&gt;</th><th scope=col>&lt;dbl&gt;</th><th scope=col>&lt;dbl&gt;</th><th scope=col>&lt;dbl&gt;</th><th scope=col>&lt;dbl&gt;</th></tr>\n",
       "</thead>\n",
       "<tbody>\n",
       "\t<tr><th scope=row>1</th><td>160211</td><td>2</td><td>2020-09-01</td><td>DPZ</td><td>DOMINO'S PIZZA INC</td><td>502471</td><td>410.15</td><td>411.720</td><td>405.6500</td><td>408.44</td><td>11</td><td>5812</td><td>         NA</td><td>     NA</td><td>  1.71</td><td> 242543.7</td><td>9</td><td>2020</td></tr>\n",
       "\t<tr><th scope=row>2</th><td>160211</td><td>2</td><td>2020-09-02</td><td>DPZ</td><td>DOMINO'S PIZZA INC</td><td>585397</td><td>403.60</td><td>413.180</td><td>402.6200</td><td>409.86</td><td>11</td><td>5812</td><td>-0.01596977</td><td>  82926</td><td> -6.26</td><td>-476743.8</td><td>9</td><td>2020</td></tr>\n",
       "\t<tr><th scope=row>3</th><td>160211</td><td>2</td><td>2020-09-03</td><td>DPZ</td><td>DOMINO'S PIZZA INC</td><td>799206</td><td>397.50</td><td>403.310</td><td>389.6400</td><td>403.00</td><td>11</td><td>5812</td><td>-0.01511397</td><td> 213809</td><td> -5.50</td><td> 119851.7</td><td>9</td><td>2020</td></tr>\n",
       "\t<tr><th scope=row>4</th><td>160211</td><td>2</td><td>2020-09-04</td><td>DPZ</td><td>DOMINO'S PIZZA INC</td><td>857808</td><td>381.81</td><td>401.200</td><td>376.3301</td><td>397.61</td><td>11</td><td>5812</td><td>-0.03947170</td><td>  58602</td><td>-15.80</td><td>-479784.6</td><td>9</td><td>2020</td></tr>\n",
       "\t<tr><th scope=row>5</th><td>160211</td><td>2</td><td>2020-09-08</td><td>DPZ</td><td>DOMINO'S PIZZA INC</td><td>682847</td><td>376.32</td><td>386.645</td><td>376.1100</td><td>381.57</td><td>11</td><td>5812</td><td>-0.01437888</td><td>-174961</td><td> -5.25</td><td>-655623.9</td><td>9</td><td>2020</td></tr>\n",
       "\t<tr><th scope=row>6</th><td>160211</td><td>2</td><td>2020-09-09</td><td>DPZ</td><td>DOMINO'S PIZZA INC</td><td>594344</td><td>382.07</td><td>387.690</td><td>380.4800</td><td>382.50</td><td>11</td><td>5812</td><td> 0.01527955</td><td> -88503</td><td> -0.43</td><td>-332206.1</td><td>9</td><td>2020</td></tr>\n",
       "</tbody>\n",
       "</table>\n"
      ],
      "text/latex": [
       "A data.frame: 6 × 18\n",
       "\\begin{tabular}{r|llllllllllllllllll}\n",
       "  & GVKEY & iid & datadate & tic & conm & cshtrd & prccd & prchd & prcld & prcod & exchg & sic & daily\\_return & change\\_volume & change\\_open\\_close & MFV & month & year\\\\\n",
       "  & <int> & <int> & <date> & <chr> & <chr> & <int> & <dbl> & <dbl> & <dbl> & <dbl> & <int> & <int> & <dbl> & <int> & <dbl> & <dbl> & <dbl> & <dbl>\\\\\n",
       "\\hline\n",
       "\t1 & 160211 & 2 & 2020-09-01 & DPZ & DOMINO'S PIZZA INC & 502471 & 410.15 & 411.720 & 405.6500 & 408.44 & 11 & 5812 &          NA &      NA &   1.71 &  242543.7 & 9 & 2020\\\\\n",
       "\t2 & 160211 & 2 & 2020-09-02 & DPZ & DOMINO'S PIZZA INC & 585397 & 403.60 & 413.180 & 402.6200 & 409.86 & 11 & 5812 & -0.01596977 &   82926 &  -6.26 & -476743.8 & 9 & 2020\\\\\n",
       "\t3 & 160211 & 2 & 2020-09-03 & DPZ & DOMINO'S PIZZA INC & 799206 & 397.50 & 403.310 & 389.6400 & 403.00 & 11 & 5812 & -0.01511397 &  213809 &  -5.50 &  119851.7 & 9 & 2020\\\\\n",
       "\t4 & 160211 & 2 & 2020-09-04 & DPZ & DOMINO'S PIZZA INC & 857808 & 381.81 & 401.200 & 376.3301 & 397.61 & 11 & 5812 & -0.03947170 &   58602 & -15.80 & -479784.6 & 9 & 2020\\\\\n",
       "\t5 & 160211 & 2 & 2020-09-08 & DPZ & DOMINO'S PIZZA INC & 682847 & 376.32 & 386.645 & 376.1100 & 381.57 & 11 & 5812 & -0.01437888 & -174961 &  -5.25 & -655623.9 & 9 & 2020\\\\\n",
       "\t6 & 160211 & 2 & 2020-09-09 & DPZ & DOMINO'S PIZZA INC & 594344 & 382.07 & 387.690 & 380.4800 & 382.50 & 11 & 5812 &  0.01527955 &  -88503 &  -0.43 & -332206.1 & 9 & 2020\\\\\n",
       "\\end{tabular}\n"
      ],
      "text/markdown": [
       "\n",
       "A data.frame: 6 × 18\n",
       "\n",
       "| <!--/--> | GVKEY &lt;int&gt; | iid &lt;int&gt; | datadate &lt;date&gt; | tic &lt;chr&gt; | conm &lt;chr&gt; | cshtrd &lt;int&gt; | prccd &lt;dbl&gt; | prchd &lt;dbl&gt; | prcld &lt;dbl&gt; | prcod &lt;dbl&gt; | exchg &lt;int&gt; | sic &lt;int&gt; | daily_return &lt;dbl&gt; | change_volume &lt;int&gt; | change_open_close &lt;dbl&gt; | MFV &lt;dbl&gt; | month &lt;dbl&gt; | year &lt;dbl&gt; |\n",
       "|---|---|---|---|---|---|---|---|---|---|---|---|---|---|---|---|---|---|---|\n",
       "| 1 | 160211 | 2 | 2020-09-01 | DPZ | DOMINO'S PIZZA INC | 502471 | 410.15 | 411.720 | 405.6500 | 408.44 | 11 | 5812 |          NA |      NA |   1.71 |  242543.7 | 9 | 2020 |\n",
       "| 2 | 160211 | 2 | 2020-09-02 | DPZ | DOMINO'S PIZZA INC | 585397 | 403.60 | 413.180 | 402.6200 | 409.86 | 11 | 5812 | -0.01596977 |   82926 |  -6.26 | -476743.8 | 9 | 2020 |\n",
       "| 3 | 160211 | 2 | 2020-09-03 | DPZ | DOMINO'S PIZZA INC | 799206 | 397.50 | 403.310 | 389.6400 | 403.00 | 11 | 5812 | -0.01511397 |  213809 |  -5.50 |  119851.7 | 9 | 2020 |\n",
       "| 4 | 160211 | 2 | 2020-09-04 | DPZ | DOMINO'S PIZZA INC | 857808 | 381.81 | 401.200 | 376.3301 | 397.61 | 11 | 5812 | -0.03947170 |   58602 | -15.80 | -479784.6 | 9 | 2020 |\n",
       "| 5 | 160211 | 2 | 2020-09-08 | DPZ | DOMINO'S PIZZA INC | 682847 | 376.32 | 386.645 | 376.1100 | 381.57 | 11 | 5812 | -0.01437888 | -174961 |  -5.25 | -655623.9 | 9 | 2020 |\n",
       "| 6 | 160211 | 2 | 2020-09-09 | DPZ | DOMINO'S PIZZA INC | 594344 | 382.07 | 387.690 | 380.4800 | 382.50 | 11 | 5812 |  0.01527955 |  -88503 |  -0.43 | -332206.1 | 9 | 2020 |\n",
       "\n"
      ],
      "text/plain": [
       "  GVKEY  iid datadate   tic conm               cshtrd prccd  prchd   prcld   \n",
       "1 160211 2   2020-09-01 DPZ DOMINO'S PIZZA INC 502471 410.15 411.720 405.6500\n",
       "2 160211 2   2020-09-02 DPZ DOMINO'S PIZZA INC 585397 403.60 413.180 402.6200\n",
       "3 160211 2   2020-09-03 DPZ DOMINO'S PIZZA INC 799206 397.50 403.310 389.6400\n",
       "4 160211 2   2020-09-04 DPZ DOMINO'S PIZZA INC 857808 381.81 401.200 376.3301\n",
       "5 160211 2   2020-09-08 DPZ DOMINO'S PIZZA INC 682847 376.32 386.645 376.1100\n",
       "6 160211 2   2020-09-09 DPZ DOMINO'S PIZZA INC 594344 382.07 387.690 380.4800\n",
       "  prcod  exchg sic  daily_return change_volume change_open_close MFV      \n",
       "1 408.44 11    5812          NA       NA         1.71             242543.7\n",
       "2 409.86 11    5812 -0.01596977    82926        -6.26            -476743.8\n",
       "3 403.00 11    5812 -0.01511397   213809        -5.50             119851.7\n",
       "4 397.61 11    5812 -0.03947170    58602       -15.80            -479784.6\n",
       "5 381.57 11    5812 -0.01437888  -174961        -5.25            -655623.9\n",
       "6 382.50 11    5812  0.01527955   -88503        -0.43            -332206.1\n",
       "  month year\n",
       "1 9     2020\n",
       "2 9     2020\n",
       "3 9     2020\n",
       "4 9     2020\n",
       "5 9     2020\n",
       "6 9     2020"
      ]
     },
     "metadata": {},
     "output_type": "display_data"
    }
   ],
   "source": [
    "dpz_data = mutate(dpz_data, month = month(datadate), year  = year(datadate))\n",
    "head(dpz_data)\n",
    "\n"
   ]
  },
  {
   "cell_type": "code",
   "execution_count": null,
   "id": "949cd1a7",
   "metadata": {
    "vscode": {
     "languageId": "r"
    }
   },
   "outputs": [
    {
     "name": "stdout",
     "output_type": "stream",
     "text": [
      "[1] 2832257\n",
      "[1] \"The total trading value in June 2023 was 2832257\"\n"
     ]
    }
   ],
   "source": [
    "dpz_june_2023 = filter(dpz_data, month == 9, year == 2023)\n",
    "trade_vol = sum(dpz_june_2023$cshtrd, na.rm = TRUE)\n",
    "\n",
    "print(trade_vol)\n",
    "\n",
    "print(paste('The total trading value in June 2023 was' , trade_vol ))\n"
   ]
  },
  {
   "cell_type": "code",
   "execution_count": null,
   "id": "83bb445d",
   "metadata": {
    "vscode": {
     "languageId": "r"
    }
   },
   "outputs": [
    {
     "name": "stdout",
     "output_type": "stream",
     "text": [
      "[1] 0.0001312795\n",
      "[1] \"The average daily return of Domino's pizza was 0.00013127951649099\"\n"
     ]
    }
   ],
   "source": [
    "\n",
    "  \n",
    "mean_daily_return = mean(dpz_data$daily_return, na.rm = TRUE)\n",
    "\n",
    "print(mean_daily_return)\n",
    "\n",
    "print(paste(\"The average daily return of Domino's Pizza was\" , mean_daily_return ))\n"
   ]
  },
  {
   "cell_type": "code",
   "execution_count": null,
   "id": "604a12ae",
   "metadata": {
    "vscode": {
     "languageId": "r"
    }
   },
   "outputs": [
    {
     "name": "stdout",
     "output_type": "stream",
     "text": [
      "[1] 567.57\n",
      "[1] \"The highest price of Domino's Pizza was 567.57\"\n"
     ]
    }
   ],
   "source": [
    "max_high = max(dpz_data$prchd, na.rm = TRUE)\n",
    "\n",
    "print(max_closing)\n",
    "\n",
    "print(paste(\"The highest price of Domino's Pizza was\" , max_high ))\n"
   ]
  },
  {
   "cell_type": "code",
   "execution_count": null,
   "id": "eb99ea2e",
   "metadata": {
    "vscode": {
     "languageId": "r"
    }
   },
   "outputs": [
    {
     "name": "stdout",
     "output_type": "stream",
     "text": [
      "[1] 0.1455237\n",
      "[1] \"2021-07-22\"\n",
      "[1] \"The maximum daily return of Domino's Pizza was 0.145523736632864 on 2021-07-22\"\n"
     ]
    }
   ],
   "source": [
    "\n",
    "\n",
    "max_d_return = max(dpz_data$daily_return, na.rm = TRUE)\n",
    "max_date = dpz_data$datadate[which.max(dpz_data$daily_return)]\n",
    "\n",
    "print(max_d_return)\n",
    "print(max_date)\n",
    "\n",
    "print(paste(\"The maximum daily return of Domino's Pizza was\" , max_d_return, 'on', max_date ))\n",
    "\n",
    "\n"
   ]
  },
  {
   "cell_type": "markdown",
   "id": "70eef792",
   "metadata": {},
   "source": [
    "On july 22, 2021, Domino's Pizza released their Q2 2021 earnings where they report revenue and profits more than expectations. Also on the same day they announced a $1 billion share repurchase program. These might be the reason why investors reacted positively which records the highest daily return for the given period. "
   ]
  },
  {
   "cell_type": "markdown",
   "id": "d002ef18",
   "metadata": {},
   "source": [
    "# Part 2"
   ]
  },
  {
   "cell_type": "markdown",
   "id": "e5663a58",
   "metadata": {},
   "source": []
  }
 ],
 "metadata": {
  "kernelspec": {
   "display_name": "R",
   "language": "R",
   "name": "ir"
  },
  "language_info": {
   "codemirror_mode": "r",
   "file_extension": ".r",
   "mimetype": "text/x-r-source",
   "name": "R",
   "pygments_lexer": "r",
   "version": "4.3.3"
  }
 },
 "nbformat": 4,
 "nbformat_minor": 5
}
