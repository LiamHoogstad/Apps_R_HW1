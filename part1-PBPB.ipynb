{
 "cells": [
  {
   "cell_type": "markdown",
   "id": "6d6b305e",
   "metadata": {},
   "source": [
    "# This is Homework 1 for Stock **PBPB (Potbelly)**"
   ]
  },
  {
   "cell_type": "markdown",
   "id": "f8e91b90",
   "metadata": {},
   "source": [
    "## Load Data"
   ]
  },
  {
   "cell_type": "code",
   "execution_count": 1,
   "id": "c1bc5915",
   "metadata": {
    "vscode": {
     "languageId": "r"
    }
   },
   "outputs": [
    {
     "name": "stderr",
     "output_type": "stream",
     "text": [
      "\n",
      "Attaching package: ‘dplyr’\n",
      "\n",
      "\n",
      "The following objects are masked from ‘package:stats’:\n",
      "\n",
      "    filter, lag\n",
      "\n",
      "\n",
      "The following objects are masked from ‘package:base’:\n",
      "\n",
      "    intersect, setdiff, setequal, union\n",
      "\n",
      "\n",
      "\n",
      "Attaching package: ‘lubridate’\n",
      "\n",
      "\n",
      "The following objects are masked from ‘package:base’:\n",
      "\n",
      "    date, intersect, setdiff, union\n",
      "\n",
      "\n"
     ]
    }
   ],
   "source": [
    "#| warning: false\n",
    "\n",
    "library(dplyr)\n",
    "library(ggplot2)\n",
    "library(lubridate)"
   ]
  },
  {
   "cell_type": "code",
   "execution_count": 2,
   "id": "988355a2",
   "metadata": {
    "vscode": {
     "languageId": "r"
    }
   },
   "outputs": [
    {
     "data": {
      "text/html": [
       "<table class=\"dataframe\">\n",
       "<caption>A data.frame: 6 × 12</caption>\n",
       "<thead>\n",
       "\t<tr><th></th><th scope=col>GVKEY</th><th scope=col>iid</th><th scope=col>datadate</th><th scope=col>tic</th><th scope=col>conm</th><th scope=col>cshtrd</th><th scope=col>prccd</th><th scope=col>prchd</th><th scope=col>prcld</th><th scope=col>prcod</th><th scope=col>exchg</th><th scope=col>sic</th></tr>\n",
       "\t<tr><th></th><th scope=col>&lt;int&gt;</th><th scope=col>&lt;int&gt;</th><th scope=col>&lt;chr&gt;</th><th scope=col>&lt;chr&gt;</th><th scope=col>&lt;chr&gt;</th><th scope=col>&lt;int&gt;</th><th scope=col>&lt;dbl&gt;</th><th scope=col>&lt;dbl&gt;</th><th scope=col>&lt;dbl&gt;</th><th scope=col>&lt;dbl&gt;</th><th scope=col>&lt;int&gt;</th><th scope=col>&lt;int&gt;</th></tr>\n",
       "</thead>\n",
       "<tbody>\n",
       "\t<tr><th scope=row>1</th><td>186785</td><td>1</td><td>01/09/2020</td><td>ARCO</td><td>ARCOS DORADOS HOLDINGS INC</td><td> 813895</td><td>4.47</td><td>4.540</td><td>4.394</td><td>4.41</td><td>11</td><td>5812</td></tr>\n",
       "\t<tr><th scope=row>2</th><td>186785</td><td>1</td><td>02/09/2020</td><td>ARCO</td><td>ARCOS DORADOS HOLDINGS INC</td><td> 518021</td><td>4.48</td><td>4.522</td><td>4.400</td><td>4.49</td><td>11</td><td>5812</td></tr>\n",
       "\t<tr><th scope=row>3</th><td>186785</td><td>1</td><td>03/09/2020</td><td>ARCO</td><td>ARCOS DORADOS HOLDINGS INC</td><td> 947825</td><td>4.44</td><td>4.525</td><td>4.360</td><td>4.48</td><td>11</td><td>5812</td></tr>\n",
       "\t<tr><th scope=row>4</th><td>186785</td><td>1</td><td>04/09/2020</td><td>ARCO</td><td>ARCOS DORADOS HOLDINGS INC</td><td> 534286</td><td>4.41</td><td>4.490</td><td>4.280</td><td>4.48</td><td>11</td><td>5812</td></tr>\n",
       "\t<tr><th scope=row>5</th><td>186785</td><td>1</td><td>08/09/2020</td><td>ARCO</td><td>ARCOS DORADOS HOLDINGS INC</td><td> 669380</td><td>4.27</td><td>4.415</td><td>4.260</td><td>4.34</td><td>11</td><td>5812</td></tr>\n",
       "\t<tr><th scope=row>6</th><td>186785</td><td>1</td><td>09/09/2020</td><td>ARCO</td><td>ARCOS DORADOS HOLDINGS INC</td><td>1152416</td><td>4.38</td><td>4.420</td><td>4.270</td><td>4.27</td><td>11</td><td>5812</td></tr>\n",
       "</tbody>\n",
       "</table>\n"
      ],
      "text/latex": [
       "A data.frame: 6 × 12\n",
       "\\begin{tabular}{r|llllllllllll}\n",
       "  & GVKEY & iid & datadate & tic & conm & cshtrd & prccd & prchd & prcld & prcod & exchg & sic\\\\\n",
       "  & <int> & <int> & <chr> & <chr> & <chr> & <int> & <dbl> & <dbl> & <dbl> & <dbl> & <int> & <int>\\\\\n",
       "\\hline\n",
       "\t1 & 186785 & 1 & 01/09/2020 & ARCO & ARCOS DORADOS HOLDINGS INC &  813895 & 4.47 & 4.540 & 4.394 & 4.41 & 11 & 5812\\\\\n",
       "\t2 & 186785 & 1 & 02/09/2020 & ARCO & ARCOS DORADOS HOLDINGS INC &  518021 & 4.48 & 4.522 & 4.400 & 4.49 & 11 & 5812\\\\\n",
       "\t3 & 186785 & 1 & 03/09/2020 & ARCO & ARCOS DORADOS HOLDINGS INC &  947825 & 4.44 & 4.525 & 4.360 & 4.48 & 11 & 5812\\\\\n",
       "\t4 & 186785 & 1 & 04/09/2020 & ARCO & ARCOS DORADOS HOLDINGS INC &  534286 & 4.41 & 4.490 & 4.280 & 4.48 & 11 & 5812\\\\\n",
       "\t5 & 186785 & 1 & 08/09/2020 & ARCO & ARCOS DORADOS HOLDINGS INC &  669380 & 4.27 & 4.415 & 4.260 & 4.34 & 11 & 5812\\\\\n",
       "\t6 & 186785 & 1 & 09/09/2020 & ARCO & ARCOS DORADOS HOLDINGS INC & 1152416 & 4.38 & 4.420 & 4.270 & 4.27 & 11 & 5812\\\\\n",
       "\\end{tabular}\n"
      ],
      "text/markdown": [
       "\n",
       "A data.frame: 6 × 12\n",
       "\n",
       "| <!--/--> | GVKEY &lt;int&gt; | iid &lt;int&gt; | datadate &lt;chr&gt; | tic &lt;chr&gt; | conm &lt;chr&gt; | cshtrd &lt;int&gt; | prccd &lt;dbl&gt; | prchd &lt;dbl&gt; | prcld &lt;dbl&gt; | prcod &lt;dbl&gt; | exchg &lt;int&gt; | sic &lt;int&gt; |\n",
       "|---|---|---|---|---|---|---|---|---|---|---|---|---|\n",
       "| 1 | 186785 | 1 | 01/09/2020 | ARCO | ARCOS DORADOS HOLDINGS INC |  813895 | 4.47 | 4.540 | 4.394 | 4.41 | 11 | 5812 |\n",
       "| 2 | 186785 | 1 | 02/09/2020 | ARCO | ARCOS DORADOS HOLDINGS INC |  518021 | 4.48 | 4.522 | 4.400 | 4.49 | 11 | 5812 |\n",
       "| 3 | 186785 | 1 | 03/09/2020 | ARCO | ARCOS DORADOS HOLDINGS INC |  947825 | 4.44 | 4.525 | 4.360 | 4.48 | 11 | 5812 |\n",
       "| 4 | 186785 | 1 | 04/09/2020 | ARCO | ARCOS DORADOS HOLDINGS INC |  534286 | 4.41 | 4.490 | 4.280 | 4.48 | 11 | 5812 |\n",
       "| 5 | 186785 | 1 | 08/09/2020 | ARCO | ARCOS DORADOS HOLDINGS INC |  669380 | 4.27 | 4.415 | 4.260 | 4.34 | 11 | 5812 |\n",
       "| 6 | 186785 | 1 | 09/09/2020 | ARCO | ARCOS DORADOS HOLDINGS INC | 1152416 | 4.38 | 4.420 | 4.270 | 4.27 | 11 | 5812 |\n",
       "\n"
      ],
      "text/plain": [
       "  GVKEY  iid datadate   tic  conm                       cshtrd  prccd prchd\n",
       "1 186785 1   01/09/2020 ARCO ARCOS DORADOS HOLDINGS INC  813895 4.47  4.540\n",
       "2 186785 1   02/09/2020 ARCO ARCOS DORADOS HOLDINGS INC  518021 4.48  4.522\n",
       "3 186785 1   03/09/2020 ARCO ARCOS DORADOS HOLDINGS INC  947825 4.44  4.525\n",
       "4 186785 1   04/09/2020 ARCO ARCOS DORADOS HOLDINGS INC  534286 4.41  4.490\n",
       "5 186785 1   08/09/2020 ARCO ARCOS DORADOS HOLDINGS INC  669380 4.27  4.415\n",
       "6 186785 1   09/09/2020 ARCO ARCOS DORADOS HOLDINGS INC 1152416 4.38  4.420\n",
       "  prcld prcod exchg sic \n",
       "1 4.394 4.41  11    5812\n",
       "2 4.400 4.49  11    5812\n",
       "3 4.360 4.48  11    5812\n",
       "4 4.280 4.48  11    5812\n",
       "5 4.260 4.34  11    5812\n",
       "6 4.270 4.27  11    5812"
      ]
     },
     "metadata": {},
     "output_type": "display_data"
    }
   ],
   "source": [
    "data <- read.csv(\"compustat_food_bev.csv\")\n",
    "head(data)"
   ]
  },
  {
   "cell_type": "code",
   "execution_count": 3,
   "id": "8fcf7fff",
   "metadata": {
    "vscode": {
     "languageId": "r"
    }
   },
   "outputs": [
    {
     "data": {
      "text/html": [
       "<table class=\"dataframe\">\n",
       "<caption>A data.frame: 6 × 12</caption>\n",
       "<thead>\n",
       "\t<tr><th></th><th scope=col>GVKEY</th><th scope=col>iid</th><th scope=col>datadate</th><th scope=col>tic</th><th scope=col>conm</th><th scope=col>cshtrd</th><th scope=col>prccd</th><th scope=col>prchd</th><th scope=col>prcld</th><th scope=col>prcod</th><th scope=col>exchg</th><th scope=col>sic</th></tr>\n",
       "\t<tr><th></th><th scope=col>&lt;int&gt;</th><th scope=col>&lt;int&gt;</th><th scope=col>&lt;chr&gt;</th><th scope=col>&lt;chr&gt;</th><th scope=col>&lt;chr&gt;</th><th scope=col>&lt;int&gt;</th><th scope=col>&lt;dbl&gt;</th><th scope=col>&lt;dbl&gt;</th><th scope=col>&lt;dbl&gt;</th><th scope=col>&lt;dbl&gt;</th><th scope=col>&lt;int&gt;</th><th scope=col>&lt;int&gt;</th></tr>\n",
       "</thead>\n",
       "<tbody>\n",
       "\t<tr><th scope=row>1</th><td>18839</td><td>1</td><td>01/09/2020</td><td>PBPB</td><td>POTBELLY CORP</td><td>374507</td><td>4.35</td><td>4.510</td><td>4.18</td><td>4.28</td><td>14</td><td>5812</td></tr>\n",
       "\t<tr><th scope=row>2</th><td>18839</td><td>1</td><td>02/09/2020</td><td>PBPB</td><td>POTBELLY CORP</td><td>220405</td><td>4.41</td><td>4.500</td><td>4.27</td><td>4.32</td><td>14</td><td>5812</td></tr>\n",
       "\t<tr><th scope=row>3</th><td>18839</td><td>1</td><td>03/09/2020</td><td>PBPB</td><td>POTBELLY CORP</td><td>288718</td><td>4.17</td><td>4.630</td><td>4.15</td><td>4.43</td><td>14</td><td>5812</td></tr>\n",
       "\t<tr><th scope=row>4</th><td>18839</td><td>1</td><td>04/09/2020</td><td>PBPB</td><td>POTBELLY CORP</td><td>398823</td><td>4.06</td><td>4.275</td><td>3.97</td><td>4.23</td><td>14</td><td>5812</td></tr>\n",
       "\t<tr><th scope=row>5</th><td>18839</td><td>1</td><td>08/09/2020</td><td>PBPB</td><td>POTBELLY CORP</td><td>284337</td><td>3.91</td><td>4.140</td><td>3.91</td><td>4.05</td><td>14</td><td>5812</td></tr>\n",
       "\t<tr><th scope=row>6</th><td>18839</td><td>1</td><td>09/09/2020</td><td>PBPB</td><td>POTBELLY CORP</td><td>152405</td><td>3.95</td><td>4.053</td><td>3.83</td><td>3.92</td><td>14</td><td>5812</td></tr>\n",
       "</tbody>\n",
       "</table>\n"
      ],
      "text/latex": [
       "A data.frame: 6 × 12\n",
       "\\begin{tabular}{r|llllllllllll}\n",
       "  & GVKEY & iid & datadate & tic & conm & cshtrd & prccd & prchd & prcld & prcod & exchg & sic\\\\\n",
       "  & <int> & <int> & <chr> & <chr> & <chr> & <int> & <dbl> & <dbl> & <dbl> & <dbl> & <int> & <int>\\\\\n",
       "\\hline\n",
       "\t1 & 18839 & 1 & 01/09/2020 & PBPB & POTBELLY CORP & 374507 & 4.35 & 4.510 & 4.18 & 4.28 & 14 & 5812\\\\\n",
       "\t2 & 18839 & 1 & 02/09/2020 & PBPB & POTBELLY CORP & 220405 & 4.41 & 4.500 & 4.27 & 4.32 & 14 & 5812\\\\\n",
       "\t3 & 18839 & 1 & 03/09/2020 & PBPB & POTBELLY CORP & 288718 & 4.17 & 4.630 & 4.15 & 4.43 & 14 & 5812\\\\\n",
       "\t4 & 18839 & 1 & 04/09/2020 & PBPB & POTBELLY CORP & 398823 & 4.06 & 4.275 & 3.97 & 4.23 & 14 & 5812\\\\\n",
       "\t5 & 18839 & 1 & 08/09/2020 & PBPB & POTBELLY CORP & 284337 & 3.91 & 4.140 & 3.91 & 4.05 & 14 & 5812\\\\\n",
       "\t6 & 18839 & 1 & 09/09/2020 & PBPB & POTBELLY CORP & 152405 & 3.95 & 4.053 & 3.83 & 3.92 & 14 & 5812\\\\\n",
       "\\end{tabular}\n"
      ],
      "text/markdown": [
       "\n",
       "A data.frame: 6 × 12\n",
       "\n",
       "| <!--/--> | GVKEY &lt;int&gt; | iid &lt;int&gt; | datadate &lt;chr&gt; | tic &lt;chr&gt; | conm &lt;chr&gt; | cshtrd &lt;int&gt; | prccd &lt;dbl&gt; | prchd &lt;dbl&gt; | prcld &lt;dbl&gt; | prcod &lt;dbl&gt; | exchg &lt;int&gt; | sic &lt;int&gt; |\n",
       "|---|---|---|---|---|---|---|---|---|---|---|---|---|\n",
       "| 1 | 18839 | 1 | 01/09/2020 | PBPB | POTBELLY CORP | 374507 | 4.35 | 4.510 | 4.18 | 4.28 | 14 | 5812 |\n",
       "| 2 | 18839 | 1 | 02/09/2020 | PBPB | POTBELLY CORP | 220405 | 4.41 | 4.500 | 4.27 | 4.32 | 14 | 5812 |\n",
       "| 3 | 18839 | 1 | 03/09/2020 | PBPB | POTBELLY CORP | 288718 | 4.17 | 4.630 | 4.15 | 4.43 | 14 | 5812 |\n",
       "| 4 | 18839 | 1 | 04/09/2020 | PBPB | POTBELLY CORP | 398823 | 4.06 | 4.275 | 3.97 | 4.23 | 14 | 5812 |\n",
       "| 5 | 18839 | 1 | 08/09/2020 | PBPB | POTBELLY CORP | 284337 | 3.91 | 4.140 | 3.91 | 4.05 | 14 | 5812 |\n",
       "| 6 | 18839 | 1 | 09/09/2020 | PBPB | POTBELLY CORP | 152405 | 3.95 | 4.053 | 3.83 | 3.92 | 14 | 5812 |\n",
       "\n"
      ],
      "text/plain": [
       "  GVKEY iid datadate   tic  conm          cshtrd prccd prchd prcld prcod exchg\n",
       "1 18839 1   01/09/2020 PBPB POTBELLY CORP 374507 4.35  4.510 4.18  4.28  14   \n",
       "2 18839 1   02/09/2020 PBPB POTBELLY CORP 220405 4.41  4.500 4.27  4.32  14   \n",
       "3 18839 1   03/09/2020 PBPB POTBELLY CORP 288718 4.17  4.630 4.15  4.43  14   \n",
       "4 18839 1   04/09/2020 PBPB POTBELLY CORP 398823 4.06  4.275 3.97  4.23  14   \n",
       "5 18839 1   08/09/2020 PBPB POTBELLY CORP 284337 3.91  4.140 3.91  4.05  14   \n",
       "6 18839 1   09/09/2020 PBPB POTBELLY CORP 152405 3.95  4.053 3.83  3.92  14   \n",
       "  sic \n",
       "1 5812\n",
       "2 5812\n",
       "3 5812\n",
       "4 5812\n",
       "5 5812\n",
       "6 5812"
      ]
     },
     "metadata": {},
     "output_type": "display_data"
    }
   ],
   "source": [
    "data_potbelly <- filter(data, tic == 'PBPB')\n",
    "head(data_potbelly)"
   ]
  },
  {
   "cell_type": "markdown",
   "id": "0ae94f6e",
   "metadata": {},
   "source": [
    "## Definition of columns\n",
    "\n",
    "| Column       | Meaning                                                                                                             |\n",
    "| ------------ | ------------------------------------------------------------------------------------------------------------------- |\n",
    "| **GVKEY**    | Permanent unique company identifier in Compustat (stays the same even if ticker changes).                           |\n",
    "| **iid**      | Issue identifier — distinguishes multiple securities for the same GVKEY (e.g., different share classes).            |\n",
    "| **datadate** | Date of the observation (daily frequency here).                                                                     |\n",
    "| **tic**      | Ticker symbol (e.g., PBPB = Potbelly Corp).                                                                         |\n",
    "| **conm**     | Company name.                                                                                                       |\n",
    "| **cshtrd**   | Daily trading volume (number of shares traded).                                                                     |\n",
    "| **prccd**    | Closing price (adjusted close price per share at market close).                                                     |\n",
    "| **prchd**    | High price of the day.                                                                                              |\n",
    "| **prcld**    | Low price of the day.                                                                                               |\n",
    "| **prcod**    | Opening price of the day.                                                                                           |\n",
    "| **exchg**    | Exchange code (numeric code for which exchange the stock is traded on, e.g., 14 = NASDAQ).                          |\n",
    "| **sic**      | Standard Industrial Classification code (4-digit industry classification, here 5812 = Eating Places / Restaurants). |"
   ]
  },
  {
   "cell_type": "markdown",
   "id": "dcfe5096",
   "metadata": {},
   "source": [
    "## To do\n",
    "1. Add a column with the daily return\n",
    "2. Add a column with the overnight return\n",
    "3. Add a column with the close-open change\n",
    "4. Add a column with the money flow volume indicator (MFV)\n",
    "5. Add a column that indicates the month.\n",
    "6. Add a column that indicates the year.\n",
    "7. Calculate the total trading volume, in June 2023.\n",
    "8. Calculate the mean daily return, over the entire period.\n",
    "9. Find and display the date that saw the largest positive high price.\n",
    "10. Find and display The date that saw the largest positive daily return.\n",
    "\n",
    "Were there any corporate announcements on these dates which might explain these high numbers?"
   ]
  },
  {
   "cell_type": "code",
   "execution_count": 4,
   "id": "fba48718",
   "metadata": {
    "vscode": {
     "languageId": "r"
    }
   },
   "outputs": [],
   "source": [
    "#1\n",
    "data_potbelly <- mutate(data_potbelly, daily_ret = (prccd - lag(prccd)) / lag(prccd))\n",
    "\n",
    "#2\n",
    "data_potbelly <- mutate(data_potbelly, overnight_ret = (prcod - lag(prccd)) / lag(prccd))\n",
    "\n",
    "#3\n",
    "data_potbelly <- mutate(data_potbelly, change_open_close = prccd - prcod)\n",
    "\n",
    "#4\n",
    "data_potbelly <- mutate(data_potbelly, mfv = ((prccd - prcld) - (prchd - prccd)) * cshtrd/ (prchd - prcld))\n",
    "\n",
    "#5 and 6\n",
    "data_potbelly$datadate <- as.Date(data_potbelly$datadate, format = \"%d/%m/%Y\")\n",
    "data_potbelly$month <- month(data_potbelly$datadate)\n",
    "data_potbelly$year <- year(data_potbelly$datadate)"
   ]
  },
  {
   "cell_type": "code",
   "execution_count": 5,
   "id": "9387b829",
   "metadata": {
    "vscode": {
     "languageId": "r"
    }
   },
   "outputs": [
    {
     "data": {
      "text/html": [
       "<table class=\"dataframe\">\n",
       "<caption>A data.frame: 6 × 18</caption>\n",
       "<thead>\n",
       "\t<tr><th></th><th scope=col>GVKEY</th><th scope=col>iid</th><th scope=col>datadate</th><th scope=col>tic</th><th scope=col>conm</th><th scope=col>cshtrd</th><th scope=col>prccd</th><th scope=col>prchd</th><th scope=col>prcld</th><th scope=col>prcod</th><th scope=col>exchg</th><th scope=col>sic</th><th scope=col>daily_ret</th><th scope=col>overnight_ret</th><th scope=col>change_open_close</th><th scope=col>mfv</th><th scope=col>month</th><th scope=col>year</th></tr>\n",
       "\t<tr><th></th><th scope=col>&lt;int&gt;</th><th scope=col>&lt;int&gt;</th><th scope=col>&lt;date&gt;</th><th scope=col>&lt;chr&gt;</th><th scope=col>&lt;chr&gt;</th><th scope=col>&lt;int&gt;</th><th scope=col>&lt;dbl&gt;</th><th scope=col>&lt;dbl&gt;</th><th scope=col>&lt;dbl&gt;</th><th scope=col>&lt;dbl&gt;</th><th scope=col>&lt;int&gt;</th><th scope=col>&lt;int&gt;</th><th scope=col>&lt;dbl&gt;</th><th scope=col>&lt;dbl&gt;</th><th scope=col>&lt;dbl&gt;</th><th scope=col>&lt;dbl&gt;</th><th scope=col>&lt;dbl&gt;</th><th scope=col>&lt;dbl&gt;</th></tr>\n",
       "</thead>\n",
       "<tbody>\n",
       "\t<tr><th scope=row>1</th><td>18839</td><td>1</td><td>2020-09-01</td><td>PBPB</td><td>POTBELLY CORP</td><td>374507</td><td>4.35</td><td>4.510</td><td>4.18</td><td>4.28</td><td>14</td><td>5812</td><td>         NA</td><td>          NA</td><td> 0.07</td><td>  11348.70</td><td>9</td><td>2020</td></tr>\n",
       "\t<tr><th scope=row>2</th><td>18839</td><td>1</td><td>2020-09-02</td><td>PBPB</td><td>POTBELLY CORP</td><td>220405</td><td>4.41</td><td>4.500</td><td>4.27</td><td>4.32</td><td>14</td><td>5812</td><td> 0.01379310</td><td>-0.006896552</td><td> 0.09</td><td>  47914.13</td><td>9</td><td>2020</td></tr>\n",
       "\t<tr><th scope=row>3</th><td>18839</td><td>1</td><td>2020-09-03</td><td>PBPB</td><td>POTBELLY CORP</td><td>288718</td><td>4.17</td><td>4.630</td><td>4.15</td><td>4.43</td><td>14</td><td>5812</td><td>-0.05442177</td><td> 0.004535147</td><td>-0.26</td><td>-264658.17</td><td>9</td><td>2020</td></tr>\n",
       "\t<tr><th scope=row>4</th><td>18839</td><td>1</td><td>2020-09-04</td><td>PBPB</td><td>POTBELLY CORP</td><td>398823</td><td>4.06</td><td>4.275</td><td>3.97</td><td>4.23</td><td>14</td><td>5812</td><td>-0.02637890</td><td> 0.014388489</td><td>-0.17</td><td>-163452.05</td><td>9</td><td>2020</td></tr>\n",
       "\t<tr><th scope=row>5</th><td>18839</td><td>1</td><td>2020-09-08</td><td>PBPB</td><td>POTBELLY CORP</td><td>284337</td><td>3.91</td><td>4.140</td><td>3.91</td><td>4.05</td><td>14</td><td>5812</td><td>-0.03694581</td><td>-0.002463054</td><td>-0.14</td><td>-284337.00</td><td>9</td><td>2020</td></tr>\n",
       "\t<tr><th scope=row>6</th><td>18839</td><td>1</td><td>2020-09-09</td><td>PBPB</td><td>POTBELLY CORP</td><td>152405</td><td>3.95</td><td>4.053</td><td>3.83</td><td>3.92</td><td>14</td><td>5812</td><td> 0.01023018</td><td> 0.002557545</td><td> 0.03</td><td>  11618.32</td><td>9</td><td>2020</td></tr>\n",
       "</tbody>\n",
       "</table>\n"
      ],
      "text/latex": [
       "A data.frame: 6 × 18\n",
       "\\begin{tabular}{r|llllllllllllllllll}\n",
       "  & GVKEY & iid & datadate & tic & conm & cshtrd & prccd & prchd & prcld & prcod & exchg & sic & daily\\_ret & overnight\\_ret & change\\_open\\_close & mfv & month & year\\\\\n",
       "  & <int> & <int> & <date> & <chr> & <chr> & <int> & <dbl> & <dbl> & <dbl> & <dbl> & <int> & <int> & <dbl> & <dbl> & <dbl> & <dbl> & <dbl> & <dbl>\\\\\n",
       "\\hline\n",
       "\t1 & 18839 & 1 & 2020-09-01 & PBPB & POTBELLY CORP & 374507 & 4.35 & 4.510 & 4.18 & 4.28 & 14 & 5812 &          NA &           NA &  0.07 &   11348.70 & 9 & 2020\\\\\n",
       "\t2 & 18839 & 1 & 2020-09-02 & PBPB & POTBELLY CORP & 220405 & 4.41 & 4.500 & 4.27 & 4.32 & 14 & 5812 &  0.01379310 & -0.006896552 &  0.09 &   47914.13 & 9 & 2020\\\\\n",
       "\t3 & 18839 & 1 & 2020-09-03 & PBPB & POTBELLY CORP & 288718 & 4.17 & 4.630 & 4.15 & 4.43 & 14 & 5812 & -0.05442177 &  0.004535147 & -0.26 & -264658.17 & 9 & 2020\\\\\n",
       "\t4 & 18839 & 1 & 2020-09-04 & PBPB & POTBELLY CORP & 398823 & 4.06 & 4.275 & 3.97 & 4.23 & 14 & 5812 & -0.02637890 &  0.014388489 & -0.17 & -163452.05 & 9 & 2020\\\\\n",
       "\t5 & 18839 & 1 & 2020-09-08 & PBPB & POTBELLY CORP & 284337 & 3.91 & 4.140 & 3.91 & 4.05 & 14 & 5812 & -0.03694581 & -0.002463054 & -0.14 & -284337.00 & 9 & 2020\\\\\n",
       "\t6 & 18839 & 1 & 2020-09-09 & PBPB & POTBELLY CORP & 152405 & 3.95 & 4.053 & 3.83 & 3.92 & 14 & 5812 &  0.01023018 &  0.002557545 &  0.03 &   11618.32 & 9 & 2020\\\\\n",
       "\\end{tabular}\n"
      ],
      "text/markdown": [
       "\n",
       "A data.frame: 6 × 18\n",
       "\n",
       "| <!--/--> | GVKEY &lt;int&gt; | iid &lt;int&gt; | datadate &lt;date&gt; | tic &lt;chr&gt; | conm &lt;chr&gt; | cshtrd &lt;int&gt; | prccd &lt;dbl&gt; | prchd &lt;dbl&gt; | prcld &lt;dbl&gt; | prcod &lt;dbl&gt; | exchg &lt;int&gt; | sic &lt;int&gt; | daily_ret &lt;dbl&gt; | overnight_ret &lt;dbl&gt; | change_open_close &lt;dbl&gt; | mfv &lt;dbl&gt; | month &lt;dbl&gt; | year &lt;dbl&gt; |\n",
       "|---|---|---|---|---|---|---|---|---|---|---|---|---|---|---|---|---|---|---|\n",
       "| 1 | 18839 | 1 | 2020-09-01 | PBPB | POTBELLY CORP | 374507 | 4.35 | 4.510 | 4.18 | 4.28 | 14 | 5812 |          NA |           NA |  0.07 |   11348.70 | 9 | 2020 |\n",
       "| 2 | 18839 | 1 | 2020-09-02 | PBPB | POTBELLY CORP | 220405 | 4.41 | 4.500 | 4.27 | 4.32 | 14 | 5812 |  0.01379310 | -0.006896552 |  0.09 |   47914.13 | 9 | 2020 |\n",
       "| 3 | 18839 | 1 | 2020-09-03 | PBPB | POTBELLY CORP | 288718 | 4.17 | 4.630 | 4.15 | 4.43 | 14 | 5812 | -0.05442177 |  0.004535147 | -0.26 | -264658.17 | 9 | 2020 |\n",
       "| 4 | 18839 | 1 | 2020-09-04 | PBPB | POTBELLY CORP | 398823 | 4.06 | 4.275 | 3.97 | 4.23 | 14 | 5812 | -0.02637890 |  0.014388489 | -0.17 | -163452.05 | 9 | 2020 |\n",
       "| 5 | 18839 | 1 | 2020-09-08 | PBPB | POTBELLY CORP | 284337 | 3.91 | 4.140 | 3.91 | 4.05 | 14 | 5812 | -0.03694581 | -0.002463054 | -0.14 | -284337.00 | 9 | 2020 |\n",
       "| 6 | 18839 | 1 | 2020-09-09 | PBPB | POTBELLY CORP | 152405 | 3.95 | 4.053 | 3.83 | 3.92 | 14 | 5812 |  0.01023018 |  0.002557545 |  0.03 |   11618.32 | 9 | 2020 |\n",
       "\n"
      ],
      "text/plain": [
       "  GVKEY iid datadate   tic  conm          cshtrd prccd prchd prcld prcod exchg\n",
       "1 18839 1   2020-09-01 PBPB POTBELLY CORP 374507 4.35  4.510 4.18  4.28  14   \n",
       "2 18839 1   2020-09-02 PBPB POTBELLY CORP 220405 4.41  4.500 4.27  4.32  14   \n",
       "3 18839 1   2020-09-03 PBPB POTBELLY CORP 288718 4.17  4.630 4.15  4.43  14   \n",
       "4 18839 1   2020-09-04 PBPB POTBELLY CORP 398823 4.06  4.275 3.97  4.23  14   \n",
       "5 18839 1   2020-09-08 PBPB POTBELLY CORP 284337 3.91  4.140 3.91  4.05  14   \n",
       "6 18839 1   2020-09-09 PBPB POTBELLY CORP 152405 3.95  4.053 3.83  3.92  14   \n",
       "  sic  daily_ret   overnight_ret change_open_close mfv        month year\n",
       "1 5812          NA           NA   0.07               11348.70 9     2020\n",
       "2 5812  0.01379310 -0.006896552   0.09               47914.13 9     2020\n",
       "3 5812 -0.05442177  0.004535147  -0.26             -264658.17 9     2020\n",
       "4 5812 -0.02637890  0.014388489  -0.17             -163452.05 9     2020\n",
       "5 5812 -0.03694581 -0.002463054  -0.14             -284337.00 9     2020\n",
       "6 5812  0.01023018  0.002557545   0.03               11618.32 9     2020"
      ]
     },
     "metadata": {},
     "output_type": "display_data"
    },
    {
     "data": {
      "text/html": [
       "<table class=\"dataframe\">\n",
       "<caption>A data.frame: 6 × 18</caption>\n",
       "<thead>\n",
       "\t<tr><th></th><th scope=col>GVKEY</th><th scope=col>iid</th><th scope=col>datadate</th><th scope=col>tic</th><th scope=col>conm</th><th scope=col>cshtrd</th><th scope=col>prccd</th><th scope=col>prchd</th><th scope=col>prcld</th><th scope=col>prcod</th><th scope=col>exchg</th><th scope=col>sic</th><th scope=col>daily_ret</th><th scope=col>overnight_ret</th><th scope=col>change_open_close</th><th scope=col>mfv</th><th scope=col>month</th><th scope=col>year</th></tr>\n",
       "\t<tr><th></th><th scope=col>&lt;int&gt;</th><th scope=col>&lt;int&gt;</th><th scope=col>&lt;date&gt;</th><th scope=col>&lt;chr&gt;</th><th scope=col>&lt;chr&gt;</th><th scope=col>&lt;int&gt;</th><th scope=col>&lt;dbl&gt;</th><th scope=col>&lt;dbl&gt;</th><th scope=col>&lt;dbl&gt;</th><th scope=col>&lt;dbl&gt;</th><th scope=col>&lt;int&gt;</th><th scope=col>&lt;int&gt;</th><th scope=col>&lt;dbl&gt;</th><th scope=col>&lt;dbl&gt;</th><th scope=col>&lt;dbl&gt;</th><th scope=col>&lt;dbl&gt;</th><th scope=col>&lt;dbl&gt;</th><th scope=col>&lt;dbl&gt;</th></tr>\n",
       "</thead>\n",
       "<tbody>\n",
       "\t<tr><th scope=row>756</th><td>18839</td><td>1</td><td>2023-09-01</td><td>PBPB</td><td>POTBELLY CORP</td><td> 93761</td><td>7.98</td><td>8.18</td><td>7.94</td><td>8.07</td><td>14</td><td>5812</td><td>-0.001251564</td><td> 0.010012516</td><td>-0.09</td><td>-62507.33</td><td>9</td><td>2023</td></tr>\n",
       "\t<tr><th scope=row>757</th><td>18839</td><td>1</td><td>2023-09-05</td><td>PBPB</td><td>POTBELLY CORP</td><td> 89036</td><td>7.95</td><td>8.04</td><td>7.78</td><td>7.94</td><td>14</td><td>5812</td><td>-0.003759398</td><td>-0.005012531</td><td> 0.01</td><td> 27395.69</td><td>9</td><td>2023</td></tr>\n",
       "\t<tr><th scope=row>758</th><td>18839</td><td>1</td><td>2023-09-06</td><td>PBPB</td><td>POTBELLY CORP</td><td> 96763</td><td>7.87</td><td>8.01</td><td>7.73</td><td>7.97</td><td>14</td><td>5812</td><td>-0.010062893</td><td> 0.002515723</td><td>-0.10</td><td>     0.00</td><td>9</td><td>2023</td></tr>\n",
       "\t<tr><th scope=row>759</th><td>18839</td><td>1</td><td>2023-09-07</td><td>PBPB</td><td>POTBELLY CORP</td><td> 97668</td><td>7.82</td><td>7.89</td><td>7.69</td><td>7.89</td><td>14</td><td>5812</td><td>-0.006353240</td><td> 0.002541296</td><td>-0.07</td><td> 29300.40</td><td>9</td><td>2023</td></tr>\n",
       "\t<tr><th scope=row>760</th><td>18839</td><td>1</td><td>2023-09-08</td><td>PBPB</td><td>POTBELLY CORP</td><td>156350</td><td>7.88</td><td>7.93</td><td>7.74</td><td>7.82</td><td>14</td><td>5812</td><td> 0.007672634</td><td> 0.000000000</td><td> 0.06</td><td> 74060.53</td><td>9</td><td>2023</td></tr>\n",
       "\t<tr><th scope=row>761</th><td>18839</td><td>1</td><td>2023-09-11</td><td>PBPB</td><td>POTBELLY CORP</td><td>111982</td><td>7.89</td><td>7.95</td><td>7.81</td><td>7.88</td><td>14</td><td>5812</td><td> 0.001269036</td><td> 0.000000000</td><td> 0.01</td><td> 15997.43</td><td>9</td><td>2023</td></tr>\n",
       "</tbody>\n",
       "</table>\n"
      ],
      "text/latex": [
       "A data.frame: 6 × 18\n",
       "\\begin{tabular}{r|llllllllllllllllll}\n",
       "  & GVKEY & iid & datadate & tic & conm & cshtrd & prccd & prchd & prcld & prcod & exchg & sic & daily\\_ret & overnight\\_ret & change\\_open\\_close & mfv & month & year\\\\\n",
       "  & <int> & <int> & <date> & <chr> & <chr> & <int> & <dbl> & <dbl> & <dbl> & <dbl> & <int> & <int> & <dbl> & <dbl> & <dbl> & <dbl> & <dbl> & <dbl>\\\\\n",
       "\\hline\n",
       "\t756 & 18839 & 1 & 2023-09-01 & PBPB & POTBELLY CORP &  93761 & 7.98 & 8.18 & 7.94 & 8.07 & 14 & 5812 & -0.001251564 &  0.010012516 & -0.09 & -62507.33 & 9 & 2023\\\\\n",
       "\t757 & 18839 & 1 & 2023-09-05 & PBPB & POTBELLY CORP &  89036 & 7.95 & 8.04 & 7.78 & 7.94 & 14 & 5812 & -0.003759398 & -0.005012531 &  0.01 &  27395.69 & 9 & 2023\\\\\n",
       "\t758 & 18839 & 1 & 2023-09-06 & PBPB & POTBELLY CORP &  96763 & 7.87 & 8.01 & 7.73 & 7.97 & 14 & 5812 & -0.010062893 &  0.002515723 & -0.10 &      0.00 & 9 & 2023\\\\\n",
       "\t759 & 18839 & 1 & 2023-09-07 & PBPB & POTBELLY CORP &  97668 & 7.82 & 7.89 & 7.69 & 7.89 & 14 & 5812 & -0.006353240 &  0.002541296 & -0.07 &  29300.40 & 9 & 2023\\\\\n",
       "\t760 & 18839 & 1 & 2023-09-08 & PBPB & POTBELLY CORP & 156350 & 7.88 & 7.93 & 7.74 & 7.82 & 14 & 5812 &  0.007672634 &  0.000000000 &  0.06 &  74060.53 & 9 & 2023\\\\\n",
       "\t761 & 18839 & 1 & 2023-09-11 & PBPB & POTBELLY CORP & 111982 & 7.89 & 7.95 & 7.81 & 7.88 & 14 & 5812 &  0.001269036 &  0.000000000 &  0.01 &  15997.43 & 9 & 2023\\\\\n",
       "\\end{tabular}\n"
      ],
      "text/markdown": [
       "\n",
       "A data.frame: 6 × 18\n",
       "\n",
       "| <!--/--> | GVKEY &lt;int&gt; | iid &lt;int&gt; | datadate &lt;date&gt; | tic &lt;chr&gt; | conm &lt;chr&gt; | cshtrd &lt;int&gt; | prccd &lt;dbl&gt; | prchd &lt;dbl&gt; | prcld &lt;dbl&gt; | prcod &lt;dbl&gt; | exchg &lt;int&gt; | sic &lt;int&gt; | daily_ret &lt;dbl&gt; | overnight_ret &lt;dbl&gt; | change_open_close &lt;dbl&gt; | mfv &lt;dbl&gt; | month &lt;dbl&gt; | year &lt;dbl&gt; |\n",
       "|---|---|---|---|---|---|---|---|---|---|---|---|---|---|---|---|---|---|---|\n",
       "| 756 | 18839 | 1 | 2023-09-01 | PBPB | POTBELLY CORP |  93761 | 7.98 | 8.18 | 7.94 | 8.07 | 14 | 5812 | -0.001251564 |  0.010012516 | -0.09 | -62507.33 | 9 | 2023 |\n",
       "| 757 | 18839 | 1 | 2023-09-05 | PBPB | POTBELLY CORP |  89036 | 7.95 | 8.04 | 7.78 | 7.94 | 14 | 5812 | -0.003759398 | -0.005012531 |  0.01 |  27395.69 | 9 | 2023 |\n",
       "| 758 | 18839 | 1 | 2023-09-06 | PBPB | POTBELLY CORP |  96763 | 7.87 | 8.01 | 7.73 | 7.97 | 14 | 5812 | -0.010062893 |  0.002515723 | -0.10 |      0.00 | 9 | 2023 |\n",
       "| 759 | 18839 | 1 | 2023-09-07 | PBPB | POTBELLY CORP |  97668 | 7.82 | 7.89 | 7.69 | 7.89 | 14 | 5812 | -0.006353240 |  0.002541296 | -0.07 |  29300.40 | 9 | 2023 |\n",
       "| 760 | 18839 | 1 | 2023-09-08 | PBPB | POTBELLY CORP | 156350 | 7.88 | 7.93 | 7.74 | 7.82 | 14 | 5812 |  0.007672634 |  0.000000000 |  0.06 |  74060.53 | 9 | 2023 |\n",
       "| 761 | 18839 | 1 | 2023-09-11 | PBPB | POTBELLY CORP | 111982 | 7.89 | 7.95 | 7.81 | 7.88 | 14 | 5812 |  0.001269036 |  0.000000000 |  0.01 |  15997.43 | 9 | 2023 |\n",
       "\n"
      ],
      "text/plain": [
       "    GVKEY iid datadate   tic  conm          cshtrd prccd prchd prcld prcod\n",
       "756 18839 1   2023-09-01 PBPB POTBELLY CORP  93761 7.98  8.18  7.94  8.07 \n",
       "757 18839 1   2023-09-05 PBPB POTBELLY CORP  89036 7.95  8.04  7.78  7.94 \n",
       "758 18839 1   2023-09-06 PBPB POTBELLY CORP  96763 7.87  8.01  7.73  7.97 \n",
       "759 18839 1   2023-09-07 PBPB POTBELLY CORP  97668 7.82  7.89  7.69  7.89 \n",
       "760 18839 1   2023-09-08 PBPB POTBELLY CORP 156350 7.88  7.93  7.74  7.82 \n",
       "761 18839 1   2023-09-11 PBPB POTBELLY CORP 111982 7.89  7.95  7.81  7.88 \n",
       "    exchg sic  daily_ret    overnight_ret change_open_close mfv       month\n",
       "756 14    5812 -0.001251564  0.010012516  -0.09             -62507.33 9    \n",
       "757 14    5812 -0.003759398 -0.005012531   0.01              27395.69 9    \n",
       "758 14    5812 -0.010062893  0.002515723  -0.10                  0.00 9    \n",
       "759 14    5812 -0.006353240  0.002541296  -0.07              29300.40 9    \n",
       "760 14    5812  0.007672634  0.000000000   0.06              74060.53 9    \n",
       "761 14    5812  0.001269036  0.000000000   0.01              15997.43 9    \n",
       "    year\n",
       "756 2023\n",
       "757 2023\n",
       "758 2023\n",
       "759 2023\n",
       "760 2023\n",
       "761 2023"
      ]
     },
     "metadata": {},
     "output_type": "display_data"
    }
   ],
   "source": [
    "head(data_potbelly)\n",
    "tail(data_potbelly)"
   ]
  },
  {
   "cell_type": "code",
   "execution_count": null,
   "id": "4ef35742",
   "metadata": {
    "vscode": {
     "languageId": "r"
    }
   },
   "outputs": [
    {
     "data": {
      "text/html": [
       "<table class=\"dataframe\">\n",
       "<caption>A data.frame: 6 × 18</caption>\n",
       "<thead>\n",
       "\t<tr><th></th><th scope=col>GVKEY</th><th scope=col>iid</th><th scope=col>datadate</th><th scope=col>tic</th><th scope=col>conm</th><th scope=col>cshtrd</th><th scope=col>prccd</th><th scope=col>prchd</th><th scope=col>prcld</th><th scope=col>prcod</th><th scope=col>exchg</th><th scope=col>sic</th><th scope=col>daily_ret</th><th scope=col>overnight_ret</th><th scope=col>change_open_close</th><th scope=col>mfv</th><th scope=col>month</th><th scope=col>year</th></tr>\n",
       "\t<tr><th></th><th scope=col>&lt;int&gt;</th><th scope=col>&lt;int&gt;</th><th scope=col>&lt;date&gt;</th><th scope=col>&lt;chr&gt;</th><th scope=col>&lt;chr&gt;</th><th scope=col>&lt;int&gt;</th><th scope=col>&lt;dbl&gt;</th><th scope=col>&lt;dbl&gt;</th><th scope=col>&lt;dbl&gt;</th><th scope=col>&lt;dbl&gt;</th><th scope=col>&lt;int&gt;</th><th scope=col>&lt;int&gt;</th><th scope=col>&lt;dbl&gt;</th><th scope=col>&lt;dbl&gt;</th><th scope=col>&lt;dbl&gt;</th><th scope=col>&lt;dbl&gt;</th><th scope=col>&lt;dbl&gt;</th><th scope=col>&lt;dbl&gt;</th></tr>\n",
       "</thead>\n",
       "<tbody>\n",
       "\t<tr><th scope=row>1</th><td>18839</td><td>1</td><td>2023-06-01</td><td>PBPB</td><td>POTBELLY CORP</td><td>115522</td><td>7.98</td><td>8.05</td><td>7.7700</td><td>7.78</td><td>14</td><td>5812</td><td> 0.02570694</td><td> 0.000000000</td><td> 0.20</td><td>  57761.000</td><td>6</td><td>2023</td></tr>\n",
       "\t<tr><th scope=row>2</th><td>18839</td><td>1</td><td>2023-06-02</td><td>PBPB</td><td>POTBELLY CORP</td><td>152263</td><td>8.32</td><td>8.41</td><td>8.0500</td><td>8.08</td><td>14</td><td>5812</td><td> 0.04260652</td><td> 0.012531328</td><td> 0.24</td><td>  76131.500</td><td>6</td><td>2023</td></tr>\n",
       "\t<tr><th scope=row>3</th><td>18839</td><td>1</td><td>2023-06-05</td><td>PBPB</td><td>POTBELLY CORP</td><td>132449</td><td>8.10</td><td>8.25</td><td>7.9613</td><td>8.23</td><td>14</td><td>5812</td><td>-0.02644231</td><td>-0.010817308</td><td>-0.13</td><td>  -5184.183</td><td>6</td><td>2023</td></tr>\n",
       "\t<tr><th scope=row>4</th><td>18839</td><td>1</td><td>2023-06-06</td><td>PBPB</td><td>POTBELLY CORP</td><td>174599</td><td>8.37</td><td>8.55</td><td>8.0500</td><td>8.05</td><td>14</td><td>5812</td><td> 0.03333333</td><td>-0.006172840</td><td> 0.32</td><td>  48887.720</td><td>6</td><td>2023</td></tr>\n",
       "\t<tr><th scope=row>5</th><td>18839</td><td>1</td><td>2023-06-07</td><td>PBPB</td><td>POTBELLY CORP</td><td>268521</td><td>8.72</td><td>8.82</td><td>8.3700</td><td>8.43</td><td>14</td><td>5812</td><td> 0.04181601</td><td> 0.007168459</td><td> 0.29</td><td> 149178.333</td><td>6</td><td>2023</td></tr>\n",
       "\t<tr><th scope=row>6</th><td>18839</td><td>1</td><td>2023-06-08</td><td>PBPB</td><td>POTBELLY CORP</td><td>240227</td><td>8.21</td><td>8.91</td><td>8.1600</td><td>8.75</td><td>14</td><td>5812</td><td>-0.05848624</td><td> 0.003440367</td><td>-0.54</td><td>-208196.733</td><td>6</td><td>2023</td></tr>\n",
       "</tbody>\n",
       "</table>\n"
      ],
      "text/latex": [
       "A data.frame: 6 × 18\n",
       "\\begin{tabular}{r|llllllllllllllllll}\n",
       "  & GVKEY & iid & datadate & tic & conm & cshtrd & prccd & prchd & prcld & prcod & exchg & sic & daily\\_ret & overnight\\_ret & change\\_open\\_close & mfv & month & year\\\\\n",
       "  & <int> & <int> & <date> & <chr> & <chr> & <int> & <dbl> & <dbl> & <dbl> & <dbl> & <int> & <int> & <dbl> & <dbl> & <dbl> & <dbl> & <dbl> & <dbl>\\\\\n",
       "\\hline\n",
       "\t1 & 18839 & 1 & 2023-06-01 & PBPB & POTBELLY CORP & 115522 & 7.98 & 8.05 & 7.7700 & 7.78 & 14 & 5812 &  0.02570694 &  0.000000000 &  0.20 &   57761.000 & 6 & 2023\\\\\n",
       "\t2 & 18839 & 1 & 2023-06-02 & PBPB & POTBELLY CORP & 152263 & 8.32 & 8.41 & 8.0500 & 8.08 & 14 & 5812 &  0.04260652 &  0.012531328 &  0.24 &   76131.500 & 6 & 2023\\\\\n",
       "\t3 & 18839 & 1 & 2023-06-05 & PBPB & POTBELLY CORP & 132449 & 8.10 & 8.25 & 7.9613 & 8.23 & 14 & 5812 & -0.02644231 & -0.010817308 & -0.13 &   -5184.183 & 6 & 2023\\\\\n",
       "\t4 & 18839 & 1 & 2023-06-06 & PBPB & POTBELLY CORP & 174599 & 8.37 & 8.55 & 8.0500 & 8.05 & 14 & 5812 &  0.03333333 & -0.006172840 &  0.32 &   48887.720 & 6 & 2023\\\\\n",
       "\t5 & 18839 & 1 & 2023-06-07 & PBPB & POTBELLY CORP & 268521 & 8.72 & 8.82 & 8.3700 & 8.43 & 14 & 5812 &  0.04181601 &  0.007168459 &  0.29 &  149178.333 & 6 & 2023\\\\\n",
       "\t6 & 18839 & 1 & 2023-06-08 & PBPB & POTBELLY CORP & 240227 & 8.21 & 8.91 & 8.1600 & 8.75 & 14 & 5812 & -0.05848624 &  0.003440367 & -0.54 & -208196.733 & 6 & 2023\\\\\n",
       "\\end{tabular}\n"
      ],
      "text/markdown": [
       "\n",
       "A data.frame: 6 × 18\n",
       "\n",
       "| <!--/--> | GVKEY &lt;int&gt; | iid &lt;int&gt; | datadate &lt;date&gt; | tic &lt;chr&gt; | conm &lt;chr&gt; | cshtrd &lt;int&gt; | prccd &lt;dbl&gt; | prchd &lt;dbl&gt; | prcld &lt;dbl&gt; | prcod &lt;dbl&gt; | exchg &lt;int&gt; | sic &lt;int&gt; | daily_ret &lt;dbl&gt; | overnight_ret &lt;dbl&gt; | change_open_close &lt;dbl&gt; | mfv &lt;dbl&gt; | month &lt;dbl&gt; | year &lt;dbl&gt; |\n",
       "|---|---|---|---|---|---|---|---|---|---|---|---|---|---|---|---|---|---|---|\n",
       "| 1 | 18839 | 1 | 2023-06-01 | PBPB | POTBELLY CORP | 115522 | 7.98 | 8.05 | 7.7700 | 7.78 | 14 | 5812 |  0.02570694 |  0.000000000 |  0.20 |   57761.000 | 6 | 2023 |\n",
       "| 2 | 18839 | 1 | 2023-06-02 | PBPB | POTBELLY CORP | 152263 | 8.32 | 8.41 | 8.0500 | 8.08 | 14 | 5812 |  0.04260652 |  0.012531328 |  0.24 |   76131.500 | 6 | 2023 |\n",
       "| 3 | 18839 | 1 | 2023-06-05 | PBPB | POTBELLY CORP | 132449 | 8.10 | 8.25 | 7.9613 | 8.23 | 14 | 5812 | -0.02644231 | -0.010817308 | -0.13 |   -5184.183 | 6 | 2023 |\n",
       "| 4 | 18839 | 1 | 2023-06-06 | PBPB | POTBELLY CORP | 174599 | 8.37 | 8.55 | 8.0500 | 8.05 | 14 | 5812 |  0.03333333 | -0.006172840 |  0.32 |   48887.720 | 6 | 2023 |\n",
       "| 5 | 18839 | 1 | 2023-06-07 | PBPB | POTBELLY CORP | 268521 | 8.72 | 8.82 | 8.3700 | 8.43 | 14 | 5812 |  0.04181601 |  0.007168459 |  0.29 |  149178.333 | 6 | 2023 |\n",
       "| 6 | 18839 | 1 | 2023-06-08 | PBPB | POTBELLY CORP | 240227 | 8.21 | 8.91 | 8.1600 | 8.75 | 14 | 5812 | -0.05848624 |  0.003440367 | -0.54 | -208196.733 | 6 | 2023 |\n",
       "\n"
      ],
      "text/plain": [
       "  GVKEY iid datadate   tic  conm          cshtrd prccd prchd prcld  prcod exchg\n",
       "1 18839 1   2023-06-01 PBPB POTBELLY CORP 115522 7.98  8.05  7.7700 7.78  14   \n",
       "2 18839 1   2023-06-02 PBPB POTBELLY CORP 152263 8.32  8.41  8.0500 8.08  14   \n",
       "3 18839 1   2023-06-05 PBPB POTBELLY CORP 132449 8.10  8.25  7.9613 8.23  14   \n",
       "4 18839 1   2023-06-06 PBPB POTBELLY CORP 174599 8.37  8.55  8.0500 8.05  14   \n",
       "5 18839 1   2023-06-07 PBPB POTBELLY CORP 268521 8.72  8.82  8.3700 8.43  14   \n",
       "6 18839 1   2023-06-08 PBPB POTBELLY CORP 240227 8.21  8.91  8.1600 8.75  14   \n",
       "  sic  daily_ret   overnight_ret change_open_close mfv         month year\n",
       "1 5812  0.02570694  0.000000000   0.20               57761.000 6     2023\n",
       "2 5812  0.04260652  0.012531328   0.24               76131.500 6     2023\n",
       "3 5812 -0.02644231 -0.010817308  -0.13               -5184.183 6     2023\n",
       "4 5812  0.03333333 -0.006172840   0.32               48887.720 6     2023\n",
       "5 5812  0.04181601  0.007168459   0.29              149178.333 6     2023\n",
       "6 5812 -0.05848624  0.003440367  -0.54             -208196.733 6     2023"
      ]
     },
     "metadata": {},
     "output_type": "display_data"
    }
   ],
   "source": [
    "#7\n",
    "data_potbelly_june_2023 <- filter(data_potbelly, month == 6, year == 2023)\n",
    "head(data_potbelly_june_2023)"
   ]
  },
  {
   "cell_type": "code",
   "execution_count": 7,
   "id": "346aaca1",
   "metadata": {
    "vscode": {
     "languageId": "r"
    }
   },
   "outputs": [
    {
     "data": {
      "text/html": [
       "'Total trading volume in June 2023 is: 6780601'"
      ],
      "text/latex": [
       "'Total trading volume in June 2023 is: 6780601'"
      ],
      "text/markdown": [
       "'Total trading volume in June 2023 is: 6780601'"
      ],
      "text/plain": [
       "[1] \"Total trading volume in June 2023 is: 6780601\""
      ]
     },
     "metadata": {},
     "output_type": "display_data"
    }
   ],
   "source": [
    "sprintf(\"Total trading volume in June 2023 is: %s\", sum(data_potbelly_june_2023$cshtrd))"
   ]
  },
  {
   "cell_type": "code",
   "execution_count": 8,
   "id": "79a78b77",
   "metadata": {
    "vscode": {
     "languageId": "r"
    }
   },
   "outputs": [
    {
     "data": {
      "text/html": [
       "'Mean daily return is: 0.00127986776777774'"
      ],
      "text/latex": [
       "'Mean daily return is: 0.00127986776777774'"
      ],
      "text/markdown": [
       "'Mean daily return is: 0.00127986776777774'"
      ],
      "text/plain": [
       "[1] \"Mean daily return is: 0.00127986776777774\""
      ]
     },
     "metadata": {},
     "output_type": "display_data"
    }
   ],
   "source": [
    "#8\n",
    "mean_daily_ret <- mean(filter(data_potbelly, !is.na(daily_ret))$daily_ret)\n",
    "sprintf(\"Mean daily return is: %s\", mean_daily_ret)"
   ]
  },
  {
   "cell_type": "code",
   "execution_count": 9,
   "id": "1d291984",
   "metadata": {
    "vscode": {
     "languageId": "r"
    }
   },
   "outputs": [
    {
     "data": {
      "text/html": [
       "'Date when largest high price is: 2023-04-26'"
      ],
      "text/latex": [
       "'Date when largest high price is: 2023-04-26'"
      ],
      "text/markdown": [
       "'Date when largest high price is: 2023-04-26'"
      ],
      "text/plain": [
       "[1] \"Date when largest high price is: 2023-04-26\""
      ]
     },
     "metadata": {},
     "output_type": "display_data"
    },
    {
     "data": {
      "text/html": [
       "<table class=\"dataframe\">\n",
       "<caption>A data.frame: 1 × 18</caption>\n",
       "<thead>\n",
       "\t<tr><th scope=col>GVKEY</th><th scope=col>iid</th><th scope=col>datadate</th><th scope=col>tic</th><th scope=col>conm</th><th scope=col>cshtrd</th><th scope=col>prccd</th><th scope=col>prchd</th><th scope=col>prcld</th><th scope=col>prcod</th><th scope=col>exchg</th><th scope=col>sic</th><th scope=col>daily_ret</th><th scope=col>overnight_ret</th><th scope=col>change_open_close</th><th scope=col>mfv</th><th scope=col>month</th><th scope=col>year</th></tr>\n",
       "\t<tr><th scope=col>&lt;int&gt;</th><th scope=col>&lt;int&gt;</th><th scope=col>&lt;date&gt;</th><th scope=col>&lt;chr&gt;</th><th scope=col>&lt;chr&gt;</th><th scope=col>&lt;int&gt;</th><th scope=col>&lt;dbl&gt;</th><th scope=col>&lt;dbl&gt;</th><th scope=col>&lt;dbl&gt;</th><th scope=col>&lt;dbl&gt;</th><th scope=col>&lt;int&gt;</th><th scope=col>&lt;int&gt;</th><th scope=col>&lt;dbl&gt;</th><th scope=col>&lt;dbl&gt;</th><th scope=col>&lt;dbl&gt;</th><th scope=col>&lt;dbl&gt;</th><th scope=col>&lt;dbl&gt;</th><th scope=col>&lt;dbl&gt;</th></tr>\n",
       "</thead>\n",
       "<tbody>\n",
       "\t<tr><td>18839</td><td>1</td><td>2023-04-26</td><td>PBPB</td><td>POTBELLY CORP</td><td>676321</td><td>10.85</td><td>11.14</td><td>9.9209</td><td>10.15</td><td>14</td><td>5812</td><td>0.06581532</td><td>-0.002946955</td><td>0.7</td><td>354554</td><td>4</td><td>2023</td></tr>\n",
       "</tbody>\n",
       "</table>\n"
      ],
      "text/latex": [
       "A data.frame: 1 × 18\n",
       "\\begin{tabular}{llllllllllllllllll}\n",
       " GVKEY & iid & datadate & tic & conm & cshtrd & prccd & prchd & prcld & prcod & exchg & sic & daily\\_ret & overnight\\_ret & change\\_open\\_close & mfv & month & year\\\\\n",
       " <int> & <int> & <date> & <chr> & <chr> & <int> & <dbl> & <dbl> & <dbl> & <dbl> & <int> & <int> & <dbl> & <dbl> & <dbl> & <dbl> & <dbl> & <dbl>\\\\\n",
       "\\hline\n",
       "\t 18839 & 1 & 2023-04-26 & PBPB & POTBELLY CORP & 676321 & 10.85 & 11.14 & 9.9209 & 10.15 & 14 & 5812 & 0.06581532 & -0.002946955 & 0.7 & 354554 & 4 & 2023\\\\\n",
       "\\end{tabular}\n"
      ],
      "text/markdown": [
       "\n",
       "A data.frame: 1 × 18\n",
       "\n",
       "| GVKEY &lt;int&gt; | iid &lt;int&gt; | datadate &lt;date&gt; | tic &lt;chr&gt; | conm &lt;chr&gt; | cshtrd &lt;int&gt; | prccd &lt;dbl&gt; | prchd &lt;dbl&gt; | prcld &lt;dbl&gt; | prcod &lt;dbl&gt; | exchg &lt;int&gt; | sic &lt;int&gt; | daily_ret &lt;dbl&gt; | overnight_ret &lt;dbl&gt; | change_open_close &lt;dbl&gt; | mfv &lt;dbl&gt; | month &lt;dbl&gt; | year &lt;dbl&gt; |\n",
       "|---|---|---|---|---|---|---|---|---|---|---|---|---|---|---|---|---|---|\n",
       "| 18839 | 1 | 2023-04-26 | PBPB | POTBELLY CORP | 676321 | 10.85 | 11.14 | 9.9209 | 10.15 | 14 | 5812 | 0.06581532 | -0.002946955 | 0.7 | 354554 | 4 | 2023 |\n",
       "\n"
      ],
      "text/plain": [
       "  GVKEY iid datadate   tic  conm          cshtrd prccd prchd prcld  prcod exchg\n",
       "1 18839 1   2023-04-26 PBPB POTBELLY CORP 676321 10.85 11.14 9.9209 10.15 14   \n",
       "  sic  daily_ret  overnight_ret change_open_close mfv    month year\n",
       "1 5812 0.06581532 -0.002946955  0.7               354554 4     2023"
      ]
     },
     "metadata": {},
     "output_type": "display_data"
    }
   ],
   "source": [
    "#9\n",
    "max_high_price_row <- filter(data_potbelly, prchd == max(data_potbelly$prchd))\n",
    "max_high_price_date <- max_high_price_row$datadate\n",
    "sprintf(\"Date when largest high price is: %s\", max_high_price_date)\n",
    "max_high_price_row"
   ]
  },
  {
   "cell_type": "code",
   "execution_count": 10,
   "id": "622c5e86",
   "metadata": {
    "vscode": {
     "languageId": "r"
    }
   },
   "outputs": [
    {
     "data": {
      "text/html": [
       "'Date when largest positive daily ret is: 2021-03-15'"
      ],
      "text/latex": [
       "'Date when largest positive daily ret is: 2021-03-15'"
      ],
      "text/markdown": [
       "'Date when largest positive daily ret is: 2021-03-15'"
      ],
      "text/plain": [
       "[1] \"Date when largest positive daily ret is: 2021-03-15\""
      ]
     },
     "metadata": {},
     "output_type": "display_data"
    },
    {
     "data": {
      "text/html": [
       "<table class=\"dataframe\">\n",
       "<caption>A data.frame: 1 × 18</caption>\n",
       "<thead>\n",
       "\t<tr><th scope=col>GVKEY</th><th scope=col>iid</th><th scope=col>datadate</th><th scope=col>tic</th><th scope=col>conm</th><th scope=col>cshtrd</th><th scope=col>prccd</th><th scope=col>prchd</th><th scope=col>prcld</th><th scope=col>prcod</th><th scope=col>exchg</th><th scope=col>sic</th><th scope=col>daily_ret</th><th scope=col>overnight_ret</th><th scope=col>change_open_close</th><th scope=col>mfv</th><th scope=col>month</th><th scope=col>year</th></tr>\n",
       "\t<tr><th scope=col>&lt;int&gt;</th><th scope=col>&lt;int&gt;</th><th scope=col>&lt;date&gt;</th><th scope=col>&lt;chr&gt;</th><th scope=col>&lt;chr&gt;</th><th scope=col>&lt;int&gt;</th><th scope=col>&lt;dbl&gt;</th><th scope=col>&lt;dbl&gt;</th><th scope=col>&lt;dbl&gt;</th><th scope=col>&lt;dbl&gt;</th><th scope=col>&lt;int&gt;</th><th scope=col>&lt;int&gt;</th><th scope=col>&lt;dbl&gt;</th><th scope=col>&lt;dbl&gt;</th><th scope=col>&lt;dbl&gt;</th><th scope=col>&lt;dbl&gt;</th><th scope=col>&lt;dbl&gt;</th><th scope=col>&lt;dbl&gt;</th></tr>\n",
       "</thead>\n",
       "<tbody>\n",
       "\t<tr><td>18839</td><td>1</td><td>2021-03-15</td><td>PBPB</td><td>POTBELLY CORP</td><td>572707</td><td>6.82</td><td>6.95</td><td>5.78</td><td>5.78</td><td>14</td><td>5812</td><td>0.1758621</td><td>-0.003448276</td><td>1.04</td><td>445438.8</td><td>3</td><td>2021</td></tr>\n",
       "</tbody>\n",
       "</table>\n"
      ],
      "text/latex": [
       "A data.frame: 1 × 18\n",
       "\\begin{tabular}{llllllllllllllllll}\n",
       " GVKEY & iid & datadate & tic & conm & cshtrd & prccd & prchd & prcld & prcod & exchg & sic & daily\\_ret & overnight\\_ret & change\\_open\\_close & mfv & month & year\\\\\n",
       " <int> & <int> & <date> & <chr> & <chr> & <int> & <dbl> & <dbl> & <dbl> & <dbl> & <int> & <int> & <dbl> & <dbl> & <dbl> & <dbl> & <dbl> & <dbl>\\\\\n",
       "\\hline\n",
       "\t 18839 & 1 & 2021-03-15 & PBPB & POTBELLY CORP & 572707 & 6.82 & 6.95 & 5.78 & 5.78 & 14 & 5812 & 0.1758621 & -0.003448276 & 1.04 & 445438.8 & 3 & 2021\\\\\n",
       "\\end{tabular}\n"
      ],
      "text/markdown": [
       "\n",
       "A data.frame: 1 × 18\n",
       "\n",
       "| GVKEY &lt;int&gt; | iid &lt;int&gt; | datadate &lt;date&gt; | tic &lt;chr&gt; | conm &lt;chr&gt; | cshtrd &lt;int&gt; | prccd &lt;dbl&gt; | prchd &lt;dbl&gt; | prcld &lt;dbl&gt; | prcod &lt;dbl&gt; | exchg &lt;int&gt; | sic &lt;int&gt; | daily_ret &lt;dbl&gt; | overnight_ret &lt;dbl&gt; | change_open_close &lt;dbl&gt; | mfv &lt;dbl&gt; | month &lt;dbl&gt; | year &lt;dbl&gt; |\n",
       "|---|---|---|---|---|---|---|---|---|---|---|---|---|---|---|---|---|---|\n",
       "| 18839 | 1 | 2021-03-15 | PBPB | POTBELLY CORP | 572707 | 6.82 | 6.95 | 5.78 | 5.78 | 14 | 5812 | 0.1758621 | -0.003448276 | 1.04 | 445438.8 | 3 | 2021 |\n",
       "\n"
      ],
      "text/plain": [
       "  GVKEY iid datadate   tic  conm          cshtrd prccd prchd prcld prcod exchg\n",
       "1 18839 1   2021-03-15 PBPB POTBELLY CORP 572707 6.82  6.95  5.78  5.78  14   \n",
       "  sic  daily_ret overnight_ret change_open_close mfv      month year\n",
       "1 5812 0.1758621 -0.003448276  1.04              445438.8 3     2021"
      ]
     },
     "metadata": {},
     "output_type": "display_data"
    }
   ],
   "source": [
    "#10\n",
    "max_high_return_row <- filter(data_potbelly, daily_ret == max(data_potbelly$daily_ret, na.rm = TRUE))\n",
    "max_high_return_date <- max_high_return_row$datadate\n",
    "sprintf(\"Date when largest positive daily ret is: %s\", max_high_return_date)\n",
    "max_high_return_row"
   ]
  },
  {
   "cell_type": "markdown",
   "id": "74944633",
   "metadata": {},
   "source": [
    "## Part 2 is here"
   ]
  },
  {
   "cell_type": "code",
   "execution_count": null,
   "id": "46a40c77",
   "metadata": {
    "vscode": {
     "languageId": "r"
    }
   },
   "outputs": [],
   "source": []
  }
 ],
 "metadata": {
  "kernelspec": {
   "display_name": "R",
   "language": "R",
   "name": "ir"
  },
  "language_info": {
   "codemirror_mode": "r",
   "file_extension": ".r",
   "mimetype": "text/x-r-source",
   "name": "R",
   "pygments_lexer": "r",
   "version": "4.3.3"
  }
 },
 "nbformat": 4,
 "nbformat_minor": 5
}
