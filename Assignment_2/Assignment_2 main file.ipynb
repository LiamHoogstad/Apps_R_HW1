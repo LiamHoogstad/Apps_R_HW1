{
 "cells": [
  {
   "cell_type": "markdown",
   "id": "a4fc3ea5",
   "metadata": {},
   "source": [
    "---\n",
    "title: \"Assignment 2\"\n",
    "author: \"Agustina Albez, Bora Abdik, Liam Hoogstad, Nour El Arrasse and Nurul Putri\"\n",
    "date: \"2025-10-27\"\n",
    "format: \n",
    "  pdf:\n",
    "    toc: true\n",
    "    number-sections: true\n",
    "    colorlinks: true\n",
    "    include-in-header: \n",
    "      text: |\n",
    "        \\usepackage{fvextra}\n",
    "        \\DefineVerbatimEnvironment{Highlighting}{Verbatim}{breaklines,commandchars=\\\\\\{\\}}\n",
    "        \\DefineVerbatimEnvironment{OutputCode}{Verbatim}{breaklines,commandchars=\\\\\\{\\}}\n",
    "highlight-style: zenburn\n",
    "execute:\n",
    "  echo: true\n",
    "code-overflow: wrap\n",
    "---\n",
    "\\newpage\n",
    "\\tableofcontents\n",
    "\\listoffigures\n",
    "\\listoftables\n",
    "\\newpage"
   ]
  },
  {
   "cell_type": "markdown",
   "id": "a6a1407f",
   "metadata": {},
   "source": []
  }
 ],
 "metadata": {
  "language_info": {
   "name": "python"
  }
 },
 "nbformat": 4,
 "nbformat_minor": 5
}
